{
 "cells": [
  {
   "cell_type": "code",
   "execution_count": null,
   "metadata": {},
   "outputs": [],
   "source": [
    "import random, time, math\n",
    "import pywren_ibm_cloud as pywren\n",
    "from MassiveDisplay import MassiveDisplay\n",
    "from IPython.display import Image"
   ]
  },
  {
   "cell_type": "code",
   "execution_count": null,
   "metadata": {},
   "outputs": [],
   "source": [
    "def monitor(n):\n",
    "    display = MassiveDisplay(range(0, n))\n",
    "    \n",
    "    display.show()    \n",
    "    for stage in range(0, 3):\n",
    "        delta = 1 + random.randint(0, 100) / 100\n",
    "        time.sleep(delta)\n",
    "        delta = delta * 5 if stage == 1 else delta / 3 if delta == 2 else delta\n",
    "        for worker in range(0, n):\n",
    "            progress = delta + random.randint(0, 100) / 100\n",
    "            display.update(worker, stage, progress)\n",
    "        display._refresh()"
   ]
  },
  {
   "cell_type": "code",
   "execution_count": null,
   "metadata": {},
   "outputs": [],
   "source": [
    "monitor(100)"
   ]
  },
  {
   "cell_type": "code",
   "execution_count": null,
   "metadata": {},
   "outputs": [],
   "source": []
  }
 ],
 "metadata": {
  "kernelspec": {
   "display_name": "Python 3",
   "language": "python",
   "name": "python3"
  },
  "language_info": {
   "codemirror_mode": {
    "name": "ipython",
    "version": 3
   },
   "file_extension": ".py",
   "mimetype": "text/x-python",
   "name": "python",
   "nbconvert_exporter": "python",
   "pygments_lexer": "ipython3",
   "version": "3.6.8"
  }
 },
 "nbformat": 4,
 "nbformat_minor": 2
}
