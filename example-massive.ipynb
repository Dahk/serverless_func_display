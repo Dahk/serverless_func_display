{
 "cells": [
  {
   "cell_type": "code",
   "execution_count": 13,
   "metadata": {},
   "outputs": [],
   "source": [
    "import random, time, math\n",
    "import pywren_ibm_cloud as pywren\n",
    "from MassiveDisplay import MassiveDisplay\n",
    "from IPython.display import Image"
   ]
  },
  {
   "cell_type": "code",
   "execution_count": 14,
   "metadata": {},
   "outputs": [],
   "source": [
    "def monitor(n):\n",
    "    display = MassiveDisplay(range(0, n))\n",
    "    \n",
    "    display.show()    \n",
    "    for stage in range(0, 3):\n",
    "        delta = 1 + random.randint(0, 100) / 100\n",
    "        time.sleep(delta)\n",
    "        delta = delta * 5 if stage == 1 else delta / 3 if delta == 2 else delta\n",
    "        for worker in range(0, n):\n",
    "            progress = delta + random.randint(0, 100) / 100\n",
    "            display.update(worker, stage, progress)\n",
    "        display._refresh()"
   ]
  },
  {
   "cell_type": "code",
   "execution_count": 15,
   "metadata": {},
   "outputs": [
    {
     "data": {
      "text/html": [
       "\n",
       "        <div style=\"background-color: #cddade; padding: 30px;\">\n",
       "        <div class=\"upper-bars\">\n",
       "            \n",
       "        <div id=\"row_id_0\" class=\"gantt-row-bars\" style=\"grid-column: 1; grid-row: 1;\">\n",
       "            <div id=\"bar_id_0\" style=\"grid-column: 1; display: none\"></div>\n",
       "        </div>\n",
       "        \n",
       "        <div id=\"row_id_1\" class=\"gantt-row-bars\" style=\"grid-column: 1; grid-row: 2;\">\n",
       "            <div id=\"bar_id_1\" style=\"grid-column: 1; display: none\"></div>\n",
       "        </div>\n",
       "        \n",
       "        <div id=\"row_id_2\" class=\"gantt-row-bars\" style=\"grid-column: 1; grid-row: 3;\">\n",
       "            <div id=\"bar_id_2\" style=\"grid-column: 1; display: none\"></div>\n",
       "        </div>\n",
       "        \n",
       "        <div id=\"row_id_3\" class=\"gantt-row-bars\" style=\"grid-column: 1; grid-row: 4;\">\n",
       "            <div id=\"bar_id_3\" style=\"grid-column: 1; display: none\"></div>\n",
       "        </div>\n",
       "        \n",
       "        <div id=\"row_id_4\" class=\"gantt-row-bars\" style=\"grid-column: 1; grid-row: 5;\">\n",
       "            <div id=\"bar_id_4\" style=\"grid-column: 1; display: none\"></div>\n",
       "        </div>\n",
       "        \n",
       "        <div id=\"row_id_5\" class=\"gantt-row-bars\" style=\"grid-column: 1; grid-row: 6;\">\n",
       "            <div id=\"bar_id_5\" style=\"grid-column: 1; display: none\"></div>\n",
       "        </div>\n",
       "        \n",
       "        <div id=\"row_id_6\" class=\"gantt-row-bars\" style=\"grid-column: 1; grid-row: 7;\">\n",
       "            <div id=\"bar_id_6\" style=\"grid-column: 1; display: none\"></div>\n",
       "        </div>\n",
       "        \n",
       "        <div id=\"row_id_7\" class=\"gantt-row-bars\" style=\"grid-column: 1; grid-row: 8;\">\n",
       "            <div id=\"bar_id_7\" style=\"grid-column: 1; display: none\"></div>\n",
       "        </div>\n",
       "        \n",
       "        <div id=\"row_id_8\" class=\"gantt-row-bars\" style=\"grid-column: 1; grid-row: 9;\">\n",
       "            <div id=\"bar_id_8\" style=\"grid-column: 1; display: none\"></div>\n",
       "        </div>\n",
       "        \n",
       "        <div id=\"row_id_9\" class=\"gantt-row-bars\" style=\"grid-column: 1; grid-row: 10;\">\n",
       "            <div id=\"bar_id_9\" style=\"grid-column: 1; display: none\"></div>\n",
       "        </div>\n",
       "        \n",
       "        <div id=\"row_id_10\" class=\"gantt-row-bars\" style=\"grid-column: 1; grid-row: 11;\">\n",
       "            <div id=\"bar_id_10\" style=\"grid-column: 1; display: none\"></div>\n",
       "        </div>\n",
       "        \n",
       "        <div id=\"row_id_11\" class=\"gantt-row-bars\" style=\"grid-column: 1; grid-row: 12;\">\n",
       "            <div id=\"bar_id_11\" style=\"grid-column: 1; display: none\"></div>\n",
       "        </div>\n",
       "        \n",
       "        <div id=\"row_id_12\" class=\"gantt-row-bars\" style=\"grid-column: 1; grid-row: 13;\">\n",
       "            <div id=\"bar_id_12\" style=\"grid-column: 1; display: none\"></div>\n",
       "        </div>\n",
       "        \n",
       "        <div id=\"row_id_13\" class=\"gantt-row-bars\" style=\"grid-column: 1; grid-row: 14;\">\n",
       "            <div id=\"bar_id_13\" style=\"grid-column: 1; display: none\"></div>\n",
       "        </div>\n",
       "        \n",
       "        <div id=\"row_id_14\" class=\"gantt-row-bars\" style=\"grid-column: 1; grid-row: 15;\">\n",
       "            <div id=\"bar_id_14\" style=\"grid-column: 1; display: none\"></div>\n",
       "        </div>\n",
       "        \n",
       "        <div id=\"row_id_15\" class=\"gantt-row-bars\" style=\"grid-column: 1; grid-row: 16;\">\n",
       "            <div id=\"bar_id_15\" style=\"grid-column: 1; display: none\"></div>\n",
       "        </div>\n",
       "        \n",
       "        <div id=\"row_id_16\" class=\"gantt-row-bars\" style=\"grid-column: 1; grid-row: 17;\">\n",
       "            <div id=\"bar_id_16\" style=\"grid-column: 1; display: none\"></div>\n",
       "        </div>\n",
       "        \n",
       "        <div id=\"row_id_17\" class=\"gantt-row-bars\" style=\"grid-column: 1; grid-row: 18;\">\n",
       "            <div id=\"bar_id_17\" style=\"grid-column: 1; display: none\"></div>\n",
       "        </div>\n",
       "        \n",
       "        <div id=\"row_id_18\" class=\"gantt-row-bars\" style=\"grid-column: 1; grid-row: 19;\">\n",
       "            <div id=\"bar_id_18\" style=\"grid-column: 1; display: none\"></div>\n",
       "        </div>\n",
       "        \n",
       "        <div id=\"row_id_19\" class=\"gantt-row-bars\" style=\"grid-column: 1; grid-row: 20;\">\n",
       "            <div id=\"bar_id_19\" style=\"grid-column: 1; display: none\"></div>\n",
       "        </div>\n",
       "        \n",
       "        <div id=\"row_id_20\" class=\"gantt-row-bars\" style=\"grid-column: 2; grid-row: 1;\">\n",
       "            <div id=\"bar_id_20\" style=\"grid-column: 1; display: none\"></div>\n",
       "        </div>\n",
       "        \n",
       "        <div id=\"row_id_21\" class=\"gantt-row-bars\" style=\"grid-column: 2; grid-row: 2;\">\n",
       "            <div id=\"bar_id_21\" style=\"grid-column: 1; display: none\"></div>\n",
       "        </div>\n",
       "        \n",
       "        <div id=\"row_id_22\" class=\"gantt-row-bars\" style=\"grid-column: 2; grid-row: 3;\">\n",
       "            <div id=\"bar_id_22\" style=\"grid-column: 1; display: none\"></div>\n",
       "        </div>\n",
       "        \n",
       "        <div id=\"row_id_23\" class=\"gantt-row-bars\" style=\"grid-column: 2; grid-row: 4;\">\n",
       "            <div id=\"bar_id_23\" style=\"grid-column: 1; display: none\"></div>\n",
       "        </div>\n",
       "        \n",
       "        <div id=\"row_id_24\" class=\"gantt-row-bars\" style=\"grid-column: 2; grid-row: 5;\">\n",
       "            <div id=\"bar_id_24\" style=\"grid-column: 1; display: none\"></div>\n",
       "        </div>\n",
       "        \n",
       "        <div id=\"row_id_25\" class=\"gantt-row-bars\" style=\"grid-column: 2; grid-row: 6;\">\n",
       "            <div id=\"bar_id_25\" style=\"grid-column: 1; display: none\"></div>\n",
       "        </div>\n",
       "        \n",
       "        <div id=\"row_id_26\" class=\"gantt-row-bars\" style=\"grid-column: 2; grid-row: 7;\">\n",
       "            <div id=\"bar_id_26\" style=\"grid-column: 1; display: none\"></div>\n",
       "        </div>\n",
       "        \n",
       "        <div id=\"row_id_27\" class=\"gantt-row-bars\" style=\"grid-column: 2; grid-row: 8;\">\n",
       "            <div id=\"bar_id_27\" style=\"grid-column: 1; display: none\"></div>\n",
       "        </div>\n",
       "        \n",
       "        <div id=\"row_id_28\" class=\"gantt-row-bars\" style=\"grid-column: 2; grid-row: 9;\">\n",
       "            <div id=\"bar_id_28\" style=\"grid-column: 1; display: none\"></div>\n",
       "        </div>\n",
       "        \n",
       "        <div id=\"row_id_29\" class=\"gantt-row-bars\" style=\"grid-column: 2; grid-row: 10;\">\n",
       "            <div id=\"bar_id_29\" style=\"grid-column: 1; display: none\"></div>\n",
       "        </div>\n",
       "        \n",
       "        <div id=\"row_id_30\" class=\"gantt-row-bars\" style=\"grid-column: 2; grid-row: 11;\">\n",
       "            <div id=\"bar_id_30\" style=\"grid-column: 1; display: none\"></div>\n",
       "        </div>\n",
       "        \n",
       "        <div id=\"row_id_31\" class=\"gantt-row-bars\" style=\"grid-column: 2; grid-row: 12;\">\n",
       "            <div id=\"bar_id_31\" style=\"grid-column: 1; display: none\"></div>\n",
       "        </div>\n",
       "        \n",
       "        <div id=\"row_id_32\" class=\"gantt-row-bars\" style=\"grid-column: 2; grid-row: 13;\">\n",
       "            <div id=\"bar_id_32\" style=\"grid-column: 1; display: none\"></div>\n",
       "        </div>\n",
       "        \n",
       "        <div id=\"row_id_33\" class=\"gantt-row-bars\" style=\"grid-column: 2; grid-row: 14;\">\n",
       "            <div id=\"bar_id_33\" style=\"grid-column: 1; display: none\"></div>\n",
       "        </div>\n",
       "        \n",
       "        <div id=\"row_id_34\" class=\"gantt-row-bars\" style=\"grid-column: 2; grid-row: 15;\">\n",
       "            <div id=\"bar_id_34\" style=\"grid-column: 1; display: none\"></div>\n",
       "        </div>\n",
       "        \n",
       "        <div id=\"row_id_35\" class=\"gantt-row-bars\" style=\"grid-column: 2; grid-row: 16;\">\n",
       "            <div id=\"bar_id_35\" style=\"grid-column: 1; display: none\"></div>\n",
       "        </div>\n",
       "        \n",
       "        <div id=\"row_id_36\" class=\"gantt-row-bars\" style=\"grid-column: 2; grid-row: 17;\">\n",
       "            <div id=\"bar_id_36\" style=\"grid-column: 1; display: none\"></div>\n",
       "        </div>\n",
       "        \n",
       "        <div id=\"row_id_37\" class=\"gantt-row-bars\" style=\"grid-column: 2; grid-row: 18;\">\n",
       "            <div id=\"bar_id_37\" style=\"grid-column: 1; display: none\"></div>\n",
       "        </div>\n",
       "        \n",
       "        <div id=\"row_id_38\" class=\"gantt-row-bars\" style=\"grid-column: 2; grid-row: 19;\">\n",
       "            <div id=\"bar_id_38\" style=\"grid-column: 1; display: none\"></div>\n",
       "        </div>\n",
       "        \n",
       "        <div id=\"row_id_39\" class=\"gantt-row-bars\" style=\"grid-column: 2; grid-row: 20;\">\n",
       "            <div id=\"bar_id_39\" style=\"grid-column: 1; display: none\"></div>\n",
       "        </div>\n",
       "        \n",
       "        <div id=\"row_id_40\" class=\"gantt-row-bars\" style=\"grid-column: 3; grid-row: 1;\">\n",
       "            <div id=\"bar_id_40\" style=\"grid-column: 1; display: none\"></div>\n",
       "        </div>\n",
       "        \n",
       "        <div id=\"row_id_41\" class=\"gantt-row-bars\" style=\"grid-column: 3; grid-row: 2;\">\n",
       "            <div id=\"bar_id_41\" style=\"grid-column: 1; display: none\"></div>\n",
       "        </div>\n",
       "        \n",
       "        <div id=\"row_id_42\" class=\"gantt-row-bars\" style=\"grid-column: 3; grid-row: 3;\">\n",
       "            <div id=\"bar_id_42\" style=\"grid-column: 1; display: none\"></div>\n",
       "        </div>\n",
       "        \n",
       "        <div id=\"row_id_43\" class=\"gantt-row-bars\" style=\"grid-column: 3; grid-row: 4;\">\n",
       "            <div id=\"bar_id_43\" style=\"grid-column: 1; display: none\"></div>\n",
       "        </div>\n",
       "        \n",
       "        <div id=\"row_id_44\" class=\"gantt-row-bars\" style=\"grid-column: 3; grid-row: 5;\">\n",
       "            <div id=\"bar_id_44\" style=\"grid-column: 1; display: none\"></div>\n",
       "        </div>\n",
       "        \n",
       "        <div id=\"row_id_45\" class=\"gantt-row-bars\" style=\"grid-column: 3; grid-row: 6;\">\n",
       "            <div id=\"bar_id_45\" style=\"grid-column: 1; display: none\"></div>\n",
       "        </div>\n",
       "        \n",
       "        <div id=\"row_id_46\" class=\"gantt-row-bars\" style=\"grid-column: 3; grid-row: 7;\">\n",
       "            <div id=\"bar_id_46\" style=\"grid-column: 1; display: none\"></div>\n",
       "        </div>\n",
       "        \n",
       "        <div id=\"row_id_47\" class=\"gantt-row-bars\" style=\"grid-column: 3; grid-row: 8;\">\n",
       "            <div id=\"bar_id_47\" style=\"grid-column: 1; display: none\"></div>\n",
       "        </div>\n",
       "        \n",
       "        <div id=\"row_id_48\" class=\"gantt-row-bars\" style=\"grid-column: 3; grid-row: 9;\">\n",
       "            <div id=\"bar_id_48\" style=\"grid-column: 1; display: none\"></div>\n",
       "        </div>\n",
       "        \n",
       "        <div id=\"row_id_49\" class=\"gantt-row-bars\" style=\"grid-column: 3; grid-row: 10;\">\n",
       "            <div id=\"bar_id_49\" style=\"grid-column: 1; display: none\"></div>\n",
       "        </div>\n",
       "        \n",
       "        <div id=\"row_id_50\" class=\"gantt-row-bars\" style=\"grid-column: 3; grid-row: 11;\">\n",
       "            <div id=\"bar_id_50\" style=\"grid-column: 1; display: none\"></div>\n",
       "        </div>\n",
       "        \n",
       "        <div id=\"row_id_51\" class=\"gantt-row-bars\" style=\"grid-column: 3; grid-row: 12;\">\n",
       "            <div id=\"bar_id_51\" style=\"grid-column: 1; display: none\"></div>\n",
       "        </div>\n",
       "        \n",
       "        <div id=\"row_id_52\" class=\"gantt-row-bars\" style=\"grid-column: 3; grid-row: 13;\">\n",
       "            <div id=\"bar_id_52\" style=\"grid-column: 1; display: none\"></div>\n",
       "        </div>\n",
       "        \n",
       "        <div id=\"row_id_53\" class=\"gantt-row-bars\" style=\"grid-column: 3; grid-row: 14;\">\n",
       "            <div id=\"bar_id_53\" style=\"grid-column: 1; display: none\"></div>\n",
       "        </div>\n",
       "        \n",
       "        <div id=\"row_id_54\" class=\"gantt-row-bars\" style=\"grid-column: 3; grid-row: 15;\">\n",
       "            <div id=\"bar_id_54\" style=\"grid-column: 1; display: none\"></div>\n",
       "        </div>\n",
       "        \n",
       "        <div id=\"row_id_55\" class=\"gantt-row-bars\" style=\"grid-column: 3; grid-row: 16;\">\n",
       "            <div id=\"bar_id_55\" style=\"grid-column: 1; display: none\"></div>\n",
       "        </div>\n",
       "        \n",
       "        <div id=\"row_id_56\" class=\"gantt-row-bars\" style=\"grid-column: 3; grid-row: 17;\">\n",
       "            <div id=\"bar_id_56\" style=\"grid-column: 1; display: none\"></div>\n",
       "        </div>\n",
       "        \n",
       "        <div id=\"row_id_57\" class=\"gantt-row-bars\" style=\"grid-column: 3; grid-row: 18;\">\n",
       "            <div id=\"bar_id_57\" style=\"grid-column: 1; display: none\"></div>\n",
       "        </div>\n",
       "        \n",
       "        <div id=\"row_id_58\" class=\"gantt-row-bars\" style=\"grid-column: 3; grid-row: 19;\">\n",
       "            <div id=\"bar_id_58\" style=\"grid-column: 1; display: none\"></div>\n",
       "        </div>\n",
       "        \n",
       "        <div id=\"row_id_59\" class=\"gantt-row-bars\" style=\"grid-column: 3; grid-row: 20;\">\n",
       "            <div id=\"bar_id_59\" style=\"grid-column: 1; display: none\"></div>\n",
       "        </div>\n",
       "        \n",
       "        <div id=\"row_id_60\" class=\"gantt-row-bars\" style=\"grid-column: 4; grid-row: 1;\">\n",
       "            <div id=\"bar_id_60\" style=\"grid-column: 1; display: none\"></div>\n",
       "        </div>\n",
       "        \n",
       "        <div id=\"row_id_61\" class=\"gantt-row-bars\" style=\"grid-column: 4; grid-row: 2;\">\n",
       "            <div id=\"bar_id_61\" style=\"grid-column: 1; display: none\"></div>\n",
       "        </div>\n",
       "        \n",
       "        <div id=\"row_id_62\" class=\"gantt-row-bars\" style=\"grid-column: 4; grid-row: 3;\">\n",
       "            <div id=\"bar_id_62\" style=\"grid-column: 1; display: none\"></div>\n",
       "        </div>\n",
       "        \n",
       "        <div id=\"row_id_63\" class=\"gantt-row-bars\" style=\"grid-column: 4; grid-row: 4;\">\n",
       "            <div id=\"bar_id_63\" style=\"grid-column: 1; display: none\"></div>\n",
       "        </div>\n",
       "        \n",
       "        <div id=\"row_id_64\" class=\"gantt-row-bars\" style=\"grid-column: 4; grid-row: 5;\">\n",
       "            <div id=\"bar_id_64\" style=\"grid-column: 1; display: none\"></div>\n",
       "        </div>\n",
       "        \n",
       "        <div id=\"row_id_65\" class=\"gantt-row-bars\" style=\"grid-column: 4; grid-row: 6;\">\n",
       "            <div id=\"bar_id_65\" style=\"grid-column: 1; display: none\"></div>\n",
       "        </div>\n",
       "        \n",
       "        <div id=\"row_id_66\" class=\"gantt-row-bars\" style=\"grid-column: 4; grid-row: 7;\">\n",
       "            <div id=\"bar_id_66\" style=\"grid-column: 1; display: none\"></div>\n",
       "        </div>\n",
       "        \n",
       "        <div id=\"row_id_67\" class=\"gantt-row-bars\" style=\"grid-column: 4; grid-row: 8;\">\n",
       "            <div id=\"bar_id_67\" style=\"grid-column: 1; display: none\"></div>\n",
       "        </div>\n",
       "        \n",
       "        <div id=\"row_id_68\" class=\"gantt-row-bars\" style=\"grid-column: 4; grid-row: 9;\">\n",
       "            <div id=\"bar_id_68\" style=\"grid-column: 1; display: none\"></div>\n",
       "        </div>\n",
       "        \n",
       "        <div id=\"row_id_69\" class=\"gantt-row-bars\" style=\"grid-column: 4; grid-row: 10;\">\n",
       "            <div id=\"bar_id_69\" style=\"grid-column: 1; display: none\"></div>\n",
       "        </div>\n",
       "        \n",
       "        <div id=\"row_id_70\" class=\"gantt-row-bars\" style=\"grid-column: 4; grid-row: 11;\">\n",
       "            <div id=\"bar_id_70\" style=\"grid-column: 1; display: none\"></div>\n",
       "        </div>\n",
       "        \n",
       "        <div id=\"row_id_71\" class=\"gantt-row-bars\" style=\"grid-column: 4; grid-row: 12;\">\n",
       "            <div id=\"bar_id_71\" style=\"grid-column: 1; display: none\"></div>\n",
       "        </div>\n",
       "        \n",
       "        <div id=\"row_id_72\" class=\"gantt-row-bars\" style=\"grid-column: 4; grid-row: 13;\">\n",
       "            <div id=\"bar_id_72\" style=\"grid-column: 1; display: none\"></div>\n",
       "        </div>\n",
       "        \n",
       "        <div id=\"row_id_73\" class=\"gantt-row-bars\" style=\"grid-column: 4; grid-row: 14;\">\n",
       "            <div id=\"bar_id_73\" style=\"grid-column: 1; display: none\"></div>\n",
       "        </div>\n",
       "        \n",
       "        <div id=\"row_id_74\" class=\"gantt-row-bars\" style=\"grid-column: 4; grid-row: 15;\">\n",
       "            <div id=\"bar_id_74\" style=\"grid-column: 1; display: none\"></div>\n",
       "        </div>\n",
       "        \n",
       "        <div id=\"row_id_75\" class=\"gantt-row-bars\" style=\"grid-column: 4; grid-row: 16;\">\n",
       "            <div id=\"bar_id_75\" style=\"grid-column: 1; display: none\"></div>\n",
       "        </div>\n",
       "        \n",
       "        <div id=\"row_id_76\" class=\"gantt-row-bars\" style=\"grid-column: 4; grid-row: 17;\">\n",
       "            <div id=\"bar_id_76\" style=\"grid-column: 1; display: none\"></div>\n",
       "        </div>\n",
       "        \n",
       "        <div id=\"row_id_77\" class=\"gantt-row-bars\" style=\"grid-column: 4; grid-row: 18;\">\n",
       "            <div id=\"bar_id_77\" style=\"grid-column: 1; display: none\"></div>\n",
       "        </div>\n",
       "        \n",
       "        <div id=\"row_id_78\" class=\"gantt-row-bars\" style=\"grid-column: 4; grid-row: 19;\">\n",
       "            <div id=\"bar_id_78\" style=\"grid-column: 1; display: none\"></div>\n",
       "        </div>\n",
       "        \n",
       "        <div id=\"row_id_79\" class=\"gantt-row-bars\" style=\"grid-column: 4; grid-row: 20;\">\n",
       "            <div id=\"bar_id_79\" style=\"grid-column: 1; display: none\"></div>\n",
       "        </div>\n",
       "        \n",
       "        <div id=\"row_id_80\" class=\"gantt-row-bars\" style=\"grid-column: 5; grid-row: 1;\">\n",
       "            <div id=\"bar_id_80\" style=\"grid-column: 1; display: none\"></div>\n",
       "        </div>\n",
       "        \n",
       "        <div id=\"row_id_81\" class=\"gantt-row-bars\" style=\"grid-column: 5; grid-row: 2;\">\n",
       "            <div id=\"bar_id_81\" style=\"grid-column: 1; display: none\"></div>\n",
       "        </div>\n",
       "        \n",
       "        <div id=\"row_id_82\" class=\"gantt-row-bars\" style=\"grid-column: 5; grid-row: 3;\">\n",
       "            <div id=\"bar_id_82\" style=\"grid-column: 1; display: none\"></div>\n",
       "        </div>\n",
       "        \n",
       "        <div id=\"row_id_83\" class=\"gantt-row-bars\" style=\"grid-column: 5; grid-row: 4;\">\n",
       "            <div id=\"bar_id_83\" style=\"grid-column: 1; display: none\"></div>\n",
       "        </div>\n",
       "        \n",
       "        <div id=\"row_id_84\" class=\"gantt-row-bars\" style=\"grid-column: 5; grid-row: 5;\">\n",
       "            <div id=\"bar_id_84\" style=\"grid-column: 1; display: none\"></div>\n",
       "        </div>\n",
       "        \n",
       "        <div id=\"row_id_85\" class=\"gantt-row-bars\" style=\"grid-column: 5; grid-row: 6;\">\n",
       "            <div id=\"bar_id_85\" style=\"grid-column: 1; display: none\"></div>\n",
       "        </div>\n",
       "        \n",
       "        <div id=\"row_id_86\" class=\"gantt-row-bars\" style=\"grid-column: 5; grid-row: 7;\">\n",
       "            <div id=\"bar_id_86\" style=\"grid-column: 1; display: none\"></div>\n",
       "        </div>\n",
       "        \n",
       "        <div id=\"row_id_87\" class=\"gantt-row-bars\" style=\"grid-column: 5; grid-row: 8;\">\n",
       "            <div id=\"bar_id_87\" style=\"grid-column: 1; display: none\"></div>\n",
       "        </div>\n",
       "        \n",
       "        <div id=\"row_id_88\" class=\"gantt-row-bars\" style=\"grid-column: 5; grid-row: 9;\">\n",
       "            <div id=\"bar_id_88\" style=\"grid-column: 1; display: none\"></div>\n",
       "        </div>\n",
       "        \n",
       "        <div id=\"row_id_89\" class=\"gantt-row-bars\" style=\"grid-column: 5; grid-row: 10;\">\n",
       "            <div id=\"bar_id_89\" style=\"grid-column: 1; display: none\"></div>\n",
       "        </div>\n",
       "        \n",
       "        <div id=\"row_id_90\" class=\"gantt-row-bars\" style=\"grid-column: 5; grid-row: 11;\">\n",
       "            <div id=\"bar_id_90\" style=\"grid-column: 1; display: none\"></div>\n",
       "        </div>\n",
       "        \n",
       "        <div id=\"row_id_91\" class=\"gantt-row-bars\" style=\"grid-column: 5; grid-row: 12;\">\n",
       "            <div id=\"bar_id_91\" style=\"grid-column: 1; display: none\"></div>\n",
       "        </div>\n",
       "        \n",
       "        <div id=\"row_id_92\" class=\"gantt-row-bars\" style=\"grid-column: 5; grid-row: 13;\">\n",
       "            <div id=\"bar_id_92\" style=\"grid-column: 1; display: none\"></div>\n",
       "        </div>\n",
       "        \n",
       "        <div id=\"row_id_93\" class=\"gantt-row-bars\" style=\"grid-column: 5; grid-row: 14;\">\n",
       "            <div id=\"bar_id_93\" style=\"grid-column: 1; display: none\"></div>\n",
       "        </div>\n",
       "        \n",
       "        <div id=\"row_id_94\" class=\"gantt-row-bars\" style=\"grid-column: 5; grid-row: 15;\">\n",
       "            <div id=\"bar_id_94\" style=\"grid-column: 1; display: none\"></div>\n",
       "        </div>\n",
       "        \n",
       "        <div id=\"row_id_95\" class=\"gantt-row-bars\" style=\"grid-column: 5; grid-row: 16;\">\n",
       "            <div id=\"bar_id_95\" style=\"grid-column: 1; display: none\"></div>\n",
       "        </div>\n",
       "        \n",
       "        <div id=\"row_id_96\" class=\"gantt-row-bars\" style=\"grid-column: 5; grid-row: 17;\">\n",
       "            <div id=\"bar_id_96\" style=\"grid-column: 1; display: none\"></div>\n",
       "        </div>\n",
       "        \n",
       "        <div id=\"row_id_97\" class=\"gantt-row-bars\" style=\"grid-column: 5; grid-row: 18;\">\n",
       "            <div id=\"bar_id_97\" style=\"grid-column: 1; display: none\"></div>\n",
       "        </div>\n",
       "        \n",
       "        <div id=\"row_id_98\" class=\"gantt-row-bars\" style=\"grid-column: 5; grid-row: 19;\">\n",
       "            <div id=\"bar_id_98\" style=\"grid-column: 1; display: none\"></div>\n",
       "        </div>\n",
       "        \n",
       "        <div id=\"row_id_99\" class=\"gantt-row-bars\" style=\"grid-column: 5; grid-row: 20;\">\n",
       "            <div id=\"bar_id_99\" style=\"grid-column: 1; display: none\"></div>\n",
       "        </div>\n",
       "        \n",
       "        </div>\n",
       "        <div class=\"stages\">\n",
       "            <div class=\"stage-bar\">\n",
       "                <span style=\"left: 0; margin-left: 5px;\">Fetching</span>\n",
       "                <span id=\"stage0-text\">100/100 (100%)</span>\n",
       "                <span id=\"stage0-timestamp\" style=\"left: 97.5%;\"></span>\n",
       "                <div id=\"stage0-bar\" style=\"grid-column: 1/101; background-color: #034561;\"></div>\n",
       "            </div>\n",
       "            <div class=\"stage-bar\">\n",
       "                <span style=\"left: 0; margin-left: 5px;\">Processing</span>\n",
       "                <span id=\"stage1-text\">0/100 (0%)</span>\n",
       "                <span id=\"stage1-timestamp\" style=\"left: 97.5%;\"></span>\n",
       "                <div id=\"stage1-bar\" style=\"grid-column: 1/1; display: none; background-color: #409d9b;\"></div>\n",
       "            </div>\n",
       "            <div class=\"stage-bar\">\n",
       "                <span style=\"left: 0; margin-left: 5px;\">Uploading results</span>\n",
       "                <span id=\"stage2-text\">0/100 (0%)</span>\n",
       "                <span id=\"stage2-timestamp\" style=\"left: 97.5%;\"></span>\n",
       "                <div id=\"stage2-bar\" style=\"grid-column: 1/1; display: none; background-color: #4fb783;\"></div>\n",
       "            </div>\n",
       "            <div class=\"stage-bar\">\n",
       "                <span style=\"left: 0; margin-left: 5px;\">Finished</span>\n",
       "                <span id=\"stage3-text\">0/100 (0%)</span>\n",
       "                <span id=\"stage3-timestamp\" style=\"left: 97.5%;\"></span>\n",
       "                <div id=\"stage3-bar\" style=\"grid-column: 1/1; display: none; background-color: #8cd154;\"></div>\n",
       "            </div>\n",
       "        </div>\n",
       "        </div>\n",
       "        \n",
       "        <style>\n",
       "        .upper-bars {\n",
       "            display: grid;\n",
       "            grid-template-rows: repeat(20, 6px);\n",
       "            grid-template-columns: repeat(5, 1fr);\n",
       "            background-color: #EEE;\n",
       "            border: 0;\n",
       "            border-radius: 12px;\n",
       "            position: relative;\n",
       "            box-shadow: 0 75px 125px -57px #7e8f94;\n",
       "            padding: 4px;\n",
       "        }\n",
       "        .gantt-row-bars {\n",
       "            display: grid;\n",
       "            grid-template-columns: repeat(100, 1fr);\n",
       "            grid-template-rows: auto;\n",
       "            margin-bottom: 1px;\n",
       "            margin-top: 1px;\n",
       "            position: relative;\n",
       "            background-color: #C0C5CE;\n",
       "            border-radius: 14px;\n",
       "            width: auto;\n",
       "            margin-left: 3px;\n",
       "            margin-right: 3px;\n",
       "        }\n",
       "        .gantt-row-bars > div {\n",
       "            background-color: #3aabe8;\n",
       "            color: #fff;\n",
       "            border-radius: 14px;\n",
       "        }\n",
       "        .stages {\n",
       "            display: grid;\n",
       "            position: relative;\n",
       "            background-color: #EEE;\n",
       "            border: 0;\n",
       "            border-radius: 12px;\n",
       "            box-shadow: 0 75px 125px -57px #7e8f94;\n",
       "            margin: 10px 20%;\n",
       "            height: 325px;\n",
       "            padding: 15px 0px;\n",
       "        }\n",
       "        .stage-bar {\n",
       "            display: grid;\n",
       "            grid-template-columns: repeat({NUM_WORKERS}, 1fr);\n",
       "            grid-template-rows: auto;\n",
       "            position: relative;\n",
       "            background-color: #D1D6DF;\n",
       "            border-radius: 10px;\n",
       "            width: auto;\n",
       "            margin: 15px 25px;\n",
       "            padding: 1px 1px;\n",
       "        }\n",
       "        .stage-bar > span {\n",
       "            position: absolute; \n",
       "            z-index: 1;\n",
       "            left: 50%;\n",
       "            margin-left: -10%;\n",
       "            top: 30%;\n",
       "            font-weight: bold;\n",
       "            font-size: 16px;\n",
       "            font-family: sans-serif;\n",
       "            color: #FFF;\n",
       "            text-shadow: 0.5px 0.5px 0 #333;\n",
       "        }\n",
       "        .stage-bar > div {\n",
       "            color: #fff;\n",
       "            border-radius: 10px;\n",
       "            position: relative;\n",
       "            height: 100%;\n",
       "        }\n",
       "        </style>\n",
       "        "
      ],
      "text/plain": [
       "<IPython.core.display.HTML object>"
      ]
     },
     "metadata": {},
     "output_type": "display_data"
    },
    {
     "data": {
      "application/javascript": [
       "\n",
       "\n",
       "        var elem = document.getElementById(\"bar_id_0\")\n",
       "        var part = 45\n",
       "        elem.style.gridColumn = \"1/\" + part\n",
       "        if (part > 1) elem.style.display = \"block\"\n",
       "        "
      ],
      "text/plain": [
       "<IPython.core.display.Javascript object>"
      ]
     },
     "metadata": {},
     "output_type": "display_data"
    },
    {
     "data": {
      "application/javascript": [
       "\n",
       "\n",
       "        var elem = document.getElementById(\"stage0-bar\")\n",
       "        var part = 99\n",
       "        if (part){\n",
       "            elem.style.gridColumn = \"1/\" + (part+1)\n",
       "            elem.style.display = \"block\"\n",
       "        } else\n",
       "            elem.style.display = \"none\"\n",
       "        elem = document.getElementById(\"stage0-text\")\n",
       "        elem.innerHTML = part + \"/100 (\" + (part / 100 * 100).toFixed(2) + \"%)\"\n",
       "        \n",
       "\n",
       "        var elem = document.getElementById(\"stage1-bar\")\n",
       "        var part = 1\n",
       "        if (part){\n",
       "            elem.style.gridColumn = \"1/\" + (part+1)\n",
       "            elem.style.display = \"block\"\n",
       "        } else\n",
       "            elem.style.display = \"none\"\n",
       "        elem = document.getElementById(\"stage1-text\")\n",
       "        elem.innerHTML = part + \"/100 (\" + (part / 100 * 100).toFixed(2) + \"%)\"\n",
       "        "
      ],
      "text/plain": [
       "<IPython.core.display.Javascript object>"
      ]
     },
     "metadata": {},
     "output_type": "display_data"
    },
    {
     "data": {
      "application/javascript": [
       "\n",
       "\n",
       "        var elem = document.getElementById(\"stage0-bar\")\n",
       "        var part = 98\n",
       "        if (part){\n",
       "            elem.style.gridColumn = \"1/\" + (part+1)\n",
       "            elem.style.display = \"block\"\n",
       "        } else\n",
       "            elem.style.display = \"none\"\n",
       "        elem = document.getElementById(\"stage0-text\")\n",
       "        elem.innerHTML = part + \"/100 (\" + (part / 100 * 100).toFixed(2) + \"%)\"\n",
       "        \n",
       "\n",
       "        var elem = document.getElementById(\"stage1-bar\")\n",
       "        var part = 2\n",
       "        if (part){\n",
       "            elem.style.gridColumn = \"1/\" + (part+1)\n",
       "            elem.style.display = \"block\"\n",
       "        } else\n",
       "            elem.style.display = \"none\"\n",
       "        elem = document.getElementById(\"stage1-text\")\n",
       "        elem.innerHTML = part + \"/100 (\" + (part / 100 * 100).toFixed(2) + \"%)\"\n",
       "        "
      ],
      "text/plain": [
       "<IPython.core.display.Javascript object>"
      ]
     },
     "metadata": {},
     "output_type": "display_data"
    },
    {
     "data": {
      "application/javascript": [
       "\n",
       "\n",
       "        var elem = document.getElementById(\"stage0-bar\")\n",
       "        var part = 97\n",
       "        if (part){\n",
       "            elem.style.gridColumn = \"1/\" + (part+1)\n",
       "            elem.style.display = \"block\"\n",
       "        } else\n",
       "            elem.style.display = \"none\"\n",
       "        elem = document.getElementById(\"stage0-text\")\n",
       "        elem.innerHTML = part + \"/100 (\" + (part / 100 * 100).toFixed(2) + \"%)\"\n",
       "        \n",
       "\n",
       "        var elem = document.getElementById(\"stage1-bar\")\n",
       "        var part = 3\n",
       "        if (part){\n",
       "            elem.style.gridColumn = \"1/\" + (part+1)\n",
       "            elem.style.display = \"block\"\n",
       "        } else\n",
       "            elem.style.display = \"none\"\n",
       "        elem = document.getElementById(\"stage1-text\")\n",
       "        elem.innerHTML = part + \"/100 (\" + (part / 100 * 100).toFixed(2) + \"%)\"\n",
       "        "
      ],
      "text/plain": [
       "<IPython.core.display.Javascript object>"
      ]
     },
     "metadata": {},
     "output_type": "display_data"
    },
    {
     "data": {
      "application/javascript": [
       "\n",
       "\n",
       "        var elem = document.getElementById(\"stage0-bar\")\n",
       "        var part = 96\n",
       "        if (part){\n",
       "            elem.style.gridColumn = \"1/\" + (part+1)\n",
       "            elem.style.display = \"block\"\n",
       "        } else\n",
       "            elem.style.display = \"none\"\n",
       "        elem = document.getElementById(\"stage0-text\")\n",
       "        elem.innerHTML = part + \"/100 (\" + (part / 100 * 100).toFixed(2) + \"%)\"\n",
       "        \n",
       "\n",
       "        var elem = document.getElementById(\"stage1-bar\")\n",
       "        var part = 4\n",
       "        if (part){\n",
       "            elem.style.gridColumn = \"1/\" + (part+1)\n",
       "            elem.style.display = \"block\"\n",
       "        } else\n",
       "            elem.style.display = \"none\"\n",
       "        elem = document.getElementById(\"stage1-text\")\n",
       "        elem.innerHTML = part + \"/100 (\" + (part / 100 * 100).toFixed(2) + \"%)\"\n",
       "        "
      ],
      "text/plain": [
       "<IPython.core.display.Javascript object>"
      ]
     },
     "metadata": {},
     "output_type": "display_data"
    },
    {
     "data": {
      "application/javascript": [
       "\n",
       "\n",
       "        var elem = document.getElementById(\"stage0-bar\")\n",
       "        var part = 95\n",
       "        if (part){\n",
       "            elem.style.gridColumn = \"1/\" + (part+1)\n",
       "            elem.style.display = \"block\"\n",
       "        } else\n",
       "            elem.style.display = \"none\"\n",
       "        elem = document.getElementById(\"stage0-text\")\n",
       "        elem.innerHTML = part + \"/100 (\" + (part / 100 * 100).toFixed(2) + \"%)\"\n",
       "        \n",
       "\n",
       "        var elem = document.getElementById(\"stage1-bar\")\n",
       "        var part = 5\n",
       "        if (part){\n",
       "            elem.style.gridColumn = \"1/\" + (part+1)\n",
       "            elem.style.display = \"block\"\n",
       "        } else\n",
       "            elem.style.display = \"none\"\n",
       "        elem = document.getElementById(\"stage1-text\")\n",
       "        elem.innerHTML = part + \"/100 (\" + (part / 100 * 100).toFixed(2) + \"%)\"\n",
       "        "
      ],
      "text/plain": [
       "<IPython.core.display.Javascript object>"
      ]
     },
     "metadata": {},
     "output_type": "display_data"
    },
    {
     "data": {
      "application/javascript": [
       "\n",
       "\n",
       "        var elem = document.getElementById(\"stage0-bar\")\n",
       "        var part = 94\n",
       "        if (part){\n",
       "            elem.style.gridColumn = \"1/\" + (part+1)\n",
       "            elem.style.display = \"block\"\n",
       "        } else\n",
       "            elem.style.display = \"none\"\n",
       "        elem = document.getElementById(\"stage0-text\")\n",
       "        elem.innerHTML = part + \"/100 (\" + (part / 100 * 100).toFixed(2) + \"%)\"\n",
       "        \n",
       "\n",
       "        var elem = document.getElementById(\"stage1-bar\")\n",
       "        var part = 6\n",
       "        if (part){\n",
       "            elem.style.gridColumn = \"1/\" + (part+1)\n",
       "            elem.style.display = \"block\"\n",
       "        } else\n",
       "            elem.style.display = \"none\"\n",
       "        elem = document.getElementById(\"stage1-text\")\n",
       "        elem.innerHTML = part + \"/100 (\" + (part / 100 * 100).toFixed(2) + \"%)\"\n",
       "        "
      ],
      "text/plain": [
       "<IPython.core.display.Javascript object>"
      ]
     },
     "metadata": {},
     "output_type": "display_data"
    },
    {
     "data": {
      "application/javascript": [
       "\n",
       "\n",
       "        var elem = document.getElementById(\"stage0-bar\")\n",
       "        var part = 93\n",
       "        if (part){\n",
       "            elem.style.gridColumn = \"1/\" + (part+1)\n",
       "            elem.style.display = \"block\"\n",
       "        } else\n",
       "            elem.style.display = \"none\"\n",
       "        elem = document.getElementById(\"stage0-text\")\n",
       "        elem.innerHTML = part + \"/100 (\" + (part / 100 * 100).toFixed(2) + \"%)\"\n",
       "        \n",
       "\n",
       "        var elem = document.getElementById(\"stage1-bar\")\n",
       "        var part = 7\n",
       "        if (part){\n",
       "            elem.style.gridColumn = \"1/\" + (part+1)\n",
       "            elem.style.display = \"block\"\n",
       "        } else\n",
       "            elem.style.display = \"none\"\n",
       "        elem = document.getElementById(\"stage1-text\")\n",
       "        elem.innerHTML = part + \"/100 (\" + (part / 100 * 100).toFixed(2) + \"%)\"\n",
       "        "
      ],
      "text/plain": [
       "<IPython.core.display.Javascript object>"
      ]
     },
     "metadata": {},
     "output_type": "display_data"
    },
    {
     "data": {
      "application/javascript": [
       "\n",
       "\n",
       "        var elem = document.getElementById(\"stage0-bar\")\n",
       "        var part = 92\n",
       "        if (part){\n",
       "            elem.style.gridColumn = \"1/\" + (part+1)\n",
       "            elem.style.display = \"block\"\n",
       "        } else\n",
       "            elem.style.display = \"none\"\n",
       "        elem = document.getElementById(\"stage0-text\")\n",
       "        elem.innerHTML = part + \"/100 (\" + (part / 100 * 100).toFixed(2) + \"%)\"\n",
       "        \n",
       "\n",
       "        var elem = document.getElementById(\"stage1-bar\")\n",
       "        var part = 8\n",
       "        if (part){\n",
       "            elem.style.gridColumn = \"1/\" + (part+1)\n",
       "            elem.style.display = \"block\"\n",
       "        } else\n",
       "            elem.style.display = \"none\"\n",
       "        elem = document.getElementById(\"stage1-text\")\n",
       "        elem.innerHTML = part + \"/100 (\" + (part / 100 * 100).toFixed(2) + \"%)\"\n",
       "        "
      ],
      "text/plain": [
       "<IPython.core.display.Javascript object>"
      ]
     },
     "metadata": {},
     "output_type": "display_data"
    },
    {
     "data": {
      "application/javascript": [
       "\n",
       "\n",
       "        var elem = document.getElementById(\"stage0-bar\")\n",
       "        var part = 91\n",
       "        if (part){\n",
       "            elem.style.gridColumn = \"1/\" + (part+1)\n",
       "            elem.style.display = \"block\"\n",
       "        } else\n",
       "            elem.style.display = \"none\"\n",
       "        elem = document.getElementById(\"stage0-text\")\n",
       "        elem.innerHTML = part + \"/100 (\" + (part / 100 * 100).toFixed(2) + \"%)\"\n",
       "        \n",
       "\n",
       "        var elem = document.getElementById(\"stage1-bar\")\n",
       "        var part = 9\n",
       "        if (part){\n",
       "            elem.style.gridColumn = \"1/\" + (part+1)\n",
       "            elem.style.display = \"block\"\n",
       "        } else\n",
       "            elem.style.display = \"none\"\n",
       "        elem = document.getElementById(\"stage1-text\")\n",
       "        elem.innerHTML = part + \"/100 (\" + (part / 100 * 100).toFixed(2) + \"%)\"\n",
       "        "
      ],
      "text/plain": [
       "<IPython.core.display.Javascript object>"
      ]
     },
     "metadata": {},
     "output_type": "display_data"
    },
    {
     "data": {
      "application/javascript": [
       "\n",
       "\n",
       "        var elem = document.getElementById(\"stage0-bar\")\n",
       "        var part = 90\n",
       "        if (part){\n",
       "            elem.style.gridColumn = \"1/\" + (part+1)\n",
       "            elem.style.display = \"block\"\n",
       "        } else\n",
       "            elem.style.display = \"none\"\n",
       "        elem = document.getElementById(\"stage0-text\")\n",
       "        elem.innerHTML = part + \"/100 (\" + (part / 100 * 100).toFixed(2) + \"%)\"\n",
       "        \n",
       "\n",
       "        var elem = document.getElementById(\"stage1-bar\")\n",
       "        var part = 10\n",
       "        if (part){\n",
       "            elem.style.gridColumn = \"1/\" + (part+1)\n",
       "            elem.style.display = \"block\"\n",
       "        } else\n",
       "            elem.style.display = \"none\"\n",
       "        elem = document.getElementById(\"stage1-text\")\n",
       "        elem.innerHTML = part + \"/100 (\" + (part / 100 * 100).toFixed(2) + \"%)\"\n",
       "        "
      ],
      "text/plain": [
       "<IPython.core.display.Javascript object>"
      ]
     },
     "metadata": {},
     "output_type": "display_data"
    },
    {
     "data": {
      "application/javascript": [
       "\n",
       "\n",
       "        var elem = document.getElementById(\"stage0-bar\")\n",
       "        var part = 89\n",
       "        if (part){\n",
       "            elem.style.gridColumn = \"1/\" + (part+1)\n",
       "            elem.style.display = \"block\"\n",
       "        } else\n",
       "            elem.style.display = \"none\"\n",
       "        elem = document.getElementById(\"stage0-text\")\n",
       "        elem.innerHTML = part + \"/100 (\" + (part / 100 * 100).toFixed(2) + \"%)\"\n",
       "        \n",
       "\n",
       "        var elem = document.getElementById(\"stage1-bar\")\n",
       "        var part = 11\n",
       "        if (part){\n",
       "            elem.style.gridColumn = \"1/\" + (part+1)\n",
       "            elem.style.display = \"block\"\n",
       "        } else\n",
       "            elem.style.display = \"none\"\n",
       "        elem = document.getElementById(\"stage1-text\")\n",
       "        elem.innerHTML = part + \"/100 (\" + (part / 100 * 100).toFixed(2) + \"%)\"\n",
       "        "
      ],
      "text/plain": [
       "<IPython.core.display.Javascript object>"
      ]
     },
     "metadata": {},
     "output_type": "display_data"
    },
    {
     "data": {
      "application/javascript": [
       "\n",
       "\n",
       "        var elem = document.getElementById(\"stage0-bar\")\n",
       "        var part = 88\n",
       "        if (part){\n",
       "            elem.style.gridColumn = \"1/\" + (part+1)\n",
       "            elem.style.display = \"block\"\n",
       "        } else\n",
       "            elem.style.display = \"none\"\n",
       "        elem = document.getElementById(\"stage0-text\")\n",
       "        elem.innerHTML = part + \"/100 (\" + (part / 100 * 100).toFixed(2) + \"%)\"\n",
       "        \n",
       "\n",
       "        var elem = document.getElementById(\"stage1-bar\")\n",
       "        var part = 12\n",
       "        if (part){\n",
       "            elem.style.gridColumn = \"1/\" + (part+1)\n",
       "            elem.style.display = \"block\"\n",
       "        } else\n",
       "            elem.style.display = \"none\"\n",
       "        elem = document.getElementById(\"stage1-text\")\n",
       "        elem.innerHTML = part + \"/100 (\" + (part / 100 * 100).toFixed(2) + \"%)\"\n",
       "        "
      ],
      "text/plain": [
       "<IPython.core.display.Javascript object>"
      ]
     },
     "metadata": {},
     "output_type": "display_data"
    },
    {
     "data": {
      "application/javascript": [
       "\n",
       "\n",
       "        var elem = document.getElementById(\"stage0-bar\")\n",
       "        var part = 87\n",
       "        if (part){\n",
       "            elem.style.gridColumn = \"1/\" + (part+1)\n",
       "            elem.style.display = \"block\"\n",
       "        } else\n",
       "            elem.style.display = \"none\"\n",
       "        elem = document.getElementById(\"stage0-text\")\n",
       "        elem.innerHTML = part + \"/100 (\" + (part / 100 * 100).toFixed(2) + \"%)\"\n",
       "        \n",
       "\n",
       "        var elem = document.getElementById(\"stage1-bar\")\n",
       "        var part = 13\n",
       "        if (part){\n",
       "            elem.style.gridColumn = \"1/\" + (part+1)\n",
       "            elem.style.display = \"block\"\n",
       "        } else\n",
       "            elem.style.display = \"none\"\n",
       "        elem = document.getElementById(\"stage1-text\")\n",
       "        elem.innerHTML = part + \"/100 (\" + (part / 100 * 100).toFixed(2) + \"%)\"\n",
       "        "
      ],
      "text/plain": [
       "<IPython.core.display.Javascript object>"
      ]
     },
     "metadata": {},
     "output_type": "display_data"
    },
    {
     "data": {
      "application/javascript": [
       "\n",
       "\n",
       "        var elem = document.getElementById(\"stage0-bar\")\n",
       "        var part = 86\n",
       "        if (part){\n",
       "            elem.style.gridColumn = \"1/\" + (part+1)\n",
       "            elem.style.display = \"block\"\n",
       "        } else\n",
       "            elem.style.display = \"none\"\n",
       "        elem = document.getElementById(\"stage0-text\")\n",
       "        elem.innerHTML = part + \"/100 (\" + (part / 100 * 100).toFixed(2) + \"%)\"\n",
       "        \n",
       "\n",
       "        var elem = document.getElementById(\"stage1-bar\")\n",
       "        var part = 14\n",
       "        if (part){\n",
       "            elem.style.gridColumn = \"1/\" + (part+1)\n",
       "            elem.style.display = \"block\"\n",
       "        } else\n",
       "            elem.style.display = \"none\"\n",
       "        elem = document.getElementById(\"stage1-text\")\n",
       "        elem.innerHTML = part + \"/100 (\" + (part / 100 * 100).toFixed(2) + \"%)\"\n",
       "        "
      ],
      "text/plain": [
       "<IPython.core.display.Javascript object>"
      ]
     },
     "metadata": {},
     "output_type": "display_data"
    },
    {
     "data": {
      "application/javascript": [
       "\n",
       "\n",
       "        var elem = document.getElementById(\"stage0-bar\")\n",
       "        var part = 85\n",
       "        if (part){\n",
       "            elem.style.gridColumn = \"1/\" + (part+1)\n",
       "            elem.style.display = \"block\"\n",
       "        } else\n",
       "            elem.style.display = \"none\"\n",
       "        elem = document.getElementById(\"stage0-text\")\n",
       "        elem.innerHTML = part + \"/100 (\" + (part / 100 * 100).toFixed(2) + \"%)\"\n",
       "        \n",
       "\n",
       "        var elem = document.getElementById(\"stage1-bar\")\n",
       "        var part = 15\n",
       "        if (part){\n",
       "            elem.style.gridColumn = \"1/\" + (part+1)\n",
       "            elem.style.display = \"block\"\n",
       "        } else\n",
       "            elem.style.display = \"none\"\n",
       "        elem = document.getElementById(\"stage1-text\")\n",
       "        elem.innerHTML = part + \"/100 (\" + (part / 100 * 100).toFixed(2) + \"%)\"\n",
       "        "
      ],
      "text/plain": [
       "<IPython.core.display.Javascript object>"
      ]
     },
     "metadata": {},
     "output_type": "display_data"
    },
    {
     "data": {
      "application/javascript": [
       "\n",
       "\n",
       "        var elem = document.getElementById(\"stage0-bar\")\n",
       "        var part = 84\n",
       "        if (part){\n",
       "            elem.style.gridColumn = \"1/\" + (part+1)\n",
       "            elem.style.display = \"block\"\n",
       "        } else\n",
       "            elem.style.display = \"none\"\n",
       "        elem = document.getElementById(\"stage0-text\")\n",
       "        elem.innerHTML = part + \"/100 (\" + (part / 100 * 100).toFixed(2) + \"%)\"\n",
       "        \n",
       "\n",
       "        var elem = document.getElementById(\"stage1-bar\")\n",
       "        var part = 16\n",
       "        if (part){\n",
       "            elem.style.gridColumn = \"1/\" + (part+1)\n",
       "            elem.style.display = \"block\"\n",
       "        } else\n",
       "            elem.style.display = \"none\"\n",
       "        elem = document.getElementById(\"stage1-text\")\n",
       "        elem.innerHTML = part + \"/100 (\" + (part / 100 * 100).toFixed(2) + \"%)\"\n",
       "        "
      ],
      "text/plain": [
       "<IPython.core.display.Javascript object>"
      ]
     },
     "metadata": {},
     "output_type": "display_data"
    },
    {
     "data": {
      "application/javascript": [
       "\n",
       "\n",
       "        var elem = document.getElementById(\"stage0-bar\")\n",
       "        var part = 83\n",
       "        if (part){\n",
       "            elem.style.gridColumn = \"1/\" + (part+1)\n",
       "            elem.style.display = \"block\"\n",
       "        } else\n",
       "            elem.style.display = \"none\"\n",
       "        elem = document.getElementById(\"stage0-text\")\n",
       "        elem.innerHTML = part + \"/100 (\" + (part / 100 * 100).toFixed(2) + \"%)\"\n",
       "        \n",
       "\n",
       "        var elem = document.getElementById(\"stage1-bar\")\n",
       "        var part = 17\n",
       "        if (part){\n",
       "            elem.style.gridColumn = \"1/\" + (part+1)\n",
       "            elem.style.display = \"block\"\n",
       "        } else\n",
       "            elem.style.display = \"none\"\n",
       "        elem = document.getElementById(\"stage1-text\")\n",
       "        elem.innerHTML = part + \"/100 (\" + (part / 100 * 100).toFixed(2) + \"%)\"\n",
       "        "
      ],
      "text/plain": [
       "<IPython.core.display.Javascript object>"
      ]
     },
     "metadata": {},
     "output_type": "display_data"
    },
    {
     "data": {
      "application/javascript": [
       "\n",
       "\n",
       "        var elem = document.getElementById(\"stage0-bar\")\n",
       "        var part = 82\n",
       "        if (part){\n",
       "            elem.style.gridColumn = \"1/\" + (part+1)\n",
       "            elem.style.display = \"block\"\n",
       "        } else\n",
       "            elem.style.display = \"none\"\n",
       "        elem = document.getElementById(\"stage0-text\")\n",
       "        elem.innerHTML = part + \"/100 (\" + (part / 100 * 100).toFixed(2) + \"%)\"\n",
       "        \n",
       "\n",
       "        var elem = document.getElementById(\"stage1-bar\")\n",
       "        var part = 18\n",
       "        if (part){\n",
       "            elem.style.gridColumn = \"1/\" + (part+1)\n",
       "            elem.style.display = \"block\"\n",
       "        } else\n",
       "            elem.style.display = \"none\"\n",
       "        elem = document.getElementById(\"stage1-text\")\n",
       "        elem.innerHTML = part + \"/100 (\" + (part / 100 * 100).toFixed(2) + \"%)\"\n",
       "        "
      ],
      "text/plain": [
       "<IPython.core.display.Javascript object>"
      ]
     },
     "metadata": {},
     "output_type": "display_data"
    },
    {
     "data": {
      "application/javascript": [
       "\n",
       "\n",
       "        var elem = document.getElementById(\"stage0-bar\")\n",
       "        var part = 81\n",
       "        if (part){\n",
       "            elem.style.gridColumn = \"1/\" + (part+1)\n",
       "            elem.style.display = \"block\"\n",
       "        } else\n",
       "            elem.style.display = \"none\"\n",
       "        elem = document.getElementById(\"stage0-text\")\n",
       "        elem.innerHTML = part + \"/100 (\" + (part / 100 * 100).toFixed(2) + \"%)\"\n",
       "        \n",
       "\n",
       "        var elem = document.getElementById(\"stage1-bar\")\n",
       "        var part = 19\n",
       "        if (part){\n",
       "            elem.style.gridColumn = \"1/\" + (part+1)\n",
       "            elem.style.display = \"block\"\n",
       "        } else\n",
       "            elem.style.display = \"none\"\n",
       "        elem = document.getElementById(\"stage1-text\")\n",
       "        elem.innerHTML = part + \"/100 (\" + (part / 100 * 100).toFixed(2) + \"%)\"\n",
       "        "
      ],
      "text/plain": [
       "<IPython.core.display.Javascript object>"
      ]
     },
     "metadata": {},
     "output_type": "display_data"
    },
    {
     "data": {
      "application/javascript": [
       "\n",
       "\n",
       "        var elem = document.getElementById(\"stage0-bar\")\n",
       "        var part = 80\n",
       "        if (part){\n",
       "            elem.style.gridColumn = \"1/\" + (part+1)\n",
       "            elem.style.display = \"block\"\n",
       "        } else\n",
       "            elem.style.display = \"none\"\n",
       "        elem = document.getElementById(\"stage0-text\")\n",
       "        elem.innerHTML = part + \"/100 (\" + (part / 100 * 100).toFixed(2) + \"%)\"\n",
       "        \n",
       "\n",
       "        var elem = document.getElementById(\"stage1-bar\")\n",
       "        var part = 20\n",
       "        if (part){\n",
       "            elem.style.gridColumn = \"1/\" + (part+1)\n",
       "            elem.style.display = \"block\"\n",
       "        } else\n",
       "            elem.style.display = \"none\"\n",
       "        elem = document.getElementById(\"stage1-text\")\n",
       "        elem.innerHTML = part + \"/100 (\" + (part / 100 * 100).toFixed(2) + \"%)\"\n",
       "        "
      ],
      "text/plain": [
       "<IPython.core.display.Javascript object>"
      ]
     },
     "metadata": {},
     "output_type": "display_data"
    },
    {
     "data": {
      "application/javascript": [
       "\n",
       "\n",
       "        var elem = document.getElementById(\"stage0-bar\")\n",
       "        var part = 79\n",
       "        if (part){\n",
       "            elem.style.gridColumn = \"1/\" + (part+1)\n",
       "            elem.style.display = \"block\"\n",
       "        } else\n",
       "            elem.style.display = \"none\"\n",
       "        elem = document.getElementById(\"stage0-text\")\n",
       "        elem.innerHTML = part + \"/100 (\" + (part / 100 * 100).toFixed(2) + \"%)\"\n",
       "        \n",
       "\n",
       "        var elem = document.getElementById(\"stage1-bar\")\n",
       "        var part = 21\n",
       "        if (part){\n",
       "            elem.style.gridColumn = \"1/\" + (part+1)\n",
       "            elem.style.display = \"block\"\n",
       "        } else\n",
       "            elem.style.display = \"none\"\n",
       "        elem = document.getElementById(\"stage1-text\")\n",
       "        elem.innerHTML = part + \"/100 (\" + (part / 100 * 100).toFixed(2) + \"%)\"\n",
       "        "
      ],
      "text/plain": [
       "<IPython.core.display.Javascript object>"
      ]
     },
     "metadata": {},
     "output_type": "display_data"
    },
    {
     "data": {
      "application/javascript": [
       "\n",
       "\n",
       "        var elem = document.getElementById(\"stage0-bar\")\n",
       "        var part = 78\n",
       "        if (part){\n",
       "            elem.style.gridColumn = \"1/\" + (part+1)\n",
       "            elem.style.display = \"block\"\n",
       "        } else\n",
       "            elem.style.display = \"none\"\n",
       "        elem = document.getElementById(\"stage0-text\")\n",
       "        elem.innerHTML = part + \"/100 (\" + (part / 100 * 100).toFixed(2) + \"%)\"\n",
       "        \n",
       "\n",
       "        var elem = document.getElementById(\"stage1-bar\")\n",
       "        var part = 22\n",
       "        if (part){\n",
       "            elem.style.gridColumn = \"1/\" + (part+1)\n",
       "            elem.style.display = \"block\"\n",
       "        } else\n",
       "            elem.style.display = \"none\"\n",
       "        elem = document.getElementById(\"stage1-text\")\n",
       "        elem.innerHTML = part + \"/100 (\" + (part / 100 * 100).toFixed(2) + \"%)\"\n",
       "        "
      ],
      "text/plain": [
       "<IPython.core.display.Javascript object>"
      ]
     },
     "metadata": {},
     "output_type": "display_data"
    },
    {
     "data": {
      "application/javascript": [
       "\n",
       "\n",
       "        var elem = document.getElementById(\"stage0-bar\")\n",
       "        var part = 77\n",
       "        if (part){\n",
       "            elem.style.gridColumn = \"1/\" + (part+1)\n",
       "            elem.style.display = \"block\"\n",
       "        } else\n",
       "            elem.style.display = \"none\"\n",
       "        elem = document.getElementById(\"stage0-text\")\n",
       "        elem.innerHTML = part + \"/100 (\" + (part / 100 * 100).toFixed(2) + \"%)\"\n",
       "        \n",
       "\n",
       "        var elem = document.getElementById(\"stage1-bar\")\n",
       "        var part = 23\n",
       "        if (part){\n",
       "            elem.style.gridColumn = \"1/\" + (part+1)\n",
       "            elem.style.display = \"block\"\n",
       "        } else\n",
       "            elem.style.display = \"none\"\n",
       "        elem = document.getElementById(\"stage1-text\")\n",
       "        elem.innerHTML = part + \"/100 (\" + (part / 100 * 100).toFixed(2) + \"%)\"\n",
       "        "
      ],
      "text/plain": [
       "<IPython.core.display.Javascript object>"
      ]
     },
     "metadata": {},
     "output_type": "display_data"
    },
    {
     "data": {
      "application/javascript": [
       "\n",
       "\n",
       "        var elem = document.getElementById(\"stage0-bar\")\n",
       "        var part = 76\n",
       "        if (part){\n",
       "            elem.style.gridColumn = \"1/\" + (part+1)\n",
       "            elem.style.display = \"block\"\n",
       "        } else\n",
       "            elem.style.display = \"none\"\n",
       "        elem = document.getElementById(\"stage0-text\")\n",
       "        elem.innerHTML = part + \"/100 (\" + (part / 100 * 100).toFixed(2) + \"%)\"\n",
       "        \n",
       "\n",
       "        var elem = document.getElementById(\"stage1-bar\")\n",
       "        var part = 24\n",
       "        if (part){\n",
       "            elem.style.gridColumn = \"1/\" + (part+1)\n",
       "            elem.style.display = \"block\"\n",
       "        } else\n",
       "            elem.style.display = \"none\"\n",
       "        elem = document.getElementById(\"stage1-text\")\n",
       "        elem.innerHTML = part + \"/100 (\" + (part / 100 * 100).toFixed(2) + \"%)\"\n",
       "        "
      ],
      "text/plain": [
       "<IPython.core.display.Javascript object>"
      ]
     },
     "metadata": {},
     "output_type": "display_data"
    },
    {
     "data": {
      "application/javascript": [
       "\n",
       "\n",
       "        var elem = document.getElementById(\"stage0-bar\")\n",
       "        var part = 75\n",
       "        if (part){\n",
       "            elem.style.gridColumn = \"1/\" + (part+1)\n",
       "            elem.style.display = \"block\"\n",
       "        } else\n",
       "            elem.style.display = \"none\"\n",
       "        elem = document.getElementById(\"stage0-text\")\n",
       "        elem.innerHTML = part + \"/100 (\" + (part / 100 * 100).toFixed(2) + \"%)\"\n",
       "        \n",
       "\n",
       "        var elem = document.getElementById(\"stage1-bar\")\n",
       "        var part = 25\n",
       "        if (part){\n",
       "            elem.style.gridColumn = \"1/\" + (part+1)\n",
       "            elem.style.display = \"block\"\n",
       "        } else\n",
       "            elem.style.display = \"none\"\n",
       "        elem = document.getElementById(\"stage1-text\")\n",
       "        elem.innerHTML = part + \"/100 (\" + (part / 100 * 100).toFixed(2) + \"%)\"\n",
       "        "
      ],
      "text/plain": [
       "<IPython.core.display.Javascript object>"
      ]
     },
     "metadata": {},
     "output_type": "display_data"
    },
    {
     "data": {
      "application/javascript": [
       "\n",
       "\n",
       "        var elem = document.getElementById(\"stage0-bar\")\n",
       "        var part = 74\n",
       "        if (part){\n",
       "            elem.style.gridColumn = \"1/\" + (part+1)\n",
       "            elem.style.display = \"block\"\n",
       "        } else\n",
       "            elem.style.display = \"none\"\n",
       "        elem = document.getElementById(\"stage0-text\")\n",
       "        elem.innerHTML = part + \"/100 (\" + (part / 100 * 100).toFixed(2) + \"%)\"\n",
       "        \n",
       "\n",
       "        var elem = document.getElementById(\"stage1-bar\")\n",
       "        var part = 26\n",
       "        if (part){\n",
       "            elem.style.gridColumn = \"1/\" + (part+1)\n",
       "            elem.style.display = \"block\"\n",
       "        } else\n",
       "            elem.style.display = \"none\"\n",
       "        elem = document.getElementById(\"stage1-text\")\n",
       "        elem.innerHTML = part + \"/100 (\" + (part / 100 * 100).toFixed(2) + \"%)\"\n",
       "        "
      ],
      "text/plain": [
       "<IPython.core.display.Javascript object>"
      ]
     },
     "metadata": {},
     "output_type": "display_data"
    },
    {
     "data": {
      "application/javascript": [
       "\n",
       "\n",
       "        var elem = document.getElementById(\"stage0-bar\")\n",
       "        var part = 73\n",
       "        if (part){\n",
       "            elem.style.gridColumn = \"1/\" + (part+1)\n",
       "            elem.style.display = \"block\"\n",
       "        } else\n",
       "            elem.style.display = \"none\"\n",
       "        elem = document.getElementById(\"stage0-text\")\n",
       "        elem.innerHTML = part + \"/100 (\" + (part / 100 * 100).toFixed(2) + \"%)\"\n",
       "        \n",
       "\n",
       "        var elem = document.getElementById(\"stage1-bar\")\n",
       "        var part = 27\n",
       "        if (part){\n",
       "            elem.style.gridColumn = \"1/\" + (part+1)\n",
       "            elem.style.display = \"block\"\n",
       "        } else\n",
       "            elem.style.display = \"none\"\n",
       "        elem = document.getElementById(\"stage1-text\")\n",
       "        elem.innerHTML = part + \"/100 (\" + (part / 100 * 100).toFixed(2) + \"%)\"\n",
       "        "
      ],
      "text/plain": [
       "<IPython.core.display.Javascript object>"
      ]
     },
     "metadata": {},
     "output_type": "display_data"
    },
    {
     "data": {
      "application/javascript": [
       "\n",
       "\n",
       "        var elem = document.getElementById(\"stage0-bar\")\n",
       "        var part = 72\n",
       "        if (part){\n",
       "            elem.style.gridColumn = \"1/\" + (part+1)\n",
       "            elem.style.display = \"block\"\n",
       "        } else\n",
       "            elem.style.display = \"none\"\n",
       "        elem = document.getElementById(\"stage0-text\")\n",
       "        elem.innerHTML = part + \"/100 (\" + (part / 100 * 100).toFixed(2) + \"%)\"\n",
       "        \n",
       "\n",
       "        var elem = document.getElementById(\"stage1-bar\")\n",
       "        var part = 28\n",
       "        if (part){\n",
       "            elem.style.gridColumn = \"1/\" + (part+1)\n",
       "            elem.style.display = \"block\"\n",
       "        } else\n",
       "            elem.style.display = \"none\"\n",
       "        elem = document.getElementById(\"stage1-text\")\n",
       "        elem.innerHTML = part + \"/100 (\" + (part / 100 * 100).toFixed(2) + \"%)\"\n",
       "        "
      ],
      "text/plain": [
       "<IPython.core.display.Javascript object>"
      ]
     },
     "metadata": {},
     "output_type": "display_data"
    },
    {
     "data": {
      "application/javascript": [
       "\n",
       "\n",
       "        var elem = document.getElementById(\"stage0-bar\")\n",
       "        var part = 71\n",
       "        if (part){\n",
       "            elem.style.gridColumn = \"1/\" + (part+1)\n",
       "            elem.style.display = \"block\"\n",
       "        } else\n",
       "            elem.style.display = \"none\"\n",
       "        elem = document.getElementById(\"stage0-text\")\n",
       "        elem.innerHTML = part + \"/100 (\" + (part / 100 * 100).toFixed(2) + \"%)\"\n",
       "        \n",
       "\n",
       "        var elem = document.getElementById(\"stage1-bar\")\n",
       "        var part = 29\n",
       "        if (part){\n",
       "            elem.style.gridColumn = \"1/\" + (part+1)\n",
       "            elem.style.display = \"block\"\n",
       "        } else\n",
       "            elem.style.display = \"none\"\n",
       "        elem = document.getElementById(\"stage1-text\")\n",
       "        elem.innerHTML = part + \"/100 (\" + (part / 100 * 100).toFixed(2) + \"%)\"\n",
       "        "
      ],
      "text/plain": [
       "<IPython.core.display.Javascript object>"
      ]
     },
     "metadata": {},
     "output_type": "display_data"
    },
    {
     "data": {
      "application/javascript": [
       "\n",
       "\n",
       "        var elem = document.getElementById(\"stage0-bar\")\n",
       "        var part = 70\n",
       "        if (part){\n",
       "            elem.style.gridColumn = \"1/\" + (part+1)\n",
       "            elem.style.display = \"block\"\n",
       "        } else\n",
       "            elem.style.display = \"none\"\n",
       "        elem = document.getElementById(\"stage0-text\")\n",
       "        elem.innerHTML = part + \"/100 (\" + (part / 100 * 100).toFixed(2) + \"%)\"\n",
       "        \n",
       "\n",
       "        var elem = document.getElementById(\"stage1-bar\")\n",
       "        var part = 30\n",
       "        if (part){\n",
       "            elem.style.gridColumn = \"1/\" + (part+1)\n",
       "            elem.style.display = \"block\"\n",
       "        } else\n",
       "            elem.style.display = \"none\"\n",
       "        elem = document.getElementById(\"stage1-text\")\n",
       "        elem.innerHTML = part + \"/100 (\" + (part / 100 * 100).toFixed(2) + \"%)\"\n",
       "        "
      ],
      "text/plain": [
       "<IPython.core.display.Javascript object>"
      ]
     },
     "metadata": {},
     "output_type": "display_data"
    },
    {
     "data": {
      "application/javascript": [
       "\n",
       "\n",
       "        var elem = document.getElementById(\"stage0-bar\")\n",
       "        var part = 69\n",
       "        if (part){\n",
       "            elem.style.gridColumn = \"1/\" + (part+1)\n",
       "            elem.style.display = \"block\"\n",
       "        } else\n",
       "            elem.style.display = \"none\"\n",
       "        elem = document.getElementById(\"stage0-text\")\n",
       "        elem.innerHTML = part + \"/100 (\" + (part / 100 * 100).toFixed(2) + \"%)\"\n",
       "        \n",
       "\n",
       "        var elem = document.getElementById(\"stage1-bar\")\n",
       "        var part = 31\n",
       "        if (part){\n",
       "            elem.style.gridColumn = \"1/\" + (part+1)\n",
       "            elem.style.display = \"block\"\n",
       "        } else\n",
       "            elem.style.display = \"none\"\n",
       "        elem = document.getElementById(\"stage1-text\")\n",
       "        elem.innerHTML = part + \"/100 (\" + (part / 100 * 100).toFixed(2) + \"%)\"\n",
       "        "
      ],
      "text/plain": [
       "<IPython.core.display.Javascript object>"
      ]
     },
     "metadata": {},
     "output_type": "display_data"
    },
    {
     "data": {
      "application/javascript": [
       "\n",
       "\n",
       "        var elem = document.getElementById(\"stage0-bar\")\n",
       "        var part = 68\n",
       "        if (part){\n",
       "            elem.style.gridColumn = \"1/\" + (part+1)\n",
       "            elem.style.display = \"block\"\n",
       "        } else\n",
       "            elem.style.display = \"none\"\n",
       "        elem = document.getElementById(\"stage0-text\")\n",
       "        elem.innerHTML = part + \"/100 (\" + (part / 100 * 100).toFixed(2) + \"%)\"\n",
       "        \n",
       "\n",
       "        var elem = document.getElementById(\"stage1-bar\")\n",
       "        var part = 32\n",
       "        if (part){\n",
       "            elem.style.gridColumn = \"1/\" + (part+1)\n",
       "            elem.style.display = \"block\"\n",
       "        } else\n",
       "            elem.style.display = \"none\"\n",
       "        elem = document.getElementById(\"stage1-text\")\n",
       "        elem.innerHTML = part + \"/100 (\" + (part / 100 * 100).toFixed(2) + \"%)\"\n",
       "        "
      ],
      "text/plain": [
       "<IPython.core.display.Javascript object>"
      ]
     },
     "metadata": {},
     "output_type": "display_data"
    },
    {
     "data": {
      "application/javascript": [
       "\n",
       "\n",
       "        var elem = document.getElementById(\"stage0-bar\")\n",
       "        var part = 67\n",
       "        if (part){\n",
       "            elem.style.gridColumn = \"1/\" + (part+1)\n",
       "            elem.style.display = \"block\"\n",
       "        } else\n",
       "            elem.style.display = \"none\"\n",
       "        elem = document.getElementById(\"stage0-text\")\n",
       "        elem.innerHTML = part + \"/100 (\" + (part / 100 * 100).toFixed(2) + \"%)\"\n",
       "        \n",
       "\n",
       "        var elem = document.getElementById(\"stage1-bar\")\n",
       "        var part = 33\n",
       "        if (part){\n",
       "            elem.style.gridColumn = \"1/\" + (part+1)\n",
       "            elem.style.display = \"block\"\n",
       "        } else\n",
       "            elem.style.display = \"none\"\n",
       "        elem = document.getElementById(\"stage1-text\")\n",
       "        elem.innerHTML = part + \"/100 (\" + (part / 100 * 100).toFixed(2) + \"%)\"\n",
       "        "
      ],
      "text/plain": [
       "<IPython.core.display.Javascript object>"
      ]
     },
     "metadata": {},
     "output_type": "display_data"
    },
    {
     "data": {
      "application/javascript": [
       "\n",
       "\n",
       "        var elem = document.getElementById(\"stage0-bar\")\n",
       "        var part = 66\n",
       "        if (part){\n",
       "            elem.style.gridColumn = \"1/\" + (part+1)\n",
       "            elem.style.display = \"block\"\n",
       "        } else\n",
       "            elem.style.display = \"none\"\n",
       "        elem = document.getElementById(\"stage0-text\")\n",
       "        elem.innerHTML = part + \"/100 (\" + (part / 100 * 100).toFixed(2) + \"%)\"\n",
       "        \n",
       "\n",
       "        var elem = document.getElementById(\"stage1-bar\")\n",
       "        var part = 34\n",
       "        if (part){\n",
       "            elem.style.gridColumn = \"1/\" + (part+1)\n",
       "            elem.style.display = \"block\"\n",
       "        } else\n",
       "            elem.style.display = \"none\"\n",
       "        elem = document.getElementById(\"stage1-text\")\n",
       "        elem.innerHTML = part + \"/100 (\" + (part / 100 * 100).toFixed(2) + \"%)\"\n",
       "        "
      ],
      "text/plain": [
       "<IPython.core.display.Javascript object>"
      ]
     },
     "metadata": {},
     "output_type": "display_data"
    },
    {
     "data": {
      "application/javascript": [
       "\n",
       "\n",
       "        var elem = document.getElementById(\"stage0-bar\")\n",
       "        var part = 65\n",
       "        if (part){\n",
       "            elem.style.gridColumn = \"1/\" + (part+1)\n",
       "            elem.style.display = \"block\"\n",
       "        } else\n",
       "            elem.style.display = \"none\"\n",
       "        elem = document.getElementById(\"stage0-text\")\n",
       "        elem.innerHTML = part + \"/100 (\" + (part / 100 * 100).toFixed(2) + \"%)\"\n",
       "        \n",
       "\n",
       "        var elem = document.getElementById(\"stage1-bar\")\n",
       "        var part = 35\n",
       "        if (part){\n",
       "            elem.style.gridColumn = \"1/\" + (part+1)\n",
       "            elem.style.display = \"block\"\n",
       "        } else\n",
       "            elem.style.display = \"none\"\n",
       "        elem = document.getElementById(\"stage1-text\")\n",
       "        elem.innerHTML = part + \"/100 (\" + (part / 100 * 100).toFixed(2) + \"%)\"\n",
       "        "
      ],
      "text/plain": [
       "<IPython.core.display.Javascript object>"
      ]
     },
     "metadata": {},
     "output_type": "display_data"
    },
    {
     "data": {
      "application/javascript": [
       "\n",
       "\n",
       "        var elem = document.getElementById(\"stage0-bar\")\n",
       "        var part = 64\n",
       "        if (part){\n",
       "            elem.style.gridColumn = \"1/\" + (part+1)\n",
       "            elem.style.display = \"block\"\n",
       "        } else\n",
       "            elem.style.display = \"none\"\n",
       "        elem = document.getElementById(\"stage0-text\")\n",
       "        elem.innerHTML = part + \"/100 (\" + (part / 100 * 100).toFixed(2) + \"%)\"\n",
       "        \n",
       "\n",
       "        var elem = document.getElementById(\"stage1-bar\")\n",
       "        var part = 36\n",
       "        if (part){\n",
       "            elem.style.gridColumn = \"1/\" + (part+1)\n",
       "            elem.style.display = \"block\"\n",
       "        } else\n",
       "            elem.style.display = \"none\"\n",
       "        elem = document.getElementById(\"stage1-text\")\n",
       "        elem.innerHTML = part + \"/100 (\" + (part / 100 * 100).toFixed(2) + \"%)\"\n",
       "        "
      ],
      "text/plain": [
       "<IPython.core.display.Javascript object>"
      ]
     },
     "metadata": {},
     "output_type": "display_data"
    },
    {
     "data": {
      "application/javascript": [
       "\n",
       "\n",
       "        var elem = document.getElementById(\"stage0-bar\")\n",
       "        var part = 63\n",
       "        if (part){\n",
       "            elem.style.gridColumn = \"1/\" + (part+1)\n",
       "            elem.style.display = \"block\"\n",
       "        } else\n",
       "            elem.style.display = \"none\"\n",
       "        elem = document.getElementById(\"stage0-text\")\n",
       "        elem.innerHTML = part + \"/100 (\" + (part / 100 * 100).toFixed(2) + \"%)\"\n",
       "        \n",
       "\n",
       "        var elem = document.getElementById(\"stage1-bar\")\n",
       "        var part = 37\n",
       "        if (part){\n",
       "            elem.style.gridColumn = \"1/\" + (part+1)\n",
       "            elem.style.display = \"block\"\n",
       "        } else\n",
       "            elem.style.display = \"none\"\n",
       "        elem = document.getElementById(\"stage1-text\")\n",
       "        elem.innerHTML = part + \"/100 (\" + (part / 100 * 100).toFixed(2) + \"%)\"\n",
       "        "
      ],
      "text/plain": [
       "<IPython.core.display.Javascript object>"
      ]
     },
     "metadata": {},
     "output_type": "display_data"
    },
    {
     "data": {
      "application/javascript": [
       "\n",
       "\n",
       "        var elem = document.getElementById(\"stage0-bar\")\n",
       "        var part = 62\n",
       "        if (part){\n",
       "            elem.style.gridColumn = \"1/\" + (part+1)\n",
       "            elem.style.display = \"block\"\n",
       "        } else\n",
       "            elem.style.display = \"none\"\n",
       "        elem = document.getElementById(\"stage0-text\")\n",
       "        elem.innerHTML = part + \"/100 (\" + (part / 100 * 100).toFixed(2) + \"%)\"\n",
       "        \n",
       "\n",
       "        var elem = document.getElementById(\"stage1-bar\")\n",
       "        var part = 38\n",
       "        if (part){\n",
       "            elem.style.gridColumn = \"1/\" + (part+1)\n",
       "            elem.style.display = \"block\"\n",
       "        } else\n",
       "            elem.style.display = \"none\"\n",
       "        elem = document.getElementById(\"stage1-text\")\n",
       "        elem.innerHTML = part + \"/100 (\" + (part / 100 * 100).toFixed(2) + \"%)\"\n",
       "        "
      ],
      "text/plain": [
       "<IPython.core.display.Javascript object>"
      ]
     },
     "metadata": {},
     "output_type": "display_data"
    },
    {
     "data": {
      "application/javascript": [
       "\n",
       "\n",
       "        var elem = document.getElementById(\"stage0-bar\")\n",
       "        var part = 61\n",
       "        if (part){\n",
       "            elem.style.gridColumn = \"1/\" + (part+1)\n",
       "            elem.style.display = \"block\"\n",
       "        } else\n",
       "            elem.style.display = \"none\"\n",
       "        elem = document.getElementById(\"stage0-text\")\n",
       "        elem.innerHTML = part + \"/100 (\" + (part / 100 * 100).toFixed(2) + \"%)\"\n",
       "        \n",
       "\n",
       "        var elem = document.getElementById(\"stage1-bar\")\n",
       "        var part = 39\n",
       "        if (part){\n",
       "            elem.style.gridColumn = \"1/\" + (part+1)\n",
       "            elem.style.display = \"block\"\n",
       "        } else\n",
       "            elem.style.display = \"none\"\n",
       "        elem = document.getElementById(\"stage1-text\")\n",
       "        elem.innerHTML = part + \"/100 (\" + (part / 100 * 100).toFixed(2) + \"%)\"\n",
       "        "
      ],
      "text/plain": [
       "<IPython.core.display.Javascript object>"
      ]
     },
     "metadata": {},
     "output_type": "display_data"
    },
    {
     "data": {
      "application/javascript": [
       "\n",
       "\n",
       "        var elem = document.getElementById(\"stage0-bar\")\n",
       "        var part = 60\n",
       "        if (part){\n",
       "            elem.style.gridColumn = \"1/\" + (part+1)\n",
       "            elem.style.display = \"block\"\n",
       "        } else\n",
       "            elem.style.display = \"none\"\n",
       "        elem = document.getElementById(\"stage0-text\")\n",
       "        elem.innerHTML = part + \"/100 (\" + (part / 100 * 100).toFixed(2) + \"%)\"\n",
       "        \n",
       "\n",
       "        var elem = document.getElementById(\"stage1-bar\")\n",
       "        var part = 40\n",
       "        if (part){\n",
       "            elem.style.gridColumn = \"1/\" + (part+1)\n",
       "            elem.style.display = \"block\"\n",
       "        } else\n",
       "            elem.style.display = \"none\"\n",
       "        elem = document.getElementById(\"stage1-text\")\n",
       "        elem.innerHTML = part + \"/100 (\" + (part / 100 * 100).toFixed(2) + \"%)\"\n",
       "        "
      ],
      "text/plain": [
       "<IPython.core.display.Javascript object>"
      ]
     },
     "metadata": {},
     "output_type": "display_data"
    },
    {
     "data": {
      "application/javascript": [
       "\n",
       "\n",
       "        var elem = document.getElementById(\"stage0-bar\")\n",
       "        var part = 59\n",
       "        if (part){\n",
       "            elem.style.gridColumn = \"1/\" + (part+1)\n",
       "            elem.style.display = \"block\"\n",
       "        } else\n",
       "            elem.style.display = \"none\"\n",
       "        elem = document.getElementById(\"stage0-text\")\n",
       "        elem.innerHTML = part + \"/100 (\" + (part / 100 * 100).toFixed(2) + \"%)\"\n",
       "        \n",
       "\n",
       "        var elem = document.getElementById(\"stage1-bar\")\n",
       "        var part = 41\n",
       "        if (part){\n",
       "            elem.style.gridColumn = \"1/\" + (part+1)\n",
       "            elem.style.display = \"block\"\n",
       "        } else\n",
       "            elem.style.display = \"none\"\n",
       "        elem = document.getElementById(\"stage1-text\")\n",
       "        elem.innerHTML = part + \"/100 (\" + (part / 100 * 100).toFixed(2) + \"%)\"\n",
       "        "
      ],
      "text/plain": [
       "<IPython.core.display.Javascript object>"
      ]
     },
     "metadata": {},
     "output_type": "display_data"
    },
    {
     "data": {
      "application/javascript": [
       "\n",
       "\n",
       "        var elem = document.getElementById(\"stage0-bar\")\n",
       "        var part = 58\n",
       "        if (part){\n",
       "            elem.style.gridColumn = \"1/\" + (part+1)\n",
       "            elem.style.display = \"block\"\n",
       "        } else\n",
       "            elem.style.display = \"none\"\n",
       "        elem = document.getElementById(\"stage0-text\")\n",
       "        elem.innerHTML = part + \"/100 (\" + (part / 100 * 100).toFixed(2) + \"%)\"\n",
       "        \n",
       "\n",
       "        var elem = document.getElementById(\"stage1-bar\")\n",
       "        var part = 42\n",
       "        if (part){\n",
       "            elem.style.gridColumn = \"1/\" + (part+1)\n",
       "            elem.style.display = \"block\"\n",
       "        } else\n",
       "            elem.style.display = \"none\"\n",
       "        elem = document.getElementById(\"stage1-text\")\n",
       "        elem.innerHTML = part + \"/100 (\" + (part / 100 * 100).toFixed(2) + \"%)\"\n",
       "        "
      ],
      "text/plain": [
       "<IPython.core.display.Javascript object>"
      ]
     },
     "metadata": {},
     "output_type": "display_data"
    },
    {
     "data": {
      "application/javascript": [
       "\n",
       "\n",
       "        var elem = document.getElementById(\"stage0-bar\")\n",
       "        var part = 57\n",
       "        if (part){\n",
       "            elem.style.gridColumn = \"1/\" + (part+1)\n",
       "            elem.style.display = \"block\"\n",
       "        } else\n",
       "            elem.style.display = \"none\"\n",
       "        elem = document.getElementById(\"stage0-text\")\n",
       "        elem.innerHTML = part + \"/100 (\" + (part / 100 * 100).toFixed(2) + \"%)\"\n",
       "        \n",
       "\n",
       "        var elem = document.getElementById(\"stage1-bar\")\n",
       "        var part = 43\n",
       "        if (part){\n",
       "            elem.style.gridColumn = \"1/\" + (part+1)\n",
       "            elem.style.display = \"block\"\n",
       "        } else\n",
       "            elem.style.display = \"none\"\n",
       "        elem = document.getElementById(\"stage1-text\")\n",
       "        elem.innerHTML = part + \"/100 (\" + (part / 100 * 100).toFixed(2) + \"%)\"\n",
       "        "
      ],
      "text/plain": [
       "<IPython.core.display.Javascript object>"
      ]
     },
     "metadata": {},
     "output_type": "display_data"
    },
    {
     "data": {
      "application/javascript": [
       "\n",
       "\n",
       "        var elem = document.getElementById(\"stage0-bar\")\n",
       "        var part = 56\n",
       "        if (part){\n",
       "            elem.style.gridColumn = \"1/\" + (part+1)\n",
       "            elem.style.display = \"block\"\n",
       "        } else\n",
       "            elem.style.display = \"none\"\n",
       "        elem = document.getElementById(\"stage0-text\")\n",
       "        elem.innerHTML = part + \"/100 (\" + (part / 100 * 100).toFixed(2) + \"%)\"\n",
       "        \n",
       "\n",
       "        var elem = document.getElementById(\"stage1-bar\")\n",
       "        var part = 44\n",
       "        if (part){\n",
       "            elem.style.gridColumn = \"1/\" + (part+1)\n",
       "            elem.style.display = \"block\"\n",
       "        } else\n",
       "            elem.style.display = \"none\"\n",
       "        elem = document.getElementById(\"stage1-text\")\n",
       "        elem.innerHTML = part + \"/100 (\" + (part / 100 * 100).toFixed(2) + \"%)\"\n",
       "        "
      ],
      "text/plain": [
       "<IPython.core.display.Javascript object>"
      ]
     },
     "metadata": {},
     "output_type": "display_data"
    },
    {
     "data": {
      "application/javascript": [
       "\n",
       "\n",
       "        var elem = document.getElementById(\"stage0-bar\")\n",
       "        var part = 55\n",
       "        if (part){\n",
       "            elem.style.gridColumn = \"1/\" + (part+1)\n",
       "            elem.style.display = \"block\"\n",
       "        } else\n",
       "            elem.style.display = \"none\"\n",
       "        elem = document.getElementById(\"stage0-text\")\n",
       "        elem.innerHTML = part + \"/100 (\" + (part / 100 * 100).toFixed(2) + \"%)\"\n",
       "        \n",
       "\n",
       "        var elem = document.getElementById(\"stage1-bar\")\n",
       "        var part = 45\n",
       "        if (part){\n",
       "            elem.style.gridColumn = \"1/\" + (part+1)\n",
       "            elem.style.display = \"block\"\n",
       "        } else\n",
       "            elem.style.display = \"none\"\n",
       "        elem = document.getElementById(\"stage1-text\")\n",
       "        elem.innerHTML = part + \"/100 (\" + (part / 100 * 100).toFixed(2) + \"%)\"\n",
       "        "
      ],
      "text/plain": [
       "<IPython.core.display.Javascript object>"
      ]
     },
     "metadata": {},
     "output_type": "display_data"
    },
    {
     "data": {
      "application/javascript": [
       "\n",
       "\n",
       "        var elem = document.getElementById(\"stage0-bar\")\n",
       "        var part = 54\n",
       "        if (part){\n",
       "            elem.style.gridColumn = \"1/\" + (part+1)\n",
       "            elem.style.display = \"block\"\n",
       "        } else\n",
       "            elem.style.display = \"none\"\n",
       "        elem = document.getElementById(\"stage0-text\")\n",
       "        elem.innerHTML = part + \"/100 (\" + (part / 100 * 100).toFixed(2) + \"%)\"\n",
       "        \n",
       "\n",
       "        var elem = document.getElementById(\"stage1-bar\")\n",
       "        var part = 46\n",
       "        if (part){\n",
       "            elem.style.gridColumn = \"1/\" + (part+1)\n",
       "            elem.style.display = \"block\"\n",
       "        } else\n",
       "            elem.style.display = \"none\"\n",
       "        elem = document.getElementById(\"stage1-text\")\n",
       "        elem.innerHTML = part + \"/100 (\" + (part / 100 * 100).toFixed(2) + \"%)\"\n",
       "        "
      ],
      "text/plain": [
       "<IPython.core.display.Javascript object>"
      ]
     },
     "metadata": {},
     "output_type": "display_data"
    },
    {
     "data": {
      "application/javascript": [
       "\n",
       "\n",
       "        var elem = document.getElementById(\"stage0-bar\")\n",
       "        var part = 53\n",
       "        if (part){\n",
       "            elem.style.gridColumn = \"1/\" + (part+1)\n",
       "            elem.style.display = \"block\"\n",
       "        } else\n",
       "            elem.style.display = \"none\"\n",
       "        elem = document.getElementById(\"stage0-text\")\n",
       "        elem.innerHTML = part + \"/100 (\" + (part / 100 * 100).toFixed(2) + \"%)\"\n",
       "        \n",
       "\n",
       "        var elem = document.getElementById(\"stage1-bar\")\n",
       "        var part = 47\n",
       "        if (part){\n",
       "            elem.style.gridColumn = \"1/\" + (part+1)\n",
       "            elem.style.display = \"block\"\n",
       "        } else\n",
       "            elem.style.display = \"none\"\n",
       "        elem = document.getElementById(\"stage1-text\")\n",
       "        elem.innerHTML = part + \"/100 (\" + (part / 100 * 100).toFixed(2) + \"%)\"\n",
       "        "
      ],
      "text/plain": [
       "<IPython.core.display.Javascript object>"
      ]
     },
     "metadata": {},
     "output_type": "display_data"
    },
    {
     "data": {
      "application/javascript": [
       "\n",
       "\n",
       "        var elem = document.getElementById(\"stage0-bar\")\n",
       "        var part = 52\n",
       "        if (part){\n",
       "            elem.style.gridColumn = \"1/\" + (part+1)\n",
       "            elem.style.display = \"block\"\n",
       "        } else\n",
       "            elem.style.display = \"none\"\n",
       "        elem = document.getElementById(\"stage0-text\")\n",
       "        elem.innerHTML = part + \"/100 (\" + (part / 100 * 100).toFixed(2) + \"%)\"\n",
       "        \n",
       "\n",
       "        var elem = document.getElementById(\"stage1-bar\")\n",
       "        var part = 48\n",
       "        if (part){\n",
       "            elem.style.gridColumn = \"1/\" + (part+1)\n",
       "            elem.style.display = \"block\"\n",
       "        } else\n",
       "            elem.style.display = \"none\"\n",
       "        elem = document.getElementById(\"stage1-text\")\n",
       "        elem.innerHTML = part + \"/100 (\" + (part / 100 * 100).toFixed(2) + \"%)\"\n",
       "        "
      ],
      "text/plain": [
       "<IPython.core.display.Javascript object>"
      ]
     },
     "metadata": {},
     "output_type": "display_data"
    },
    {
     "data": {
      "application/javascript": [
       "\n",
       "\n",
       "        var elem = document.getElementById(\"stage0-bar\")\n",
       "        var part = 51\n",
       "        if (part){\n",
       "            elem.style.gridColumn = \"1/\" + (part+1)\n",
       "            elem.style.display = \"block\"\n",
       "        } else\n",
       "            elem.style.display = \"none\"\n",
       "        elem = document.getElementById(\"stage0-text\")\n",
       "        elem.innerHTML = part + \"/100 (\" + (part / 100 * 100).toFixed(2) + \"%)\"\n",
       "        \n",
       "\n",
       "        var elem = document.getElementById(\"stage1-bar\")\n",
       "        var part = 49\n",
       "        if (part){\n",
       "            elem.style.gridColumn = \"1/\" + (part+1)\n",
       "            elem.style.display = \"block\"\n",
       "        } else\n",
       "            elem.style.display = \"none\"\n",
       "        elem = document.getElementById(\"stage1-text\")\n",
       "        elem.innerHTML = part + \"/100 (\" + (part / 100 * 100).toFixed(2) + \"%)\"\n",
       "        "
      ],
      "text/plain": [
       "<IPython.core.display.Javascript object>"
      ]
     },
     "metadata": {},
     "output_type": "display_data"
    },
    {
     "data": {
      "application/javascript": [
       "\n",
       "\n",
       "        var elem = document.getElementById(\"stage0-bar\")\n",
       "        var part = 50\n",
       "        if (part){\n",
       "            elem.style.gridColumn = \"1/\" + (part+1)\n",
       "            elem.style.display = \"block\"\n",
       "        } else\n",
       "            elem.style.display = \"none\"\n",
       "        elem = document.getElementById(\"stage0-text\")\n",
       "        elem.innerHTML = part + \"/100 (\" + (part / 100 * 100).toFixed(2) + \"%)\"\n",
       "        \n",
       "\n",
       "        var elem = document.getElementById(\"stage1-bar\")\n",
       "        var part = 50\n",
       "        if (part){\n",
       "            elem.style.gridColumn = \"1/\" + (part+1)\n",
       "            elem.style.display = \"block\"\n",
       "        } else\n",
       "            elem.style.display = \"none\"\n",
       "        elem = document.getElementById(\"stage1-text\")\n",
       "        elem.innerHTML = part + \"/100 (\" + (part / 100 * 100).toFixed(2) + \"%)\"\n",
       "        "
      ],
      "text/plain": [
       "<IPython.core.display.Javascript object>"
      ]
     },
     "metadata": {},
     "output_type": "display_data"
    },
    {
     "data": {
      "application/javascript": [
       "\n",
       "\n",
       "        var elem = document.getElementById(\"stage0-bar\")\n",
       "        var part = 49\n",
       "        if (part){\n",
       "            elem.style.gridColumn = \"1/\" + (part+1)\n",
       "            elem.style.display = \"block\"\n",
       "        } else\n",
       "            elem.style.display = \"none\"\n",
       "        elem = document.getElementById(\"stage0-text\")\n",
       "        elem.innerHTML = part + \"/100 (\" + (part / 100 * 100).toFixed(2) + \"%)\"\n",
       "        \n",
       "\n",
       "        var elem = document.getElementById(\"stage1-bar\")\n",
       "        var part = 51\n",
       "        if (part){\n",
       "            elem.style.gridColumn = \"1/\" + (part+1)\n",
       "            elem.style.display = \"block\"\n",
       "        } else\n",
       "            elem.style.display = \"none\"\n",
       "        elem = document.getElementById(\"stage1-text\")\n",
       "        elem.innerHTML = part + \"/100 (\" + (part / 100 * 100).toFixed(2) + \"%)\"\n",
       "        "
      ],
      "text/plain": [
       "<IPython.core.display.Javascript object>"
      ]
     },
     "metadata": {},
     "output_type": "display_data"
    },
    {
     "data": {
      "application/javascript": [
       "\n",
       "\n",
       "        var elem = document.getElementById(\"stage0-bar\")\n",
       "        var part = 48\n",
       "        if (part){\n",
       "            elem.style.gridColumn = \"1/\" + (part+1)\n",
       "            elem.style.display = \"block\"\n",
       "        } else\n",
       "            elem.style.display = \"none\"\n",
       "        elem = document.getElementById(\"stage0-text\")\n",
       "        elem.innerHTML = part + \"/100 (\" + (part / 100 * 100).toFixed(2) + \"%)\"\n",
       "        \n",
       "\n",
       "        var elem = document.getElementById(\"stage1-bar\")\n",
       "        var part = 52\n",
       "        if (part){\n",
       "            elem.style.gridColumn = \"1/\" + (part+1)\n",
       "            elem.style.display = \"block\"\n",
       "        } else\n",
       "            elem.style.display = \"none\"\n",
       "        elem = document.getElementById(\"stage1-text\")\n",
       "        elem.innerHTML = part + \"/100 (\" + (part / 100 * 100).toFixed(2) + \"%)\"\n",
       "        "
      ],
      "text/plain": [
       "<IPython.core.display.Javascript object>"
      ]
     },
     "metadata": {},
     "output_type": "display_data"
    },
    {
     "data": {
      "application/javascript": [
       "\n",
       "\n",
       "        var elem = document.getElementById(\"stage0-bar\")\n",
       "        var part = 47\n",
       "        if (part){\n",
       "            elem.style.gridColumn = \"1/\" + (part+1)\n",
       "            elem.style.display = \"block\"\n",
       "        } else\n",
       "            elem.style.display = \"none\"\n",
       "        elem = document.getElementById(\"stage0-text\")\n",
       "        elem.innerHTML = part + \"/100 (\" + (part / 100 * 100).toFixed(2) + \"%)\"\n",
       "        \n",
       "\n",
       "        var elem = document.getElementById(\"stage1-bar\")\n",
       "        var part = 53\n",
       "        if (part){\n",
       "            elem.style.gridColumn = \"1/\" + (part+1)\n",
       "            elem.style.display = \"block\"\n",
       "        } else\n",
       "            elem.style.display = \"none\"\n",
       "        elem = document.getElementById(\"stage1-text\")\n",
       "        elem.innerHTML = part + \"/100 (\" + (part / 100 * 100).toFixed(2) + \"%)\"\n",
       "        "
      ],
      "text/plain": [
       "<IPython.core.display.Javascript object>"
      ]
     },
     "metadata": {},
     "output_type": "display_data"
    },
    {
     "data": {
      "application/javascript": [
       "\n",
       "\n",
       "        var elem = document.getElementById(\"stage0-bar\")\n",
       "        var part = 46\n",
       "        if (part){\n",
       "            elem.style.gridColumn = \"1/\" + (part+1)\n",
       "            elem.style.display = \"block\"\n",
       "        } else\n",
       "            elem.style.display = \"none\"\n",
       "        elem = document.getElementById(\"stage0-text\")\n",
       "        elem.innerHTML = part + \"/100 (\" + (part / 100 * 100).toFixed(2) + \"%)\"\n",
       "        \n",
       "\n",
       "        var elem = document.getElementById(\"stage1-bar\")\n",
       "        var part = 54\n",
       "        if (part){\n",
       "            elem.style.gridColumn = \"1/\" + (part+1)\n",
       "            elem.style.display = \"block\"\n",
       "        } else\n",
       "            elem.style.display = \"none\"\n",
       "        elem = document.getElementById(\"stage1-text\")\n",
       "        elem.innerHTML = part + \"/100 (\" + (part / 100 * 100).toFixed(2) + \"%)\"\n",
       "        "
      ],
      "text/plain": [
       "<IPython.core.display.Javascript object>"
      ]
     },
     "metadata": {},
     "output_type": "display_data"
    },
    {
     "data": {
      "application/javascript": [
       "\n",
       "\n",
       "        var elem = document.getElementById(\"stage0-bar\")\n",
       "        var part = 45\n",
       "        if (part){\n",
       "            elem.style.gridColumn = \"1/\" + (part+1)\n",
       "            elem.style.display = \"block\"\n",
       "        } else\n",
       "            elem.style.display = \"none\"\n",
       "        elem = document.getElementById(\"stage0-text\")\n",
       "        elem.innerHTML = part + \"/100 (\" + (part / 100 * 100).toFixed(2) + \"%)\"\n",
       "        \n",
       "\n",
       "        var elem = document.getElementById(\"stage1-bar\")\n",
       "        var part = 55\n",
       "        if (part){\n",
       "            elem.style.gridColumn = \"1/\" + (part+1)\n",
       "            elem.style.display = \"block\"\n",
       "        } else\n",
       "            elem.style.display = \"none\"\n",
       "        elem = document.getElementById(\"stage1-text\")\n",
       "        elem.innerHTML = part + \"/100 (\" + (part / 100 * 100).toFixed(2) + \"%)\"\n",
       "        "
      ],
      "text/plain": [
       "<IPython.core.display.Javascript object>"
      ]
     },
     "metadata": {},
     "output_type": "display_data"
    },
    {
     "data": {
      "application/javascript": [
       "\n",
       "\n",
       "        var elem = document.getElementById(\"stage0-bar\")\n",
       "        var part = 44\n",
       "        if (part){\n",
       "            elem.style.gridColumn = \"1/\" + (part+1)\n",
       "            elem.style.display = \"block\"\n",
       "        } else\n",
       "            elem.style.display = \"none\"\n",
       "        elem = document.getElementById(\"stage0-text\")\n",
       "        elem.innerHTML = part + \"/100 (\" + (part / 100 * 100).toFixed(2) + \"%)\"\n",
       "        \n",
       "\n",
       "        var elem = document.getElementById(\"stage1-bar\")\n",
       "        var part = 56\n",
       "        if (part){\n",
       "            elem.style.gridColumn = \"1/\" + (part+1)\n",
       "            elem.style.display = \"block\"\n",
       "        } else\n",
       "            elem.style.display = \"none\"\n",
       "        elem = document.getElementById(\"stage1-text\")\n",
       "        elem.innerHTML = part + \"/100 (\" + (part / 100 * 100).toFixed(2) + \"%)\"\n",
       "        "
      ],
      "text/plain": [
       "<IPython.core.display.Javascript object>"
      ]
     },
     "metadata": {},
     "output_type": "display_data"
    },
    {
     "data": {
      "application/javascript": [
       "\n",
       "\n",
       "        var elem = document.getElementById(\"stage0-bar\")\n",
       "        var part = 43\n",
       "        if (part){\n",
       "            elem.style.gridColumn = \"1/\" + (part+1)\n",
       "            elem.style.display = \"block\"\n",
       "        } else\n",
       "            elem.style.display = \"none\"\n",
       "        elem = document.getElementById(\"stage0-text\")\n",
       "        elem.innerHTML = part + \"/100 (\" + (part / 100 * 100).toFixed(2) + \"%)\"\n",
       "        \n",
       "\n",
       "        var elem = document.getElementById(\"stage1-bar\")\n",
       "        var part = 57\n",
       "        if (part){\n",
       "            elem.style.gridColumn = \"1/\" + (part+1)\n",
       "            elem.style.display = \"block\"\n",
       "        } else\n",
       "            elem.style.display = \"none\"\n",
       "        elem = document.getElementById(\"stage1-text\")\n",
       "        elem.innerHTML = part + \"/100 (\" + (part / 100 * 100).toFixed(2) + \"%)\"\n",
       "        "
      ],
      "text/plain": [
       "<IPython.core.display.Javascript object>"
      ]
     },
     "metadata": {},
     "output_type": "display_data"
    },
    {
     "data": {
      "application/javascript": [
       "\n",
       "\n",
       "        var elem = document.getElementById(\"stage0-bar\")\n",
       "        var part = 42\n",
       "        if (part){\n",
       "            elem.style.gridColumn = \"1/\" + (part+1)\n",
       "            elem.style.display = \"block\"\n",
       "        } else\n",
       "            elem.style.display = \"none\"\n",
       "        elem = document.getElementById(\"stage0-text\")\n",
       "        elem.innerHTML = part + \"/100 (\" + (part / 100 * 100).toFixed(2) + \"%)\"\n",
       "        \n",
       "\n",
       "        var elem = document.getElementById(\"stage1-bar\")\n",
       "        var part = 58\n",
       "        if (part){\n",
       "            elem.style.gridColumn = \"1/\" + (part+1)\n",
       "            elem.style.display = \"block\"\n",
       "        } else\n",
       "            elem.style.display = \"none\"\n",
       "        elem = document.getElementById(\"stage1-text\")\n",
       "        elem.innerHTML = part + \"/100 (\" + (part / 100 * 100).toFixed(2) + \"%)\"\n",
       "        "
      ],
      "text/plain": [
       "<IPython.core.display.Javascript object>"
      ]
     },
     "metadata": {},
     "output_type": "display_data"
    },
    {
     "data": {
      "application/javascript": [
       "\n",
       "\n",
       "        var elem = document.getElementById(\"stage0-bar\")\n",
       "        var part = 41\n",
       "        if (part){\n",
       "            elem.style.gridColumn = \"1/\" + (part+1)\n",
       "            elem.style.display = \"block\"\n",
       "        } else\n",
       "            elem.style.display = \"none\"\n",
       "        elem = document.getElementById(\"stage0-text\")\n",
       "        elem.innerHTML = part + \"/100 (\" + (part / 100 * 100).toFixed(2) + \"%)\"\n",
       "        \n",
       "\n",
       "        var elem = document.getElementById(\"stage1-bar\")\n",
       "        var part = 59\n",
       "        if (part){\n",
       "            elem.style.gridColumn = \"1/\" + (part+1)\n",
       "            elem.style.display = \"block\"\n",
       "        } else\n",
       "            elem.style.display = \"none\"\n",
       "        elem = document.getElementById(\"stage1-text\")\n",
       "        elem.innerHTML = part + \"/100 (\" + (part / 100 * 100).toFixed(2) + \"%)\"\n",
       "        "
      ],
      "text/plain": [
       "<IPython.core.display.Javascript object>"
      ]
     },
     "metadata": {},
     "output_type": "display_data"
    },
    {
     "data": {
      "application/javascript": [
       "\n",
       "\n",
       "        var elem = document.getElementById(\"stage0-bar\")\n",
       "        var part = 40\n",
       "        if (part){\n",
       "            elem.style.gridColumn = \"1/\" + (part+1)\n",
       "            elem.style.display = \"block\"\n",
       "        } else\n",
       "            elem.style.display = \"none\"\n",
       "        elem = document.getElementById(\"stage0-text\")\n",
       "        elem.innerHTML = part + \"/100 (\" + (part / 100 * 100).toFixed(2) + \"%)\"\n",
       "        \n",
       "\n",
       "        var elem = document.getElementById(\"stage1-bar\")\n",
       "        var part = 60\n",
       "        if (part){\n",
       "            elem.style.gridColumn = \"1/\" + (part+1)\n",
       "            elem.style.display = \"block\"\n",
       "        } else\n",
       "            elem.style.display = \"none\"\n",
       "        elem = document.getElementById(\"stage1-text\")\n",
       "        elem.innerHTML = part + \"/100 (\" + (part / 100 * 100).toFixed(2) + \"%)\"\n",
       "        "
      ],
      "text/plain": [
       "<IPython.core.display.Javascript object>"
      ]
     },
     "metadata": {},
     "output_type": "display_data"
    },
    {
     "data": {
      "application/javascript": [
       "\n",
       "\n",
       "        var elem = document.getElementById(\"stage0-bar\")\n",
       "        var part = 39\n",
       "        if (part){\n",
       "            elem.style.gridColumn = \"1/\" + (part+1)\n",
       "            elem.style.display = \"block\"\n",
       "        } else\n",
       "            elem.style.display = \"none\"\n",
       "        elem = document.getElementById(\"stage0-text\")\n",
       "        elem.innerHTML = part + \"/100 (\" + (part / 100 * 100).toFixed(2) + \"%)\"\n",
       "        \n",
       "\n",
       "        var elem = document.getElementById(\"stage1-bar\")\n",
       "        var part = 61\n",
       "        if (part){\n",
       "            elem.style.gridColumn = \"1/\" + (part+1)\n",
       "            elem.style.display = \"block\"\n",
       "        } else\n",
       "            elem.style.display = \"none\"\n",
       "        elem = document.getElementById(\"stage1-text\")\n",
       "        elem.innerHTML = part + \"/100 (\" + (part / 100 * 100).toFixed(2) + \"%)\"\n",
       "        "
      ],
      "text/plain": [
       "<IPython.core.display.Javascript object>"
      ]
     },
     "metadata": {},
     "output_type": "display_data"
    },
    {
     "data": {
      "application/javascript": [
       "\n",
       "\n",
       "        var elem = document.getElementById(\"stage0-bar\")\n",
       "        var part = 38\n",
       "        if (part){\n",
       "            elem.style.gridColumn = \"1/\" + (part+1)\n",
       "            elem.style.display = \"block\"\n",
       "        } else\n",
       "            elem.style.display = \"none\"\n",
       "        elem = document.getElementById(\"stage0-text\")\n",
       "        elem.innerHTML = part + \"/100 (\" + (part / 100 * 100).toFixed(2) + \"%)\"\n",
       "        \n",
       "\n",
       "        var elem = document.getElementById(\"stage1-bar\")\n",
       "        var part = 62\n",
       "        if (part){\n",
       "            elem.style.gridColumn = \"1/\" + (part+1)\n",
       "            elem.style.display = \"block\"\n",
       "        } else\n",
       "            elem.style.display = \"none\"\n",
       "        elem = document.getElementById(\"stage1-text\")\n",
       "        elem.innerHTML = part + \"/100 (\" + (part / 100 * 100).toFixed(2) + \"%)\"\n",
       "        "
      ],
      "text/plain": [
       "<IPython.core.display.Javascript object>"
      ]
     },
     "metadata": {},
     "output_type": "display_data"
    },
    {
     "data": {
      "application/javascript": [
       "\n",
       "\n",
       "        var elem = document.getElementById(\"stage0-bar\")\n",
       "        var part = 37\n",
       "        if (part){\n",
       "            elem.style.gridColumn = \"1/\" + (part+1)\n",
       "            elem.style.display = \"block\"\n",
       "        } else\n",
       "            elem.style.display = \"none\"\n",
       "        elem = document.getElementById(\"stage0-text\")\n",
       "        elem.innerHTML = part + \"/100 (\" + (part / 100 * 100).toFixed(2) + \"%)\"\n",
       "        \n",
       "\n",
       "        var elem = document.getElementById(\"stage1-bar\")\n",
       "        var part = 63\n",
       "        if (part){\n",
       "            elem.style.gridColumn = \"1/\" + (part+1)\n",
       "            elem.style.display = \"block\"\n",
       "        } else\n",
       "            elem.style.display = \"none\"\n",
       "        elem = document.getElementById(\"stage1-text\")\n",
       "        elem.innerHTML = part + \"/100 (\" + (part / 100 * 100).toFixed(2) + \"%)\"\n",
       "        "
      ],
      "text/plain": [
       "<IPython.core.display.Javascript object>"
      ]
     },
     "metadata": {},
     "output_type": "display_data"
    },
    {
     "data": {
      "application/javascript": [
       "\n",
       "\n",
       "        var elem = document.getElementById(\"stage0-bar\")\n",
       "        var part = 36\n",
       "        if (part){\n",
       "            elem.style.gridColumn = \"1/\" + (part+1)\n",
       "            elem.style.display = \"block\"\n",
       "        } else\n",
       "            elem.style.display = \"none\"\n",
       "        elem = document.getElementById(\"stage0-text\")\n",
       "        elem.innerHTML = part + \"/100 (\" + (part / 100 * 100).toFixed(2) + \"%)\"\n",
       "        \n",
       "\n",
       "        var elem = document.getElementById(\"stage1-bar\")\n",
       "        var part = 64\n",
       "        if (part){\n",
       "            elem.style.gridColumn = \"1/\" + (part+1)\n",
       "            elem.style.display = \"block\"\n",
       "        } else\n",
       "            elem.style.display = \"none\"\n",
       "        elem = document.getElementById(\"stage1-text\")\n",
       "        elem.innerHTML = part + \"/100 (\" + (part / 100 * 100).toFixed(2) + \"%)\"\n",
       "        "
      ],
      "text/plain": [
       "<IPython.core.display.Javascript object>"
      ]
     },
     "metadata": {},
     "output_type": "display_data"
    },
    {
     "data": {
      "application/javascript": [
       "\n",
       "\n",
       "        var elem = document.getElementById(\"stage0-bar\")\n",
       "        var part = 35\n",
       "        if (part){\n",
       "            elem.style.gridColumn = \"1/\" + (part+1)\n",
       "            elem.style.display = \"block\"\n",
       "        } else\n",
       "            elem.style.display = \"none\"\n",
       "        elem = document.getElementById(\"stage0-text\")\n",
       "        elem.innerHTML = part + \"/100 (\" + (part / 100 * 100).toFixed(2) + \"%)\"\n",
       "        \n",
       "\n",
       "        var elem = document.getElementById(\"stage1-bar\")\n",
       "        var part = 65\n",
       "        if (part){\n",
       "            elem.style.gridColumn = \"1/\" + (part+1)\n",
       "            elem.style.display = \"block\"\n",
       "        } else\n",
       "            elem.style.display = \"none\"\n",
       "        elem = document.getElementById(\"stage1-text\")\n",
       "        elem.innerHTML = part + \"/100 (\" + (part / 100 * 100).toFixed(2) + \"%)\"\n",
       "        "
      ],
      "text/plain": [
       "<IPython.core.display.Javascript object>"
      ]
     },
     "metadata": {},
     "output_type": "display_data"
    },
    {
     "data": {
      "application/javascript": [
       "\n",
       "\n",
       "        var elem = document.getElementById(\"stage0-bar\")\n",
       "        var part = 34\n",
       "        if (part){\n",
       "            elem.style.gridColumn = \"1/\" + (part+1)\n",
       "            elem.style.display = \"block\"\n",
       "        } else\n",
       "            elem.style.display = \"none\"\n",
       "        elem = document.getElementById(\"stage0-text\")\n",
       "        elem.innerHTML = part + \"/100 (\" + (part / 100 * 100).toFixed(2) + \"%)\"\n",
       "        \n",
       "\n",
       "        var elem = document.getElementById(\"stage1-bar\")\n",
       "        var part = 66\n",
       "        if (part){\n",
       "            elem.style.gridColumn = \"1/\" + (part+1)\n",
       "            elem.style.display = \"block\"\n",
       "        } else\n",
       "            elem.style.display = \"none\"\n",
       "        elem = document.getElementById(\"stage1-text\")\n",
       "        elem.innerHTML = part + \"/100 (\" + (part / 100 * 100).toFixed(2) + \"%)\"\n",
       "        "
      ],
      "text/plain": [
       "<IPython.core.display.Javascript object>"
      ]
     },
     "metadata": {},
     "output_type": "display_data"
    },
    {
     "data": {
      "application/javascript": [
       "\n",
       "\n",
       "        var elem = document.getElementById(\"stage0-bar\")\n",
       "        var part = 33\n",
       "        if (part){\n",
       "            elem.style.gridColumn = \"1/\" + (part+1)\n",
       "            elem.style.display = \"block\"\n",
       "        } else\n",
       "            elem.style.display = \"none\"\n",
       "        elem = document.getElementById(\"stage0-text\")\n",
       "        elem.innerHTML = part + \"/100 (\" + (part / 100 * 100).toFixed(2) + \"%)\"\n",
       "        \n",
       "\n",
       "        var elem = document.getElementById(\"stage1-bar\")\n",
       "        var part = 67\n",
       "        if (part){\n",
       "            elem.style.gridColumn = \"1/\" + (part+1)\n",
       "            elem.style.display = \"block\"\n",
       "        } else\n",
       "            elem.style.display = \"none\"\n",
       "        elem = document.getElementById(\"stage1-text\")\n",
       "        elem.innerHTML = part + \"/100 (\" + (part / 100 * 100).toFixed(2) + \"%)\"\n",
       "        "
      ],
      "text/plain": [
       "<IPython.core.display.Javascript object>"
      ]
     },
     "metadata": {},
     "output_type": "display_data"
    },
    {
     "data": {
      "application/javascript": [
       "\n",
       "\n",
       "        var elem = document.getElementById(\"stage0-bar\")\n",
       "        var part = 32\n",
       "        if (part){\n",
       "            elem.style.gridColumn = \"1/\" + (part+1)\n",
       "            elem.style.display = \"block\"\n",
       "        } else\n",
       "            elem.style.display = \"none\"\n",
       "        elem = document.getElementById(\"stage0-text\")\n",
       "        elem.innerHTML = part + \"/100 (\" + (part / 100 * 100).toFixed(2) + \"%)\"\n",
       "        \n",
       "\n",
       "        var elem = document.getElementById(\"stage1-bar\")\n",
       "        var part = 68\n",
       "        if (part){\n",
       "            elem.style.gridColumn = \"1/\" + (part+1)\n",
       "            elem.style.display = \"block\"\n",
       "        } else\n",
       "            elem.style.display = \"none\"\n",
       "        elem = document.getElementById(\"stage1-text\")\n",
       "        elem.innerHTML = part + \"/100 (\" + (part / 100 * 100).toFixed(2) + \"%)\"\n",
       "        "
      ],
      "text/plain": [
       "<IPython.core.display.Javascript object>"
      ]
     },
     "metadata": {},
     "output_type": "display_data"
    },
    {
     "data": {
      "application/javascript": [
       "\n",
       "\n",
       "        var elem = document.getElementById(\"stage0-bar\")\n",
       "        var part = 31\n",
       "        if (part){\n",
       "            elem.style.gridColumn = \"1/\" + (part+1)\n",
       "            elem.style.display = \"block\"\n",
       "        } else\n",
       "            elem.style.display = \"none\"\n",
       "        elem = document.getElementById(\"stage0-text\")\n",
       "        elem.innerHTML = part + \"/100 (\" + (part / 100 * 100).toFixed(2) + \"%)\"\n",
       "        \n",
       "\n",
       "        var elem = document.getElementById(\"stage1-bar\")\n",
       "        var part = 69\n",
       "        if (part){\n",
       "            elem.style.gridColumn = \"1/\" + (part+1)\n",
       "            elem.style.display = \"block\"\n",
       "        } else\n",
       "            elem.style.display = \"none\"\n",
       "        elem = document.getElementById(\"stage1-text\")\n",
       "        elem.innerHTML = part + \"/100 (\" + (part / 100 * 100).toFixed(2) + \"%)\"\n",
       "        "
      ],
      "text/plain": [
       "<IPython.core.display.Javascript object>"
      ]
     },
     "metadata": {},
     "output_type": "display_data"
    },
    {
     "data": {
      "application/javascript": [
       "\n",
       "\n",
       "        var elem = document.getElementById(\"stage0-bar\")\n",
       "        var part = 30\n",
       "        if (part){\n",
       "            elem.style.gridColumn = \"1/\" + (part+1)\n",
       "            elem.style.display = \"block\"\n",
       "        } else\n",
       "            elem.style.display = \"none\"\n",
       "        elem = document.getElementById(\"stage0-text\")\n",
       "        elem.innerHTML = part + \"/100 (\" + (part / 100 * 100).toFixed(2) + \"%)\"\n",
       "        \n",
       "\n",
       "        var elem = document.getElementById(\"stage1-bar\")\n",
       "        var part = 70\n",
       "        if (part){\n",
       "            elem.style.gridColumn = \"1/\" + (part+1)\n",
       "            elem.style.display = \"block\"\n",
       "        } else\n",
       "            elem.style.display = \"none\"\n",
       "        elem = document.getElementById(\"stage1-text\")\n",
       "        elem.innerHTML = part + \"/100 (\" + (part / 100 * 100).toFixed(2) + \"%)\"\n",
       "        "
      ],
      "text/plain": [
       "<IPython.core.display.Javascript object>"
      ]
     },
     "metadata": {},
     "output_type": "display_data"
    },
    {
     "data": {
      "application/javascript": [
       "\n",
       "\n",
       "        var elem = document.getElementById(\"stage0-bar\")\n",
       "        var part = 29\n",
       "        if (part){\n",
       "            elem.style.gridColumn = \"1/\" + (part+1)\n",
       "            elem.style.display = \"block\"\n",
       "        } else\n",
       "            elem.style.display = \"none\"\n",
       "        elem = document.getElementById(\"stage0-text\")\n",
       "        elem.innerHTML = part + \"/100 (\" + (part / 100 * 100).toFixed(2) + \"%)\"\n",
       "        \n",
       "\n",
       "        var elem = document.getElementById(\"stage1-bar\")\n",
       "        var part = 71\n",
       "        if (part){\n",
       "            elem.style.gridColumn = \"1/\" + (part+1)\n",
       "            elem.style.display = \"block\"\n",
       "        } else\n",
       "            elem.style.display = \"none\"\n",
       "        elem = document.getElementById(\"stage1-text\")\n",
       "        elem.innerHTML = part + \"/100 (\" + (part / 100 * 100).toFixed(2) + \"%)\"\n",
       "        "
      ],
      "text/plain": [
       "<IPython.core.display.Javascript object>"
      ]
     },
     "metadata": {},
     "output_type": "display_data"
    },
    {
     "data": {
      "application/javascript": [
       "\n",
       "\n",
       "        var elem = document.getElementById(\"stage0-bar\")\n",
       "        var part = 28\n",
       "        if (part){\n",
       "            elem.style.gridColumn = \"1/\" + (part+1)\n",
       "            elem.style.display = \"block\"\n",
       "        } else\n",
       "            elem.style.display = \"none\"\n",
       "        elem = document.getElementById(\"stage0-text\")\n",
       "        elem.innerHTML = part + \"/100 (\" + (part / 100 * 100).toFixed(2) + \"%)\"\n",
       "        \n",
       "\n",
       "        var elem = document.getElementById(\"stage1-bar\")\n",
       "        var part = 72\n",
       "        if (part){\n",
       "            elem.style.gridColumn = \"1/\" + (part+1)\n",
       "            elem.style.display = \"block\"\n",
       "        } else\n",
       "            elem.style.display = \"none\"\n",
       "        elem = document.getElementById(\"stage1-text\")\n",
       "        elem.innerHTML = part + \"/100 (\" + (part / 100 * 100).toFixed(2) + \"%)\"\n",
       "        "
      ],
      "text/plain": [
       "<IPython.core.display.Javascript object>"
      ]
     },
     "metadata": {},
     "output_type": "display_data"
    },
    {
     "data": {
      "application/javascript": [
       "\n",
       "\n",
       "        var elem = document.getElementById(\"stage0-bar\")\n",
       "        var part = 27\n",
       "        if (part){\n",
       "            elem.style.gridColumn = \"1/\" + (part+1)\n",
       "            elem.style.display = \"block\"\n",
       "        } else\n",
       "            elem.style.display = \"none\"\n",
       "        elem = document.getElementById(\"stage0-text\")\n",
       "        elem.innerHTML = part + \"/100 (\" + (part / 100 * 100).toFixed(2) + \"%)\"\n",
       "        \n",
       "\n",
       "        var elem = document.getElementById(\"stage1-bar\")\n",
       "        var part = 73\n",
       "        if (part){\n",
       "            elem.style.gridColumn = \"1/\" + (part+1)\n",
       "            elem.style.display = \"block\"\n",
       "        } else\n",
       "            elem.style.display = \"none\"\n",
       "        elem = document.getElementById(\"stage1-text\")\n",
       "        elem.innerHTML = part + \"/100 (\" + (part / 100 * 100).toFixed(2) + \"%)\"\n",
       "        "
      ],
      "text/plain": [
       "<IPython.core.display.Javascript object>"
      ]
     },
     "metadata": {},
     "output_type": "display_data"
    },
    {
     "data": {
      "application/javascript": [
       "\n",
       "\n",
       "        var elem = document.getElementById(\"stage0-bar\")\n",
       "        var part = 26\n",
       "        if (part){\n",
       "            elem.style.gridColumn = \"1/\" + (part+1)\n",
       "            elem.style.display = \"block\"\n",
       "        } else\n",
       "            elem.style.display = \"none\"\n",
       "        elem = document.getElementById(\"stage0-text\")\n",
       "        elem.innerHTML = part + \"/100 (\" + (part / 100 * 100).toFixed(2) + \"%)\"\n",
       "        \n",
       "\n",
       "        var elem = document.getElementById(\"stage1-bar\")\n",
       "        var part = 74\n",
       "        if (part){\n",
       "            elem.style.gridColumn = \"1/\" + (part+1)\n",
       "            elem.style.display = \"block\"\n",
       "        } else\n",
       "            elem.style.display = \"none\"\n",
       "        elem = document.getElementById(\"stage1-text\")\n",
       "        elem.innerHTML = part + \"/100 (\" + (part / 100 * 100).toFixed(2) + \"%)\"\n",
       "        "
      ],
      "text/plain": [
       "<IPython.core.display.Javascript object>"
      ]
     },
     "metadata": {},
     "output_type": "display_data"
    },
    {
     "data": {
      "application/javascript": [
       "\n",
       "\n",
       "        var elem = document.getElementById(\"stage0-bar\")\n",
       "        var part = 25\n",
       "        if (part){\n",
       "            elem.style.gridColumn = \"1/\" + (part+1)\n",
       "            elem.style.display = \"block\"\n",
       "        } else\n",
       "            elem.style.display = \"none\"\n",
       "        elem = document.getElementById(\"stage0-text\")\n",
       "        elem.innerHTML = part + \"/100 (\" + (part / 100 * 100).toFixed(2) + \"%)\"\n",
       "        \n",
       "\n",
       "        var elem = document.getElementById(\"stage1-bar\")\n",
       "        var part = 75\n",
       "        if (part){\n",
       "            elem.style.gridColumn = \"1/\" + (part+1)\n",
       "            elem.style.display = \"block\"\n",
       "        } else\n",
       "            elem.style.display = \"none\"\n",
       "        elem = document.getElementById(\"stage1-text\")\n",
       "        elem.innerHTML = part + \"/100 (\" + (part / 100 * 100).toFixed(2) + \"%)\"\n",
       "        "
      ],
      "text/plain": [
       "<IPython.core.display.Javascript object>"
      ]
     },
     "metadata": {},
     "output_type": "display_data"
    },
    {
     "data": {
      "application/javascript": [
       "\n",
       "\n",
       "        var elem = document.getElementById(\"stage0-bar\")\n",
       "        var part = 24\n",
       "        if (part){\n",
       "            elem.style.gridColumn = \"1/\" + (part+1)\n",
       "            elem.style.display = \"block\"\n",
       "        } else\n",
       "            elem.style.display = \"none\"\n",
       "        elem = document.getElementById(\"stage0-text\")\n",
       "        elem.innerHTML = part + \"/100 (\" + (part / 100 * 100).toFixed(2) + \"%)\"\n",
       "        \n",
       "\n",
       "        var elem = document.getElementById(\"stage1-bar\")\n",
       "        var part = 76\n",
       "        if (part){\n",
       "            elem.style.gridColumn = \"1/\" + (part+1)\n",
       "            elem.style.display = \"block\"\n",
       "        } else\n",
       "            elem.style.display = \"none\"\n",
       "        elem = document.getElementById(\"stage1-text\")\n",
       "        elem.innerHTML = part + \"/100 (\" + (part / 100 * 100).toFixed(2) + \"%)\"\n",
       "        "
      ],
      "text/plain": [
       "<IPython.core.display.Javascript object>"
      ]
     },
     "metadata": {},
     "output_type": "display_data"
    },
    {
     "data": {
      "application/javascript": [
       "\n",
       "\n",
       "        var elem = document.getElementById(\"stage0-bar\")\n",
       "        var part = 23\n",
       "        if (part){\n",
       "            elem.style.gridColumn = \"1/\" + (part+1)\n",
       "            elem.style.display = \"block\"\n",
       "        } else\n",
       "            elem.style.display = \"none\"\n",
       "        elem = document.getElementById(\"stage0-text\")\n",
       "        elem.innerHTML = part + \"/100 (\" + (part / 100 * 100).toFixed(2) + \"%)\"\n",
       "        \n",
       "\n",
       "        var elem = document.getElementById(\"stage1-bar\")\n",
       "        var part = 77\n",
       "        if (part){\n",
       "            elem.style.gridColumn = \"1/\" + (part+1)\n",
       "            elem.style.display = \"block\"\n",
       "        } else\n",
       "            elem.style.display = \"none\"\n",
       "        elem = document.getElementById(\"stage1-text\")\n",
       "        elem.innerHTML = part + \"/100 (\" + (part / 100 * 100).toFixed(2) + \"%)\"\n",
       "        "
      ],
      "text/plain": [
       "<IPython.core.display.Javascript object>"
      ]
     },
     "metadata": {},
     "output_type": "display_data"
    },
    {
     "data": {
      "application/javascript": [
       "\n",
       "\n",
       "        var elem = document.getElementById(\"stage0-bar\")\n",
       "        var part = 22\n",
       "        if (part){\n",
       "            elem.style.gridColumn = \"1/\" + (part+1)\n",
       "            elem.style.display = \"block\"\n",
       "        } else\n",
       "            elem.style.display = \"none\"\n",
       "        elem = document.getElementById(\"stage0-text\")\n",
       "        elem.innerHTML = part + \"/100 (\" + (part / 100 * 100).toFixed(2) + \"%)\"\n",
       "        \n",
       "\n",
       "        var elem = document.getElementById(\"stage1-bar\")\n",
       "        var part = 78\n",
       "        if (part){\n",
       "            elem.style.gridColumn = \"1/\" + (part+1)\n",
       "            elem.style.display = \"block\"\n",
       "        } else\n",
       "            elem.style.display = \"none\"\n",
       "        elem = document.getElementById(\"stage1-text\")\n",
       "        elem.innerHTML = part + \"/100 (\" + (part / 100 * 100).toFixed(2) + \"%)\"\n",
       "        "
      ],
      "text/plain": [
       "<IPython.core.display.Javascript object>"
      ]
     },
     "metadata": {},
     "output_type": "display_data"
    },
    {
     "data": {
      "application/javascript": [
       "\n",
       "\n",
       "        var elem = document.getElementById(\"stage0-bar\")\n",
       "        var part = 21\n",
       "        if (part){\n",
       "            elem.style.gridColumn = \"1/\" + (part+1)\n",
       "            elem.style.display = \"block\"\n",
       "        } else\n",
       "            elem.style.display = \"none\"\n",
       "        elem = document.getElementById(\"stage0-text\")\n",
       "        elem.innerHTML = part + \"/100 (\" + (part / 100 * 100).toFixed(2) + \"%)\"\n",
       "        \n",
       "\n",
       "        var elem = document.getElementById(\"stage1-bar\")\n",
       "        var part = 79\n",
       "        if (part){\n",
       "            elem.style.gridColumn = \"1/\" + (part+1)\n",
       "            elem.style.display = \"block\"\n",
       "        } else\n",
       "            elem.style.display = \"none\"\n",
       "        elem = document.getElementById(\"stage1-text\")\n",
       "        elem.innerHTML = part + \"/100 (\" + (part / 100 * 100).toFixed(2) + \"%)\"\n",
       "        "
      ],
      "text/plain": [
       "<IPython.core.display.Javascript object>"
      ]
     },
     "metadata": {},
     "output_type": "display_data"
    },
    {
     "data": {
      "application/javascript": [
       "\n",
       "\n",
       "        var elem = document.getElementById(\"stage0-bar\")\n",
       "        var part = 20\n",
       "        if (part){\n",
       "            elem.style.gridColumn = \"1/\" + (part+1)\n",
       "            elem.style.display = \"block\"\n",
       "        } else\n",
       "            elem.style.display = \"none\"\n",
       "        elem = document.getElementById(\"stage0-text\")\n",
       "        elem.innerHTML = part + \"/100 (\" + (part / 100 * 100).toFixed(2) + \"%)\"\n",
       "        \n",
       "\n",
       "        var elem = document.getElementById(\"stage1-bar\")\n",
       "        var part = 80\n",
       "        if (part){\n",
       "            elem.style.gridColumn = \"1/\" + (part+1)\n",
       "            elem.style.display = \"block\"\n",
       "        } else\n",
       "            elem.style.display = \"none\"\n",
       "        elem = document.getElementById(\"stage1-text\")\n",
       "        elem.innerHTML = part + \"/100 (\" + (part / 100 * 100).toFixed(2) + \"%)\"\n",
       "        "
      ],
      "text/plain": [
       "<IPython.core.display.Javascript object>"
      ]
     },
     "metadata": {},
     "output_type": "display_data"
    },
    {
     "data": {
      "application/javascript": [
       "\n",
       "\n",
       "        var elem = document.getElementById(\"stage0-bar\")\n",
       "        var part = 19\n",
       "        if (part){\n",
       "            elem.style.gridColumn = \"1/\" + (part+1)\n",
       "            elem.style.display = \"block\"\n",
       "        } else\n",
       "            elem.style.display = \"none\"\n",
       "        elem = document.getElementById(\"stage0-text\")\n",
       "        elem.innerHTML = part + \"/100 (\" + (part / 100 * 100).toFixed(2) + \"%)\"\n",
       "        \n",
       "\n",
       "        var elem = document.getElementById(\"stage1-bar\")\n",
       "        var part = 81\n",
       "        if (part){\n",
       "            elem.style.gridColumn = \"1/\" + (part+1)\n",
       "            elem.style.display = \"block\"\n",
       "        } else\n",
       "            elem.style.display = \"none\"\n",
       "        elem = document.getElementById(\"stage1-text\")\n",
       "        elem.innerHTML = part + \"/100 (\" + (part / 100 * 100).toFixed(2) + \"%)\"\n",
       "        "
      ],
      "text/plain": [
       "<IPython.core.display.Javascript object>"
      ]
     },
     "metadata": {},
     "output_type": "display_data"
    },
    {
     "data": {
      "application/javascript": [
       "\n",
       "\n",
       "        var elem = document.getElementById(\"stage0-bar\")\n",
       "        var part = 18\n",
       "        if (part){\n",
       "            elem.style.gridColumn = \"1/\" + (part+1)\n",
       "            elem.style.display = \"block\"\n",
       "        } else\n",
       "            elem.style.display = \"none\"\n",
       "        elem = document.getElementById(\"stage0-text\")\n",
       "        elem.innerHTML = part + \"/100 (\" + (part / 100 * 100).toFixed(2) + \"%)\"\n",
       "        \n",
       "\n",
       "        var elem = document.getElementById(\"stage1-bar\")\n",
       "        var part = 82\n",
       "        if (part){\n",
       "            elem.style.gridColumn = \"1/\" + (part+1)\n",
       "            elem.style.display = \"block\"\n",
       "        } else\n",
       "            elem.style.display = \"none\"\n",
       "        elem = document.getElementById(\"stage1-text\")\n",
       "        elem.innerHTML = part + \"/100 (\" + (part / 100 * 100).toFixed(2) + \"%)\"\n",
       "        "
      ],
      "text/plain": [
       "<IPython.core.display.Javascript object>"
      ]
     },
     "metadata": {},
     "output_type": "display_data"
    },
    {
     "data": {
      "application/javascript": [
       "\n",
       "\n",
       "        var elem = document.getElementById(\"stage0-bar\")\n",
       "        var part = 17\n",
       "        if (part){\n",
       "            elem.style.gridColumn = \"1/\" + (part+1)\n",
       "            elem.style.display = \"block\"\n",
       "        } else\n",
       "            elem.style.display = \"none\"\n",
       "        elem = document.getElementById(\"stage0-text\")\n",
       "        elem.innerHTML = part + \"/100 (\" + (part / 100 * 100).toFixed(2) + \"%)\"\n",
       "        \n",
       "\n",
       "        var elem = document.getElementById(\"stage1-bar\")\n",
       "        var part = 83\n",
       "        if (part){\n",
       "            elem.style.gridColumn = \"1/\" + (part+1)\n",
       "            elem.style.display = \"block\"\n",
       "        } else\n",
       "            elem.style.display = \"none\"\n",
       "        elem = document.getElementById(\"stage1-text\")\n",
       "        elem.innerHTML = part + \"/100 (\" + (part / 100 * 100).toFixed(2) + \"%)\"\n",
       "        "
      ],
      "text/plain": [
       "<IPython.core.display.Javascript object>"
      ]
     },
     "metadata": {},
     "output_type": "display_data"
    },
    {
     "data": {
      "application/javascript": [
       "\n",
       "\n",
       "        var elem = document.getElementById(\"stage0-bar\")\n",
       "        var part = 16\n",
       "        if (part){\n",
       "            elem.style.gridColumn = \"1/\" + (part+1)\n",
       "            elem.style.display = \"block\"\n",
       "        } else\n",
       "            elem.style.display = \"none\"\n",
       "        elem = document.getElementById(\"stage0-text\")\n",
       "        elem.innerHTML = part + \"/100 (\" + (part / 100 * 100).toFixed(2) + \"%)\"\n",
       "        \n",
       "\n",
       "        var elem = document.getElementById(\"stage1-bar\")\n",
       "        var part = 84\n",
       "        if (part){\n",
       "            elem.style.gridColumn = \"1/\" + (part+1)\n",
       "            elem.style.display = \"block\"\n",
       "        } else\n",
       "            elem.style.display = \"none\"\n",
       "        elem = document.getElementById(\"stage1-text\")\n",
       "        elem.innerHTML = part + \"/100 (\" + (part / 100 * 100).toFixed(2) + \"%)\"\n",
       "        "
      ],
      "text/plain": [
       "<IPython.core.display.Javascript object>"
      ]
     },
     "metadata": {},
     "output_type": "display_data"
    },
    {
     "data": {
      "application/javascript": [
       "\n",
       "\n",
       "        var elem = document.getElementById(\"stage0-bar\")\n",
       "        var part = 15\n",
       "        if (part){\n",
       "            elem.style.gridColumn = \"1/\" + (part+1)\n",
       "            elem.style.display = \"block\"\n",
       "        } else\n",
       "            elem.style.display = \"none\"\n",
       "        elem = document.getElementById(\"stage0-text\")\n",
       "        elem.innerHTML = part + \"/100 (\" + (part / 100 * 100).toFixed(2) + \"%)\"\n",
       "        \n",
       "\n",
       "        var elem = document.getElementById(\"stage1-bar\")\n",
       "        var part = 85\n",
       "        if (part){\n",
       "            elem.style.gridColumn = \"1/\" + (part+1)\n",
       "            elem.style.display = \"block\"\n",
       "        } else\n",
       "            elem.style.display = \"none\"\n",
       "        elem = document.getElementById(\"stage1-text\")\n",
       "        elem.innerHTML = part + \"/100 (\" + (part / 100 * 100).toFixed(2) + \"%)\"\n",
       "        "
      ],
      "text/plain": [
       "<IPython.core.display.Javascript object>"
      ]
     },
     "metadata": {},
     "output_type": "display_data"
    },
    {
     "data": {
      "application/javascript": [
       "\n",
       "\n",
       "        var elem = document.getElementById(\"stage0-bar\")\n",
       "        var part = 14\n",
       "        if (part){\n",
       "            elem.style.gridColumn = \"1/\" + (part+1)\n",
       "            elem.style.display = \"block\"\n",
       "        } else\n",
       "            elem.style.display = \"none\"\n",
       "        elem = document.getElementById(\"stage0-text\")\n",
       "        elem.innerHTML = part + \"/100 (\" + (part / 100 * 100).toFixed(2) + \"%)\"\n",
       "        \n",
       "\n",
       "        var elem = document.getElementById(\"stage1-bar\")\n",
       "        var part = 86\n",
       "        if (part){\n",
       "            elem.style.gridColumn = \"1/\" + (part+1)\n",
       "            elem.style.display = \"block\"\n",
       "        } else\n",
       "            elem.style.display = \"none\"\n",
       "        elem = document.getElementById(\"stage1-text\")\n",
       "        elem.innerHTML = part + \"/100 (\" + (part / 100 * 100).toFixed(2) + \"%)\"\n",
       "        "
      ],
      "text/plain": [
       "<IPython.core.display.Javascript object>"
      ]
     },
     "metadata": {},
     "output_type": "display_data"
    },
    {
     "data": {
      "application/javascript": [
       "\n",
       "\n",
       "        var elem = document.getElementById(\"stage0-bar\")\n",
       "        var part = 13\n",
       "        if (part){\n",
       "            elem.style.gridColumn = \"1/\" + (part+1)\n",
       "            elem.style.display = \"block\"\n",
       "        } else\n",
       "            elem.style.display = \"none\"\n",
       "        elem = document.getElementById(\"stage0-text\")\n",
       "        elem.innerHTML = part + \"/100 (\" + (part / 100 * 100).toFixed(2) + \"%)\"\n",
       "        \n",
       "\n",
       "        var elem = document.getElementById(\"stage1-bar\")\n",
       "        var part = 87\n",
       "        if (part){\n",
       "            elem.style.gridColumn = \"1/\" + (part+1)\n",
       "            elem.style.display = \"block\"\n",
       "        } else\n",
       "            elem.style.display = \"none\"\n",
       "        elem = document.getElementById(\"stage1-text\")\n",
       "        elem.innerHTML = part + \"/100 (\" + (part / 100 * 100).toFixed(2) + \"%)\"\n",
       "        "
      ],
      "text/plain": [
       "<IPython.core.display.Javascript object>"
      ]
     },
     "metadata": {},
     "output_type": "display_data"
    },
    {
     "data": {
      "application/javascript": [
       "\n",
       "\n",
       "        var elem = document.getElementById(\"stage0-bar\")\n",
       "        var part = 12\n",
       "        if (part){\n",
       "            elem.style.gridColumn = \"1/\" + (part+1)\n",
       "            elem.style.display = \"block\"\n",
       "        } else\n",
       "            elem.style.display = \"none\"\n",
       "        elem = document.getElementById(\"stage0-text\")\n",
       "        elem.innerHTML = part + \"/100 (\" + (part / 100 * 100).toFixed(2) + \"%)\"\n",
       "        \n",
       "\n",
       "        var elem = document.getElementById(\"stage1-bar\")\n",
       "        var part = 88\n",
       "        if (part){\n",
       "            elem.style.gridColumn = \"1/\" + (part+1)\n",
       "            elem.style.display = \"block\"\n",
       "        } else\n",
       "            elem.style.display = \"none\"\n",
       "        elem = document.getElementById(\"stage1-text\")\n",
       "        elem.innerHTML = part + \"/100 (\" + (part / 100 * 100).toFixed(2) + \"%)\"\n",
       "        "
      ],
      "text/plain": [
       "<IPython.core.display.Javascript object>"
      ]
     },
     "metadata": {},
     "output_type": "display_data"
    },
    {
     "data": {
      "application/javascript": [
       "\n",
       "\n",
       "        var elem = document.getElementById(\"stage0-bar\")\n",
       "        var part = 11\n",
       "        if (part){\n",
       "            elem.style.gridColumn = \"1/\" + (part+1)\n",
       "            elem.style.display = \"block\"\n",
       "        } else\n",
       "            elem.style.display = \"none\"\n",
       "        elem = document.getElementById(\"stage0-text\")\n",
       "        elem.innerHTML = part + \"/100 (\" + (part / 100 * 100).toFixed(2) + \"%)\"\n",
       "        \n",
       "\n",
       "        var elem = document.getElementById(\"stage1-bar\")\n",
       "        var part = 89\n",
       "        if (part){\n",
       "            elem.style.gridColumn = \"1/\" + (part+1)\n",
       "            elem.style.display = \"block\"\n",
       "        } else\n",
       "            elem.style.display = \"none\"\n",
       "        elem = document.getElementById(\"stage1-text\")\n",
       "        elem.innerHTML = part + \"/100 (\" + (part / 100 * 100).toFixed(2) + \"%)\"\n",
       "        "
      ],
      "text/plain": [
       "<IPython.core.display.Javascript object>"
      ]
     },
     "metadata": {},
     "output_type": "display_data"
    },
    {
     "data": {
      "application/javascript": [
       "\n",
       "\n",
       "        var elem = document.getElementById(\"stage0-bar\")\n",
       "        var part = 10\n",
       "        if (part){\n",
       "            elem.style.gridColumn = \"1/\" + (part+1)\n",
       "            elem.style.display = \"block\"\n",
       "        } else\n",
       "            elem.style.display = \"none\"\n",
       "        elem = document.getElementById(\"stage0-text\")\n",
       "        elem.innerHTML = part + \"/100 (\" + (part / 100 * 100).toFixed(2) + \"%)\"\n",
       "        \n",
       "\n",
       "        var elem = document.getElementById(\"stage1-bar\")\n",
       "        var part = 90\n",
       "        if (part){\n",
       "            elem.style.gridColumn = \"1/\" + (part+1)\n",
       "            elem.style.display = \"block\"\n",
       "        } else\n",
       "            elem.style.display = \"none\"\n",
       "        elem = document.getElementById(\"stage1-text\")\n",
       "        elem.innerHTML = part + \"/100 (\" + (part / 100 * 100).toFixed(2) + \"%)\"\n",
       "        "
      ],
      "text/plain": [
       "<IPython.core.display.Javascript object>"
      ]
     },
     "metadata": {},
     "output_type": "display_data"
    },
    {
     "data": {
      "application/javascript": [
       "\n",
       "\n",
       "        var elem = document.getElementById(\"stage0-bar\")\n",
       "        var part = 9\n",
       "        if (part){\n",
       "            elem.style.gridColumn = \"1/\" + (part+1)\n",
       "            elem.style.display = \"block\"\n",
       "        } else\n",
       "            elem.style.display = \"none\"\n",
       "        elem = document.getElementById(\"stage0-text\")\n",
       "        elem.innerHTML = part + \"/100 (\" + (part / 100 * 100).toFixed(2) + \"%)\"\n",
       "        \n",
       "\n",
       "        var elem = document.getElementById(\"stage1-bar\")\n",
       "        var part = 91\n",
       "        if (part){\n",
       "            elem.style.gridColumn = \"1/\" + (part+1)\n",
       "            elem.style.display = \"block\"\n",
       "        } else\n",
       "            elem.style.display = \"none\"\n",
       "        elem = document.getElementById(\"stage1-text\")\n",
       "        elem.innerHTML = part + \"/100 (\" + (part / 100 * 100).toFixed(2) + \"%)\"\n",
       "        "
      ],
      "text/plain": [
       "<IPython.core.display.Javascript object>"
      ]
     },
     "metadata": {},
     "output_type": "display_data"
    },
    {
     "data": {
      "application/javascript": [
       "\n",
       "\n",
       "        var elem = document.getElementById(\"stage0-bar\")\n",
       "        var part = 8\n",
       "        if (part){\n",
       "            elem.style.gridColumn = \"1/\" + (part+1)\n",
       "            elem.style.display = \"block\"\n",
       "        } else\n",
       "            elem.style.display = \"none\"\n",
       "        elem = document.getElementById(\"stage0-text\")\n",
       "        elem.innerHTML = part + \"/100 (\" + (part / 100 * 100).toFixed(2) + \"%)\"\n",
       "        \n",
       "\n",
       "        var elem = document.getElementById(\"stage1-bar\")\n",
       "        var part = 92\n",
       "        if (part){\n",
       "            elem.style.gridColumn = \"1/\" + (part+1)\n",
       "            elem.style.display = \"block\"\n",
       "        } else\n",
       "            elem.style.display = \"none\"\n",
       "        elem = document.getElementById(\"stage1-text\")\n",
       "        elem.innerHTML = part + \"/100 (\" + (part / 100 * 100).toFixed(2) + \"%)\"\n",
       "        "
      ],
      "text/plain": [
       "<IPython.core.display.Javascript object>"
      ]
     },
     "metadata": {},
     "output_type": "display_data"
    },
    {
     "data": {
      "application/javascript": [
       "\n",
       "\n",
       "        var elem = document.getElementById(\"stage0-bar\")\n",
       "        var part = 7\n",
       "        if (part){\n",
       "            elem.style.gridColumn = \"1/\" + (part+1)\n",
       "            elem.style.display = \"block\"\n",
       "        } else\n",
       "            elem.style.display = \"none\"\n",
       "        elem = document.getElementById(\"stage0-text\")\n",
       "        elem.innerHTML = part + \"/100 (\" + (part / 100 * 100).toFixed(2) + \"%)\"\n",
       "        \n",
       "\n",
       "        var elem = document.getElementById(\"stage1-bar\")\n",
       "        var part = 93\n",
       "        if (part){\n",
       "            elem.style.gridColumn = \"1/\" + (part+1)\n",
       "            elem.style.display = \"block\"\n",
       "        } else\n",
       "            elem.style.display = \"none\"\n",
       "        elem = document.getElementById(\"stage1-text\")\n",
       "        elem.innerHTML = part + \"/100 (\" + (part / 100 * 100).toFixed(2) + \"%)\"\n",
       "        "
      ],
      "text/plain": [
       "<IPython.core.display.Javascript object>"
      ]
     },
     "metadata": {},
     "output_type": "display_data"
    },
    {
     "data": {
      "application/javascript": [
       "\n",
       "\n",
       "        var elem = document.getElementById(\"stage0-bar\")\n",
       "        var part = 6\n",
       "        if (part){\n",
       "            elem.style.gridColumn = \"1/\" + (part+1)\n",
       "            elem.style.display = \"block\"\n",
       "        } else\n",
       "            elem.style.display = \"none\"\n",
       "        elem = document.getElementById(\"stage0-text\")\n",
       "        elem.innerHTML = part + \"/100 (\" + (part / 100 * 100).toFixed(2) + \"%)\"\n",
       "        \n",
       "\n",
       "        var elem = document.getElementById(\"stage1-bar\")\n",
       "        var part = 94\n",
       "        if (part){\n",
       "            elem.style.gridColumn = \"1/\" + (part+1)\n",
       "            elem.style.display = \"block\"\n",
       "        } else\n",
       "            elem.style.display = \"none\"\n",
       "        elem = document.getElementById(\"stage1-text\")\n",
       "        elem.innerHTML = part + \"/100 (\" + (part / 100 * 100).toFixed(2) + \"%)\"\n",
       "        "
      ],
      "text/plain": [
       "<IPython.core.display.Javascript object>"
      ]
     },
     "metadata": {},
     "output_type": "display_data"
    },
    {
     "data": {
      "application/javascript": [
       "\n",
       "\n",
       "        var elem = document.getElementById(\"stage0-bar\")\n",
       "        var part = 5\n",
       "        if (part){\n",
       "            elem.style.gridColumn = \"1/\" + (part+1)\n",
       "            elem.style.display = \"block\"\n",
       "        } else\n",
       "            elem.style.display = \"none\"\n",
       "        elem = document.getElementById(\"stage0-text\")\n",
       "        elem.innerHTML = part + \"/100 (\" + (part / 100 * 100).toFixed(2) + \"%)\"\n",
       "        \n",
       "\n",
       "        var elem = document.getElementById(\"stage1-bar\")\n",
       "        var part = 95\n",
       "        if (part){\n",
       "            elem.style.gridColumn = \"1/\" + (part+1)\n",
       "            elem.style.display = \"block\"\n",
       "        } else\n",
       "            elem.style.display = \"none\"\n",
       "        elem = document.getElementById(\"stage1-text\")\n",
       "        elem.innerHTML = part + \"/100 (\" + (part / 100 * 100).toFixed(2) + \"%)\"\n",
       "        "
      ],
      "text/plain": [
       "<IPython.core.display.Javascript object>"
      ]
     },
     "metadata": {},
     "output_type": "display_data"
    },
    {
     "data": {
      "application/javascript": [
       "\n",
       "\n",
       "        var elem = document.getElementById(\"stage0-bar\")\n",
       "        var part = 4\n",
       "        if (part){\n",
       "            elem.style.gridColumn = \"1/\" + (part+1)\n",
       "            elem.style.display = \"block\"\n",
       "        } else\n",
       "            elem.style.display = \"none\"\n",
       "        elem = document.getElementById(\"stage0-text\")\n",
       "        elem.innerHTML = part + \"/100 (\" + (part / 100 * 100).toFixed(2) + \"%)\"\n",
       "        \n",
       "\n",
       "        var elem = document.getElementById(\"stage1-bar\")\n",
       "        var part = 96\n",
       "        if (part){\n",
       "            elem.style.gridColumn = \"1/\" + (part+1)\n",
       "            elem.style.display = \"block\"\n",
       "        } else\n",
       "            elem.style.display = \"none\"\n",
       "        elem = document.getElementById(\"stage1-text\")\n",
       "        elem.innerHTML = part + \"/100 (\" + (part / 100 * 100).toFixed(2) + \"%)\"\n",
       "        "
      ],
      "text/plain": [
       "<IPython.core.display.Javascript object>"
      ]
     },
     "metadata": {},
     "output_type": "display_data"
    },
    {
     "data": {
      "application/javascript": [
       "\n",
       "\n",
       "        var elem = document.getElementById(\"stage0-bar\")\n",
       "        var part = 3\n",
       "        if (part){\n",
       "            elem.style.gridColumn = \"1/\" + (part+1)\n",
       "            elem.style.display = \"block\"\n",
       "        } else\n",
       "            elem.style.display = \"none\"\n",
       "        elem = document.getElementById(\"stage0-text\")\n",
       "        elem.innerHTML = part + \"/100 (\" + (part / 100 * 100).toFixed(2) + \"%)\"\n",
       "        \n",
       "\n",
       "        var elem = document.getElementById(\"stage1-bar\")\n",
       "        var part = 97\n",
       "        if (part){\n",
       "            elem.style.gridColumn = \"1/\" + (part+1)\n",
       "            elem.style.display = \"block\"\n",
       "        } else\n",
       "            elem.style.display = \"none\"\n",
       "        elem = document.getElementById(\"stage1-text\")\n",
       "        elem.innerHTML = part + \"/100 (\" + (part / 100 * 100).toFixed(2) + \"%)\"\n",
       "        "
      ],
      "text/plain": [
       "<IPython.core.display.Javascript object>"
      ]
     },
     "metadata": {},
     "output_type": "display_data"
    },
    {
     "data": {
      "application/javascript": [
       "\n",
       "\n",
       "        var elem = document.getElementById(\"stage0-bar\")\n",
       "        var part = 2\n",
       "        if (part){\n",
       "            elem.style.gridColumn = \"1/\" + (part+1)\n",
       "            elem.style.display = \"block\"\n",
       "        } else\n",
       "            elem.style.display = \"none\"\n",
       "        elem = document.getElementById(\"stage0-text\")\n",
       "        elem.innerHTML = part + \"/100 (\" + (part / 100 * 100).toFixed(2) + \"%)\"\n",
       "        \n",
       "\n",
       "        var elem = document.getElementById(\"stage1-bar\")\n",
       "        var part = 98\n",
       "        if (part){\n",
       "            elem.style.gridColumn = \"1/\" + (part+1)\n",
       "            elem.style.display = \"block\"\n",
       "        } else\n",
       "            elem.style.display = \"none\"\n",
       "        elem = document.getElementById(\"stage1-text\")\n",
       "        elem.innerHTML = part + \"/100 (\" + (part / 100 * 100).toFixed(2) + \"%)\"\n",
       "        "
      ],
      "text/plain": [
       "<IPython.core.display.Javascript object>"
      ]
     },
     "metadata": {},
     "output_type": "display_data"
    },
    {
     "data": {
      "application/javascript": [
       "\n",
       "\n",
       "        var elem = document.getElementById(\"stage0-bar\")\n",
       "        var part = 1\n",
       "        if (part){\n",
       "            elem.style.gridColumn = \"1/\" + (part+1)\n",
       "            elem.style.display = \"block\"\n",
       "        } else\n",
       "            elem.style.display = \"none\"\n",
       "        elem = document.getElementById(\"stage0-text\")\n",
       "        elem.innerHTML = part + \"/100 (\" + (part / 100 * 100).toFixed(2) + \"%)\"\n",
       "        \n",
       "\n",
       "        var elem = document.getElementById(\"stage1-bar\")\n",
       "        var part = 99\n",
       "        if (part){\n",
       "            elem.style.gridColumn = \"1/\" + (part+1)\n",
       "            elem.style.display = \"block\"\n",
       "        } else\n",
       "            elem.style.display = \"none\"\n",
       "        elem = document.getElementById(\"stage1-text\")\n",
       "        elem.innerHTML = part + \"/100 (\" + (part / 100 * 100).toFixed(2) + \"%)\"\n",
       "        "
      ],
      "text/plain": [
       "<IPython.core.display.Javascript object>"
      ]
     },
     "metadata": {},
     "output_type": "display_data"
    },
    {
     "data": {
      "application/javascript": [
       "\n",
       "\n",
       "        var elem = document.getElementById(\"stage0-bar\")\n",
       "        var part = 0\n",
       "        if (part){\n",
       "            elem.style.gridColumn = \"1/\" + (part+1)\n",
       "            elem.style.display = \"block\"\n",
       "        } else\n",
       "            elem.style.display = \"none\"\n",
       "        elem = document.getElementById(\"stage0-text\")\n",
       "        elem.innerHTML = part + \"/100 (\" + (part / 100 * 100).toFixed(2) + \"%)\"\n",
       "        \n",
       "\n",
       "        var elem = document.getElementById(\"stage1-bar\")\n",
       "        var part = 100\n",
       "        if (part){\n",
       "            elem.style.gridColumn = \"1/\" + (part+1)\n",
       "            elem.style.display = \"block\"\n",
       "        } else\n",
       "            elem.style.display = \"none\"\n",
       "        elem = document.getElementById(\"stage1-text\")\n",
       "        elem.innerHTML = part + \"/100 (\" + (part / 100 * 100).toFixed(2) + \"%)\"\n",
       "        "
      ],
      "text/plain": [
       "<IPython.core.display.Javascript object>"
      ]
     },
     "metadata": {},
     "output_type": "display_data"
    },
    {
     "data": {
      "application/javascript": [
       "\n",
       "\n",
       "        var elem = document.getElementById(\"stage0-timestamp\")\n",
       "        elem.innerHTML = \"2.44s\"\n",
       "        "
      ],
      "text/plain": [
       "<IPython.core.display.Javascript object>"
      ]
     },
     "metadata": {},
     "output_type": "display_data"
    },
    {
     "data": {
      "application/javascript": [
       "\n",
       "\n",
       "        var elem = document.getElementById(\"bar_id_1\")\n",
       "        var part = 47\n",
       "        elem.style.gridColumn = \"1/\" + part\n",
       "        if (part > 1) elem.style.display = \"block\"\n",
       "        \n",
       "\n",
       "        var elem = document.getElementById(\"bar_id_2\")\n",
       "        var part = 40\n",
       "        elem.style.gridColumn = \"1/\" + part\n",
       "        if (part > 1) elem.style.display = \"block\"\n",
       "        \n",
       "\n",
       "        var elem = document.getElementById(\"bar_id_3\")\n",
       "        var part = 37\n",
       "        elem.style.gridColumn = \"1/\" + part\n",
       "        if (part > 1) elem.style.display = \"block\"\n",
       "        \n",
       "\n",
       "        var elem = document.getElementById(\"bar_id_4\")\n",
       "        var part = 39\n",
       "        elem.style.gridColumn = \"1/\" + part\n",
       "        if (part > 1) elem.style.display = \"block\"\n",
       "        \n",
       "\n",
       "        var elem = document.getElementById(\"bar_id_5\")\n",
       "        var part = 49\n",
       "        elem.style.gridColumn = \"1/\" + part\n",
       "        if (part > 1) elem.style.display = \"block\"\n",
       "        \n",
       "\n",
       "        var elem = document.getElementById(\"bar_id_6\")\n",
       "        var part = 31\n",
       "        elem.style.gridColumn = \"1/\" + part\n",
       "        if (part > 1) elem.style.display = \"block\"\n",
       "        \n",
       "\n",
       "        var elem = document.getElementById(\"bar_id_7\")\n",
       "        var part = 39\n",
       "        elem.style.gridColumn = \"1/\" + part\n",
       "        if (part > 1) elem.style.display = \"block\"\n",
       "        \n",
       "\n",
       "        var elem = document.getElementById(\"bar_id_8\")\n",
       "        var part = 36\n",
       "        elem.style.gridColumn = \"1/\" + part\n",
       "        if (part > 1) elem.style.display = \"block\"\n",
       "        \n",
       "\n",
       "        var elem = document.getElementById(\"bar_id_9\")\n",
       "        var part = 43\n",
       "        elem.style.gridColumn = \"1/\" + part\n",
       "        if (part > 1) elem.style.display = \"block\"\n",
       "        \n",
       "\n",
       "        var elem = document.getElementById(\"bar_id_10\")\n",
       "        var part = 32\n",
       "        elem.style.gridColumn = \"1/\" + part\n",
       "        if (part > 1) elem.style.display = \"block\"\n",
       "        \n",
       "\n",
       "        var elem = document.getElementById(\"bar_id_11\")\n",
       "        var part = 33\n",
       "        elem.style.gridColumn = \"1/\" + part\n",
       "        if (part > 1) elem.style.display = \"block\"\n",
       "        \n",
       "\n",
       "        var elem = document.getElementById(\"bar_id_12\")\n",
       "        var part = 47\n",
       "        elem.style.gridColumn = \"1/\" + part\n",
       "        if (part > 1) elem.style.display = \"block\"\n",
       "        \n",
       "\n",
       "        var elem = document.getElementById(\"bar_id_13\")\n",
       "        var part = 42\n",
       "        elem.style.gridColumn = \"1/\" + part\n",
       "        if (part > 1) elem.style.display = \"block\"\n",
       "        \n",
       "\n",
       "        var elem = document.getElementById(\"bar_id_14\")\n",
       "        var part = 36\n",
       "        elem.style.gridColumn = \"1/\" + part\n",
       "        if (part > 1) elem.style.display = \"block\"\n",
       "        \n",
       "\n",
       "        var elem = document.getElementById(\"bar_id_15\")\n",
       "        var part = 42\n",
       "        elem.style.gridColumn = \"1/\" + part\n",
       "        if (part > 1) elem.style.display = \"block\"\n",
       "        \n",
       "\n",
       "        var elem = document.getElementById(\"bar_id_16\")\n",
       "        var part = 38\n",
       "        elem.style.gridColumn = \"1/\" + part\n",
       "        if (part > 1) elem.style.display = \"block\"\n",
       "        \n",
       "\n",
       "        var elem = document.getElementById(\"bar_id_17\")\n",
       "        var part = 36\n",
       "        elem.style.gridColumn = \"1/\" + part\n",
       "        if (part > 1) elem.style.display = \"block\"\n",
       "        \n",
       "\n",
       "        var elem = document.getElementById(\"bar_id_18\")\n",
       "        var part = 36\n",
       "        elem.style.gridColumn = \"1/\" + part\n",
       "        if (part > 1) elem.style.display = \"block\"\n",
       "        \n",
       "\n",
       "        var elem = document.getElementById(\"bar_id_19\")\n",
       "        var part = 47\n",
       "        elem.style.gridColumn = \"1/\" + part\n",
       "        if (part > 1) elem.style.display = \"block\"\n",
       "        \n",
       "\n",
       "        var elem = document.getElementById(\"bar_id_20\")\n",
       "        var part = 45\n",
       "        elem.style.gridColumn = \"1/\" + part\n",
       "        if (part > 1) elem.style.display = \"block\"\n",
       "        \n",
       "\n",
       "        var elem = document.getElementById(\"bar_id_21\")\n",
       "        var part = 48\n",
       "        elem.style.gridColumn = \"1/\" + part\n",
       "        if (part > 1) elem.style.display = \"block\"\n",
       "        \n",
       "\n",
       "        var elem = document.getElementById(\"bar_id_22\")\n",
       "        var part = 35\n",
       "        elem.style.gridColumn = \"1/\" + part\n",
       "        if (part > 1) elem.style.display = \"block\"\n",
       "        \n",
       "\n",
       "        var elem = document.getElementById(\"bar_id_23\")\n",
       "        var part = 41\n",
       "        elem.style.gridColumn = \"1/\" + part\n",
       "        if (part > 1) elem.style.display = \"block\"\n",
       "        \n",
       "\n",
       "        var elem = document.getElementById(\"bar_id_24\")\n",
       "        var part = 36\n",
       "        elem.style.gridColumn = \"1/\" + part\n",
       "        if (part > 1) elem.style.display = \"block\"\n",
       "        \n",
       "\n",
       "        var elem = document.getElementById(\"bar_id_25\")\n",
       "        var part = 33\n",
       "        elem.style.gridColumn = \"1/\" + part\n",
       "        if (part > 1) elem.style.display = \"block\"\n",
       "        \n",
       "\n",
       "        var elem = document.getElementById(\"bar_id_26\")\n",
       "        var part = 44\n",
       "        elem.style.gridColumn = \"1/\" + part\n",
       "        if (part > 1) elem.style.display = \"block\"\n",
       "        \n",
       "\n",
       "        var elem = document.getElementById(\"bar_id_27\")\n",
       "        var part = 40\n",
       "        elem.style.gridColumn = \"1/\" + part\n",
       "        if (part > 1) elem.style.display = \"block\"\n",
       "        \n",
       "\n",
       "        var elem = document.getElementById(\"bar_id_28\")\n",
       "        var part = 38\n",
       "        elem.style.gridColumn = \"1/\" + part\n",
       "        if (part > 1) elem.style.display = \"block\"\n",
       "        \n",
       "\n",
       "        var elem = document.getElementById(\"bar_id_29\")\n",
       "        var part = 49\n",
       "        elem.style.gridColumn = \"1/\" + part\n",
       "        if (part > 1) elem.style.display = \"block\"\n",
       "        \n",
       "\n",
       "        var elem = document.getElementById(\"bar_id_30\")\n",
       "        var part = 47\n",
       "        elem.style.gridColumn = \"1/\" + part\n",
       "        if (part > 1) elem.style.display = \"block\"\n",
       "        \n",
       "\n",
       "        var elem = document.getElementById(\"bar_id_31\")\n",
       "        var part = 49\n",
       "        elem.style.gridColumn = \"1/\" + part\n",
       "        if (part > 1) elem.style.display = \"block\"\n",
       "        \n",
       "\n",
       "        var elem = document.getElementById(\"bar_id_32\")\n",
       "        var part = 46\n",
       "        elem.style.gridColumn = \"1/\" + part\n",
       "        if (part > 1) elem.style.display = \"block\"\n",
       "        \n",
       "\n",
       "        var elem = document.getElementById(\"bar_id_33\")\n",
       "        var part = 37\n",
       "        elem.style.gridColumn = \"1/\" + part\n",
       "        if (part > 1) elem.style.display = \"block\"\n",
       "        \n",
       "\n",
       "        var elem = document.getElementById(\"bar_id_34\")\n",
       "        var part = 48\n",
       "        elem.style.gridColumn = \"1/\" + part\n",
       "        if (part > 1) elem.style.display = \"block\"\n",
       "        \n",
       "\n",
       "        var elem = document.getElementById(\"bar_id_35\")\n",
       "        var part = 47\n",
       "        elem.style.gridColumn = \"1/\" + part\n",
       "        if (part > 1) elem.style.display = \"block\"\n",
       "        \n",
       "\n",
       "        var elem = document.getElementById(\"bar_id_36\")\n",
       "        var part = 38\n",
       "        elem.style.gridColumn = \"1/\" + part\n",
       "        if (part > 1) elem.style.display = \"block\"\n",
       "        \n",
       "\n",
       "        var elem = document.getElementById(\"bar_id_37\")\n",
       "        var part = 33\n",
       "        elem.style.gridColumn = \"1/\" + part\n",
       "        if (part > 1) elem.style.display = \"block\"\n",
       "        \n",
       "\n",
       "        var elem = document.getElementById(\"bar_id_38\")\n",
       "        var part = 38\n",
       "        elem.style.gridColumn = \"1/\" + part\n",
       "        if (part > 1) elem.style.display = \"block\"\n",
       "        \n",
       "\n",
       "        var elem = document.getElementById(\"bar_id_39\")\n",
       "        var part = 33\n",
       "        elem.style.gridColumn = \"1/\" + part\n",
       "        if (part > 1) elem.style.display = \"block\"\n",
       "        \n",
       "\n",
       "        var elem = document.getElementById(\"bar_id_40\")\n",
       "        var part = 45\n",
       "        elem.style.gridColumn = \"1/\" + part\n",
       "        if (part > 1) elem.style.display = \"block\"\n",
       "        \n",
       "\n",
       "        var elem = document.getElementById(\"bar_id_41\")\n",
       "        var part = 45\n",
       "        elem.style.gridColumn = \"1/\" + part\n",
       "        if (part > 1) elem.style.display = \"block\"\n",
       "        \n",
       "\n",
       "        var elem = document.getElementById(\"bar_id_42\")\n",
       "        var part = 32\n",
       "        elem.style.gridColumn = \"1/\" + part\n",
       "        if (part > 1) elem.style.display = \"block\"\n",
       "        \n",
       "\n",
       "        var elem = document.getElementById(\"bar_id_43\")\n",
       "        var part = 38\n",
       "        elem.style.gridColumn = \"1/\" + part\n",
       "        if (part > 1) elem.style.display = \"block\"\n",
       "        \n",
       "\n",
       "        var elem = document.getElementById(\"bar_id_44\")\n",
       "        var part = 38\n",
       "        elem.style.gridColumn = \"1/\" + part\n",
       "        if (part > 1) elem.style.display = \"block\"\n",
       "        \n",
       "\n",
       "        var elem = document.getElementById(\"bar_id_45\")\n",
       "        var part = 33\n",
       "        elem.style.gridColumn = \"1/\" + part\n",
       "        if (part > 1) elem.style.display = \"block\"\n",
       "        \n",
       "\n",
       "        var elem = document.getElementById(\"bar_id_46\")\n",
       "        var part = 30\n",
       "        elem.style.gridColumn = \"1/\" + part\n",
       "        if (part > 1) elem.style.display = \"block\"\n",
       "        \n",
       "\n",
       "        var elem = document.getElementById(\"bar_id_47\")\n",
       "        var part = 33\n",
       "        elem.style.gridColumn = \"1/\" + part\n",
       "        if (part > 1) elem.style.display = \"block\"\n",
       "        \n",
       "\n",
       "        var elem = document.getElementById(\"bar_id_48\")\n",
       "        var part = 46\n",
       "        elem.style.gridColumn = \"1/\" + part\n",
       "        if (part > 1) elem.style.display = \"block\"\n",
       "        \n",
       "\n",
       "        var elem = document.getElementById(\"bar_id_49\")\n",
       "        var part = 46\n",
       "        elem.style.gridColumn = \"1/\" + part\n",
       "        if (part > 1) elem.style.display = \"block\"\n",
       "        \n",
       "\n",
       "        var elem = document.getElementById(\"bar_id_50\")\n",
       "        var part = 45\n",
       "        elem.style.gridColumn = \"1/\" + part\n",
       "        if (part > 1) elem.style.display = \"block\"\n",
       "        \n",
       "\n",
       "        var elem = document.getElementById(\"bar_id_51\")\n",
       "        var part = 39\n",
       "        elem.style.gridColumn = \"1/\" + part\n",
       "        if (part > 1) elem.style.display = \"block\"\n",
       "        \n",
       "\n",
       "        var elem = document.getElementById(\"bar_id_52\")\n",
       "        var part = 48\n",
       "        elem.style.gridColumn = \"1/\" + part\n",
       "        if (part > 1) elem.style.display = \"block\"\n",
       "        \n",
       "\n",
       "        var elem = document.getElementById(\"bar_id_53\")\n",
       "        var part = 43\n",
       "        elem.style.gridColumn = \"1/\" + part\n",
       "        if (part > 1) elem.style.display = \"block\"\n",
       "        \n",
       "\n",
       "        var elem = document.getElementById(\"bar_id_54\")\n",
       "        var part = 38\n",
       "        elem.style.gridColumn = \"1/\" + part\n",
       "        if (part > 1) elem.style.display = \"block\"\n",
       "        \n",
       "\n",
       "        var elem = document.getElementById(\"bar_id_55\")\n",
       "        var part = 31\n",
       "        elem.style.gridColumn = \"1/\" + part\n",
       "        if (part > 1) elem.style.display = \"block\"\n",
       "        \n",
       "\n",
       "        var elem = document.getElementById(\"bar_id_56\")\n",
       "        var part = 42\n",
       "        elem.style.gridColumn = \"1/\" + part\n",
       "        if (part > 1) elem.style.display = \"block\"\n",
       "        \n",
       "\n",
       "        var elem = document.getElementById(\"bar_id_57\")\n",
       "        var part = 47\n",
       "        elem.style.gridColumn = \"1/\" + part\n",
       "        if (part > 1) elem.style.display = \"block\"\n",
       "        \n",
       "\n",
       "        var elem = document.getElementById(\"bar_id_58\")\n",
       "        var part = 33\n",
       "        elem.style.gridColumn = \"1/\" + part\n",
       "        if (part > 1) elem.style.display = \"block\"\n",
       "        \n",
       "\n",
       "        var elem = document.getElementById(\"bar_id_59\")\n",
       "        var part = 33\n",
       "        elem.style.gridColumn = \"1/\" + part\n",
       "        if (part > 1) elem.style.display = \"block\"\n",
       "        \n",
       "\n",
       "        var elem = document.getElementById(\"bar_id_60\")\n",
       "        var part = 35\n",
       "        elem.style.gridColumn = \"1/\" + part\n",
       "        if (part > 1) elem.style.display = \"block\"\n",
       "        \n",
       "\n",
       "        var elem = document.getElementById(\"bar_id_61\")\n",
       "        var part = 33\n",
       "        elem.style.gridColumn = \"1/\" + part\n",
       "        if (part > 1) elem.style.display = \"block\"\n",
       "        \n",
       "\n",
       "        var elem = document.getElementById(\"bar_id_62\")\n",
       "        var part = 46\n",
       "        elem.style.gridColumn = \"1/\" + part\n",
       "        if (part > 1) elem.style.display = \"block\"\n",
       "        \n",
       "\n",
       "        var elem = document.getElementById(\"bar_id_63\")\n",
       "        var part = 42\n",
       "        elem.style.gridColumn = \"1/\" + part\n",
       "        if (part > 1) elem.style.display = \"block\"\n",
       "        \n",
       "\n",
       "        var elem = document.getElementById(\"bar_id_64\")\n",
       "        var part = 42\n",
       "        elem.style.gridColumn = \"1/\" + part\n",
       "        if (part > 1) elem.style.display = \"block\"\n",
       "        \n",
       "\n",
       "        var elem = document.getElementById(\"bar_id_65\")\n",
       "        var part = 46\n",
       "        elem.style.gridColumn = \"1/\" + part\n",
       "        if (part > 1) elem.style.display = \"block\"\n",
       "        \n",
       "\n",
       "        var elem = document.getElementById(\"bar_id_66\")\n",
       "        var part = 45\n",
       "        elem.style.gridColumn = \"1/\" + part\n",
       "        if (part > 1) elem.style.display = \"block\"\n",
       "        \n",
       "\n",
       "        var elem = document.getElementById(\"bar_id_67\")\n",
       "        var part = 38\n",
       "        elem.style.gridColumn = \"1/\" + part\n",
       "        if (part > 1) elem.style.display = \"block\"\n",
       "        \n",
       "\n",
       "        var elem = document.getElementById(\"bar_id_68\")\n",
       "        var part = 45\n",
       "        elem.style.gridColumn = \"1/\" + part\n",
       "        if (part > 1) elem.style.display = \"block\"\n",
       "        \n",
       "\n",
       "        var elem = document.getElementById(\"bar_id_69\")\n",
       "        var part = 45\n",
       "        elem.style.gridColumn = \"1/\" + part\n",
       "        if (part > 1) elem.style.display = \"block\"\n",
       "        \n",
       "\n",
       "        var elem = document.getElementById(\"bar_id_70\")\n",
       "        var part = 43\n",
       "        elem.style.gridColumn = \"1/\" + part\n",
       "        if (part > 1) elem.style.display = \"block\"\n",
       "        \n",
       "\n",
       "        var elem = document.getElementById(\"bar_id_71\")\n",
       "        var part = 31\n",
       "        elem.style.gridColumn = \"1/\" + part\n",
       "        if (part > 1) elem.style.display = \"block\"\n",
       "        \n",
       "\n",
       "        var elem = document.getElementById(\"bar_id_72\")\n",
       "        var part = 36\n",
       "        elem.style.gridColumn = \"1/\" + part\n",
       "        if (part > 1) elem.style.display = \"block\"\n",
       "        \n",
       "\n",
       "        var elem = document.getElementById(\"bar_id_73\")\n",
       "        var part = 38\n",
       "        elem.style.gridColumn = \"1/\" + part\n",
       "        if (part > 1) elem.style.display = \"block\"\n",
       "        \n",
       "\n",
       "        var elem = document.getElementById(\"bar_id_74\")\n",
       "        var part = 39\n",
       "        elem.style.gridColumn = \"1/\" + part\n",
       "        if (part > 1) elem.style.display = \"block\"\n",
       "        \n",
       "\n",
       "        var elem = document.getElementById(\"bar_id_75\")\n",
       "        var part = 36\n",
       "        elem.style.gridColumn = \"1/\" + part\n",
       "        if (part > 1) elem.style.display = \"block\"\n",
       "        \n",
       "\n",
       "        var elem = document.getElementById(\"bar_id_76\")\n",
       "        var part = 37\n",
       "        elem.style.gridColumn = \"1/\" + part\n",
       "        if (part > 1) elem.style.display = \"block\"\n",
       "        \n",
       "\n",
       "        var elem = document.getElementById(\"bar_id_77\")\n",
       "        var part = 32\n",
       "        elem.style.gridColumn = \"1/\" + part\n",
       "        if (part > 1) elem.style.display = \"block\"\n",
       "        \n",
       "\n",
       "        var elem = document.getElementById(\"bar_id_78\")\n",
       "        var part = 45\n",
       "        elem.style.gridColumn = \"1/\" + part\n",
       "        if (part > 1) elem.style.display = \"block\"\n",
       "        \n",
       "\n",
       "        var elem = document.getElementById(\"bar_id_79\")\n",
       "        var part = 38\n",
       "        elem.style.gridColumn = \"1/\" + part\n",
       "        if (part > 1) elem.style.display = \"block\"\n",
       "        \n",
       "\n",
       "        var elem = document.getElementById(\"bar_id_80\")\n",
       "        var part = 37\n",
       "        elem.style.gridColumn = \"1/\" + part\n",
       "        if (part > 1) elem.style.display = \"block\"\n",
       "        \n",
       "\n",
       "        var elem = document.getElementById(\"bar_id_81\")\n",
       "        var part = 46\n",
       "        elem.style.gridColumn = \"1/\" + part\n",
       "        if (part > 1) elem.style.display = \"block\"\n",
       "        \n",
       "\n",
       "        var elem = document.getElementById(\"bar_id_82\")\n",
       "        var part = 47\n",
       "        elem.style.gridColumn = \"1/\" + part\n",
       "        if (part > 1) elem.style.display = \"block\"\n",
       "        \n",
       "\n",
       "        var elem = document.getElementById(\"bar_id_83\")\n",
       "        var part = 38\n",
       "        elem.style.gridColumn = \"1/\" + part\n",
       "        if (part > 1) elem.style.display = \"block\"\n",
       "        \n",
       "\n",
       "        var elem = document.getElementById(\"bar_id_84\")\n",
       "        var part = 32\n",
       "        elem.style.gridColumn = \"1/\" + part\n",
       "        if (part > 1) elem.style.display = \"block\"\n",
       "        \n",
       "\n",
       "        var elem = document.getElementById(\"bar_id_85\")\n",
       "        var part = 41\n",
       "        elem.style.gridColumn = \"1/\" + part\n",
       "        if (part > 1) elem.style.display = \"block\"\n",
       "        \n",
       "\n",
       "        var elem = document.getElementById(\"bar_id_86\")\n",
       "        var part = 47\n",
       "        elem.style.gridColumn = \"1/\" + part\n",
       "        if (part > 1) elem.style.display = \"block\"\n",
       "        \n",
       "\n",
       "        var elem = document.getElementById(\"bar_id_87\")\n",
       "        var part = 49\n",
       "        elem.style.gridColumn = \"1/\" + part\n",
       "        if (part > 1) elem.style.display = \"block\"\n",
       "        \n",
       "\n",
       "        var elem = document.getElementById(\"bar_id_88\")\n",
       "        var part = 44\n",
       "        elem.style.gridColumn = \"1/\" + part\n",
       "        if (part > 1) elem.style.display = \"block\"\n",
       "        \n",
       "\n",
       "        var elem = document.getElementById(\"bar_id_89\")\n",
       "        var part = 47\n",
       "        elem.style.gridColumn = \"1/\" + part\n",
       "        if (part > 1) elem.style.display = \"block\"\n",
       "        \n",
       "\n",
       "        var elem = document.getElementById(\"bar_id_90\")\n",
       "        var part = 33\n",
       "        elem.style.gridColumn = \"1/\" + part\n",
       "        if (part > 1) elem.style.display = \"block\"\n",
       "        \n",
       "\n",
       "        var elem = document.getElementById(\"bar_id_91\")\n",
       "        var part = 34\n",
       "        elem.style.gridColumn = \"1/\" + part\n",
       "        if (part > 1) elem.style.display = \"block\"\n",
       "        \n",
       "\n",
       "        var elem = document.getElementById(\"bar_id_92\")\n",
       "        var part = 42\n",
       "        elem.style.gridColumn = \"1/\" + part\n",
       "        if (part > 1) elem.style.display = \"block\"\n",
       "        \n",
       "\n",
       "        var elem = document.getElementById(\"bar_id_93\")\n",
       "        var part = 43\n",
       "        elem.style.gridColumn = \"1/\" + part\n",
       "        if (part > 1) elem.style.display = \"block\"\n",
       "        \n",
       "\n",
       "        var elem = document.getElementById(\"bar_id_94\")\n",
       "        var part = 44\n",
       "        elem.style.gridColumn = \"1/\" + part\n",
       "        if (part > 1) elem.style.display = \"block\"\n",
       "        \n",
       "\n",
       "        var elem = document.getElementById(\"bar_id_95\")\n",
       "        var part = 38\n",
       "        elem.style.gridColumn = \"1/\" + part\n",
       "        if (part > 1) elem.style.display = \"block\"\n",
       "        \n",
       "\n",
       "        var elem = document.getElementById(\"bar_id_96\")\n",
       "        var part = 33\n",
       "        elem.style.gridColumn = \"1/\" + part\n",
       "        if (part > 1) elem.style.display = \"block\"\n",
       "        \n",
       "\n",
       "        var elem = document.getElementById(\"bar_id_97\")\n",
       "        var part = 36\n",
       "        elem.style.gridColumn = \"1/\" + part\n",
       "        if (part > 1) elem.style.display = \"block\"\n",
       "        \n",
       "\n",
       "        var elem = document.getElementById(\"bar_id_98\")\n",
       "        var part = 35\n",
       "        elem.style.gridColumn = \"1/\" + part\n",
       "        if (part > 1) elem.style.display = \"block\"\n",
       "        \n",
       "\n",
       "        var elem = document.getElementById(\"bar_id_99\")\n",
       "        var part = 46\n",
       "        elem.style.gridColumn = \"1/\" + part\n",
       "        if (part > 1) elem.style.display = \"block\"\n",
       "        "
      ],
      "text/plain": [
       "<IPython.core.display.Javascript object>"
      ]
     },
     "metadata": {},
     "output_type": "display_data"
    },
    {
     "data": {
      "application/javascript": [
       "\n",
       "\n",
       "        var elem = document.getElementById(\"bar_id_0\")\n",
       "        var part = 94\n",
       "        elem.style.gridColumn = \"1/\" + part\n",
       "        if (part > 1) elem.style.display = \"block\"\n",
       "        \n",
       "\n",
       "        var elem = document.getElementById(\"bar_id_1\")\n",
       "        var part = 23\n",
       "        elem.style.gridColumn = \"1/\" + part\n",
       "        if (part > 1) elem.style.display = \"block\"\n",
       "        \n",
       "\n",
       "        var elem = document.getElementById(\"bar_id_2\")\n",
       "        var part = 19\n",
       "        elem.style.gridColumn = \"1/\" + part\n",
       "        if (part > 1) elem.style.display = \"block\"\n",
       "        \n",
       "\n",
       "        var elem = document.getElementById(\"bar_id_3\")\n",
       "        var part = 18\n",
       "        elem.style.gridColumn = \"1/\" + part\n",
       "        if (part > 1) elem.style.display = \"block\"\n",
       "        \n",
       "\n",
       "        var elem = document.getElementById(\"bar_id_4\")\n",
       "        var part = 19\n",
       "        elem.style.gridColumn = \"1/\" + part\n",
       "        if (part > 1) elem.style.display = \"block\"\n",
       "        \n",
       "\n",
       "        var elem = document.getElementById(\"bar_id_5\")\n",
       "        var part = 24\n",
       "        elem.style.gridColumn = \"1/\" + part\n",
       "        if (part > 1) elem.style.display = \"block\"\n",
       "        \n",
       "\n",
       "        var elem = document.getElementById(\"bar_id_6\")\n",
       "        var part = 15\n",
       "        elem.style.gridColumn = \"1/\" + part\n",
       "        if (part > 1) elem.style.display = \"block\"\n",
       "        \n",
       "\n",
       "        var elem = document.getElementById(\"bar_id_7\")\n",
       "        var part = 19\n",
       "        elem.style.gridColumn = \"1/\" + part\n",
       "        if (part > 1) elem.style.display = \"block\"\n",
       "        \n",
       "\n",
       "        var elem = document.getElementById(\"bar_id_8\")\n",
       "        var part = 17\n",
       "        elem.style.gridColumn = \"1/\" + part\n",
       "        if (part > 1) elem.style.display = \"block\"\n",
       "        \n",
       "\n",
       "        var elem = document.getElementById(\"bar_id_9\")\n",
       "        var part = 21\n",
       "        elem.style.gridColumn = \"1/\" + part\n",
       "        if (part > 1) elem.style.display = \"block\"\n",
       "        \n",
       "\n",
       "        var elem = document.getElementById(\"bar_id_10\")\n",
       "        var part = 16\n",
       "        elem.style.gridColumn = \"1/\" + part\n",
       "        if (part > 1) elem.style.display = \"block\"\n",
       "        \n",
       "\n",
       "        var elem = document.getElementById(\"bar_id_11\")\n",
       "        var part = 16\n",
       "        elem.style.gridColumn = \"1/\" + part\n",
       "        if (part > 1) elem.style.display = \"block\"\n",
       "        \n",
       "\n",
       "        var elem = document.getElementById(\"bar_id_12\")\n",
       "        var part = 23\n",
       "        elem.style.gridColumn = \"1/\" + part\n",
       "        if (part > 1) elem.style.display = \"block\"\n",
       "        \n",
       "\n",
       "        var elem = document.getElementById(\"bar_id_13\")\n",
       "        var part = 20\n",
       "        elem.style.gridColumn = \"1/\" + part\n",
       "        if (part > 1) elem.style.display = \"block\"\n",
       "        \n",
       "\n",
       "        var elem = document.getElementById(\"bar_id_14\")\n",
       "        var part = 18\n",
       "        elem.style.gridColumn = \"1/\" + part\n",
       "        if (part > 1) elem.style.display = \"block\"\n",
       "        \n",
       "\n",
       "        var elem = document.getElementById(\"bar_id_15\")\n",
       "        var part = 21\n",
       "        elem.style.gridColumn = \"1/\" + part\n",
       "        if (part > 1) elem.style.display = \"block\"\n",
       "        \n",
       "\n",
       "        var elem = document.getElementById(\"bar_id_16\")\n",
       "        var part = 18\n",
       "        elem.style.gridColumn = \"1/\" + part\n",
       "        if (part > 1) elem.style.display = \"block\"\n",
       "        \n",
       "\n",
       "        var elem = document.getElementById(\"bar_id_17\")\n",
       "        var part = 18\n",
       "        elem.style.gridColumn = \"1/\" + part\n",
       "        if (part > 1) elem.style.display = \"block\"\n",
       "        \n",
       "\n",
       "        var elem = document.getElementById(\"bar_id_18\")\n",
       "        var part = 18\n",
       "        elem.style.gridColumn = \"1/\" + part\n",
       "        if (part > 1) elem.style.display = \"block\"\n",
       "        \n",
       "\n",
       "        var elem = document.getElementById(\"bar_id_19\")\n",
       "        var part = 23\n",
       "        elem.style.gridColumn = \"1/\" + part\n",
       "        if (part > 1) elem.style.display = \"block\"\n",
       "        \n",
       "\n",
       "        var elem = document.getElementById(\"bar_id_20\")\n",
       "        var part = 22\n",
       "        elem.style.gridColumn = \"1/\" + part\n",
       "        if (part > 1) elem.style.display = \"block\"\n",
       "        \n",
       "\n",
       "        var elem = document.getElementById(\"bar_id_21\")\n",
       "        var part = 23\n",
       "        elem.style.gridColumn = \"1/\" + part\n",
       "        if (part > 1) elem.style.display = \"block\"\n",
       "        \n",
       "\n",
       "        var elem = document.getElementById(\"bar_id_22\")\n",
       "        var part = 17\n",
       "        elem.style.gridColumn = \"1/\" + part\n",
       "        if (part > 1) elem.style.display = \"block\"\n",
       "        \n",
       "\n",
       "        var elem = document.getElementById(\"bar_id_23\")\n",
       "        var part = 20\n",
       "        elem.style.gridColumn = \"1/\" + part\n",
       "        if (part > 1) elem.style.display = \"block\"\n",
       "        \n",
       "\n",
       "        var elem = document.getElementById(\"bar_id_24\")\n",
       "        var part = 18\n",
       "        elem.style.gridColumn = \"1/\" + part\n",
       "        if (part > 1) elem.style.display = \"block\"\n",
       "        \n",
       "\n",
       "        var elem = document.getElementById(\"bar_id_25\")\n",
       "        var part = 16\n",
       "        elem.style.gridColumn = \"1/\" + part\n",
       "        if (part > 1) elem.style.display = \"block\"\n",
       "        \n",
       "\n",
       "        var elem = document.getElementById(\"bar_id_26\")\n",
       "        var part = 22\n",
       "        elem.style.gridColumn = \"1/\" + part\n",
       "        if (part > 1) elem.style.display = \"block\"\n",
       "        \n",
       "\n",
       "        var elem = document.getElementById(\"bar_id_27\")\n",
       "        var part = 20\n",
       "        elem.style.gridColumn = \"1/\" + part\n",
       "        if (part > 1) elem.style.display = \"block\"\n",
       "        \n",
       "\n",
       "        var elem = document.getElementById(\"bar_id_28\")\n",
       "        var part = 19\n",
       "        elem.style.gridColumn = \"1/\" + part\n",
       "        if (part > 1) elem.style.display = \"block\"\n",
       "        \n",
       "\n",
       "        var elem = document.getElementById(\"bar_id_29\")\n",
       "        var part = 24\n",
       "        elem.style.gridColumn = \"1/\" + part\n",
       "        if (part > 1) elem.style.display = \"block\"\n",
       "        \n",
       "\n",
       "        var elem = document.getElementById(\"bar_id_30\")\n",
       "        var part = 23\n",
       "        elem.style.gridColumn = \"1/\" + part\n",
       "        if (part > 1) elem.style.display = \"block\"\n",
       "        \n",
       "\n",
       "        var elem = document.getElementById(\"bar_id_31\")\n",
       "        var part = 24\n",
       "        elem.style.gridColumn = \"1/\" + part\n",
       "        if (part > 1) elem.style.display = \"block\"\n",
       "        \n",
       "\n",
       "        var elem = document.getElementById(\"bar_id_32\")\n",
       "        var part = 23\n",
       "        elem.style.gridColumn = \"1/\" + part\n",
       "        if (part > 1) elem.style.display = \"block\"\n",
       "        \n",
       "\n",
       "        var elem = document.getElementById(\"bar_id_33\")\n",
       "        var part = 18\n",
       "        elem.style.gridColumn = \"1/\" + part\n",
       "        if (part > 1) elem.style.display = \"block\"\n",
       "        \n",
       "\n",
       "        var elem = document.getElementById(\"bar_id_34\")\n",
       "        var part = 23\n",
       "        elem.style.gridColumn = \"1/\" + part\n",
       "        if (part > 1) elem.style.display = \"block\"\n",
       "        \n",
       "\n",
       "        var elem = document.getElementById(\"bar_id_35\")\n",
       "        var part = 23\n",
       "        elem.style.gridColumn = \"1/\" + part\n",
       "        if (part > 1) elem.style.display = \"block\"\n",
       "        \n",
       "\n",
       "        var elem = document.getElementById(\"bar_id_36\")\n",
       "        var part = 18\n",
       "        elem.style.gridColumn = \"1/\" + part\n",
       "        if (part > 1) elem.style.display = \"block\"\n",
       "        \n",
       "\n",
       "        var elem = document.getElementById(\"bar_id_37\")\n",
       "        var part = 16\n",
       "        elem.style.gridColumn = \"1/\" + part\n",
       "        if (part > 1) elem.style.display = \"block\"\n",
       "        \n",
       "\n",
       "        var elem = document.getElementById(\"bar_id_38\")\n",
       "        var part = 19\n",
       "        elem.style.gridColumn = \"1/\" + part\n",
       "        if (part > 1) elem.style.display = \"block\"\n",
       "        \n",
       "\n",
       "        var elem = document.getElementById(\"bar_id_39\")\n",
       "        var part = 16\n",
       "        elem.style.gridColumn = \"1/\" + part\n",
       "        if (part > 1) elem.style.display = \"block\"\n",
       "        \n",
       "\n",
       "        var elem = document.getElementById(\"bar_id_40\")\n",
       "        var part = 22\n",
       "        elem.style.gridColumn = \"1/\" + part\n",
       "        if (part > 1) elem.style.display = \"block\"\n",
       "        \n",
       "\n",
       "        var elem = document.getElementById(\"bar_id_41\")\n",
       "        var part = 22\n",
       "        elem.style.gridColumn = \"1/\" + part\n",
       "        if (part > 1) elem.style.display = \"block\"\n",
       "        \n",
       "\n",
       "        var elem = document.getElementById(\"bar_id_42\")\n",
       "        var part = 16\n",
       "        elem.style.gridColumn = \"1/\" + part\n",
       "        if (part > 1) elem.style.display = \"block\"\n",
       "        \n",
       "\n",
       "        var elem = document.getElementById(\"bar_id_43\")\n",
       "        var part = 19\n",
       "        elem.style.gridColumn = \"1/\" + part\n",
       "        if (part > 1) elem.style.display = \"block\"\n",
       "        \n",
       "\n",
       "        var elem = document.getElementById(\"bar_id_44\")\n",
       "        var part = 18\n",
       "        elem.style.gridColumn = \"1/\" + part\n",
       "        if (part > 1) elem.style.display = \"block\"\n",
       "        \n",
       "\n",
       "        var elem = document.getElementById(\"bar_id_45\")\n",
       "        var part = 16\n",
       "        elem.style.gridColumn = \"1/\" + part\n",
       "        if (part > 1) elem.style.display = \"block\"\n",
       "        \n",
       "\n",
       "        var elem = document.getElementById(\"bar_id_46\")\n",
       "        var part = 15\n",
       "        elem.style.gridColumn = \"1/\" + part\n",
       "        if (part > 1) elem.style.display = \"block\"\n",
       "        \n",
       "\n",
       "        var elem = document.getElementById(\"bar_id_47\")\n",
       "        var part = 16\n",
       "        elem.style.gridColumn = \"1/\" + part\n",
       "        if (part > 1) elem.style.display = \"block\"\n",
       "        \n",
       "\n",
       "        var elem = document.getElementById(\"bar_id_48\")\n",
       "        var part = 22\n",
       "        elem.style.gridColumn = \"1/\" + part\n",
       "        if (part > 1) elem.style.display = \"block\"\n",
       "        \n",
       "\n",
       "        var elem = document.getElementById(\"bar_id_49\")\n",
       "        var part = 22\n",
       "        elem.style.gridColumn = \"1/\" + part\n",
       "        if (part > 1) elem.style.display = \"block\"\n",
       "        \n",
       "\n",
       "        var elem = document.getElementById(\"bar_id_50\")\n",
       "        var part = 22\n",
       "        elem.style.gridColumn = \"1/\" + part\n",
       "        if (part > 1) elem.style.display = \"block\"\n",
       "        \n",
       "\n",
       "        var elem = document.getElementById(\"bar_id_51\")\n",
       "        var part = 19\n",
       "        elem.style.gridColumn = \"1/\" + part\n",
       "        if (part > 1) elem.style.display = \"block\"\n",
       "        \n",
       "\n",
       "        var elem = document.getElementById(\"bar_id_52\")\n",
       "        var part = 23\n",
       "        elem.style.gridColumn = \"1/\" + part\n",
       "        if (part > 1) elem.style.display = \"block\"\n",
       "        \n",
       "\n",
       "        var elem = document.getElementById(\"bar_id_53\")\n",
       "        var part = 21\n",
       "        elem.style.gridColumn = \"1/\" + part\n",
       "        if (part > 1) elem.style.display = \"block\"\n",
       "        \n",
       "\n",
       "        var elem = document.getElementById(\"bar_id_54\")\n",
       "        var part = 18\n",
       "        elem.style.gridColumn = \"1/\" + part\n",
       "        if (part > 1) elem.style.display = \"block\"\n",
       "        \n",
       "\n",
       "        var elem = document.getElementById(\"bar_id_55\")\n",
       "        var part = 15\n",
       "        elem.style.gridColumn = \"1/\" + part\n",
       "        if (part > 1) elem.style.display = \"block\"\n",
       "        \n",
       "\n",
       "        var elem = document.getElementById(\"bar_id_56\")\n",
       "        var part = 20\n",
       "        elem.style.gridColumn = \"1/\" + part\n",
       "        if (part > 1) elem.style.display = \"block\"\n",
       "        \n",
       "\n",
       "        var elem = document.getElementById(\"bar_id_57\")\n",
       "        var part = 23\n",
       "        elem.style.gridColumn = \"1/\" + part\n",
       "        if (part > 1) elem.style.display = \"block\"\n",
       "        \n",
       "\n",
       "        var elem = document.getElementById(\"bar_id_58\")\n",
       "        var part = 16\n",
       "        elem.style.gridColumn = \"1/\" + part\n",
       "        if (part > 1) elem.style.display = \"block\"\n",
       "        \n",
       "\n",
       "        var elem = document.getElementById(\"bar_id_59\")\n",
       "        var part = 16\n",
       "        elem.style.gridColumn = \"1/\" + part\n",
       "        if (part > 1) elem.style.display = \"block\"\n",
       "        \n",
       "\n",
       "        var elem = document.getElementById(\"bar_id_60\")\n",
       "        var part = 17\n",
       "        elem.style.gridColumn = \"1/\" + part\n",
       "        if (part > 1) elem.style.display = \"block\"\n",
       "        \n",
       "\n",
       "        var elem = document.getElementById(\"bar_id_61\")\n",
       "        var part = 16\n",
       "        elem.style.gridColumn = \"1/\" + part\n",
       "        if (part > 1) elem.style.display = \"block\"\n",
       "        \n",
       "\n",
       "        var elem = document.getElementById(\"bar_id_62\")\n",
       "        var part = 22\n",
       "        elem.style.gridColumn = \"1/\" + part\n",
       "        if (part > 1) elem.style.display = \"block\"\n",
       "        \n",
       "\n",
       "        var elem = document.getElementById(\"bar_id_63\")\n",
       "        var part = 21\n",
       "        elem.style.gridColumn = \"1/\" + part\n",
       "        if (part > 1) elem.style.display = \"block\"\n",
       "        \n",
       "\n",
       "        var elem = document.getElementById(\"bar_id_64\")\n",
       "        var part = 21\n",
       "        elem.style.gridColumn = \"1/\" + part\n",
       "        if (part > 1) elem.style.display = \"block\"\n",
       "        \n",
       "\n",
       "        var elem = document.getElementById(\"bar_id_65\")\n",
       "        var part = 22\n",
       "        elem.style.gridColumn = \"1/\" + part\n",
       "        if (part > 1) elem.style.display = \"block\"\n",
       "        \n",
       "\n",
       "        var elem = document.getElementById(\"bar_id_66\")\n",
       "        var part = 22\n",
       "        elem.style.gridColumn = \"1/\" + part\n",
       "        if (part > 1) elem.style.display = \"block\"\n",
       "        \n",
       "\n",
       "        var elem = document.getElementById(\"bar_id_67\")\n",
       "        var part = 18\n",
       "        elem.style.gridColumn = \"1/\" + part\n",
       "        if (part > 1) elem.style.display = \"block\"\n",
       "        \n",
       "\n",
       "        var elem = document.getElementById(\"bar_id_68\")\n",
       "        var part = 22\n",
       "        elem.style.gridColumn = \"1/\" + part\n",
       "        if (part > 1) elem.style.display = \"block\"\n",
       "        \n",
       "\n",
       "        var elem = document.getElementById(\"bar_id_69\")\n",
       "        var part = 22\n",
       "        elem.style.gridColumn = \"1/\" + part\n",
       "        if (part > 1) elem.style.display = \"block\"\n",
       "        \n",
       "\n",
       "        var elem = document.getElementById(\"bar_id_70\")\n",
       "        var part = 21\n",
       "        elem.style.gridColumn = \"1/\" + part\n",
       "        if (part > 1) elem.style.display = \"block\"\n",
       "        \n",
       "\n",
       "        var elem = document.getElementById(\"bar_id_71\")\n",
       "        var part = 15\n",
       "        elem.style.gridColumn = \"1/\" + part\n",
       "        if (part > 1) elem.style.display = \"block\"\n",
       "        \n",
       "\n",
       "        var elem = document.getElementById(\"bar_id_72\")\n",
       "        var part = 17\n",
       "        elem.style.gridColumn = \"1/\" + part\n",
       "        if (part > 1) elem.style.display = \"block\"\n",
       "        \n",
       "\n",
       "        var elem = document.getElementById(\"bar_id_73\")\n",
       "        var part = 19\n",
       "        elem.style.gridColumn = \"1/\" + part\n",
       "        if (part > 1) elem.style.display = \"block\"\n",
       "        \n",
       "\n",
       "        var elem = document.getElementById(\"bar_id_74\")\n",
       "        var part = 19\n",
       "        elem.style.gridColumn = \"1/\" + part\n",
       "        if (part > 1) elem.style.display = \"block\"\n",
       "        \n",
       "\n",
       "        var elem = document.getElementById(\"bar_id_75\")\n",
       "        var part = 17\n",
       "        elem.style.gridColumn = \"1/\" + part\n",
       "        if (part > 1) elem.style.display = \"block\"\n",
       "        \n",
       "\n",
       "        var elem = document.getElementById(\"bar_id_76\")\n",
       "        var part = 18\n",
       "        elem.style.gridColumn = \"1/\" + part\n",
       "        if (part > 1) elem.style.display = \"block\"\n",
       "        \n",
       "\n",
       "        var elem = document.getElementById(\"bar_id_77\")\n",
       "        var part = 16\n",
       "        elem.style.gridColumn = \"1/\" + part\n",
       "        if (part > 1) elem.style.display = \"block\"\n",
       "        \n",
       "\n",
       "        var elem = document.getElementById(\"bar_id_78\")\n",
       "        var part = 22\n",
       "        elem.style.gridColumn = \"1/\" + part\n",
       "        if (part > 1) elem.style.display = \"block\"\n",
       "        \n",
       "\n",
       "        var elem = document.getElementById(\"bar_id_79\")\n",
       "        var part = 19\n",
       "        elem.style.gridColumn = \"1/\" + part\n",
       "        if (part > 1) elem.style.display = \"block\"\n",
       "        \n",
       "\n",
       "        var elem = document.getElementById(\"bar_id_80\")\n",
       "        var part = 18\n",
       "        elem.style.gridColumn = \"1/\" + part\n",
       "        if (part > 1) elem.style.display = \"block\"\n",
       "        \n",
       "\n",
       "        var elem = document.getElementById(\"bar_id_81\")\n",
       "        var part = 22\n",
       "        elem.style.gridColumn = \"1/\" + part\n",
       "        if (part > 1) elem.style.display = \"block\"\n",
       "        \n",
       "\n",
       "        var elem = document.getElementById(\"bar_id_82\")\n",
       "        var part = 23\n",
       "        elem.style.gridColumn = \"1/\" + part\n",
       "        if (part > 1) elem.style.display = \"block\"\n",
       "        \n",
       "\n",
       "        var elem = document.getElementById(\"bar_id_83\")\n",
       "        var part = 18\n",
       "        elem.style.gridColumn = \"1/\" + part\n",
       "        if (part > 1) elem.style.display = \"block\"\n",
       "        \n",
       "\n",
       "        var elem = document.getElementById(\"bar_id_84\")\n",
       "        var part = 16\n",
       "        elem.style.gridColumn = \"1/\" + part\n",
       "        if (part > 1) elem.style.display = \"block\"\n",
       "        \n",
       "\n",
       "        var elem = document.getElementById(\"bar_id_85\")\n",
       "        var part = 20\n",
       "        elem.style.gridColumn = \"1/\" + part\n",
       "        if (part > 1) elem.style.display = \"block\"\n",
       "        \n",
       "\n",
       "        var elem = document.getElementById(\"bar_id_86\")\n",
       "        var part = 23\n",
       "        elem.style.gridColumn = \"1/\" + part\n",
       "        if (part > 1) elem.style.display = \"block\"\n",
       "        \n",
       "\n",
       "        var elem = document.getElementById(\"bar_id_87\")\n",
       "        var part = 24\n",
       "        elem.style.gridColumn = \"1/\" + part\n",
       "        if (part > 1) elem.style.display = \"block\"\n",
       "        \n",
       "\n",
       "        var elem = document.getElementById(\"bar_id_88\")\n",
       "        var part = 22\n",
       "        elem.style.gridColumn = \"1/\" + part\n",
       "        if (part > 1) elem.style.display = \"block\"\n",
       "        \n",
       "\n",
       "        var elem = document.getElementById(\"bar_id_89\")\n",
       "        var part = 23\n",
       "        elem.style.gridColumn = \"1/\" + part\n",
       "        if (part > 1) elem.style.display = \"block\"\n",
       "        \n",
       "\n",
       "        var elem = document.getElementById(\"bar_id_90\")\n",
       "        var part = 16\n",
       "        elem.style.gridColumn = \"1/\" + part\n",
       "        if (part > 1) elem.style.display = \"block\"\n",
       "        \n",
       "\n",
       "        var elem = document.getElementById(\"bar_id_91\")\n",
       "        var part = 17\n",
       "        elem.style.gridColumn = \"1/\" + part\n",
       "        if (part > 1) elem.style.display = \"block\"\n",
       "        \n",
       "\n",
       "        var elem = document.getElementById(\"bar_id_92\")\n",
       "        var part = 20\n",
       "        elem.style.gridColumn = \"1/\" + part\n",
       "        if (part > 1) elem.style.display = \"block\"\n",
       "        \n",
       "\n",
       "        var elem = document.getElementById(\"bar_id_93\")\n",
       "        var part = 21\n",
       "        elem.style.gridColumn = \"1/\" + part\n",
       "        if (part > 1) elem.style.display = \"block\"\n",
       "        \n",
       "\n",
       "        var elem = document.getElementById(\"bar_id_94\")\n",
       "        var part = 22\n",
       "        elem.style.gridColumn = \"1/\" + part\n",
       "        if (part > 1) elem.style.display = \"block\"\n",
       "        \n",
       "\n",
       "        var elem = document.getElementById(\"bar_id_95\")\n",
       "        var part = 19\n",
       "        elem.style.gridColumn = \"1/\" + part\n",
       "        if (part > 1) elem.style.display = \"block\"\n",
       "        \n",
       "\n",
       "        var elem = document.getElementById(\"bar_id_96\")\n",
       "        var part = 16\n",
       "        elem.style.gridColumn = \"1/\" + part\n",
       "        if (part > 1) elem.style.display = \"block\"\n",
       "        \n",
       "\n",
       "        var elem = document.getElementById(\"bar_id_97\")\n",
       "        var part = 17\n",
       "        elem.style.gridColumn = \"1/\" + part\n",
       "        if (part > 1) elem.style.display = \"block\"\n",
       "        \n",
       "\n",
       "        var elem = document.getElementById(\"bar_id_98\")\n",
       "        var part = 17\n",
       "        elem.style.gridColumn = \"1/\" + part\n",
       "        if (part > 1) elem.style.display = \"block\"\n",
       "        \n",
       "\n",
       "        var elem = document.getElementById(\"bar_id_99\")\n",
       "        var part = 23\n",
       "        elem.style.gridColumn = \"1/\" + part\n",
       "        if (part > 1) elem.style.display = \"block\"\n",
       "        "
      ],
      "text/plain": [
       "<IPython.core.display.Javascript object>"
      ]
     },
     "metadata": {},
     "output_type": "display_data"
    },
    {
     "data": {
      "application/javascript": [
       "\n",
       "\n",
       "        var elem = document.getElementById(\"stage1-bar\")\n",
       "        var part = 99\n",
       "        if (part){\n",
       "            elem.style.gridColumn = \"1/\" + (part+1)\n",
       "            elem.style.display = \"block\"\n",
       "        } else\n",
       "            elem.style.display = \"none\"\n",
       "        elem = document.getElementById(\"stage1-text\")\n",
       "        elem.innerHTML = part + \"/100 (\" + (part / 100 * 100).toFixed(2) + \"%)\"\n",
       "        \n",
       "\n",
       "        var elem = document.getElementById(\"stage2-bar\")\n",
       "        var part = 1\n",
       "        if (part){\n",
       "            elem.style.gridColumn = \"1/\" + (part+1)\n",
       "            elem.style.display = \"block\"\n",
       "        } else\n",
       "            elem.style.display = \"none\"\n",
       "        elem = document.getElementById(\"stage2-text\")\n",
       "        elem.innerHTML = part + \"/100 (\" + (part / 100 * 100).toFixed(2) + \"%)\"\n",
       "        "
      ],
      "text/plain": [
       "<IPython.core.display.Javascript object>"
      ]
     },
     "metadata": {},
     "output_type": "display_data"
    },
    {
     "data": {
      "application/javascript": [
       "\n",
       "\n",
       "        var elem = document.getElementById(\"stage1-bar\")\n",
       "        var part = 98\n",
       "        if (part){\n",
       "            elem.style.gridColumn = \"1/\" + (part+1)\n",
       "            elem.style.display = \"block\"\n",
       "        } else\n",
       "            elem.style.display = \"none\"\n",
       "        elem = document.getElementById(\"stage1-text\")\n",
       "        elem.innerHTML = part + \"/100 (\" + (part / 100 * 100).toFixed(2) + \"%)\"\n",
       "        \n",
       "\n",
       "        var elem = document.getElementById(\"stage2-bar\")\n",
       "        var part = 2\n",
       "        if (part){\n",
       "            elem.style.gridColumn = \"1/\" + (part+1)\n",
       "            elem.style.display = \"block\"\n",
       "        } else\n",
       "            elem.style.display = \"none\"\n",
       "        elem = document.getElementById(\"stage2-text\")\n",
       "        elem.innerHTML = part + \"/100 (\" + (part / 100 * 100).toFixed(2) + \"%)\"\n",
       "        "
      ],
      "text/plain": [
       "<IPython.core.display.Javascript object>"
      ]
     },
     "metadata": {},
     "output_type": "display_data"
    },
    {
     "data": {
      "application/javascript": [
       "\n",
       "\n",
       "        var elem = document.getElementById(\"stage1-bar\")\n",
       "        var part = 97\n",
       "        if (part){\n",
       "            elem.style.gridColumn = \"1/\" + (part+1)\n",
       "            elem.style.display = \"block\"\n",
       "        } else\n",
       "            elem.style.display = \"none\"\n",
       "        elem = document.getElementById(\"stage1-text\")\n",
       "        elem.innerHTML = part + \"/100 (\" + (part / 100 * 100).toFixed(2) + \"%)\"\n",
       "        \n",
       "\n",
       "        var elem = document.getElementById(\"stage2-bar\")\n",
       "        var part = 3\n",
       "        if (part){\n",
       "            elem.style.gridColumn = \"1/\" + (part+1)\n",
       "            elem.style.display = \"block\"\n",
       "        } else\n",
       "            elem.style.display = \"none\"\n",
       "        elem = document.getElementById(\"stage2-text\")\n",
       "        elem.innerHTML = part + \"/100 (\" + (part / 100 * 100).toFixed(2) + \"%)\"\n",
       "        "
      ],
      "text/plain": [
       "<IPython.core.display.Javascript object>"
      ]
     },
     "metadata": {},
     "output_type": "display_data"
    },
    {
     "data": {
      "application/javascript": [
       "\n",
       "\n",
       "        var elem = document.getElementById(\"stage1-bar\")\n",
       "        var part = 96\n",
       "        if (part){\n",
       "            elem.style.gridColumn = \"1/\" + (part+1)\n",
       "            elem.style.display = \"block\"\n",
       "        } else\n",
       "            elem.style.display = \"none\"\n",
       "        elem = document.getElementById(\"stage1-text\")\n",
       "        elem.innerHTML = part + \"/100 (\" + (part / 100 * 100).toFixed(2) + \"%)\"\n",
       "        \n",
       "\n",
       "        var elem = document.getElementById(\"stage2-bar\")\n",
       "        var part = 4\n",
       "        if (part){\n",
       "            elem.style.gridColumn = \"1/\" + (part+1)\n",
       "            elem.style.display = \"block\"\n",
       "        } else\n",
       "            elem.style.display = \"none\"\n",
       "        elem = document.getElementById(\"stage2-text\")\n",
       "        elem.innerHTML = part + \"/100 (\" + (part / 100 * 100).toFixed(2) + \"%)\"\n",
       "        "
      ],
      "text/plain": [
       "<IPython.core.display.Javascript object>"
      ]
     },
     "metadata": {},
     "output_type": "display_data"
    },
    {
     "data": {
      "application/javascript": [
       "\n",
       "\n",
       "        var elem = document.getElementById(\"stage1-bar\")\n",
       "        var part = 95\n",
       "        if (part){\n",
       "            elem.style.gridColumn = \"1/\" + (part+1)\n",
       "            elem.style.display = \"block\"\n",
       "        } else\n",
       "            elem.style.display = \"none\"\n",
       "        elem = document.getElementById(\"stage1-text\")\n",
       "        elem.innerHTML = part + \"/100 (\" + (part / 100 * 100).toFixed(2) + \"%)\"\n",
       "        \n",
       "\n",
       "        var elem = document.getElementById(\"stage2-bar\")\n",
       "        var part = 5\n",
       "        if (part){\n",
       "            elem.style.gridColumn = \"1/\" + (part+1)\n",
       "            elem.style.display = \"block\"\n",
       "        } else\n",
       "            elem.style.display = \"none\"\n",
       "        elem = document.getElementById(\"stage2-text\")\n",
       "        elem.innerHTML = part + \"/100 (\" + (part / 100 * 100).toFixed(2) + \"%)\"\n",
       "        "
      ],
      "text/plain": [
       "<IPython.core.display.Javascript object>"
      ]
     },
     "metadata": {},
     "output_type": "display_data"
    },
    {
     "data": {
      "application/javascript": [
       "\n",
       "\n",
       "        var elem = document.getElementById(\"stage1-bar\")\n",
       "        var part = 94\n",
       "        if (part){\n",
       "            elem.style.gridColumn = \"1/\" + (part+1)\n",
       "            elem.style.display = \"block\"\n",
       "        } else\n",
       "            elem.style.display = \"none\"\n",
       "        elem = document.getElementById(\"stage1-text\")\n",
       "        elem.innerHTML = part + \"/100 (\" + (part / 100 * 100).toFixed(2) + \"%)\"\n",
       "        \n",
       "\n",
       "        var elem = document.getElementById(\"stage2-bar\")\n",
       "        var part = 6\n",
       "        if (part){\n",
       "            elem.style.gridColumn = \"1/\" + (part+1)\n",
       "            elem.style.display = \"block\"\n",
       "        } else\n",
       "            elem.style.display = \"none\"\n",
       "        elem = document.getElementById(\"stage2-text\")\n",
       "        elem.innerHTML = part + \"/100 (\" + (part / 100 * 100).toFixed(2) + \"%)\"\n",
       "        "
      ],
      "text/plain": [
       "<IPython.core.display.Javascript object>"
      ]
     },
     "metadata": {},
     "output_type": "display_data"
    },
    {
     "data": {
      "application/javascript": [
       "\n",
       "\n",
       "        var elem = document.getElementById(\"stage1-bar\")\n",
       "        var part = 93\n",
       "        if (part){\n",
       "            elem.style.gridColumn = \"1/\" + (part+1)\n",
       "            elem.style.display = \"block\"\n",
       "        } else\n",
       "            elem.style.display = \"none\"\n",
       "        elem = document.getElementById(\"stage1-text\")\n",
       "        elem.innerHTML = part + \"/100 (\" + (part / 100 * 100).toFixed(2) + \"%)\"\n",
       "        \n",
       "\n",
       "        var elem = document.getElementById(\"stage2-bar\")\n",
       "        var part = 7\n",
       "        if (part){\n",
       "            elem.style.gridColumn = \"1/\" + (part+1)\n",
       "            elem.style.display = \"block\"\n",
       "        } else\n",
       "            elem.style.display = \"none\"\n",
       "        elem = document.getElementById(\"stage2-text\")\n",
       "        elem.innerHTML = part + \"/100 (\" + (part / 100 * 100).toFixed(2) + \"%)\"\n",
       "        "
      ],
      "text/plain": [
       "<IPython.core.display.Javascript object>"
      ]
     },
     "metadata": {},
     "output_type": "display_data"
    },
    {
     "data": {
      "application/javascript": [
       "\n",
       "\n",
       "        var elem = document.getElementById(\"stage1-bar\")\n",
       "        var part = 92\n",
       "        if (part){\n",
       "            elem.style.gridColumn = \"1/\" + (part+1)\n",
       "            elem.style.display = \"block\"\n",
       "        } else\n",
       "            elem.style.display = \"none\"\n",
       "        elem = document.getElementById(\"stage1-text\")\n",
       "        elem.innerHTML = part + \"/100 (\" + (part / 100 * 100).toFixed(2) + \"%)\"\n",
       "        \n",
       "\n",
       "        var elem = document.getElementById(\"stage2-bar\")\n",
       "        var part = 8\n",
       "        if (part){\n",
       "            elem.style.gridColumn = \"1/\" + (part+1)\n",
       "            elem.style.display = \"block\"\n",
       "        } else\n",
       "            elem.style.display = \"none\"\n",
       "        elem = document.getElementById(\"stage2-text\")\n",
       "        elem.innerHTML = part + \"/100 (\" + (part / 100 * 100).toFixed(2) + \"%)\"\n",
       "        "
      ],
      "text/plain": [
       "<IPython.core.display.Javascript object>"
      ]
     },
     "metadata": {},
     "output_type": "display_data"
    },
    {
     "data": {
      "application/javascript": [
       "\n",
       "\n",
       "        var elem = document.getElementById(\"stage1-bar\")\n",
       "        var part = 91\n",
       "        if (part){\n",
       "            elem.style.gridColumn = \"1/\" + (part+1)\n",
       "            elem.style.display = \"block\"\n",
       "        } else\n",
       "            elem.style.display = \"none\"\n",
       "        elem = document.getElementById(\"stage1-text\")\n",
       "        elem.innerHTML = part + \"/100 (\" + (part / 100 * 100).toFixed(2) + \"%)\"\n",
       "        \n",
       "\n",
       "        var elem = document.getElementById(\"stage2-bar\")\n",
       "        var part = 9\n",
       "        if (part){\n",
       "            elem.style.gridColumn = \"1/\" + (part+1)\n",
       "            elem.style.display = \"block\"\n",
       "        } else\n",
       "            elem.style.display = \"none\"\n",
       "        elem = document.getElementById(\"stage2-text\")\n",
       "        elem.innerHTML = part + \"/100 (\" + (part / 100 * 100).toFixed(2) + \"%)\"\n",
       "        "
      ],
      "text/plain": [
       "<IPython.core.display.Javascript object>"
      ]
     },
     "metadata": {},
     "output_type": "display_data"
    },
    {
     "data": {
      "application/javascript": [
       "\n",
       "\n",
       "        var elem = document.getElementById(\"stage1-bar\")\n",
       "        var part = 90\n",
       "        if (part){\n",
       "            elem.style.gridColumn = \"1/\" + (part+1)\n",
       "            elem.style.display = \"block\"\n",
       "        } else\n",
       "            elem.style.display = \"none\"\n",
       "        elem = document.getElementById(\"stage1-text\")\n",
       "        elem.innerHTML = part + \"/100 (\" + (part / 100 * 100).toFixed(2) + \"%)\"\n",
       "        \n",
       "\n",
       "        var elem = document.getElementById(\"stage2-bar\")\n",
       "        var part = 10\n",
       "        if (part){\n",
       "            elem.style.gridColumn = \"1/\" + (part+1)\n",
       "            elem.style.display = \"block\"\n",
       "        } else\n",
       "            elem.style.display = \"none\"\n",
       "        elem = document.getElementById(\"stage2-text\")\n",
       "        elem.innerHTML = part + \"/100 (\" + (part / 100 * 100).toFixed(2) + \"%)\"\n",
       "        "
      ],
      "text/plain": [
       "<IPython.core.display.Javascript object>"
      ]
     },
     "metadata": {},
     "output_type": "display_data"
    },
    {
     "data": {
      "application/javascript": [
       "\n",
       "\n",
       "        var elem = document.getElementById(\"stage1-bar\")\n",
       "        var part = 89\n",
       "        if (part){\n",
       "            elem.style.gridColumn = \"1/\" + (part+1)\n",
       "            elem.style.display = \"block\"\n",
       "        } else\n",
       "            elem.style.display = \"none\"\n",
       "        elem = document.getElementById(\"stage1-text\")\n",
       "        elem.innerHTML = part + \"/100 (\" + (part / 100 * 100).toFixed(2) + \"%)\"\n",
       "        \n",
       "\n",
       "        var elem = document.getElementById(\"stage2-bar\")\n",
       "        var part = 11\n",
       "        if (part){\n",
       "            elem.style.gridColumn = \"1/\" + (part+1)\n",
       "            elem.style.display = \"block\"\n",
       "        } else\n",
       "            elem.style.display = \"none\"\n",
       "        elem = document.getElementById(\"stage2-text\")\n",
       "        elem.innerHTML = part + \"/100 (\" + (part / 100 * 100).toFixed(2) + \"%)\"\n",
       "        "
      ],
      "text/plain": [
       "<IPython.core.display.Javascript object>"
      ]
     },
     "metadata": {},
     "output_type": "display_data"
    },
    {
     "data": {
      "application/javascript": [
       "\n",
       "\n",
       "        var elem = document.getElementById(\"stage1-bar\")\n",
       "        var part = 88\n",
       "        if (part){\n",
       "            elem.style.gridColumn = \"1/\" + (part+1)\n",
       "            elem.style.display = \"block\"\n",
       "        } else\n",
       "            elem.style.display = \"none\"\n",
       "        elem = document.getElementById(\"stage1-text\")\n",
       "        elem.innerHTML = part + \"/100 (\" + (part / 100 * 100).toFixed(2) + \"%)\"\n",
       "        \n",
       "\n",
       "        var elem = document.getElementById(\"stage2-bar\")\n",
       "        var part = 12\n",
       "        if (part){\n",
       "            elem.style.gridColumn = \"1/\" + (part+1)\n",
       "            elem.style.display = \"block\"\n",
       "        } else\n",
       "            elem.style.display = \"none\"\n",
       "        elem = document.getElementById(\"stage2-text\")\n",
       "        elem.innerHTML = part + \"/100 (\" + (part / 100 * 100).toFixed(2) + \"%)\"\n",
       "        "
      ],
      "text/plain": [
       "<IPython.core.display.Javascript object>"
      ]
     },
     "metadata": {},
     "output_type": "display_data"
    },
    {
     "data": {
      "application/javascript": [
       "\n",
       "\n",
       "        var elem = document.getElementById(\"stage1-bar\")\n",
       "        var part = 87\n",
       "        if (part){\n",
       "            elem.style.gridColumn = \"1/\" + (part+1)\n",
       "            elem.style.display = \"block\"\n",
       "        } else\n",
       "            elem.style.display = \"none\"\n",
       "        elem = document.getElementById(\"stage1-text\")\n",
       "        elem.innerHTML = part + \"/100 (\" + (part / 100 * 100).toFixed(2) + \"%)\"\n",
       "        \n",
       "\n",
       "        var elem = document.getElementById(\"stage2-bar\")\n",
       "        var part = 13\n",
       "        if (part){\n",
       "            elem.style.gridColumn = \"1/\" + (part+1)\n",
       "            elem.style.display = \"block\"\n",
       "        } else\n",
       "            elem.style.display = \"none\"\n",
       "        elem = document.getElementById(\"stage2-text\")\n",
       "        elem.innerHTML = part + \"/100 (\" + (part / 100 * 100).toFixed(2) + \"%)\"\n",
       "        "
      ],
      "text/plain": [
       "<IPython.core.display.Javascript object>"
      ]
     },
     "metadata": {},
     "output_type": "display_data"
    },
    {
     "data": {
      "application/javascript": [
       "\n",
       "\n",
       "        var elem = document.getElementById(\"stage1-bar\")\n",
       "        var part = 86\n",
       "        if (part){\n",
       "            elem.style.gridColumn = \"1/\" + (part+1)\n",
       "            elem.style.display = \"block\"\n",
       "        } else\n",
       "            elem.style.display = \"none\"\n",
       "        elem = document.getElementById(\"stage1-text\")\n",
       "        elem.innerHTML = part + \"/100 (\" + (part / 100 * 100).toFixed(2) + \"%)\"\n",
       "        \n",
       "\n",
       "        var elem = document.getElementById(\"stage2-bar\")\n",
       "        var part = 14\n",
       "        if (part){\n",
       "            elem.style.gridColumn = \"1/\" + (part+1)\n",
       "            elem.style.display = \"block\"\n",
       "        } else\n",
       "            elem.style.display = \"none\"\n",
       "        elem = document.getElementById(\"stage2-text\")\n",
       "        elem.innerHTML = part + \"/100 (\" + (part / 100 * 100).toFixed(2) + \"%)\"\n",
       "        "
      ],
      "text/plain": [
       "<IPython.core.display.Javascript object>"
      ]
     },
     "metadata": {},
     "output_type": "display_data"
    },
    {
     "data": {
      "application/javascript": [
       "\n",
       "\n",
       "        var elem = document.getElementById(\"stage1-bar\")\n",
       "        var part = 85\n",
       "        if (part){\n",
       "            elem.style.gridColumn = \"1/\" + (part+1)\n",
       "            elem.style.display = \"block\"\n",
       "        } else\n",
       "            elem.style.display = \"none\"\n",
       "        elem = document.getElementById(\"stage1-text\")\n",
       "        elem.innerHTML = part + \"/100 (\" + (part / 100 * 100).toFixed(2) + \"%)\"\n",
       "        \n",
       "\n",
       "        var elem = document.getElementById(\"stage2-bar\")\n",
       "        var part = 15\n",
       "        if (part){\n",
       "            elem.style.gridColumn = \"1/\" + (part+1)\n",
       "            elem.style.display = \"block\"\n",
       "        } else\n",
       "            elem.style.display = \"none\"\n",
       "        elem = document.getElementById(\"stage2-text\")\n",
       "        elem.innerHTML = part + \"/100 (\" + (part / 100 * 100).toFixed(2) + \"%)\"\n",
       "        "
      ],
      "text/plain": [
       "<IPython.core.display.Javascript object>"
      ]
     },
     "metadata": {},
     "output_type": "display_data"
    },
    {
     "data": {
      "application/javascript": [
       "\n",
       "\n",
       "        var elem = document.getElementById(\"stage1-bar\")\n",
       "        var part = 84\n",
       "        if (part){\n",
       "            elem.style.gridColumn = \"1/\" + (part+1)\n",
       "            elem.style.display = \"block\"\n",
       "        } else\n",
       "            elem.style.display = \"none\"\n",
       "        elem = document.getElementById(\"stage1-text\")\n",
       "        elem.innerHTML = part + \"/100 (\" + (part / 100 * 100).toFixed(2) + \"%)\"\n",
       "        \n",
       "\n",
       "        var elem = document.getElementById(\"stage2-bar\")\n",
       "        var part = 16\n",
       "        if (part){\n",
       "            elem.style.gridColumn = \"1/\" + (part+1)\n",
       "            elem.style.display = \"block\"\n",
       "        } else\n",
       "            elem.style.display = \"none\"\n",
       "        elem = document.getElementById(\"stage2-text\")\n",
       "        elem.innerHTML = part + \"/100 (\" + (part / 100 * 100).toFixed(2) + \"%)\"\n",
       "        "
      ],
      "text/plain": [
       "<IPython.core.display.Javascript object>"
      ]
     },
     "metadata": {},
     "output_type": "display_data"
    },
    {
     "data": {
      "application/javascript": [
       "\n",
       "\n",
       "        var elem = document.getElementById(\"stage1-bar\")\n",
       "        var part = 83\n",
       "        if (part){\n",
       "            elem.style.gridColumn = \"1/\" + (part+1)\n",
       "            elem.style.display = \"block\"\n",
       "        } else\n",
       "            elem.style.display = \"none\"\n",
       "        elem = document.getElementById(\"stage1-text\")\n",
       "        elem.innerHTML = part + \"/100 (\" + (part / 100 * 100).toFixed(2) + \"%)\"\n",
       "        \n",
       "\n",
       "        var elem = document.getElementById(\"stage2-bar\")\n",
       "        var part = 17\n",
       "        if (part){\n",
       "            elem.style.gridColumn = \"1/\" + (part+1)\n",
       "            elem.style.display = \"block\"\n",
       "        } else\n",
       "            elem.style.display = \"none\"\n",
       "        elem = document.getElementById(\"stage2-text\")\n",
       "        elem.innerHTML = part + \"/100 (\" + (part / 100 * 100).toFixed(2) + \"%)\"\n",
       "        "
      ],
      "text/plain": [
       "<IPython.core.display.Javascript object>"
      ]
     },
     "metadata": {},
     "output_type": "display_data"
    },
    {
     "data": {
      "application/javascript": [
       "\n",
       "\n",
       "        var elem = document.getElementById(\"stage1-bar\")\n",
       "        var part = 82\n",
       "        if (part){\n",
       "            elem.style.gridColumn = \"1/\" + (part+1)\n",
       "            elem.style.display = \"block\"\n",
       "        } else\n",
       "            elem.style.display = \"none\"\n",
       "        elem = document.getElementById(\"stage1-text\")\n",
       "        elem.innerHTML = part + \"/100 (\" + (part / 100 * 100).toFixed(2) + \"%)\"\n",
       "        \n",
       "\n",
       "        var elem = document.getElementById(\"stage2-bar\")\n",
       "        var part = 18\n",
       "        if (part){\n",
       "            elem.style.gridColumn = \"1/\" + (part+1)\n",
       "            elem.style.display = \"block\"\n",
       "        } else\n",
       "            elem.style.display = \"none\"\n",
       "        elem = document.getElementById(\"stage2-text\")\n",
       "        elem.innerHTML = part + \"/100 (\" + (part / 100 * 100).toFixed(2) + \"%)\"\n",
       "        "
      ],
      "text/plain": [
       "<IPython.core.display.Javascript object>"
      ]
     },
     "metadata": {},
     "output_type": "display_data"
    },
    {
     "data": {
      "application/javascript": [
       "\n",
       "\n",
       "        var elem = document.getElementById(\"stage1-bar\")\n",
       "        var part = 81\n",
       "        if (part){\n",
       "            elem.style.gridColumn = \"1/\" + (part+1)\n",
       "            elem.style.display = \"block\"\n",
       "        } else\n",
       "            elem.style.display = \"none\"\n",
       "        elem = document.getElementById(\"stage1-text\")\n",
       "        elem.innerHTML = part + \"/100 (\" + (part / 100 * 100).toFixed(2) + \"%)\"\n",
       "        \n",
       "\n",
       "        var elem = document.getElementById(\"stage2-bar\")\n",
       "        var part = 19\n",
       "        if (part){\n",
       "            elem.style.gridColumn = \"1/\" + (part+1)\n",
       "            elem.style.display = \"block\"\n",
       "        } else\n",
       "            elem.style.display = \"none\"\n",
       "        elem = document.getElementById(\"stage2-text\")\n",
       "        elem.innerHTML = part + \"/100 (\" + (part / 100 * 100).toFixed(2) + \"%)\"\n",
       "        "
      ],
      "text/plain": [
       "<IPython.core.display.Javascript object>"
      ]
     },
     "metadata": {},
     "output_type": "display_data"
    },
    {
     "data": {
      "application/javascript": [
       "\n",
       "\n",
       "        var elem = document.getElementById(\"stage1-bar\")\n",
       "        var part = 80\n",
       "        if (part){\n",
       "            elem.style.gridColumn = \"1/\" + (part+1)\n",
       "            elem.style.display = \"block\"\n",
       "        } else\n",
       "            elem.style.display = \"none\"\n",
       "        elem = document.getElementById(\"stage1-text\")\n",
       "        elem.innerHTML = part + \"/100 (\" + (part / 100 * 100).toFixed(2) + \"%)\"\n",
       "        \n",
       "\n",
       "        var elem = document.getElementById(\"stage2-bar\")\n",
       "        var part = 20\n",
       "        if (part){\n",
       "            elem.style.gridColumn = \"1/\" + (part+1)\n",
       "            elem.style.display = \"block\"\n",
       "        } else\n",
       "            elem.style.display = \"none\"\n",
       "        elem = document.getElementById(\"stage2-text\")\n",
       "        elem.innerHTML = part + \"/100 (\" + (part / 100 * 100).toFixed(2) + \"%)\"\n",
       "        "
      ],
      "text/plain": [
       "<IPython.core.display.Javascript object>"
      ]
     },
     "metadata": {},
     "output_type": "display_data"
    },
    {
     "data": {
      "application/javascript": [
       "\n",
       "\n",
       "        var elem = document.getElementById(\"stage1-bar\")\n",
       "        var part = 79\n",
       "        if (part){\n",
       "            elem.style.gridColumn = \"1/\" + (part+1)\n",
       "            elem.style.display = \"block\"\n",
       "        } else\n",
       "            elem.style.display = \"none\"\n",
       "        elem = document.getElementById(\"stage1-text\")\n",
       "        elem.innerHTML = part + \"/100 (\" + (part / 100 * 100).toFixed(2) + \"%)\"\n",
       "        \n",
       "\n",
       "        var elem = document.getElementById(\"stage2-bar\")\n",
       "        var part = 21\n",
       "        if (part){\n",
       "            elem.style.gridColumn = \"1/\" + (part+1)\n",
       "            elem.style.display = \"block\"\n",
       "        } else\n",
       "            elem.style.display = \"none\"\n",
       "        elem = document.getElementById(\"stage2-text\")\n",
       "        elem.innerHTML = part + \"/100 (\" + (part / 100 * 100).toFixed(2) + \"%)\"\n",
       "        "
      ],
      "text/plain": [
       "<IPython.core.display.Javascript object>"
      ]
     },
     "metadata": {},
     "output_type": "display_data"
    },
    {
     "data": {
      "application/javascript": [
       "\n",
       "\n",
       "        var elem = document.getElementById(\"stage1-bar\")\n",
       "        var part = 78\n",
       "        if (part){\n",
       "            elem.style.gridColumn = \"1/\" + (part+1)\n",
       "            elem.style.display = \"block\"\n",
       "        } else\n",
       "            elem.style.display = \"none\"\n",
       "        elem = document.getElementById(\"stage1-text\")\n",
       "        elem.innerHTML = part + \"/100 (\" + (part / 100 * 100).toFixed(2) + \"%)\"\n",
       "        \n",
       "\n",
       "        var elem = document.getElementById(\"stage2-bar\")\n",
       "        var part = 22\n",
       "        if (part){\n",
       "            elem.style.gridColumn = \"1/\" + (part+1)\n",
       "            elem.style.display = \"block\"\n",
       "        } else\n",
       "            elem.style.display = \"none\"\n",
       "        elem = document.getElementById(\"stage2-text\")\n",
       "        elem.innerHTML = part + \"/100 (\" + (part / 100 * 100).toFixed(2) + \"%)\"\n",
       "        "
      ],
      "text/plain": [
       "<IPython.core.display.Javascript object>"
      ]
     },
     "metadata": {},
     "output_type": "display_data"
    },
    {
     "data": {
      "application/javascript": [
       "\n",
       "\n",
       "        var elem = document.getElementById(\"stage1-bar\")\n",
       "        var part = 77\n",
       "        if (part){\n",
       "            elem.style.gridColumn = \"1/\" + (part+1)\n",
       "            elem.style.display = \"block\"\n",
       "        } else\n",
       "            elem.style.display = \"none\"\n",
       "        elem = document.getElementById(\"stage1-text\")\n",
       "        elem.innerHTML = part + \"/100 (\" + (part / 100 * 100).toFixed(2) + \"%)\"\n",
       "        \n",
       "\n",
       "        var elem = document.getElementById(\"stage2-bar\")\n",
       "        var part = 23\n",
       "        if (part){\n",
       "            elem.style.gridColumn = \"1/\" + (part+1)\n",
       "            elem.style.display = \"block\"\n",
       "        } else\n",
       "            elem.style.display = \"none\"\n",
       "        elem = document.getElementById(\"stage2-text\")\n",
       "        elem.innerHTML = part + \"/100 (\" + (part / 100 * 100).toFixed(2) + \"%)\"\n",
       "        "
      ],
      "text/plain": [
       "<IPython.core.display.Javascript object>"
      ]
     },
     "metadata": {},
     "output_type": "display_data"
    },
    {
     "data": {
      "application/javascript": [
       "\n",
       "\n",
       "        var elem = document.getElementById(\"stage1-bar\")\n",
       "        var part = 76\n",
       "        if (part){\n",
       "            elem.style.gridColumn = \"1/\" + (part+1)\n",
       "            elem.style.display = \"block\"\n",
       "        } else\n",
       "            elem.style.display = \"none\"\n",
       "        elem = document.getElementById(\"stage1-text\")\n",
       "        elem.innerHTML = part + \"/100 (\" + (part / 100 * 100).toFixed(2) + \"%)\"\n",
       "        \n",
       "\n",
       "        var elem = document.getElementById(\"stage2-bar\")\n",
       "        var part = 24\n",
       "        if (part){\n",
       "            elem.style.gridColumn = \"1/\" + (part+1)\n",
       "            elem.style.display = \"block\"\n",
       "        } else\n",
       "            elem.style.display = \"none\"\n",
       "        elem = document.getElementById(\"stage2-text\")\n",
       "        elem.innerHTML = part + \"/100 (\" + (part / 100 * 100).toFixed(2) + \"%)\"\n",
       "        "
      ],
      "text/plain": [
       "<IPython.core.display.Javascript object>"
      ]
     },
     "metadata": {},
     "output_type": "display_data"
    },
    {
     "data": {
      "application/javascript": [
       "\n",
       "\n",
       "        var elem = document.getElementById(\"stage1-bar\")\n",
       "        var part = 75\n",
       "        if (part){\n",
       "            elem.style.gridColumn = \"1/\" + (part+1)\n",
       "            elem.style.display = \"block\"\n",
       "        } else\n",
       "            elem.style.display = \"none\"\n",
       "        elem = document.getElementById(\"stage1-text\")\n",
       "        elem.innerHTML = part + \"/100 (\" + (part / 100 * 100).toFixed(2) + \"%)\"\n",
       "        \n",
       "\n",
       "        var elem = document.getElementById(\"stage2-bar\")\n",
       "        var part = 25\n",
       "        if (part){\n",
       "            elem.style.gridColumn = \"1/\" + (part+1)\n",
       "            elem.style.display = \"block\"\n",
       "        } else\n",
       "            elem.style.display = \"none\"\n",
       "        elem = document.getElementById(\"stage2-text\")\n",
       "        elem.innerHTML = part + \"/100 (\" + (part / 100 * 100).toFixed(2) + \"%)\"\n",
       "        "
      ],
      "text/plain": [
       "<IPython.core.display.Javascript object>"
      ]
     },
     "metadata": {},
     "output_type": "display_data"
    },
    {
     "data": {
      "application/javascript": [
       "\n",
       "\n",
       "        var elem = document.getElementById(\"stage1-bar\")\n",
       "        var part = 74\n",
       "        if (part){\n",
       "            elem.style.gridColumn = \"1/\" + (part+1)\n",
       "            elem.style.display = \"block\"\n",
       "        } else\n",
       "            elem.style.display = \"none\"\n",
       "        elem = document.getElementById(\"stage1-text\")\n",
       "        elem.innerHTML = part + \"/100 (\" + (part / 100 * 100).toFixed(2) + \"%)\"\n",
       "        \n",
       "\n",
       "        var elem = document.getElementById(\"stage2-bar\")\n",
       "        var part = 26\n",
       "        if (part){\n",
       "            elem.style.gridColumn = \"1/\" + (part+1)\n",
       "            elem.style.display = \"block\"\n",
       "        } else\n",
       "            elem.style.display = \"none\"\n",
       "        elem = document.getElementById(\"stage2-text\")\n",
       "        elem.innerHTML = part + \"/100 (\" + (part / 100 * 100).toFixed(2) + \"%)\"\n",
       "        "
      ],
      "text/plain": [
       "<IPython.core.display.Javascript object>"
      ]
     },
     "metadata": {},
     "output_type": "display_data"
    },
    {
     "data": {
      "application/javascript": [
       "\n",
       "\n",
       "        var elem = document.getElementById(\"stage1-bar\")\n",
       "        var part = 73\n",
       "        if (part){\n",
       "            elem.style.gridColumn = \"1/\" + (part+1)\n",
       "            elem.style.display = \"block\"\n",
       "        } else\n",
       "            elem.style.display = \"none\"\n",
       "        elem = document.getElementById(\"stage1-text\")\n",
       "        elem.innerHTML = part + \"/100 (\" + (part / 100 * 100).toFixed(2) + \"%)\"\n",
       "        \n",
       "\n",
       "        var elem = document.getElementById(\"stage2-bar\")\n",
       "        var part = 27\n",
       "        if (part){\n",
       "            elem.style.gridColumn = \"1/\" + (part+1)\n",
       "            elem.style.display = \"block\"\n",
       "        } else\n",
       "            elem.style.display = \"none\"\n",
       "        elem = document.getElementById(\"stage2-text\")\n",
       "        elem.innerHTML = part + \"/100 (\" + (part / 100 * 100).toFixed(2) + \"%)\"\n",
       "        "
      ],
      "text/plain": [
       "<IPython.core.display.Javascript object>"
      ]
     },
     "metadata": {},
     "output_type": "display_data"
    },
    {
     "data": {
      "application/javascript": [
       "\n",
       "\n",
       "        var elem = document.getElementById(\"stage1-bar\")\n",
       "        var part = 72\n",
       "        if (part){\n",
       "            elem.style.gridColumn = \"1/\" + (part+1)\n",
       "            elem.style.display = \"block\"\n",
       "        } else\n",
       "            elem.style.display = \"none\"\n",
       "        elem = document.getElementById(\"stage1-text\")\n",
       "        elem.innerHTML = part + \"/100 (\" + (part / 100 * 100).toFixed(2) + \"%)\"\n",
       "        \n",
       "\n",
       "        var elem = document.getElementById(\"stage2-bar\")\n",
       "        var part = 28\n",
       "        if (part){\n",
       "            elem.style.gridColumn = \"1/\" + (part+1)\n",
       "            elem.style.display = \"block\"\n",
       "        } else\n",
       "            elem.style.display = \"none\"\n",
       "        elem = document.getElementById(\"stage2-text\")\n",
       "        elem.innerHTML = part + \"/100 (\" + (part / 100 * 100).toFixed(2) + \"%)\"\n",
       "        "
      ],
      "text/plain": [
       "<IPython.core.display.Javascript object>"
      ]
     },
     "metadata": {},
     "output_type": "display_data"
    },
    {
     "data": {
      "application/javascript": [
       "\n",
       "\n",
       "        var elem = document.getElementById(\"stage1-bar\")\n",
       "        var part = 71\n",
       "        if (part){\n",
       "            elem.style.gridColumn = \"1/\" + (part+1)\n",
       "            elem.style.display = \"block\"\n",
       "        } else\n",
       "            elem.style.display = \"none\"\n",
       "        elem = document.getElementById(\"stage1-text\")\n",
       "        elem.innerHTML = part + \"/100 (\" + (part / 100 * 100).toFixed(2) + \"%)\"\n",
       "        \n",
       "\n",
       "        var elem = document.getElementById(\"stage2-bar\")\n",
       "        var part = 29\n",
       "        if (part){\n",
       "            elem.style.gridColumn = \"1/\" + (part+1)\n",
       "            elem.style.display = \"block\"\n",
       "        } else\n",
       "            elem.style.display = \"none\"\n",
       "        elem = document.getElementById(\"stage2-text\")\n",
       "        elem.innerHTML = part + \"/100 (\" + (part / 100 * 100).toFixed(2) + \"%)\"\n",
       "        "
      ],
      "text/plain": [
       "<IPython.core.display.Javascript object>"
      ]
     },
     "metadata": {},
     "output_type": "display_data"
    },
    {
     "data": {
      "application/javascript": [
       "\n",
       "\n",
       "        var elem = document.getElementById(\"stage1-bar\")\n",
       "        var part = 70\n",
       "        if (part){\n",
       "            elem.style.gridColumn = \"1/\" + (part+1)\n",
       "            elem.style.display = \"block\"\n",
       "        } else\n",
       "            elem.style.display = \"none\"\n",
       "        elem = document.getElementById(\"stage1-text\")\n",
       "        elem.innerHTML = part + \"/100 (\" + (part / 100 * 100).toFixed(2) + \"%)\"\n",
       "        \n",
       "\n",
       "        var elem = document.getElementById(\"stage2-bar\")\n",
       "        var part = 30\n",
       "        if (part){\n",
       "            elem.style.gridColumn = \"1/\" + (part+1)\n",
       "            elem.style.display = \"block\"\n",
       "        } else\n",
       "            elem.style.display = \"none\"\n",
       "        elem = document.getElementById(\"stage2-text\")\n",
       "        elem.innerHTML = part + \"/100 (\" + (part / 100 * 100).toFixed(2) + \"%)\"\n",
       "        "
      ],
      "text/plain": [
       "<IPython.core.display.Javascript object>"
      ]
     },
     "metadata": {},
     "output_type": "display_data"
    },
    {
     "data": {
      "application/javascript": [
       "\n",
       "\n",
       "        var elem = document.getElementById(\"stage1-bar\")\n",
       "        var part = 69\n",
       "        if (part){\n",
       "            elem.style.gridColumn = \"1/\" + (part+1)\n",
       "            elem.style.display = \"block\"\n",
       "        } else\n",
       "            elem.style.display = \"none\"\n",
       "        elem = document.getElementById(\"stage1-text\")\n",
       "        elem.innerHTML = part + \"/100 (\" + (part / 100 * 100).toFixed(2) + \"%)\"\n",
       "        \n",
       "\n",
       "        var elem = document.getElementById(\"stage2-bar\")\n",
       "        var part = 31\n",
       "        if (part){\n",
       "            elem.style.gridColumn = \"1/\" + (part+1)\n",
       "            elem.style.display = \"block\"\n",
       "        } else\n",
       "            elem.style.display = \"none\"\n",
       "        elem = document.getElementById(\"stage2-text\")\n",
       "        elem.innerHTML = part + \"/100 (\" + (part / 100 * 100).toFixed(2) + \"%)\"\n",
       "        "
      ],
      "text/plain": [
       "<IPython.core.display.Javascript object>"
      ]
     },
     "metadata": {},
     "output_type": "display_data"
    },
    {
     "data": {
      "application/javascript": [
       "\n",
       "\n",
       "        var elem = document.getElementById(\"stage1-bar\")\n",
       "        var part = 68\n",
       "        if (part){\n",
       "            elem.style.gridColumn = \"1/\" + (part+1)\n",
       "            elem.style.display = \"block\"\n",
       "        } else\n",
       "            elem.style.display = \"none\"\n",
       "        elem = document.getElementById(\"stage1-text\")\n",
       "        elem.innerHTML = part + \"/100 (\" + (part / 100 * 100).toFixed(2) + \"%)\"\n",
       "        \n",
       "\n",
       "        var elem = document.getElementById(\"stage2-bar\")\n",
       "        var part = 32\n",
       "        if (part){\n",
       "            elem.style.gridColumn = \"1/\" + (part+1)\n",
       "            elem.style.display = \"block\"\n",
       "        } else\n",
       "            elem.style.display = \"none\"\n",
       "        elem = document.getElementById(\"stage2-text\")\n",
       "        elem.innerHTML = part + \"/100 (\" + (part / 100 * 100).toFixed(2) + \"%)\"\n",
       "        "
      ],
      "text/plain": [
       "<IPython.core.display.Javascript object>"
      ]
     },
     "metadata": {},
     "output_type": "display_data"
    },
    {
     "data": {
      "application/javascript": [
       "\n",
       "\n",
       "        var elem = document.getElementById(\"stage1-bar\")\n",
       "        var part = 67\n",
       "        if (part){\n",
       "            elem.style.gridColumn = \"1/\" + (part+1)\n",
       "            elem.style.display = \"block\"\n",
       "        } else\n",
       "            elem.style.display = \"none\"\n",
       "        elem = document.getElementById(\"stage1-text\")\n",
       "        elem.innerHTML = part + \"/100 (\" + (part / 100 * 100).toFixed(2) + \"%)\"\n",
       "        \n",
       "\n",
       "        var elem = document.getElementById(\"stage2-bar\")\n",
       "        var part = 33\n",
       "        if (part){\n",
       "            elem.style.gridColumn = \"1/\" + (part+1)\n",
       "            elem.style.display = \"block\"\n",
       "        } else\n",
       "            elem.style.display = \"none\"\n",
       "        elem = document.getElementById(\"stage2-text\")\n",
       "        elem.innerHTML = part + \"/100 (\" + (part / 100 * 100).toFixed(2) + \"%)\"\n",
       "        "
      ],
      "text/plain": [
       "<IPython.core.display.Javascript object>"
      ]
     },
     "metadata": {},
     "output_type": "display_data"
    },
    {
     "data": {
      "application/javascript": [
       "\n",
       "\n",
       "        var elem = document.getElementById(\"stage1-bar\")\n",
       "        var part = 66\n",
       "        if (part){\n",
       "            elem.style.gridColumn = \"1/\" + (part+1)\n",
       "            elem.style.display = \"block\"\n",
       "        } else\n",
       "            elem.style.display = \"none\"\n",
       "        elem = document.getElementById(\"stage1-text\")\n",
       "        elem.innerHTML = part + \"/100 (\" + (part / 100 * 100).toFixed(2) + \"%)\"\n",
       "        \n",
       "\n",
       "        var elem = document.getElementById(\"stage2-bar\")\n",
       "        var part = 34\n",
       "        if (part){\n",
       "            elem.style.gridColumn = \"1/\" + (part+1)\n",
       "            elem.style.display = \"block\"\n",
       "        } else\n",
       "            elem.style.display = \"none\"\n",
       "        elem = document.getElementById(\"stage2-text\")\n",
       "        elem.innerHTML = part + \"/100 (\" + (part / 100 * 100).toFixed(2) + \"%)\"\n",
       "        "
      ],
      "text/plain": [
       "<IPython.core.display.Javascript object>"
      ]
     },
     "metadata": {},
     "output_type": "display_data"
    },
    {
     "data": {
      "application/javascript": [
       "\n",
       "\n",
       "        var elem = document.getElementById(\"stage1-bar\")\n",
       "        var part = 65\n",
       "        if (part){\n",
       "            elem.style.gridColumn = \"1/\" + (part+1)\n",
       "            elem.style.display = \"block\"\n",
       "        } else\n",
       "            elem.style.display = \"none\"\n",
       "        elem = document.getElementById(\"stage1-text\")\n",
       "        elem.innerHTML = part + \"/100 (\" + (part / 100 * 100).toFixed(2) + \"%)\"\n",
       "        \n",
       "\n",
       "        var elem = document.getElementById(\"stage2-bar\")\n",
       "        var part = 35\n",
       "        if (part){\n",
       "            elem.style.gridColumn = \"1/\" + (part+1)\n",
       "            elem.style.display = \"block\"\n",
       "        } else\n",
       "            elem.style.display = \"none\"\n",
       "        elem = document.getElementById(\"stage2-text\")\n",
       "        elem.innerHTML = part + \"/100 (\" + (part / 100 * 100).toFixed(2) + \"%)\"\n",
       "        "
      ],
      "text/plain": [
       "<IPython.core.display.Javascript object>"
      ]
     },
     "metadata": {},
     "output_type": "display_data"
    },
    {
     "data": {
      "application/javascript": [
       "\n",
       "\n",
       "        var elem = document.getElementById(\"stage1-bar\")\n",
       "        var part = 64\n",
       "        if (part){\n",
       "            elem.style.gridColumn = \"1/\" + (part+1)\n",
       "            elem.style.display = \"block\"\n",
       "        } else\n",
       "            elem.style.display = \"none\"\n",
       "        elem = document.getElementById(\"stage1-text\")\n",
       "        elem.innerHTML = part + \"/100 (\" + (part / 100 * 100).toFixed(2) + \"%)\"\n",
       "        \n",
       "\n",
       "        var elem = document.getElementById(\"stage2-bar\")\n",
       "        var part = 36\n",
       "        if (part){\n",
       "            elem.style.gridColumn = \"1/\" + (part+1)\n",
       "            elem.style.display = \"block\"\n",
       "        } else\n",
       "            elem.style.display = \"none\"\n",
       "        elem = document.getElementById(\"stage2-text\")\n",
       "        elem.innerHTML = part + \"/100 (\" + (part / 100 * 100).toFixed(2) + \"%)\"\n",
       "        "
      ],
      "text/plain": [
       "<IPython.core.display.Javascript object>"
      ]
     },
     "metadata": {},
     "output_type": "display_data"
    },
    {
     "data": {
      "application/javascript": [
       "\n",
       "\n",
       "        var elem = document.getElementById(\"stage1-bar\")\n",
       "        var part = 63\n",
       "        if (part){\n",
       "            elem.style.gridColumn = \"1/\" + (part+1)\n",
       "            elem.style.display = \"block\"\n",
       "        } else\n",
       "            elem.style.display = \"none\"\n",
       "        elem = document.getElementById(\"stage1-text\")\n",
       "        elem.innerHTML = part + \"/100 (\" + (part / 100 * 100).toFixed(2) + \"%)\"\n",
       "        \n",
       "\n",
       "        var elem = document.getElementById(\"stage2-bar\")\n",
       "        var part = 37\n",
       "        if (part){\n",
       "            elem.style.gridColumn = \"1/\" + (part+1)\n",
       "            elem.style.display = \"block\"\n",
       "        } else\n",
       "            elem.style.display = \"none\"\n",
       "        elem = document.getElementById(\"stage2-text\")\n",
       "        elem.innerHTML = part + \"/100 (\" + (part / 100 * 100).toFixed(2) + \"%)\"\n",
       "        "
      ],
      "text/plain": [
       "<IPython.core.display.Javascript object>"
      ]
     },
     "metadata": {},
     "output_type": "display_data"
    },
    {
     "data": {
      "application/javascript": [
       "\n",
       "\n",
       "        var elem = document.getElementById(\"stage1-bar\")\n",
       "        var part = 62\n",
       "        if (part){\n",
       "            elem.style.gridColumn = \"1/\" + (part+1)\n",
       "            elem.style.display = \"block\"\n",
       "        } else\n",
       "            elem.style.display = \"none\"\n",
       "        elem = document.getElementById(\"stage1-text\")\n",
       "        elem.innerHTML = part + \"/100 (\" + (part / 100 * 100).toFixed(2) + \"%)\"\n",
       "        \n",
       "\n",
       "        var elem = document.getElementById(\"stage2-bar\")\n",
       "        var part = 38\n",
       "        if (part){\n",
       "            elem.style.gridColumn = \"1/\" + (part+1)\n",
       "            elem.style.display = \"block\"\n",
       "        } else\n",
       "            elem.style.display = \"none\"\n",
       "        elem = document.getElementById(\"stage2-text\")\n",
       "        elem.innerHTML = part + \"/100 (\" + (part / 100 * 100).toFixed(2) + \"%)\"\n",
       "        "
      ],
      "text/plain": [
       "<IPython.core.display.Javascript object>"
      ]
     },
     "metadata": {},
     "output_type": "display_data"
    },
    {
     "data": {
      "application/javascript": [
       "\n",
       "\n",
       "        var elem = document.getElementById(\"stage1-bar\")\n",
       "        var part = 61\n",
       "        if (part){\n",
       "            elem.style.gridColumn = \"1/\" + (part+1)\n",
       "            elem.style.display = \"block\"\n",
       "        } else\n",
       "            elem.style.display = \"none\"\n",
       "        elem = document.getElementById(\"stage1-text\")\n",
       "        elem.innerHTML = part + \"/100 (\" + (part / 100 * 100).toFixed(2) + \"%)\"\n",
       "        \n",
       "\n",
       "        var elem = document.getElementById(\"stage2-bar\")\n",
       "        var part = 39\n",
       "        if (part){\n",
       "            elem.style.gridColumn = \"1/\" + (part+1)\n",
       "            elem.style.display = \"block\"\n",
       "        } else\n",
       "            elem.style.display = \"none\"\n",
       "        elem = document.getElementById(\"stage2-text\")\n",
       "        elem.innerHTML = part + \"/100 (\" + (part / 100 * 100).toFixed(2) + \"%)\"\n",
       "        "
      ],
      "text/plain": [
       "<IPython.core.display.Javascript object>"
      ]
     },
     "metadata": {},
     "output_type": "display_data"
    },
    {
     "data": {
      "application/javascript": [
       "\n",
       "\n",
       "        var elem = document.getElementById(\"stage1-bar\")\n",
       "        var part = 60\n",
       "        if (part){\n",
       "            elem.style.gridColumn = \"1/\" + (part+1)\n",
       "            elem.style.display = \"block\"\n",
       "        } else\n",
       "            elem.style.display = \"none\"\n",
       "        elem = document.getElementById(\"stage1-text\")\n",
       "        elem.innerHTML = part + \"/100 (\" + (part / 100 * 100).toFixed(2) + \"%)\"\n",
       "        \n",
       "\n",
       "        var elem = document.getElementById(\"stage2-bar\")\n",
       "        var part = 40\n",
       "        if (part){\n",
       "            elem.style.gridColumn = \"1/\" + (part+1)\n",
       "            elem.style.display = \"block\"\n",
       "        } else\n",
       "            elem.style.display = \"none\"\n",
       "        elem = document.getElementById(\"stage2-text\")\n",
       "        elem.innerHTML = part + \"/100 (\" + (part / 100 * 100).toFixed(2) + \"%)\"\n",
       "        "
      ],
      "text/plain": [
       "<IPython.core.display.Javascript object>"
      ]
     },
     "metadata": {},
     "output_type": "display_data"
    },
    {
     "data": {
      "application/javascript": [
       "\n",
       "\n",
       "        var elem = document.getElementById(\"stage1-bar\")\n",
       "        var part = 59\n",
       "        if (part){\n",
       "            elem.style.gridColumn = \"1/\" + (part+1)\n",
       "            elem.style.display = \"block\"\n",
       "        } else\n",
       "            elem.style.display = \"none\"\n",
       "        elem = document.getElementById(\"stage1-text\")\n",
       "        elem.innerHTML = part + \"/100 (\" + (part / 100 * 100).toFixed(2) + \"%)\"\n",
       "        \n",
       "\n",
       "        var elem = document.getElementById(\"stage2-bar\")\n",
       "        var part = 41\n",
       "        if (part){\n",
       "            elem.style.gridColumn = \"1/\" + (part+1)\n",
       "            elem.style.display = \"block\"\n",
       "        } else\n",
       "            elem.style.display = \"none\"\n",
       "        elem = document.getElementById(\"stage2-text\")\n",
       "        elem.innerHTML = part + \"/100 (\" + (part / 100 * 100).toFixed(2) + \"%)\"\n",
       "        "
      ],
      "text/plain": [
       "<IPython.core.display.Javascript object>"
      ]
     },
     "metadata": {},
     "output_type": "display_data"
    },
    {
     "data": {
      "application/javascript": [
       "\n",
       "\n",
       "        var elem = document.getElementById(\"stage1-bar\")\n",
       "        var part = 58\n",
       "        if (part){\n",
       "            elem.style.gridColumn = \"1/\" + (part+1)\n",
       "            elem.style.display = \"block\"\n",
       "        } else\n",
       "            elem.style.display = \"none\"\n",
       "        elem = document.getElementById(\"stage1-text\")\n",
       "        elem.innerHTML = part + \"/100 (\" + (part / 100 * 100).toFixed(2) + \"%)\"\n",
       "        \n",
       "\n",
       "        var elem = document.getElementById(\"stage2-bar\")\n",
       "        var part = 42\n",
       "        if (part){\n",
       "            elem.style.gridColumn = \"1/\" + (part+1)\n",
       "            elem.style.display = \"block\"\n",
       "        } else\n",
       "            elem.style.display = \"none\"\n",
       "        elem = document.getElementById(\"stage2-text\")\n",
       "        elem.innerHTML = part + \"/100 (\" + (part / 100 * 100).toFixed(2) + \"%)\"\n",
       "        "
      ],
      "text/plain": [
       "<IPython.core.display.Javascript object>"
      ]
     },
     "metadata": {},
     "output_type": "display_data"
    },
    {
     "data": {
      "application/javascript": [
       "\n",
       "\n",
       "        var elem = document.getElementById(\"stage1-bar\")\n",
       "        var part = 57\n",
       "        if (part){\n",
       "            elem.style.gridColumn = \"1/\" + (part+1)\n",
       "            elem.style.display = \"block\"\n",
       "        } else\n",
       "            elem.style.display = \"none\"\n",
       "        elem = document.getElementById(\"stage1-text\")\n",
       "        elem.innerHTML = part + \"/100 (\" + (part / 100 * 100).toFixed(2) + \"%)\"\n",
       "        \n",
       "\n",
       "        var elem = document.getElementById(\"stage2-bar\")\n",
       "        var part = 43\n",
       "        if (part){\n",
       "            elem.style.gridColumn = \"1/\" + (part+1)\n",
       "            elem.style.display = \"block\"\n",
       "        } else\n",
       "            elem.style.display = \"none\"\n",
       "        elem = document.getElementById(\"stage2-text\")\n",
       "        elem.innerHTML = part + \"/100 (\" + (part / 100 * 100).toFixed(2) + \"%)\"\n",
       "        "
      ],
      "text/plain": [
       "<IPython.core.display.Javascript object>"
      ]
     },
     "metadata": {},
     "output_type": "display_data"
    },
    {
     "data": {
      "application/javascript": [
       "\n",
       "\n",
       "        var elem = document.getElementById(\"stage1-bar\")\n",
       "        var part = 56\n",
       "        if (part){\n",
       "            elem.style.gridColumn = \"1/\" + (part+1)\n",
       "            elem.style.display = \"block\"\n",
       "        } else\n",
       "            elem.style.display = \"none\"\n",
       "        elem = document.getElementById(\"stage1-text\")\n",
       "        elem.innerHTML = part + \"/100 (\" + (part / 100 * 100).toFixed(2) + \"%)\"\n",
       "        \n",
       "\n",
       "        var elem = document.getElementById(\"stage2-bar\")\n",
       "        var part = 44\n",
       "        if (part){\n",
       "            elem.style.gridColumn = \"1/\" + (part+1)\n",
       "            elem.style.display = \"block\"\n",
       "        } else\n",
       "            elem.style.display = \"none\"\n",
       "        elem = document.getElementById(\"stage2-text\")\n",
       "        elem.innerHTML = part + \"/100 (\" + (part / 100 * 100).toFixed(2) + \"%)\"\n",
       "        "
      ],
      "text/plain": [
       "<IPython.core.display.Javascript object>"
      ]
     },
     "metadata": {},
     "output_type": "display_data"
    },
    {
     "data": {
      "application/javascript": [
       "\n",
       "\n",
       "        var elem = document.getElementById(\"stage1-bar\")\n",
       "        var part = 55\n",
       "        if (part){\n",
       "            elem.style.gridColumn = \"1/\" + (part+1)\n",
       "            elem.style.display = \"block\"\n",
       "        } else\n",
       "            elem.style.display = \"none\"\n",
       "        elem = document.getElementById(\"stage1-text\")\n",
       "        elem.innerHTML = part + \"/100 (\" + (part / 100 * 100).toFixed(2) + \"%)\"\n",
       "        \n",
       "\n",
       "        var elem = document.getElementById(\"stage2-bar\")\n",
       "        var part = 45\n",
       "        if (part){\n",
       "            elem.style.gridColumn = \"1/\" + (part+1)\n",
       "            elem.style.display = \"block\"\n",
       "        } else\n",
       "            elem.style.display = \"none\"\n",
       "        elem = document.getElementById(\"stage2-text\")\n",
       "        elem.innerHTML = part + \"/100 (\" + (part / 100 * 100).toFixed(2) + \"%)\"\n",
       "        "
      ],
      "text/plain": [
       "<IPython.core.display.Javascript object>"
      ]
     },
     "metadata": {},
     "output_type": "display_data"
    },
    {
     "data": {
      "application/javascript": [
       "\n",
       "\n",
       "        var elem = document.getElementById(\"stage1-bar\")\n",
       "        var part = 54\n",
       "        if (part){\n",
       "            elem.style.gridColumn = \"1/\" + (part+1)\n",
       "            elem.style.display = \"block\"\n",
       "        } else\n",
       "            elem.style.display = \"none\"\n",
       "        elem = document.getElementById(\"stage1-text\")\n",
       "        elem.innerHTML = part + \"/100 (\" + (part / 100 * 100).toFixed(2) + \"%)\"\n",
       "        \n",
       "\n",
       "        var elem = document.getElementById(\"stage2-bar\")\n",
       "        var part = 46\n",
       "        if (part){\n",
       "            elem.style.gridColumn = \"1/\" + (part+1)\n",
       "            elem.style.display = \"block\"\n",
       "        } else\n",
       "            elem.style.display = \"none\"\n",
       "        elem = document.getElementById(\"stage2-text\")\n",
       "        elem.innerHTML = part + \"/100 (\" + (part / 100 * 100).toFixed(2) + \"%)\"\n",
       "        "
      ],
      "text/plain": [
       "<IPython.core.display.Javascript object>"
      ]
     },
     "metadata": {},
     "output_type": "display_data"
    },
    {
     "data": {
      "application/javascript": [
       "\n",
       "\n",
       "        var elem = document.getElementById(\"stage1-bar\")\n",
       "        var part = 53\n",
       "        if (part){\n",
       "            elem.style.gridColumn = \"1/\" + (part+1)\n",
       "            elem.style.display = \"block\"\n",
       "        } else\n",
       "            elem.style.display = \"none\"\n",
       "        elem = document.getElementById(\"stage1-text\")\n",
       "        elem.innerHTML = part + \"/100 (\" + (part / 100 * 100).toFixed(2) + \"%)\"\n",
       "        \n",
       "\n",
       "        var elem = document.getElementById(\"stage2-bar\")\n",
       "        var part = 47\n",
       "        if (part){\n",
       "            elem.style.gridColumn = \"1/\" + (part+1)\n",
       "            elem.style.display = \"block\"\n",
       "        } else\n",
       "            elem.style.display = \"none\"\n",
       "        elem = document.getElementById(\"stage2-text\")\n",
       "        elem.innerHTML = part + \"/100 (\" + (part / 100 * 100).toFixed(2) + \"%)\"\n",
       "        "
      ],
      "text/plain": [
       "<IPython.core.display.Javascript object>"
      ]
     },
     "metadata": {},
     "output_type": "display_data"
    },
    {
     "data": {
      "application/javascript": [
       "\n",
       "\n",
       "        var elem = document.getElementById(\"stage1-bar\")\n",
       "        var part = 52\n",
       "        if (part){\n",
       "            elem.style.gridColumn = \"1/\" + (part+1)\n",
       "            elem.style.display = \"block\"\n",
       "        } else\n",
       "            elem.style.display = \"none\"\n",
       "        elem = document.getElementById(\"stage1-text\")\n",
       "        elem.innerHTML = part + \"/100 (\" + (part / 100 * 100).toFixed(2) + \"%)\"\n",
       "        \n",
       "\n",
       "        var elem = document.getElementById(\"stage2-bar\")\n",
       "        var part = 48\n",
       "        if (part){\n",
       "            elem.style.gridColumn = \"1/\" + (part+1)\n",
       "            elem.style.display = \"block\"\n",
       "        } else\n",
       "            elem.style.display = \"none\"\n",
       "        elem = document.getElementById(\"stage2-text\")\n",
       "        elem.innerHTML = part + \"/100 (\" + (part / 100 * 100).toFixed(2) + \"%)\"\n",
       "        "
      ],
      "text/plain": [
       "<IPython.core.display.Javascript object>"
      ]
     },
     "metadata": {},
     "output_type": "display_data"
    },
    {
     "data": {
      "application/javascript": [
       "\n",
       "\n",
       "        var elem = document.getElementById(\"stage1-bar\")\n",
       "        var part = 51\n",
       "        if (part){\n",
       "            elem.style.gridColumn = \"1/\" + (part+1)\n",
       "            elem.style.display = \"block\"\n",
       "        } else\n",
       "            elem.style.display = \"none\"\n",
       "        elem = document.getElementById(\"stage1-text\")\n",
       "        elem.innerHTML = part + \"/100 (\" + (part / 100 * 100).toFixed(2) + \"%)\"\n",
       "        \n",
       "\n",
       "        var elem = document.getElementById(\"stage2-bar\")\n",
       "        var part = 49\n",
       "        if (part){\n",
       "            elem.style.gridColumn = \"1/\" + (part+1)\n",
       "            elem.style.display = \"block\"\n",
       "        } else\n",
       "            elem.style.display = \"none\"\n",
       "        elem = document.getElementById(\"stage2-text\")\n",
       "        elem.innerHTML = part + \"/100 (\" + (part / 100 * 100).toFixed(2) + \"%)\"\n",
       "        "
      ],
      "text/plain": [
       "<IPython.core.display.Javascript object>"
      ]
     },
     "metadata": {},
     "output_type": "display_data"
    },
    {
     "data": {
      "application/javascript": [
       "\n",
       "\n",
       "        var elem = document.getElementById(\"stage1-bar\")\n",
       "        var part = 50\n",
       "        if (part){\n",
       "            elem.style.gridColumn = \"1/\" + (part+1)\n",
       "            elem.style.display = \"block\"\n",
       "        } else\n",
       "            elem.style.display = \"none\"\n",
       "        elem = document.getElementById(\"stage1-text\")\n",
       "        elem.innerHTML = part + \"/100 (\" + (part / 100 * 100).toFixed(2) + \"%)\"\n",
       "        \n",
       "\n",
       "        var elem = document.getElementById(\"stage2-bar\")\n",
       "        var part = 50\n",
       "        if (part){\n",
       "            elem.style.gridColumn = \"1/\" + (part+1)\n",
       "            elem.style.display = \"block\"\n",
       "        } else\n",
       "            elem.style.display = \"none\"\n",
       "        elem = document.getElementById(\"stage2-text\")\n",
       "        elem.innerHTML = part + \"/100 (\" + (part / 100 * 100).toFixed(2) + \"%)\"\n",
       "        "
      ],
      "text/plain": [
       "<IPython.core.display.Javascript object>"
      ]
     },
     "metadata": {},
     "output_type": "display_data"
    },
    {
     "data": {
      "application/javascript": [
       "\n",
       "\n",
       "        var elem = document.getElementById(\"stage1-bar\")\n",
       "        var part = 49\n",
       "        if (part){\n",
       "            elem.style.gridColumn = \"1/\" + (part+1)\n",
       "            elem.style.display = \"block\"\n",
       "        } else\n",
       "            elem.style.display = \"none\"\n",
       "        elem = document.getElementById(\"stage1-text\")\n",
       "        elem.innerHTML = part + \"/100 (\" + (part / 100 * 100).toFixed(2) + \"%)\"\n",
       "        \n",
       "\n",
       "        var elem = document.getElementById(\"stage2-bar\")\n",
       "        var part = 51\n",
       "        if (part){\n",
       "            elem.style.gridColumn = \"1/\" + (part+1)\n",
       "            elem.style.display = \"block\"\n",
       "        } else\n",
       "            elem.style.display = \"none\"\n",
       "        elem = document.getElementById(\"stage2-text\")\n",
       "        elem.innerHTML = part + \"/100 (\" + (part / 100 * 100).toFixed(2) + \"%)\"\n",
       "        "
      ],
      "text/plain": [
       "<IPython.core.display.Javascript object>"
      ]
     },
     "metadata": {},
     "output_type": "display_data"
    },
    {
     "data": {
      "application/javascript": [
       "\n",
       "\n",
       "        var elem = document.getElementById(\"stage1-bar\")\n",
       "        var part = 48\n",
       "        if (part){\n",
       "            elem.style.gridColumn = \"1/\" + (part+1)\n",
       "            elem.style.display = \"block\"\n",
       "        } else\n",
       "            elem.style.display = \"none\"\n",
       "        elem = document.getElementById(\"stage1-text\")\n",
       "        elem.innerHTML = part + \"/100 (\" + (part / 100 * 100).toFixed(2) + \"%)\"\n",
       "        \n",
       "\n",
       "        var elem = document.getElementById(\"stage2-bar\")\n",
       "        var part = 52\n",
       "        if (part){\n",
       "            elem.style.gridColumn = \"1/\" + (part+1)\n",
       "            elem.style.display = \"block\"\n",
       "        } else\n",
       "            elem.style.display = \"none\"\n",
       "        elem = document.getElementById(\"stage2-text\")\n",
       "        elem.innerHTML = part + \"/100 (\" + (part / 100 * 100).toFixed(2) + \"%)\"\n",
       "        "
      ],
      "text/plain": [
       "<IPython.core.display.Javascript object>"
      ]
     },
     "metadata": {},
     "output_type": "display_data"
    },
    {
     "data": {
      "application/javascript": [
       "\n",
       "\n",
       "        var elem = document.getElementById(\"stage1-bar\")\n",
       "        var part = 47\n",
       "        if (part){\n",
       "            elem.style.gridColumn = \"1/\" + (part+1)\n",
       "            elem.style.display = \"block\"\n",
       "        } else\n",
       "            elem.style.display = \"none\"\n",
       "        elem = document.getElementById(\"stage1-text\")\n",
       "        elem.innerHTML = part + \"/100 (\" + (part / 100 * 100).toFixed(2) + \"%)\"\n",
       "        \n",
       "\n",
       "        var elem = document.getElementById(\"stage2-bar\")\n",
       "        var part = 53\n",
       "        if (part){\n",
       "            elem.style.gridColumn = \"1/\" + (part+1)\n",
       "            elem.style.display = \"block\"\n",
       "        } else\n",
       "            elem.style.display = \"none\"\n",
       "        elem = document.getElementById(\"stage2-text\")\n",
       "        elem.innerHTML = part + \"/100 (\" + (part / 100 * 100).toFixed(2) + \"%)\"\n",
       "        "
      ],
      "text/plain": [
       "<IPython.core.display.Javascript object>"
      ]
     },
     "metadata": {},
     "output_type": "display_data"
    },
    {
     "data": {
      "application/javascript": [
       "\n",
       "\n",
       "        var elem = document.getElementById(\"stage1-bar\")\n",
       "        var part = 46\n",
       "        if (part){\n",
       "            elem.style.gridColumn = \"1/\" + (part+1)\n",
       "            elem.style.display = \"block\"\n",
       "        } else\n",
       "            elem.style.display = \"none\"\n",
       "        elem = document.getElementById(\"stage1-text\")\n",
       "        elem.innerHTML = part + \"/100 (\" + (part / 100 * 100).toFixed(2) + \"%)\"\n",
       "        \n",
       "\n",
       "        var elem = document.getElementById(\"stage2-bar\")\n",
       "        var part = 54\n",
       "        if (part){\n",
       "            elem.style.gridColumn = \"1/\" + (part+1)\n",
       "            elem.style.display = \"block\"\n",
       "        } else\n",
       "            elem.style.display = \"none\"\n",
       "        elem = document.getElementById(\"stage2-text\")\n",
       "        elem.innerHTML = part + \"/100 (\" + (part / 100 * 100).toFixed(2) + \"%)\"\n",
       "        "
      ],
      "text/plain": [
       "<IPython.core.display.Javascript object>"
      ]
     },
     "metadata": {},
     "output_type": "display_data"
    },
    {
     "data": {
      "application/javascript": [
       "\n",
       "\n",
       "        var elem = document.getElementById(\"stage1-bar\")\n",
       "        var part = 45\n",
       "        if (part){\n",
       "            elem.style.gridColumn = \"1/\" + (part+1)\n",
       "            elem.style.display = \"block\"\n",
       "        } else\n",
       "            elem.style.display = \"none\"\n",
       "        elem = document.getElementById(\"stage1-text\")\n",
       "        elem.innerHTML = part + \"/100 (\" + (part / 100 * 100).toFixed(2) + \"%)\"\n",
       "        \n",
       "\n",
       "        var elem = document.getElementById(\"stage2-bar\")\n",
       "        var part = 55\n",
       "        if (part){\n",
       "            elem.style.gridColumn = \"1/\" + (part+1)\n",
       "            elem.style.display = \"block\"\n",
       "        } else\n",
       "            elem.style.display = \"none\"\n",
       "        elem = document.getElementById(\"stage2-text\")\n",
       "        elem.innerHTML = part + \"/100 (\" + (part / 100 * 100).toFixed(2) + \"%)\"\n",
       "        "
      ],
      "text/plain": [
       "<IPython.core.display.Javascript object>"
      ]
     },
     "metadata": {},
     "output_type": "display_data"
    },
    {
     "data": {
      "application/javascript": [
       "\n",
       "\n",
       "        var elem = document.getElementById(\"stage1-bar\")\n",
       "        var part = 44\n",
       "        if (part){\n",
       "            elem.style.gridColumn = \"1/\" + (part+1)\n",
       "            elem.style.display = \"block\"\n",
       "        } else\n",
       "            elem.style.display = \"none\"\n",
       "        elem = document.getElementById(\"stage1-text\")\n",
       "        elem.innerHTML = part + \"/100 (\" + (part / 100 * 100).toFixed(2) + \"%)\"\n",
       "        \n",
       "\n",
       "        var elem = document.getElementById(\"stage2-bar\")\n",
       "        var part = 56\n",
       "        if (part){\n",
       "            elem.style.gridColumn = \"1/\" + (part+1)\n",
       "            elem.style.display = \"block\"\n",
       "        } else\n",
       "            elem.style.display = \"none\"\n",
       "        elem = document.getElementById(\"stage2-text\")\n",
       "        elem.innerHTML = part + \"/100 (\" + (part / 100 * 100).toFixed(2) + \"%)\"\n",
       "        "
      ],
      "text/plain": [
       "<IPython.core.display.Javascript object>"
      ]
     },
     "metadata": {},
     "output_type": "display_data"
    },
    {
     "data": {
      "application/javascript": [
       "\n",
       "\n",
       "        var elem = document.getElementById(\"stage1-bar\")\n",
       "        var part = 43\n",
       "        if (part){\n",
       "            elem.style.gridColumn = \"1/\" + (part+1)\n",
       "            elem.style.display = \"block\"\n",
       "        } else\n",
       "            elem.style.display = \"none\"\n",
       "        elem = document.getElementById(\"stage1-text\")\n",
       "        elem.innerHTML = part + \"/100 (\" + (part / 100 * 100).toFixed(2) + \"%)\"\n",
       "        \n",
       "\n",
       "        var elem = document.getElementById(\"stage2-bar\")\n",
       "        var part = 57\n",
       "        if (part){\n",
       "            elem.style.gridColumn = \"1/\" + (part+1)\n",
       "            elem.style.display = \"block\"\n",
       "        } else\n",
       "            elem.style.display = \"none\"\n",
       "        elem = document.getElementById(\"stage2-text\")\n",
       "        elem.innerHTML = part + \"/100 (\" + (part / 100 * 100).toFixed(2) + \"%)\"\n",
       "        "
      ],
      "text/plain": [
       "<IPython.core.display.Javascript object>"
      ]
     },
     "metadata": {},
     "output_type": "display_data"
    },
    {
     "data": {
      "application/javascript": [
       "\n",
       "\n",
       "        var elem = document.getElementById(\"stage1-bar\")\n",
       "        var part = 42\n",
       "        if (part){\n",
       "            elem.style.gridColumn = \"1/\" + (part+1)\n",
       "            elem.style.display = \"block\"\n",
       "        } else\n",
       "            elem.style.display = \"none\"\n",
       "        elem = document.getElementById(\"stage1-text\")\n",
       "        elem.innerHTML = part + \"/100 (\" + (part / 100 * 100).toFixed(2) + \"%)\"\n",
       "        \n",
       "\n",
       "        var elem = document.getElementById(\"stage2-bar\")\n",
       "        var part = 58\n",
       "        if (part){\n",
       "            elem.style.gridColumn = \"1/\" + (part+1)\n",
       "            elem.style.display = \"block\"\n",
       "        } else\n",
       "            elem.style.display = \"none\"\n",
       "        elem = document.getElementById(\"stage2-text\")\n",
       "        elem.innerHTML = part + \"/100 (\" + (part / 100 * 100).toFixed(2) + \"%)\"\n",
       "        "
      ],
      "text/plain": [
       "<IPython.core.display.Javascript object>"
      ]
     },
     "metadata": {},
     "output_type": "display_data"
    },
    {
     "data": {
      "application/javascript": [
       "\n",
       "\n",
       "        var elem = document.getElementById(\"stage1-bar\")\n",
       "        var part = 41\n",
       "        if (part){\n",
       "            elem.style.gridColumn = \"1/\" + (part+1)\n",
       "            elem.style.display = \"block\"\n",
       "        } else\n",
       "            elem.style.display = \"none\"\n",
       "        elem = document.getElementById(\"stage1-text\")\n",
       "        elem.innerHTML = part + \"/100 (\" + (part / 100 * 100).toFixed(2) + \"%)\"\n",
       "        \n",
       "\n",
       "        var elem = document.getElementById(\"stage2-bar\")\n",
       "        var part = 59\n",
       "        if (part){\n",
       "            elem.style.gridColumn = \"1/\" + (part+1)\n",
       "            elem.style.display = \"block\"\n",
       "        } else\n",
       "            elem.style.display = \"none\"\n",
       "        elem = document.getElementById(\"stage2-text\")\n",
       "        elem.innerHTML = part + \"/100 (\" + (part / 100 * 100).toFixed(2) + \"%)\"\n",
       "        "
      ],
      "text/plain": [
       "<IPython.core.display.Javascript object>"
      ]
     },
     "metadata": {},
     "output_type": "display_data"
    },
    {
     "data": {
      "application/javascript": [
       "\n",
       "\n",
       "        var elem = document.getElementById(\"stage1-bar\")\n",
       "        var part = 40\n",
       "        if (part){\n",
       "            elem.style.gridColumn = \"1/\" + (part+1)\n",
       "            elem.style.display = \"block\"\n",
       "        } else\n",
       "            elem.style.display = \"none\"\n",
       "        elem = document.getElementById(\"stage1-text\")\n",
       "        elem.innerHTML = part + \"/100 (\" + (part / 100 * 100).toFixed(2) + \"%)\"\n",
       "        \n",
       "\n",
       "        var elem = document.getElementById(\"stage2-bar\")\n",
       "        var part = 60\n",
       "        if (part){\n",
       "            elem.style.gridColumn = \"1/\" + (part+1)\n",
       "            elem.style.display = \"block\"\n",
       "        } else\n",
       "            elem.style.display = \"none\"\n",
       "        elem = document.getElementById(\"stage2-text\")\n",
       "        elem.innerHTML = part + \"/100 (\" + (part / 100 * 100).toFixed(2) + \"%)\"\n",
       "        "
      ],
      "text/plain": [
       "<IPython.core.display.Javascript object>"
      ]
     },
     "metadata": {},
     "output_type": "display_data"
    },
    {
     "data": {
      "application/javascript": [
       "\n",
       "\n",
       "        var elem = document.getElementById(\"stage1-bar\")\n",
       "        var part = 39\n",
       "        if (part){\n",
       "            elem.style.gridColumn = \"1/\" + (part+1)\n",
       "            elem.style.display = \"block\"\n",
       "        } else\n",
       "            elem.style.display = \"none\"\n",
       "        elem = document.getElementById(\"stage1-text\")\n",
       "        elem.innerHTML = part + \"/100 (\" + (part / 100 * 100).toFixed(2) + \"%)\"\n",
       "        \n",
       "\n",
       "        var elem = document.getElementById(\"stage2-bar\")\n",
       "        var part = 61\n",
       "        if (part){\n",
       "            elem.style.gridColumn = \"1/\" + (part+1)\n",
       "            elem.style.display = \"block\"\n",
       "        } else\n",
       "            elem.style.display = \"none\"\n",
       "        elem = document.getElementById(\"stage2-text\")\n",
       "        elem.innerHTML = part + \"/100 (\" + (part / 100 * 100).toFixed(2) + \"%)\"\n",
       "        "
      ],
      "text/plain": [
       "<IPython.core.display.Javascript object>"
      ]
     },
     "metadata": {},
     "output_type": "display_data"
    },
    {
     "data": {
      "application/javascript": [
       "\n",
       "\n",
       "        var elem = document.getElementById(\"stage1-bar\")\n",
       "        var part = 38\n",
       "        if (part){\n",
       "            elem.style.gridColumn = \"1/\" + (part+1)\n",
       "            elem.style.display = \"block\"\n",
       "        } else\n",
       "            elem.style.display = \"none\"\n",
       "        elem = document.getElementById(\"stage1-text\")\n",
       "        elem.innerHTML = part + \"/100 (\" + (part / 100 * 100).toFixed(2) + \"%)\"\n",
       "        \n",
       "\n",
       "        var elem = document.getElementById(\"stage2-bar\")\n",
       "        var part = 62\n",
       "        if (part){\n",
       "            elem.style.gridColumn = \"1/\" + (part+1)\n",
       "            elem.style.display = \"block\"\n",
       "        } else\n",
       "            elem.style.display = \"none\"\n",
       "        elem = document.getElementById(\"stage2-text\")\n",
       "        elem.innerHTML = part + \"/100 (\" + (part / 100 * 100).toFixed(2) + \"%)\"\n",
       "        "
      ],
      "text/plain": [
       "<IPython.core.display.Javascript object>"
      ]
     },
     "metadata": {},
     "output_type": "display_data"
    },
    {
     "data": {
      "application/javascript": [
       "\n",
       "\n",
       "        var elem = document.getElementById(\"stage1-bar\")\n",
       "        var part = 37\n",
       "        if (part){\n",
       "            elem.style.gridColumn = \"1/\" + (part+1)\n",
       "            elem.style.display = \"block\"\n",
       "        } else\n",
       "            elem.style.display = \"none\"\n",
       "        elem = document.getElementById(\"stage1-text\")\n",
       "        elem.innerHTML = part + \"/100 (\" + (part / 100 * 100).toFixed(2) + \"%)\"\n",
       "        \n",
       "\n",
       "        var elem = document.getElementById(\"stage2-bar\")\n",
       "        var part = 63\n",
       "        if (part){\n",
       "            elem.style.gridColumn = \"1/\" + (part+1)\n",
       "            elem.style.display = \"block\"\n",
       "        } else\n",
       "            elem.style.display = \"none\"\n",
       "        elem = document.getElementById(\"stage2-text\")\n",
       "        elem.innerHTML = part + \"/100 (\" + (part / 100 * 100).toFixed(2) + \"%)\"\n",
       "        "
      ],
      "text/plain": [
       "<IPython.core.display.Javascript object>"
      ]
     },
     "metadata": {},
     "output_type": "display_data"
    },
    {
     "data": {
      "application/javascript": [
       "\n",
       "\n",
       "        var elem = document.getElementById(\"stage1-bar\")\n",
       "        var part = 36\n",
       "        if (part){\n",
       "            elem.style.gridColumn = \"1/\" + (part+1)\n",
       "            elem.style.display = \"block\"\n",
       "        } else\n",
       "            elem.style.display = \"none\"\n",
       "        elem = document.getElementById(\"stage1-text\")\n",
       "        elem.innerHTML = part + \"/100 (\" + (part / 100 * 100).toFixed(2) + \"%)\"\n",
       "        \n",
       "\n",
       "        var elem = document.getElementById(\"stage2-bar\")\n",
       "        var part = 64\n",
       "        if (part){\n",
       "            elem.style.gridColumn = \"1/\" + (part+1)\n",
       "            elem.style.display = \"block\"\n",
       "        } else\n",
       "            elem.style.display = \"none\"\n",
       "        elem = document.getElementById(\"stage2-text\")\n",
       "        elem.innerHTML = part + \"/100 (\" + (part / 100 * 100).toFixed(2) + \"%)\"\n",
       "        "
      ],
      "text/plain": [
       "<IPython.core.display.Javascript object>"
      ]
     },
     "metadata": {},
     "output_type": "display_data"
    },
    {
     "data": {
      "application/javascript": [
       "\n",
       "\n",
       "        var elem = document.getElementById(\"stage1-bar\")\n",
       "        var part = 35\n",
       "        if (part){\n",
       "            elem.style.gridColumn = \"1/\" + (part+1)\n",
       "            elem.style.display = \"block\"\n",
       "        } else\n",
       "            elem.style.display = \"none\"\n",
       "        elem = document.getElementById(\"stage1-text\")\n",
       "        elem.innerHTML = part + \"/100 (\" + (part / 100 * 100).toFixed(2) + \"%)\"\n",
       "        \n",
       "\n",
       "        var elem = document.getElementById(\"stage2-bar\")\n",
       "        var part = 65\n",
       "        if (part){\n",
       "            elem.style.gridColumn = \"1/\" + (part+1)\n",
       "            elem.style.display = \"block\"\n",
       "        } else\n",
       "            elem.style.display = \"none\"\n",
       "        elem = document.getElementById(\"stage2-text\")\n",
       "        elem.innerHTML = part + \"/100 (\" + (part / 100 * 100).toFixed(2) + \"%)\"\n",
       "        "
      ],
      "text/plain": [
       "<IPython.core.display.Javascript object>"
      ]
     },
     "metadata": {},
     "output_type": "display_data"
    },
    {
     "data": {
      "application/javascript": [
       "\n",
       "\n",
       "        var elem = document.getElementById(\"stage1-bar\")\n",
       "        var part = 34\n",
       "        if (part){\n",
       "            elem.style.gridColumn = \"1/\" + (part+1)\n",
       "            elem.style.display = \"block\"\n",
       "        } else\n",
       "            elem.style.display = \"none\"\n",
       "        elem = document.getElementById(\"stage1-text\")\n",
       "        elem.innerHTML = part + \"/100 (\" + (part / 100 * 100).toFixed(2) + \"%)\"\n",
       "        \n",
       "\n",
       "        var elem = document.getElementById(\"stage2-bar\")\n",
       "        var part = 66\n",
       "        if (part){\n",
       "            elem.style.gridColumn = \"1/\" + (part+1)\n",
       "            elem.style.display = \"block\"\n",
       "        } else\n",
       "            elem.style.display = \"none\"\n",
       "        elem = document.getElementById(\"stage2-text\")\n",
       "        elem.innerHTML = part + \"/100 (\" + (part / 100 * 100).toFixed(2) + \"%)\"\n",
       "        "
      ],
      "text/plain": [
       "<IPython.core.display.Javascript object>"
      ]
     },
     "metadata": {},
     "output_type": "display_data"
    },
    {
     "data": {
      "application/javascript": [
       "\n",
       "\n",
       "        var elem = document.getElementById(\"stage1-bar\")\n",
       "        var part = 33\n",
       "        if (part){\n",
       "            elem.style.gridColumn = \"1/\" + (part+1)\n",
       "            elem.style.display = \"block\"\n",
       "        } else\n",
       "            elem.style.display = \"none\"\n",
       "        elem = document.getElementById(\"stage1-text\")\n",
       "        elem.innerHTML = part + \"/100 (\" + (part / 100 * 100).toFixed(2) + \"%)\"\n",
       "        \n",
       "\n",
       "        var elem = document.getElementById(\"stage2-bar\")\n",
       "        var part = 67\n",
       "        if (part){\n",
       "            elem.style.gridColumn = \"1/\" + (part+1)\n",
       "            elem.style.display = \"block\"\n",
       "        } else\n",
       "            elem.style.display = \"none\"\n",
       "        elem = document.getElementById(\"stage2-text\")\n",
       "        elem.innerHTML = part + \"/100 (\" + (part / 100 * 100).toFixed(2) + \"%)\"\n",
       "        "
      ],
      "text/plain": [
       "<IPython.core.display.Javascript object>"
      ]
     },
     "metadata": {},
     "output_type": "display_data"
    },
    {
     "data": {
      "application/javascript": [
       "\n",
       "\n",
       "        var elem = document.getElementById(\"stage1-bar\")\n",
       "        var part = 32\n",
       "        if (part){\n",
       "            elem.style.gridColumn = \"1/\" + (part+1)\n",
       "            elem.style.display = \"block\"\n",
       "        } else\n",
       "            elem.style.display = \"none\"\n",
       "        elem = document.getElementById(\"stage1-text\")\n",
       "        elem.innerHTML = part + \"/100 (\" + (part / 100 * 100).toFixed(2) + \"%)\"\n",
       "        \n",
       "\n",
       "        var elem = document.getElementById(\"stage2-bar\")\n",
       "        var part = 68\n",
       "        if (part){\n",
       "            elem.style.gridColumn = \"1/\" + (part+1)\n",
       "            elem.style.display = \"block\"\n",
       "        } else\n",
       "            elem.style.display = \"none\"\n",
       "        elem = document.getElementById(\"stage2-text\")\n",
       "        elem.innerHTML = part + \"/100 (\" + (part / 100 * 100).toFixed(2) + \"%)\"\n",
       "        "
      ],
      "text/plain": [
       "<IPython.core.display.Javascript object>"
      ]
     },
     "metadata": {},
     "output_type": "display_data"
    },
    {
     "data": {
      "application/javascript": [
       "\n",
       "\n",
       "        var elem = document.getElementById(\"stage1-bar\")\n",
       "        var part = 31\n",
       "        if (part){\n",
       "            elem.style.gridColumn = \"1/\" + (part+1)\n",
       "            elem.style.display = \"block\"\n",
       "        } else\n",
       "            elem.style.display = \"none\"\n",
       "        elem = document.getElementById(\"stage1-text\")\n",
       "        elem.innerHTML = part + \"/100 (\" + (part / 100 * 100).toFixed(2) + \"%)\"\n",
       "        \n",
       "\n",
       "        var elem = document.getElementById(\"stage2-bar\")\n",
       "        var part = 69\n",
       "        if (part){\n",
       "            elem.style.gridColumn = \"1/\" + (part+1)\n",
       "            elem.style.display = \"block\"\n",
       "        } else\n",
       "            elem.style.display = \"none\"\n",
       "        elem = document.getElementById(\"stage2-text\")\n",
       "        elem.innerHTML = part + \"/100 (\" + (part / 100 * 100).toFixed(2) + \"%)\"\n",
       "        "
      ],
      "text/plain": [
       "<IPython.core.display.Javascript object>"
      ]
     },
     "metadata": {},
     "output_type": "display_data"
    },
    {
     "data": {
      "application/javascript": [
       "\n",
       "\n",
       "        var elem = document.getElementById(\"stage1-bar\")\n",
       "        var part = 30\n",
       "        if (part){\n",
       "            elem.style.gridColumn = \"1/\" + (part+1)\n",
       "            elem.style.display = \"block\"\n",
       "        } else\n",
       "            elem.style.display = \"none\"\n",
       "        elem = document.getElementById(\"stage1-text\")\n",
       "        elem.innerHTML = part + \"/100 (\" + (part / 100 * 100).toFixed(2) + \"%)\"\n",
       "        \n",
       "\n",
       "        var elem = document.getElementById(\"stage2-bar\")\n",
       "        var part = 70\n",
       "        if (part){\n",
       "            elem.style.gridColumn = \"1/\" + (part+1)\n",
       "            elem.style.display = \"block\"\n",
       "        } else\n",
       "            elem.style.display = \"none\"\n",
       "        elem = document.getElementById(\"stage2-text\")\n",
       "        elem.innerHTML = part + \"/100 (\" + (part / 100 * 100).toFixed(2) + \"%)\"\n",
       "        "
      ],
      "text/plain": [
       "<IPython.core.display.Javascript object>"
      ]
     },
     "metadata": {},
     "output_type": "display_data"
    },
    {
     "data": {
      "application/javascript": [
       "\n",
       "\n",
       "        var elem = document.getElementById(\"stage1-bar\")\n",
       "        var part = 29\n",
       "        if (part){\n",
       "            elem.style.gridColumn = \"1/\" + (part+1)\n",
       "            elem.style.display = \"block\"\n",
       "        } else\n",
       "            elem.style.display = \"none\"\n",
       "        elem = document.getElementById(\"stage1-text\")\n",
       "        elem.innerHTML = part + \"/100 (\" + (part / 100 * 100).toFixed(2) + \"%)\"\n",
       "        \n",
       "\n",
       "        var elem = document.getElementById(\"stage2-bar\")\n",
       "        var part = 71\n",
       "        if (part){\n",
       "            elem.style.gridColumn = \"1/\" + (part+1)\n",
       "            elem.style.display = \"block\"\n",
       "        } else\n",
       "            elem.style.display = \"none\"\n",
       "        elem = document.getElementById(\"stage2-text\")\n",
       "        elem.innerHTML = part + \"/100 (\" + (part / 100 * 100).toFixed(2) + \"%)\"\n",
       "        "
      ],
      "text/plain": [
       "<IPython.core.display.Javascript object>"
      ]
     },
     "metadata": {},
     "output_type": "display_data"
    },
    {
     "data": {
      "application/javascript": [
       "\n",
       "\n",
       "        var elem = document.getElementById(\"stage1-bar\")\n",
       "        var part = 28\n",
       "        if (part){\n",
       "            elem.style.gridColumn = \"1/\" + (part+1)\n",
       "            elem.style.display = \"block\"\n",
       "        } else\n",
       "            elem.style.display = \"none\"\n",
       "        elem = document.getElementById(\"stage1-text\")\n",
       "        elem.innerHTML = part + \"/100 (\" + (part / 100 * 100).toFixed(2) + \"%)\"\n",
       "        \n",
       "\n",
       "        var elem = document.getElementById(\"stage2-bar\")\n",
       "        var part = 72\n",
       "        if (part){\n",
       "            elem.style.gridColumn = \"1/\" + (part+1)\n",
       "            elem.style.display = \"block\"\n",
       "        } else\n",
       "            elem.style.display = \"none\"\n",
       "        elem = document.getElementById(\"stage2-text\")\n",
       "        elem.innerHTML = part + \"/100 (\" + (part / 100 * 100).toFixed(2) + \"%)\"\n",
       "        "
      ],
      "text/plain": [
       "<IPython.core.display.Javascript object>"
      ]
     },
     "metadata": {},
     "output_type": "display_data"
    },
    {
     "data": {
      "application/javascript": [
       "\n",
       "\n",
       "        var elem = document.getElementById(\"stage1-bar\")\n",
       "        var part = 27\n",
       "        if (part){\n",
       "            elem.style.gridColumn = \"1/\" + (part+1)\n",
       "            elem.style.display = \"block\"\n",
       "        } else\n",
       "            elem.style.display = \"none\"\n",
       "        elem = document.getElementById(\"stage1-text\")\n",
       "        elem.innerHTML = part + \"/100 (\" + (part / 100 * 100).toFixed(2) + \"%)\"\n",
       "        \n",
       "\n",
       "        var elem = document.getElementById(\"stage2-bar\")\n",
       "        var part = 73\n",
       "        if (part){\n",
       "            elem.style.gridColumn = \"1/\" + (part+1)\n",
       "            elem.style.display = \"block\"\n",
       "        } else\n",
       "            elem.style.display = \"none\"\n",
       "        elem = document.getElementById(\"stage2-text\")\n",
       "        elem.innerHTML = part + \"/100 (\" + (part / 100 * 100).toFixed(2) + \"%)\"\n",
       "        "
      ],
      "text/plain": [
       "<IPython.core.display.Javascript object>"
      ]
     },
     "metadata": {},
     "output_type": "display_data"
    },
    {
     "data": {
      "application/javascript": [
       "\n",
       "\n",
       "        var elem = document.getElementById(\"stage1-bar\")\n",
       "        var part = 26\n",
       "        if (part){\n",
       "            elem.style.gridColumn = \"1/\" + (part+1)\n",
       "            elem.style.display = \"block\"\n",
       "        } else\n",
       "            elem.style.display = \"none\"\n",
       "        elem = document.getElementById(\"stage1-text\")\n",
       "        elem.innerHTML = part + \"/100 (\" + (part / 100 * 100).toFixed(2) + \"%)\"\n",
       "        \n",
       "\n",
       "        var elem = document.getElementById(\"stage2-bar\")\n",
       "        var part = 74\n",
       "        if (part){\n",
       "            elem.style.gridColumn = \"1/\" + (part+1)\n",
       "            elem.style.display = \"block\"\n",
       "        } else\n",
       "            elem.style.display = \"none\"\n",
       "        elem = document.getElementById(\"stage2-text\")\n",
       "        elem.innerHTML = part + \"/100 (\" + (part / 100 * 100).toFixed(2) + \"%)\"\n",
       "        "
      ],
      "text/plain": [
       "<IPython.core.display.Javascript object>"
      ]
     },
     "metadata": {},
     "output_type": "display_data"
    },
    {
     "data": {
      "application/javascript": [
       "\n",
       "\n",
       "        var elem = document.getElementById(\"stage1-bar\")\n",
       "        var part = 25\n",
       "        if (part){\n",
       "            elem.style.gridColumn = \"1/\" + (part+1)\n",
       "            elem.style.display = \"block\"\n",
       "        } else\n",
       "            elem.style.display = \"none\"\n",
       "        elem = document.getElementById(\"stage1-text\")\n",
       "        elem.innerHTML = part + \"/100 (\" + (part / 100 * 100).toFixed(2) + \"%)\"\n",
       "        \n",
       "\n",
       "        var elem = document.getElementById(\"stage2-bar\")\n",
       "        var part = 75\n",
       "        if (part){\n",
       "            elem.style.gridColumn = \"1/\" + (part+1)\n",
       "            elem.style.display = \"block\"\n",
       "        } else\n",
       "            elem.style.display = \"none\"\n",
       "        elem = document.getElementById(\"stage2-text\")\n",
       "        elem.innerHTML = part + \"/100 (\" + (part / 100 * 100).toFixed(2) + \"%)\"\n",
       "        "
      ],
      "text/plain": [
       "<IPython.core.display.Javascript object>"
      ]
     },
     "metadata": {},
     "output_type": "display_data"
    },
    {
     "data": {
      "application/javascript": [
       "\n",
       "\n",
       "        var elem = document.getElementById(\"stage1-bar\")\n",
       "        var part = 24\n",
       "        if (part){\n",
       "            elem.style.gridColumn = \"1/\" + (part+1)\n",
       "            elem.style.display = \"block\"\n",
       "        } else\n",
       "            elem.style.display = \"none\"\n",
       "        elem = document.getElementById(\"stage1-text\")\n",
       "        elem.innerHTML = part + \"/100 (\" + (part / 100 * 100).toFixed(2) + \"%)\"\n",
       "        \n",
       "\n",
       "        var elem = document.getElementById(\"stage2-bar\")\n",
       "        var part = 76\n",
       "        if (part){\n",
       "            elem.style.gridColumn = \"1/\" + (part+1)\n",
       "            elem.style.display = \"block\"\n",
       "        } else\n",
       "            elem.style.display = \"none\"\n",
       "        elem = document.getElementById(\"stage2-text\")\n",
       "        elem.innerHTML = part + \"/100 (\" + (part / 100 * 100).toFixed(2) + \"%)\"\n",
       "        "
      ],
      "text/plain": [
       "<IPython.core.display.Javascript object>"
      ]
     },
     "metadata": {},
     "output_type": "display_data"
    },
    {
     "data": {
      "application/javascript": [
       "\n",
       "\n",
       "        var elem = document.getElementById(\"stage1-bar\")\n",
       "        var part = 23\n",
       "        if (part){\n",
       "            elem.style.gridColumn = \"1/\" + (part+1)\n",
       "            elem.style.display = \"block\"\n",
       "        } else\n",
       "            elem.style.display = \"none\"\n",
       "        elem = document.getElementById(\"stage1-text\")\n",
       "        elem.innerHTML = part + \"/100 (\" + (part / 100 * 100).toFixed(2) + \"%)\"\n",
       "        \n",
       "\n",
       "        var elem = document.getElementById(\"stage2-bar\")\n",
       "        var part = 77\n",
       "        if (part){\n",
       "            elem.style.gridColumn = \"1/\" + (part+1)\n",
       "            elem.style.display = \"block\"\n",
       "        } else\n",
       "            elem.style.display = \"none\"\n",
       "        elem = document.getElementById(\"stage2-text\")\n",
       "        elem.innerHTML = part + \"/100 (\" + (part / 100 * 100).toFixed(2) + \"%)\"\n",
       "        "
      ],
      "text/plain": [
       "<IPython.core.display.Javascript object>"
      ]
     },
     "metadata": {},
     "output_type": "display_data"
    },
    {
     "data": {
      "application/javascript": [
       "\n",
       "\n",
       "        var elem = document.getElementById(\"stage1-bar\")\n",
       "        var part = 22\n",
       "        if (part){\n",
       "            elem.style.gridColumn = \"1/\" + (part+1)\n",
       "            elem.style.display = \"block\"\n",
       "        } else\n",
       "            elem.style.display = \"none\"\n",
       "        elem = document.getElementById(\"stage1-text\")\n",
       "        elem.innerHTML = part + \"/100 (\" + (part / 100 * 100).toFixed(2) + \"%)\"\n",
       "        \n",
       "\n",
       "        var elem = document.getElementById(\"stage2-bar\")\n",
       "        var part = 78\n",
       "        if (part){\n",
       "            elem.style.gridColumn = \"1/\" + (part+1)\n",
       "            elem.style.display = \"block\"\n",
       "        } else\n",
       "            elem.style.display = \"none\"\n",
       "        elem = document.getElementById(\"stage2-text\")\n",
       "        elem.innerHTML = part + \"/100 (\" + (part / 100 * 100).toFixed(2) + \"%)\"\n",
       "        "
      ],
      "text/plain": [
       "<IPython.core.display.Javascript object>"
      ]
     },
     "metadata": {},
     "output_type": "display_data"
    },
    {
     "data": {
      "application/javascript": [
       "\n",
       "\n",
       "        var elem = document.getElementById(\"stage1-bar\")\n",
       "        var part = 21\n",
       "        if (part){\n",
       "            elem.style.gridColumn = \"1/\" + (part+1)\n",
       "            elem.style.display = \"block\"\n",
       "        } else\n",
       "            elem.style.display = \"none\"\n",
       "        elem = document.getElementById(\"stage1-text\")\n",
       "        elem.innerHTML = part + \"/100 (\" + (part / 100 * 100).toFixed(2) + \"%)\"\n",
       "        \n",
       "\n",
       "        var elem = document.getElementById(\"stage2-bar\")\n",
       "        var part = 79\n",
       "        if (part){\n",
       "            elem.style.gridColumn = \"1/\" + (part+1)\n",
       "            elem.style.display = \"block\"\n",
       "        } else\n",
       "            elem.style.display = \"none\"\n",
       "        elem = document.getElementById(\"stage2-text\")\n",
       "        elem.innerHTML = part + \"/100 (\" + (part / 100 * 100).toFixed(2) + \"%)\"\n",
       "        "
      ],
      "text/plain": [
       "<IPython.core.display.Javascript object>"
      ]
     },
     "metadata": {},
     "output_type": "display_data"
    },
    {
     "data": {
      "application/javascript": [
       "\n",
       "\n",
       "        var elem = document.getElementById(\"stage1-bar\")\n",
       "        var part = 20\n",
       "        if (part){\n",
       "            elem.style.gridColumn = \"1/\" + (part+1)\n",
       "            elem.style.display = \"block\"\n",
       "        } else\n",
       "            elem.style.display = \"none\"\n",
       "        elem = document.getElementById(\"stage1-text\")\n",
       "        elem.innerHTML = part + \"/100 (\" + (part / 100 * 100).toFixed(2) + \"%)\"\n",
       "        \n",
       "\n",
       "        var elem = document.getElementById(\"stage2-bar\")\n",
       "        var part = 80\n",
       "        if (part){\n",
       "            elem.style.gridColumn = \"1/\" + (part+1)\n",
       "            elem.style.display = \"block\"\n",
       "        } else\n",
       "            elem.style.display = \"none\"\n",
       "        elem = document.getElementById(\"stage2-text\")\n",
       "        elem.innerHTML = part + \"/100 (\" + (part / 100 * 100).toFixed(2) + \"%)\"\n",
       "        "
      ],
      "text/plain": [
       "<IPython.core.display.Javascript object>"
      ]
     },
     "metadata": {},
     "output_type": "display_data"
    },
    {
     "data": {
      "application/javascript": [
       "\n",
       "\n",
       "        var elem = document.getElementById(\"stage1-bar\")\n",
       "        var part = 19\n",
       "        if (part){\n",
       "            elem.style.gridColumn = \"1/\" + (part+1)\n",
       "            elem.style.display = \"block\"\n",
       "        } else\n",
       "            elem.style.display = \"none\"\n",
       "        elem = document.getElementById(\"stage1-text\")\n",
       "        elem.innerHTML = part + \"/100 (\" + (part / 100 * 100).toFixed(2) + \"%)\"\n",
       "        \n",
       "\n",
       "        var elem = document.getElementById(\"stage2-bar\")\n",
       "        var part = 81\n",
       "        if (part){\n",
       "            elem.style.gridColumn = \"1/\" + (part+1)\n",
       "            elem.style.display = \"block\"\n",
       "        } else\n",
       "            elem.style.display = \"none\"\n",
       "        elem = document.getElementById(\"stage2-text\")\n",
       "        elem.innerHTML = part + \"/100 (\" + (part / 100 * 100).toFixed(2) + \"%)\"\n",
       "        "
      ],
      "text/plain": [
       "<IPython.core.display.Javascript object>"
      ]
     },
     "metadata": {},
     "output_type": "display_data"
    },
    {
     "data": {
      "application/javascript": [
       "\n",
       "\n",
       "        var elem = document.getElementById(\"stage1-bar\")\n",
       "        var part = 18\n",
       "        if (part){\n",
       "            elem.style.gridColumn = \"1/\" + (part+1)\n",
       "            elem.style.display = \"block\"\n",
       "        } else\n",
       "            elem.style.display = \"none\"\n",
       "        elem = document.getElementById(\"stage1-text\")\n",
       "        elem.innerHTML = part + \"/100 (\" + (part / 100 * 100).toFixed(2) + \"%)\"\n",
       "        \n",
       "\n",
       "        var elem = document.getElementById(\"stage2-bar\")\n",
       "        var part = 82\n",
       "        if (part){\n",
       "            elem.style.gridColumn = \"1/\" + (part+1)\n",
       "            elem.style.display = \"block\"\n",
       "        } else\n",
       "            elem.style.display = \"none\"\n",
       "        elem = document.getElementById(\"stage2-text\")\n",
       "        elem.innerHTML = part + \"/100 (\" + (part / 100 * 100).toFixed(2) + \"%)\"\n",
       "        "
      ],
      "text/plain": [
       "<IPython.core.display.Javascript object>"
      ]
     },
     "metadata": {},
     "output_type": "display_data"
    },
    {
     "data": {
      "application/javascript": [
       "\n",
       "\n",
       "        var elem = document.getElementById(\"stage1-bar\")\n",
       "        var part = 17\n",
       "        if (part){\n",
       "            elem.style.gridColumn = \"1/\" + (part+1)\n",
       "            elem.style.display = \"block\"\n",
       "        } else\n",
       "            elem.style.display = \"none\"\n",
       "        elem = document.getElementById(\"stage1-text\")\n",
       "        elem.innerHTML = part + \"/100 (\" + (part / 100 * 100).toFixed(2) + \"%)\"\n",
       "        \n",
       "\n",
       "        var elem = document.getElementById(\"stage2-bar\")\n",
       "        var part = 83\n",
       "        if (part){\n",
       "            elem.style.gridColumn = \"1/\" + (part+1)\n",
       "            elem.style.display = \"block\"\n",
       "        } else\n",
       "            elem.style.display = \"none\"\n",
       "        elem = document.getElementById(\"stage2-text\")\n",
       "        elem.innerHTML = part + \"/100 (\" + (part / 100 * 100).toFixed(2) + \"%)\"\n",
       "        "
      ],
      "text/plain": [
       "<IPython.core.display.Javascript object>"
      ]
     },
     "metadata": {},
     "output_type": "display_data"
    },
    {
     "data": {
      "application/javascript": [
       "\n",
       "\n",
       "        var elem = document.getElementById(\"stage1-bar\")\n",
       "        var part = 16\n",
       "        if (part){\n",
       "            elem.style.gridColumn = \"1/\" + (part+1)\n",
       "            elem.style.display = \"block\"\n",
       "        } else\n",
       "            elem.style.display = \"none\"\n",
       "        elem = document.getElementById(\"stage1-text\")\n",
       "        elem.innerHTML = part + \"/100 (\" + (part / 100 * 100).toFixed(2) + \"%)\"\n",
       "        \n",
       "\n",
       "        var elem = document.getElementById(\"stage2-bar\")\n",
       "        var part = 84\n",
       "        if (part){\n",
       "            elem.style.gridColumn = \"1/\" + (part+1)\n",
       "            elem.style.display = \"block\"\n",
       "        } else\n",
       "            elem.style.display = \"none\"\n",
       "        elem = document.getElementById(\"stage2-text\")\n",
       "        elem.innerHTML = part + \"/100 (\" + (part / 100 * 100).toFixed(2) + \"%)\"\n",
       "        "
      ],
      "text/plain": [
       "<IPython.core.display.Javascript object>"
      ]
     },
     "metadata": {},
     "output_type": "display_data"
    },
    {
     "data": {
      "application/javascript": [
       "\n",
       "\n",
       "        var elem = document.getElementById(\"stage1-bar\")\n",
       "        var part = 15\n",
       "        if (part){\n",
       "            elem.style.gridColumn = \"1/\" + (part+1)\n",
       "            elem.style.display = \"block\"\n",
       "        } else\n",
       "            elem.style.display = \"none\"\n",
       "        elem = document.getElementById(\"stage1-text\")\n",
       "        elem.innerHTML = part + \"/100 (\" + (part / 100 * 100).toFixed(2) + \"%)\"\n",
       "        \n",
       "\n",
       "        var elem = document.getElementById(\"stage2-bar\")\n",
       "        var part = 85\n",
       "        if (part){\n",
       "            elem.style.gridColumn = \"1/\" + (part+1)\n",
       "            elem.style.display = \"block\"\n",
       "        } else\n",
       "            elem.style.display = \"none\"\n",
       "        elem = document.getElementById(\"stage2-text\")\n",
       "        elem.innerHTML = part + \"/100 (\" + (part / 100 * 100).toFixed(2) + \"%)\"\n",
       "        "
      ],
      "text/plain": [
       "<IPython.core.display.Javascript object>"
      ]
     },
     "metadata": {},
     "output_type": "display_data"
    },
    {
     "data": {
      "application/javascript": [
       "\n",
       "\n",
       "        var elem = document.getElementById(\"stage1-bar\")\n",
       "        var part = 14\n",
       "        if (part){\n",
       "            elem.style.gridColumn = \"1/\" + (part+1)\n",
       "            elem.style.display = \"block\"\n",
       "        } else\n",
       "            elem.style.display = \"none\"\n",
       "        elem = document.getElementById(\"stage1-text\")\n",
       "        elem.innerHTML = part + \"/100 (\" + (part / 100 * 100).toFixed(2) + \"%)\"\n",
       "        \n",
       "\n",
       "        var elem = document.getElementById(\"stage2-bar\")\n",
       "        var part = 86\n",
       "        if (part){\n",
       "            elem.style.gridColumn = \"1/\" + (part+1)\n",
       "            elem.style.display = \"block\"\n",
       "        } else\n",
       "            elem.style.display = \"none\"\n",
       "        elem = document.getElementById(\"stage2-text\")\n",
       "        elem.innerHTML = part + \"/100 (\" + (part / 100 * 100).toFixed(2) + \"%)\"\n",
       "        "
      ],
      "text/plain": [
       "<IPython.core.display.Javascript object>"
      ]
     },
     "metadata": {},
     "output_type": "display_data"
    },
    {
     "data": {
      "application/javascript": [
       "\n",
       "\n",
       "        var elem = document.getElementById(\"stage1-bar\")\n",
       "        var part = 13\n",
       "        if (part){\n",
       "            elem.style.gridColumn = \"1/\" + (part+1)\n",
       "            elem.style.display = \"block\"\n",
       "        } else\n",
       "            elem.style.display = \"none\"\n",
       "        elem = document.getElementById(\"stage1-text\")\n",
       "        elem.innerHTML = part + \"/100 (\" + (part / 100 * 100).toFixed(2) + \"%)\"\n",
       "        \n",
       "\n",
       "        var elem = document.getElementById(\"stage2-bar\")\n",
       "        var part = 87\n",
       "        if (part){\n",
       "            elem.style.gridColumn = \"1/\" + (part+1)\n",
       "            elem.style.display = \"block\"\n",
       "        } else\n",
       "            elem.style.display = \"none\"\n",
       "        elem = document.getElementById(\"stage2-text\")\n",
       "        elem.innerHTML = part + \"/100 (\" + (part / 100 * 100).toFixed(2) + \"%)\"\n",
       "        "
      ],
      "text/plain": [
       "<IPython.core.display.Javascript object>"
      ]
     },
     "metadata": {},
     "output_type": "display_data"
    },
    {
     "data": {
      "application/javascript": [
       "\n",
       "\n",
       "        var elem = document.getElementById(\"stage1-bar\")\n",
       "        var part = 12\n",
       "        if (part){\n",
       "            elem.style.gridColumn = \"1/\" + (part+1)\n",
       "            elem.style.display = \"block\"\n",
       "        } else\n",
       "            elem.style.display = \"none\"\n",
       "        elem = document.getElementById(\"stage1-text\")\n",
       "        elem.innerHTML = part + \"/100 (\" + (part / 100 * 100).toFixed(2) + \"%)\"\n",
       "        \n",
       "\n",
       "        var elem = document.getElementById(\"stage2-bar\")\n",
       "        var part = 88\n",
       "        if (part){\n",
       "            elem.style.gridColumn = \"1/\" + (part+1)\n",
       "            elem.style.display = \"block\"\n",
       "        } else\n",
       "            elem.style.display = \"none\"\n",
       "        elem = document.getElementById(\"stage2-text\")\n",
       "        elem.innerHTML = part + \"/100 (\" + (part / 100 * 100).toFixed(2) + \"%)\"\n",
       "        "
      ],
      "text/plain": [
       "<IPython.core.display.Javascript object>"
      ]
     },
     "metadata": {},
     "output_type": "display_data"
    },
    {
     "data": {
      "application/javascript": [
       "\n",
       "\n",
       "        var elem = document.getElementById(\"stage1-bar\")\n",
       "        var part = 11\n",
       "        if (part){\n",
       "            elem.style.gridColumn = \"1/\" + (part+1)\n",
       "            elem.style.display = \"block\"\n",
       "        } else\n",
       "            elem.style.display = \"none\"\n",
       "        elem = document.getElementById(\"stage1-text\")\n",
       "        elem.innerHTML = part + \"/100 (\" + (part / 100 * 100).toFixed(2) + \"%)\"\n",
       "        \n",
       "\n",
       "        var elem = document.getElementById(\"stage2-bar\")\n",
       "        var part = 89\n",
       "        if (part){\n",
       "            elem.style.gridColumn = \"1/\" + (part+1)\n",
       "            elem.style.display = \"block\"\n",
       "        } else\n",
       "            elem.style.display = \"none\"\n",
       "        elem = document.getElementById(\"stage2-text\")\n",
       "        elem.innerHTML = part + \"/100 (\" + (part / 100 * 100).toFixed(2) + \"%)\"\n",
       "        "
      ],
      "text/plain": [
       "<IPython.core.display.Javascript object>"
      ]
     },
     "metadata": {},
     "output_type": "display_data"
    },
    {
     "data": {
      "application/javascript": [
       "\n",
       "\n",
       "        var elem = document.getElementById(\"stage1-bar\")\n",
       "        var part = 10\n",
       "        if (part){\n",
       "            elem.style.gridColumn = \"1/\" + (part+1)\n",
       "            elem.style.display = \"block\"\n",
       "        } else\n",
       "            elem.style.display = \"none\"\n",
       "        elem = document.getElementById(\"stage1-text\")\n",
       "        elem.innerHTML = part + \"/100 (\" + (part / 100 * 100).toFixed(2) + \"%)\"\n",
       "        \n",
       "\n",
       "        var elem = document.getElementById(\"stage2-bar\")\n",
       "        var part = 90\n",
       "        if (part){\n",
       "            elem.style.gridColumn = \"1/\" + (part+1)\n",
       "            elem.style.display = \"block\"\n",
       "        } else\n",
       "            elem.style.display = \"none\"\n",
       "        elem = document.getElementById(\"stage2-text\")\n",
       "        elem.innerHTML = part + \"/100 (\" + (part / 100 * 100).toFixed(2) + \"%)\"\n",
       "        "
      ],
      "text/plain": [
       "<IPython.core.display.Javascript object>"
      ]
     },
     "metadata": {},
     "output_type": "display_data"
    },
    {
     "data": {
      "application/javascript": [
       "\n",
       "\n",
       "        var elem = document.getElementById(\"stage1-bar\")\n",
       "        var part = 9\n",
       "        if (part){\n",
       "            elem.style.gridColumn = \"1/\" + (part+1)\n",
       "            elem.style.display = \"block\"\n",
       "        } else\n",
       "            elem.style.display = \"none\"\n",
       "        elem = document.getElementById(\"stage1-text\")\n",
       "        elem.innerHTML = part + \"/100 (\" + (part / 100 * 100).toFixed(2) + \"%)\"\n",
       "        \n",
       "\n",
       "        var elem = document.getElementById(\"stage2-bar\")\n",
       "        var part = 91\n",
       "        if (part){\n",
       "            elem.style.gridColumn = \"1/\" + (part+1)\n",
       "            elem.style.display = \"block\"\n",
       "        } else\n",
       "            elem.style.display = \"none\"\n",
       "        elem = document.getElementById(\"stage2-text\")\n",
       "        elem.innerHTML = part + \"/100 (\" + (part / 100 * 100).toFixed(2) + \"%)\"\n",
       "        "
      ],
      "text/plain": [
       "<IPython.core.display.Javascript object>"
      ]
     },
     "metadata": {},
     "output_type": "display_data"
    },
    {
     "data": {
      "application/javascript": [
       "\n",
       "\n",
       "        var elem = document.getElementById(\"stage1-bar\")\n",
       "        var part = 8\n",
       "        if (part){\n",
       "            elem.style.gridColumn = \"1/\" + (part+1)\n",
       "            elem.style.display = \"block\"\n",
       "        } else\n",
       "            elem.style.display = \"none\"\n",
       "        elem = document.getElementById(\"stage1-text\")\n",
       "        elem.innerHTML = part + \"/100 (\" + (part / 100 * 100).toFixed(2) + \"%)\"\n",
       "        \n",
       "\n",
       "        var elem = document.getElementById(\"stage2-bar\")\n",
       "        var part = 92\n",
       "        if (part){\n",
       "            elem.style.gridColumn = \"1/\" + (part+1)\n",
       "            elem.style.display = \"block\"\n",
       "        } else\n",
       "            elem.style.display = \"none\"\n",
       "        elem = document.getElementById(\"stage2-text\")\n",
       "        elem.innerHTML = part + \"/100 (\" + (part / 100 * 100).toFixed(2) + \"%)\"\n",
       "        "
      ],
      "text/plain": [
       "<IPython.core.display.Javascript object>"
      ]
     },
     "metadata": {},
     "output_type": "display_data"
    },
    {
     "data": {
      "application/javascript": [
       "\n",
       "\n",
       "        var elem = document.getElementById(\"stage1-bar\")\n",
       "        var part = 7\n",
       "        if (part){\n",
       "            elem.style.gridColumn = \"1/\" + (part+1)\n",
       "            elem.style.display = \"block\"\n",
       "        } else\n",
       "            elem.style.display = \"none\"\n",
       "        elem = document.getElementById(\"stage1-text\")\n",
       "        elem.innerHTML = part + \"/100 (\" + (part / 100 * 100).toFixed(2) + \"%)\"\n",
       "        \n",
       "\n",
       "        var elem = document.getElementById(\"stage2-bar\")\n",
       "        var part = 93\n",
       "        if (part){\n",
       "            elem.style.gridColumn = \"1/\" + (part+1)\n",
       "            elem.style.display = \"block\"\n",
       "        } else\n",
       "            elem.style.display = \"none\"\n",
       "        elem = document.getElementById(\"stage2-text\")\n",
       "        elem.innerHTML = part + \"/100 (\" + (part / 100 * 100).toFixed(2) + \"%)\"\n",
       "        "
      ],
      "text/plain": [
       "<IPython.core.display.Javascript object>"
      ]
     },
     "metadata": {},
     "output_type": "display_data"
    },
    {
     "data": {
      "application/javascript": [
       "\n",
       "\n",
       "        var elem = document.getElementById(\"stage1-bar\")\n",
       "        var part = 6\n",
       "        if (part){\n",
       "            elem.style.gridColumn = \"1/\" + (part+1)\n",
       "            elem.style.display = \"block\"\n",
       "        } else\n",
       "            elem.style.display = \"none\"\n",
       "        elem = document.getElementById(\"stage1-text\")\n",
       "        elem.innerHTML = part + \"/100 (\" + (part / 100 * 100).toFixed(2) + \"%)\"\n",
       "        \n",
       "\n",
       "        var elem = document.getElementById(\"stage2-bar\")\n",
       "        var part = 94\n",
       "        if (part){\n",
       "            elem.style.gridColumn = \"1/\" + (part+1)\n",
       "            elem.style.display = \"block\"\n",
       "        } else\n",
       "            elem.style.display = \"none\"\n",
       "        elem = document.getElementById(\"stage2-text\")\n",
       "        elem.innerHTML = part + \"/100 (\" + (part / 100 * 100).toFixed(2) + \"%)\"\n",
       "        "
      ],
      "text/plain": [
       "<IPython.core.display.Javascript object>"
      ]
     },
     "metadata": {},
     "output_type": "display_data"
    },
    {
     "data": {
      "application/javascript": [
       "\n",
       "\n",
       "        var elem = document.getElementById(\"stage1-bar\")\n",
       "        var part = 5\n",
       "        if (part){\n",
       "            elem.style.gridColumn = \"1/\" + (part+1)\n",
       "            elem.style.display = \"block\"\n",
       "        } else\n",
       "            elem.style.display = \"none\"\n",
       "        elem = document.getElementById(\"stage1-text\")\n",
       "        elem.innerHTML = part + \"/100 (\" + (part / 100 * 100).toFixed(2) + \"%)\"\n",
       "        \n",
       "\n",
       "        var elem = document.getElementById(\"stage2-bar\")\n",
       "        var part = 95\n",
       "        if (part){\n",
       "            elem.style.gridColumn = \"1/\" + (part+1)\n",
       "            elem.style.display = \"block\"\n",
       "        } else\n",
       "            elem.style.display = \"none\"\n",
       "        elem = document.getElementById(\"stage2-text\")\n",
       "        elem.innerHTML = part + \"/100 (\" + (part / 100 * 100).toFixed(2) + \"%)\"\n",
       "        "
      ],
      "text/plain": [
       "<IPython.core.display.Javascript object>"
      ]
     },
     "metadata": {},
     "output_type": "display_data"
    },
    {
     "data": {
      "application/javascript": [
       "\n",
       "\n",
       "        var elem = document.getElementById(\"stage1-bar\")\n",
       "        var part = 4\n",
       "        if (part){\n",
       "            elem.style.gridColumn = \"1/\" + (part+1)\n",
       "            elem.style.display = \"block\"\n",
       "        } else\n",
       "            elem.style.display = \"none\"\n",
       "        elem = document.getElementById(\"stage1-text\")\n",
       "        elem.innerHTML = part + \"/100 (\" + (part / 100 * 100).toFixed(2) + \"%)\"\n",
       "        \n",
       "\n",
       "        var elem = document.getElementById(\"stage2-bar\")\n",
       "        var part = 96\n",
       "        if (part){\n",
       "            elem.style.gridColumn = \"1/\" + (part+1)\n",
       "            elem.style.display = \"block\"\n",
       "        } else\n",
       "            elem.style.display = \"none\"\n",
       "        elem = document.getElementById(\"stage2-text\")\n",
       "        elem.innerHTML = part + \"/100 (\" + (part / 100 * 100).toFixed(2) + \"%)\"\n",
       "        "
      ],
      "text/plain": [
       "<IPython.core.display.Javascript object>"
      ]
     },
     "metadata": {},
     "output_type": "display_data"
    },
    {
     "data": {
      "application/javascript": [
       "\n",
       "\n",
       "        var elem = document.getElementById(\"stage1-bar\")\n",
       "        var part = 3\n",
       "        if (part){\n",
       "            elem.style.gridColumn = \"1/\" + (part+1)\n",
       "            elem.style.display = \"block\"\n",
       "        } else\n",
       "            elem.style.display = \"none\"\n",
       "        elem = document.getElementById(\"stage1-text\")\n",
       "        elem.innerHTML = part + \"/100 (\" + (part / 100 * 100).toFixed(2) + \"%)\"\n",
       "        \n",
       "\n",
       "        var elem = document.getElementById(\"stage2-bar\")\n",
       "        var part = 97\n",
       "        if (part){\n",
       "            elem.style.gridColumn = \"1/\" + (part+1)\n",
       "            elem.style.display = \"block\"\n",
       "        } else\n",
       "            elem.style.display = \"none\"\n",
       "        elem = document.getElementById(\"stage2-text\")\n",
       "        elem.innerHTML = part + \"/100 (\" + (part / 100 * 100).toFixed(2) + \"%)\"\n",
       "        "
      ],
      "text/plain": [
       "<IPython.core.display.Javascript object>"
      ]
     },
     "metadata": {},
     "output_type": "display_data"
    },
    {
     "data": {
      "application/javascript": [
       "\n",
       "\n",
       "        var elem = document.getElementById(\"stage1-bar\")\n",
       "        var part = 2\n",
       "        if (part){\n",
       "            elem.style.gridColumn = \"1/\" + (part+1)\n",
       "            elem.style.display = \"block\"\n",
       "        } else\n",
       "            elem.style.display = \"none\"\n",
       "        elem = document.getElementById(\"stage1-text\")\n",
       "        elem.innerHTML = part + \"/100 (\" + (part / 100 * 100).toFixed(2) + \"%)\"\n",
       "        \n",
       "\n",
       "        var elem = document.getElementById(\"stage2-bar\")\n",
       "        var part = 98\n",
       "        if (part){\n",
       "            elem.style.gridColumn = \"1/\" + (part+1)\n",
       "            elem.style.display = \"block\"\n",
       "        } else\n",
       "            elem.style.display = \"none\"\n",
       "        elem = document.getElementById(\"stage2-text\")\n",
       "        elem.innerHTML = part + \"/100 (\" + (part / 100 * 100).toFixed(2) + \"%)\"\n",
       "        "
      ],
      "text/plain": [
       "<IPython.core.display.Javascript object>"
      ]
     },
     "metadata": {},
     "output_type": "display_data"
    },
    {
     "data": {
      "application/javascript": [
       "\n",
       "\n",
       "        var elem = document.getElementById(\"stage1-bar\")\n",
       "        var part = 1\n",
       "        if (part){\n",
       "            elem.style.gridColumn = \"1/\" + (part+1)\n",
       "            elem.style.display = \"block\"\n",
       "        } else\n",
       "            elem.style.display = \"none\"\n",
       "        elem = document.getElementById(\"stage1-text\")\n",
       "        elem.innerHTML = part + \"/100 (\" + (part / 100 * 100).toFixed(2) + \"%)\"\n",
       "        \n",
       "\n",
       "        var elem = document.getElementById(\"stage2-bar\")\n",
       "        var part = 99\n",
       "        if (part){\n",
       "            elem.style.gridColumn = \"1/\" + (part+1)\n",
       "            elem.style.display = \"block\"\n",
       "        } else\n",
       "            elem.style.display = \"none\"\n",
       "        elem = document.getElementById(\"stage2-text\")\n",
       "        elem.innerHTML = part + \"/100 (\" + (part / 100 * 100).toFixed(2) + \"%)\"\n",
       "        "
      ],
      "text/plain": [
       "<IPython.core.display.Javascript object>"
      ]
     },
     "metadata": {},
     "output_type": "display_data"
    },
    {
     "data": {
      "application/javascript": [
       "\n",
       "\n",
       "        var elem = document.getElementById(\"stage1-bar\")\n",
       "        var part = 0\n",
       "        if (part){\n",
       "            elem.style.gridColumn = \"1/\" + (part+1)\n",
       "            elem.style.display = \"block\"\n",
       "        } else\n",
       "            elem.style.display = \"none\"\n",
       "        elem = document.getElementById(\"stage1-text\")\n",
       "        elem.innerHTML = part + \"/100 (\" + (part / 100 * 100).toFixed(2) + \"%)\"\n",
       "        \n",
       "\n",
       "        var elem = document.getElementById(\"stage2-bar\")\n",
       "        var part = 100\n",
       "        if (part){\n",
       "            elem.style.gridColumn = \"1/\" + (part+1)\n",
       "            elem.style.display = \"block\"\n",
       "        } else\n",
       "            elem.style.display = \"none\"\n",
       "        elem = document.getElementById(\"stage2-text\")\n",
       "        elem.innerHTML = part + \"/100 (\" + (part / 100 * 100).toFixed(2) + \"%)\"\n",
       "        "
      ],
      "text/plain": [
       "<IPython.core.display.Javascript object>"
      ]
     },
     "metadata": {},
     "output_type": "display_data"
    },
    {
     "data": {
      "application/javascript": [
       "\n",
       "\n",
       "        var elem = document.getElementById(\"stage1-timestamp\")\n",
       "        elem.innerHTML = \"10.17s\"\n",
       "        "
      ],
      "text/plain": [
       "<IPython.core.display.Javascript object>"
      ]
     },
     "metadata": {},
     "output_type": "display_data"
    },
    {
     "data": {
      "application/javascript": [
       "\n",
       "\n",
       "        var elem = document.getElementById(\"bar_id_1\")\n",
       "        var part = 97\n",
       "        elem.style.gridColumn = \"1/\" + part\n",
       "        if (part > 1) elem.style.display = \"block\"\n",
       "        \n",
       "\n",
       "        var elem = document.getElementById(\"bar_id_2\")\n",
       "        var part = 90\n",
       "        elem.style.gridColumn = \"1/\" + part\n",
       "        if (part > 1) elem.style.display = \"block\"\n",
       "        \n",
       "\n",
       "        var elem = document.getElementById(\"bar_id_3\")\n",
       "        var part = 89\n",
       "        elem.style.gridColumn = \"1/\" + part\n",
       "        if (part > 1) elem.style.display = \"block\"\n",
       "        \n",
       "\n",
       "        var elem = document.getElementById(\"bar_id_4\")\n",
       "        var part = 94\n",
       "        elem.style.gridColumn = \"1/\" + part\n",
       "        if (part > 1) elem.style.display = \"block\"\n",
       "        \n",
       "\n",
       "        var elem = document.getElementById(\"bar_id_5\")\n",
       "        var part = 97\n",
       "        elem.style.gridColumn = \"1/\" + part\n",
       "        if (part > 1) elem.style.display = \"block\"\n",
       "        \n",
       "\n",
       "        var elem = document.getElementById(\"bar_id_6\")\n",
       "        var part = 85\n",
       "        elem.style.gridColumn = \"1/\" + part\n",
       "        if (part > 1) elem.style.display = \"block\"\n",
       "        \n",
       "\n",
       "        var elem = document.getElementById(\"bar_id_7\")\n",
       "        var part = 91\n",
       "        elem.style.gridColumn = \"1/\" + part\n",
       "        if (part > 1) elem.style.display = \"block\"\n",
       "        \n",
       "\n",
       "        var elem = document.getElementById(\"bar_id_8\")\n",
       "        var part = 88\n",
       "        elem.style.gridColumn = \"1/\" + part\n",
       "        if (part > 1) elem.style.display = \"block\"\n",
       "        \n",
       "\n",
       "        var elem = document.getElementById(\"bar_id_9\")\n",
       "        var part = 92\n",
       "        elem.style.gridColumn = \"1/\" + part\n",
       "        if (part > 1) elem.style.display = \"block\"\n",
       "        \n",
       "\n",
       "        var elem = document.getElementById(\"bar_id_10\")\n",
       "        var part = 88\n",
       "        elem.style.gridColumn = \"1/\" + part\n",
       "        if (part > 1) elem.style.display = \"block\"\n",
       "        \n",
       "\n",
       "        var elem = document.getElementById(\"bar_id_11\")\n",
       "        var part = 87\n",
       "        elem.style.gridColumn = \"1/\" + part\n",
       "        if (part > 1) elem.style.display = \"block\"\n",
       "        \n",
       "\n",
       "        var elem = document.getElementById(\"bar_id_12\")\n",
       "        var part = 97\n",
       "        elem.style.gridColumn = \"1/\" + part\n",
       "        if (part > 1) elem.style.display = \"block\"\n",
       "        \n",
       "\n",
       "        var elem = document.getElementById(\"bar_id_13\")\n",
       "        var part = 89\n",
       "        elem.style.gridColumn = \"1/\" + part\n",
       "        if (part > 1) elem.style.display = \"block\"\n",
       "        \n",
       "\n",
       "        var elem = document.getElementById(\"bar_id_14\")\n",
       "        var part = 94\n",
       "        elem.style.gridColumn = \"1/\" + part\n",
       "        if (part > 1) elem.style.display = \"block\"\n",
       "        \n",
       "\n",
       "        var elem = document.getElementById(\"bar_id_15\")\n",
       "        var part = 90\n",
       "        elem.style.gridColumn = \"1/\" + part\n",
       "        if (part > 1) elem.style.display = \"block\"\n",
       "        \n",
       "\n",
       "        var elem = document.getElementById(\"bar_id_16\")\n",
       "        var part = 95\n",
       "        elem.style.gridColumn = \"1/\" + part\n",
       "        if (part > 1) elem.style.display = \"block\"\n",
       "        \n",
       "\n",
       "        var elem = document.getElementById(\"bar_id_17\")\n",
       "        var part = 87\n",
       "        elem.style.gridColumn = \"1/\" + part\n",
       "        if (part > 1) elem.style.display = \"block\"\n",
       "        \n",
       "\n",
       "        var elem = document.getElementById(\"bar_id_18\")\n",
       "        var part = 94\n",
       "        elem.style.gridColumn = \"1/\" + part\n",
       "        if (part > 1) elem.style.display = \"block\"\n",
       "        \n",
       "\n",
       "        var elem = document.getElementById(\"bar_id_19\")\n",
       "        var part = 91\n",
       "        elem.style.gridColumn = \"1/\" + part\n",
       "        if (part > 1) elem.style.display = \"block\"\n",
       "        \n",
       "\n",
       "        var elem = document.getElementById(\"bar_id_20\")\n",
       "        var part = 97\n",
       "        elem.style.gridColumn = \"1/\" + part\n",
       "        if (part > 1) elem.style.display = \"block\"\n",
       "        \n",
       "\n",
       "        var elem = document.getElementById(\"bar_id_21\")\n",
       "        var part = 95\n",
       "        elem.style.gridColumn = \"1/\" + part\n",
       "        if (part > 1) elem.style.display = \"block\"\n",
       "        \n",
       "\n",
       "        var elem = document.getElementById(\"bar_id_22\")\n",
       "        var part = 91\n",
       "        elem.style.gridColumn = \"1/\" + part\n",
       "        if (part > 1) elem.style.display = \"block\"\n",
       "        \n",
       "\n",
       "        var elem = document.getElementById(\"bar_id_23\")\n",
       "        var part = 91\n",
       "        elem.style.gridColumn = \"1/\" + part\n",
       "        if (part > 1) elem.style.display = \"block\"\n",
       "        \n",
       "\n",
       "        var elem = document.getElementById(\"bar_id_24\")\n",
       "        var part = 85\n",
       "        elem.style.gridColumn = \"1/\" + part\n",
       "        if (part > 1) elem.style.display = \"block\"\n",
       "        \n",
       "\n",
       "        var elem = document.getElementById(\"bar_id_25\")\n",
       "        var part = 88\n",
       "        elem.style.gridColumn = \"1/\" + part\n",
       "        if (part > 1) elem.style.display = \"block\"\n",
       "        \n",
       "\n",
       "        var elem = document.getElementById(\"bar_id_26\")\n",
       "        var part = 90\n",
       "        elem.style.gridColumn = \"1/\" + part\n",
       "        if (part > 1) elem.style.display = \"block\"\n",
       "        \n",
       "\n",
       "        var elem = document.getElementById(\"bar_id_27\")\n",
       "        var part = 92\n",
       "        elem.style.gridColumn = \"1/\" + part\n",
       "        if (part > 1) elem.style.display = \"block\"\n",
       "        \n",
       "\n",
       "        var elem = document.getElementById(\"bar_id_28\")\n",
       "        var part = 89\n",
       "        elem.style.gridColumn = \"1/\" + part\n",
       "        if (part > 1) elem.style.display = \"block\"\n",
       "        \n",
       "\n",
       "        var elem = document.getElementById(\"bar_id_29\")\n",
       "        var part = 92\n",
       "        elem.style.gridColumn = \"1/\" + part\n",
       "        if (part > 1) elem.style.display = \"block\"\n",
       "        \n",
       "\n",
       "        var elem = document.getElementById(\"bar_id_30\")\n",
       "        var part = 98\n",
       "        elem.style.gridColumn = \"1/\" + part\n",
       "        if (part > 1) elem.style.display = \"block\"\n",
       "        \n",
       "\n",
       "        var elem = document.getElementById(\"bar_id_31\")\n",
       "        var part = 92\n",
       "        elem.style.gridColumn = \"1/\" + part\n",
       "        if (part > 1) elem.style.display = \"block\"\n",
       "        \n",
       "\n",
       "        var elem = document.getElementById(\"bar_id_32\")\n",
       "        var part = 94\n",
       "        elem.style.gridColumn = \"1/\" + part\n",
       "        if (part > 1) elem.style.display = \"block\"\n",
       "        \n",
       "\n",
       "        var elem = document.getElementById(\"bar_id_33\")\n",
       "        var part = 89\n",
       "        elem.style.gridColumn = \"1/\" + part\n",
       "        if (part > 1) elem.style.display = \"block\"\n",
       "        \n",
       "\n",
       "        var elem = document.getElementById(\"bar_id_34\")\n",
       "        var part = 94\n",
       "        elem.style.gridColumn = \"1/\" + part\n",
       "        if (part > 1) elem.style.display = \"block\"\n",
       "        \n",
       "\n",
       "        var elem = document.getElementById(\"bar_id_35\")\n",
       "        var part = 92\n",
       "        elem.style.gridColumn = \"1/\" + part\n",
       "        if (part > 1) elem.style.display = \"block\"\n",
       "        \n",
       "\n",
       "        var elem = document.getElementById(\"bar_id_36\")\n",
       "        var part = 88\n",
       "        elem.style.gridColumn = \"1/\" + part\n",
       "        if (part > 1) elem.style.display = \"block\"\n",
       "        \n",
       "\n",
       "        var elem = document.getElementById(\"bar_id_37\")\n",
       "        var part = 84\n",
       "        elem.style.gridColumn = \"1/\" + part\n",
       "        if (part > 1) elem.style.display = \"block\"\n",
       "        \n",
       "\n",
       "        var elem = document.getElementById(\"bar_id_38\")\n",
       "        var part = 87\n",
       "        elem.style.gridColumn = \"1/\" + part\n",
       "        if (part > 1) elem.style.display = \"block\"\n",
       "        \n",
       "\n",
       "        var elem = document.getElementById(\"bar_id_39\")\n",
       "        var part = 86\n",
       "        elem.style.gridColumn = \"1/\" + part\n",
       "        if (part > 1) elem.style.display = \"block\"\n",
       "        \n",
       "\n",
       "        var elem = document.getElementById(\"bar_id_40\")\n",
       "        var part = 95\n",
       "        elem.style.gridColumn = \"1/\" + part\n",
       "        if (part > 1) elem.style.display = \"block\"\n",
       "        \n",
       "\n",
       "        var elem = document.getElementById(\"bar_id_41\")\n",
       "        var part = 99\n",
       "        elem.style.gridColumn = \"1/\" + part\n",
       "        if (part > 1) elem.style.display = \"block\"\n",
       "        \n",
       "\n",
       "        var elem = document.getElementById(\"bar_id_42\")\n",
       "        var part = 92\n",
       "        elem.style.gridColumn = \"1/\" + part\n",
       "        if (part > 1) elem.style.display = \"block\"\n",
       "        \n",
       "\n",
       "        var elem = document.getElementById(\"bar_id_43\")\n",
       "        var part = 91\n",
       "        elem.style.gridColumn = \"1/\" + part\n",
       "        if (part > 1) elem.style.display = \"block\"\n",
       "        \n",
       "\n",
       "        var elem = document.getElementById(\"bar_id_44\")\n",
       "        var part = 89\n",
       "        elem.style.gridColumn = \"1/\" + part\n",
       "        if (part > 1) elem.style.display = \"block\"\n",
       "        \n",
       "\n",
       "        var elem = document.getElementById(\"bar_id_45\")\n",
       "        var part = 88\n",
       "        elem.style.gridColumn = \"1/\" + part\n",
       "        if (part > 1) elem.style.display = \"block\"\n",
       "        \n",
       "\n",
       "        var elem = document.getElementById(\"bar_id_46\")\n",
       "        var part = 84\n",
       "        elem.style.gridColumn = \"1/\" + part\n",
       "        if (part > 1) elem.style.display = \"block\"\n",
       "        \n",
       "\n",
       "        var elem = document.getElementById(\"bar_id_47\")\n",
       "        var part = 86\n",
       "        elem.style.gridColumn = \"1/\" + part\n",
       "        if (part > 1) elem.style.display = \"block\"\n",
       "        \n",
       "\n",
       "        var elem = document.getElementById(\"bar_id_48\")\n",
       "        var part = 90\n",
       "        elem.style.gridColumn = \"1/\" + part\n",
       "        if (part > 1) elem.style.display = \"block\"\n",
       "        \n",
       "\n",
       "        var elem = document.getElementById(\"bar_id_49\")\n",
       "        var part = 97\n",
       "        elem.style.gridColumn = \"1/\" + part\n",
       "        if (part > 1) elem.style.display = \"block\"\n",
       "        \n",
       "\n",
       "        var elem = document.getElementById(\"bar_id_50\")\n",
       "        var part = 94\n",
       "        elem.style.gridColumn = \"1/\" + part\n",
       "        if (part > 1) elem.style.display = \"block\"\n",
       "        \n",
       "\n",
       "        var elem = document.getElementById(\"bar_id_51\")\n",
       "        var part = 94\n",
       "        elem.style.gridColumn = \"1/\" + part\n",
       "        if (part > 1) elem.style.display = \"block\"\n",
       "        \n",
       "\n",
       "        var elem = document.getElementById(\"bar_id_52\")\n",
       "        var part = 91\n",
       "        elem.style.gridColumn = \"1/\" + part\n",
       "        if (part > 1) elem.style.display = \"block\"\n",
       "        \n",
       "\n",
       "        var elem = document.getElementById(\"bar_id_53\")\n",
       "        var part = 94\n",
       "        elem.style.gridColumn = \"1/\" + part\n",
       "        if (part > 1) elem.style.display = \"block\"\n",
       "        \n",
       "\n",
       "        var elem = document.getElementById(\"bar_id_54\")\n",
       "        var part = 93\n",
       "        elem.style.gridColumn = \"1/\" + part\n",
       "        if (part > 1) elem.style.display = \"block\"\n",
       "        \n",
       "\n",
       "        var elem = document.getElementById(\"bar_id_55\")\n",
       "        var part = 92\n",
       "        elem.style.gridColumn = \"1/\" + part\n",
       "        if (part > 1) elem.style.display = \"block\"\n",
       "        \n",
       "\n",
       "        var elem = document.getElementById(\"bar_id_56\")\n",
       "        var part = 90\n",
       "        elem.style.gridColumn = \"1/\" + part\n",
       "        if (part > 1) elem.style.display = \"block\"\n",
       "        \n",
       "\n",
       "        var elem = document.getElementById(\"bar_id_57\")\n",
       "        var part = 91\n",
       "        elem.style.gridColumn = \"1/\" + part\n",
       "        if (part > 1) elem.style.display = \"block\"\n",
       "        \n",
       "\n",
       "        var elem = document.getElementById(\"bar_id_58\")\n",
       "        var part = 91\n",
       "        elem.style.gridColumn = \"1/\" + part\n",
       "        if (part > 1) elem.style.display = \"block\"\n",
       "        \n",
       "\n",
       "        var elem = document.getElementById(\"bar_id_59\")\n",
       "        var part = 84\n",
       "        elem.style.gridColumn = \"1/\" + part\n",
       "        if (part > 1) elem.style.display = \"block\"\n",
       "        \n",
       "\n",
       "        var elem = document.getElementById(\"bar_id_60\")\n",
       "        var part = 88\n",
       "        elem.style.gridColumn = \"1/\" + part\n",
       "        if (part > 1) elem.style.display = \"block\"\n",
       "        \n",
       "\n",
       "        var elem = document.getElementById(\"bar_id_61\")\n",
       "        var part = 90\n",
       "        elem.style.gridColumn = \"1/\" + part\n",
       "        if (part > 1) elem.style.display = \"block\"\n",
       "        \n",
       "\n",
       "        var elem = document.getElementById(\"bar_id_62\")\n",
       "        var part = 97\n",
       "        elem.style.gridColumn = \"1/\" + part\n",
       "        if (part > 1) elem.style.display = \"block\"\n",
       "        \n",
       "\n",
       "        var elem = document.getElementById(\"bar_id_63\")\n",
       "        var part = 91\n",
       "        elem.style.gridColumn = \"1/\" + part\n",
       "        if (part > 1) elem.style.display = \"block\"\n",
       "        \n",
       "\n",
       "        var elem = document.getElementById(\"bar_id_64\")\n",
       "        var part = 94\n",
       "        elem.style.gridColumn = \"1/\" + part\n",
       "        if (part > 1) elem.style.display = \"block\"\n",
       "        \n",
       "\n",
       "        var elem = document.getElementById(\"bar_id_65\")\n",
       "        var part = 98\n",
       "        elem.style.gridColumn = \"1/\" + part\n",
       "        if (part > 1) elem.style.display = \"block\"\n",
       "        \n",
       "\n",
       "        var elem = document.getElementById(\"bar_id_66\")\n",
       "        var part = 95\n",
       "        elem.style.gridColumn = \"1/\" + part\n",
       "        if (part > 1) elem.style.display = \"block\"\n",
       "        \n",
       "\n",
       "        var elem = document.getElementById(\"bar_id_67\")\n",
       "        var part = 92\n",
       "        elem.style.gridColumn = \"1/\" + part\n",
       "        if (part > 1) elem.style.display = \"block\"\n",
       "        \n",
       "\n",
       "        var elem = document.getElementById(\"bar_id_68\")\n",
       "        var part = 90\n",
       "        elem.style.gridColumn = \"1/\" + part\n",
       "        if (part > 1) elem.style.display = \"block\"\n",
       "        \n",
       "\n",
       "        var elem = document.getElementById(\"bar_id_69\")\n",
       "        var part = 93\n",
       "        elem.style.gridColumn = \"1/\" + part\n",
       "        if (part > 1) elem.style.display = \"block\"\n",
       "        \n",
       "\n",
       "        var elem = document.getElementById(\"bar_id_70\")\n",
       "        var part = 94\n",
       "        elem.style.gridColumn = \"1/\" + part\n",
       "        if (part > 1) elem.style.display = \"block\"\n",
       "        \n",
       "\n",
       "        var elem = document.getElementById(\"bar_id_71\")\n",
       "        var part = 86\n",
       "        elem.style.gridColumn = \"1/\" + part\n",
       "        if (part > 1) elem.style.display = \"block\"\n",
       "        \n",
       "\n",
       "        var elem = document.getElementById(\"bar_id_72\")\n",
       "        var part = 89\n",
       "        elem.style.gridColumn = \"1/\" + part\n",
       "        if (part > 1) elem.style.display = \"block\"\n",
       "        \n",
       "\n",
       "        var elem = document.getElementById(\"bar_id_73\")\n",
       "        var part = 94\n",
       "        elem.style.gridColumn = \"1/\" + part\n",
       "        if (part > 1) elem.style.display = \"block\"\n",
       "        \n",
       "\n",
       "        var elem = document.getElementById(\"bar_id_74\")\n",
       "        var part = 92\n",
       "        elem.style.gridColumn = \"1/\" + part\n",
       "        if (part > 1) elem.style.display = \"block\"\n",
       "        \n",
       "\n",
       "        var elem = document.getElementById(\"bar_id_75\")\n",
       "        var part = 91\n",
       "        elem.style.gridColumn = \"1/\" + part\n",
       "        if (part > 1) elem.style.display = \"block\"\n",
       "        \n",
       "\n",
       "        var elem = document.getElementById(\"bar_id_76\")\n",
       "        var part = 91\n",
       "        elem.style.gridColumn = \"1/\" + part\n",
       "        if (part > 1) elem.style.display = \"block\"\n",
       "        \n",
       "\n",
       "        var elem = document.getElementById(\"bar_id_77\")\n",
       "        var part = 89\n",
       "        elem.style.gridColumn = \"1/\" + part\n",
       "        if (part > 1) elem.style.display = \"block\"\n",
       "        \n",
       "\n",
       "        var elem = document.getElementById(\"bar_id_78\")\n",
       "        var part = 97\n",
       "        elem.style.gridColumn = \"1/\" + part\n",
       "        if (part > 1) elem.style.display = \"block\"\n",
       "        \n",
       "\n",
       "        var elem = document.getElementById(\"bar_id_79\")\n",
       "        var part = 95\n",
       "        elem.style.gridColumn = \"1/\" + part\n",
       "        if (part > 1) elem.style.display = \"block\"\n",
       "        \n",
       "\n",
       "        var elem = document.getElementById(\"bar_id_80\")\n",
       "        var part = 93\n",
       "        elem.style.gridColumn = \"1/\" + part\n",
       "        if (part > 1) elem.style.display = \"block\"\n",
       "        \n",
       "\n",
       "        var elem = document.getElementById(\"bar_id_81\")\n",
       "        var part = 93\n",
       "        elem.style.gridColumn = \"1/\" + part\n",
       "        if (part > 1) elem.style.display = \"block\"\n",
       "        \n",
       "\n",
       "        var elem = document.getElementById(\"bar_id_82\")\n",
       "        var part = 98\n",
       "        elem.style.gridColumn = \"1/\" + part\n",
       "        if (part > 1) elem.style.display = \"block\"\n",
       "        \n",
       "\n",
       "        var elem = document.getElementById(\"bar_id_83\")\n",
       "        var part = 92\n",
       "        elem.style.gridColumn = \"1/\" + part\n",
       "        if (part > 1) elem.style.display = \"block\"\n",
       "        \n",
       "\n",
       "        var elem = document.getElementById(\"bar_id_84\")\n",
       "        var part = 86\n",
       "        elem.style.gridColumn = \"1/\" + part\n",
       "        if (part > 1) elem.style.display = \"block\"\n",
       "        \n",
       "\n",
       "        var elem = document.getElementById(\"bar_id_85\")\n",
       "        var part = 94\n",
       "        elem.style.gridColumn = \"1/\" + part\n",
       "        if (part > 1) elem.style.display = \"block\"\n",
       "        \n",
       "\n",
       "        var elem = document.getElementById(\"bar_id_86\")\n",
       "        var part = 95\n",
       "        elem.style.gridColumn = \"1/\" + part\n",
       "        if (part > 1) elem.style.display = \"block\"\n",
       "        \n",
       "\n",
       "        var elem = document.getElementById(\"bar_id_87\")\n",
       "        var part = 92\n",
       "        elem.style.gridColumn = \"1/\" + part\n",
       "        if (part > 1) elem.style.display = \"block\"\n",
       "        \n",
       "\n",
       "        var elem = document.getElementById(\"bar_id_88\")\n",
       "        var part = 97\n",
       "        elem.style.gridColumn = \"1/\" + part\n",
       "        if (part > 1) elem.style.display = \"block\"\n",
       "        \n",
       "\n",
       "        var elem = document.getElementById(\"bar_id_89\")\n",
       "        var part = 92\n",
       "        elem.style.gridColumn = \"1/\" + part\n",
       "        if (part > 1) elem.style.display = \"block\"\n",
       "        \n",
       "\n",
       "        var elem = document.getElementById(\"bar_id_90\")\n",
       "        var part = 89\n",
       "        elem.style.gridColumn = \"1/\" + part\n",
       "        if (part > 1) elem.style.display = \"block\"\n",
       "        \n",
       "\n",
       "        var elem = document.getElementById(\"bar_id_91\")\n",
       "        var part = 90\n",
       "        elem.style.gridColumn = \"1/\" + part\n",
       "        if (part > 1) elem.style.display = \"block\"\n",
       "        \n",
       "\n",
       "        var elem = document.getElementById(\"bar_id_92\")\n",
       "        var part = 88\n",
       "        elem.style.gridColumn = \"1/\" + part\n",
       "        if (part > 1) elem.style.display = \"block\"\n",
       "        \n",
       "\n",
       "        var elem = document.getElementById(\"bar_id_93\")\n",
       "        var part = 88\n",
       "        elem.style.gridColumn = \"1/\" + part\n",
       "        if (part > 1) elem.style.display = \"block\"\n",
       "        \n",
       "\n",
       "        var elem = document.getElementById(\"bar_id_94\")\n",
       "        var part = 91\n",
       "        elem.style.gridColumn = \"1/\" + part\n",
       "        if (part > 1) elem.style.display = \"block\"\n",
       "        \n",
       "\n",
       "        var elem = document.getElementById(\"bar_id_95\")\n",
       "        var part = 91\n",
       "        elem.style.gridColumn = \"1/\" + part\n",
       "        if (part > 1) elem.style.display = \"block\"\n",
       "        \n",
       "\n",
       "        var elem = document.getElementById(\"bar_id_96\")\n",
       "        var part = 93\n",
       "        elem.style.gridColumn = \"1/\" + part\n",
       "        if (part > 1) elem.style.display = \"block\"\n",
       "        \n",
       "\n",
       "        var elem = document.getElementById(\"bar_id_97\")\n",
       "        var part = 86\n",
       "        elem.style.gridColumn = \"1/\" + part\n",
       "        if (part > 1) elem.style.display = \"block\"\n",
       "        \n",
       "\n",
       "        var elem = document.getElementById(\"bar_id_98\")\n",
       "        var part = 89\n",
       "        elem.style.gridColumn = \"1/\" + part\n",
       "        if (part > 1) elem.style.display = \"block\"\n",
       "        \n",
       "\n",
       "        var elem = document.getElementById(\"bar_id_99\")\n",
       "        var part = 96\n",
       "        elem.style.gridColumn = \"1/\" + part\n",
       "        if (part > 1) elem.style.display = \"block\"\n",
       "        "
      ],
      "text/plain": [
       "<IPython.core.display.Javascript object>"
      ]
     },
     "metadata": {},
     "output_type": "display_data"
    },
    {
     "data": {
      "application/javascript": [
       "\n",
       "\n",
       "        var elem = document.getElementById(\"bar_id_0\")\n",
       "        var part = 93\n",
       "        elem.style.gridColumn = \"1/\" + part\n",
       "        if (part > 1) elem.style.display = \"block\"\n",
       "        \n",
       "\n",
       "        var elem = document.getElementById(\"bar_id_1\")\n",
       "        var part = 81\n",
       "        elem.style.gridColumn = \"1/\" + part\n",
       "        if (part > 1) elem.style.display = \"block\"\n",
       "        \n",
       "\n",
       "        var elem = document.getElementById(\"bar_id_2\")\n",
       "        var part = 75\n",
       "        elem.style.gridColumn = \"1/\" + part\n",
       "        if (part > 1) elem.style.display = \"block\"\n",
       "        \n",
       "\n",
       "        var elem = document.getElementById(\"bar_id_3\")\n",
       "        var part = 75\n",
       "        elem.style.gridColumn = \"1/\" + part\n",
       "        if (part > 1) elem.style.display = \"block\"\n",
       "        \n",
       "\n",
       "        var elem = document.getElementById(\"bar_id_4\")\n",
       "        var part = 79\n",
       "        elem.style.gridColumn = \"1/\" + part\n",
       "        if (part > 1) elem.style.display = \"block\"\n",
       "        \n",
       "\n",
       "        var elem = document.getElementById(\"bar_id_5\")\n",
       "        var part = 81\n",
       "        elem.style.gridColumn = \"1/\" + part\n",
       "        if (part > 1) elem.style.display = \"block\"\n",
       "        \n",
       "\n",
       "        var elem = document.getElementById(\"bar_id_6\")\n",
       "        var part = 71\n",
       "        elem.style.gridColumn = \"1/\" + part\n",
       "        if (part > 1) elem.style.display = \"block\"\n",
       "        \n",
       "\n",
       "        var elem = document.getElementById(\"bar_id_7\")\n",
       "        var part = 76\n",
       "        elem.style.gridColumn = \"1/\" + part\n",
       "        if (part > 1) elem.style.display = \"block\"\n",
       "        \n",
       "\n",
       "        var elem = document.getElementById(\"bar_id_8\")\n",
       "        var part = 74\n",
       "        elem.style.gridColumn = \"1/\" + part\n",
       "        if (part > 1) elem.style.display = \"block\"\n",
       "        \n",
       "\n",
       "        var elem = document.getElementById(\"bar_id_9\")\n",
       "        var part = 77\n",
       "        elem.style.gridColumn = \"1/\" + part\n",
       "        if (part > 1) elem.style.display = \"block\"\n",
       "        \n",
       "\n",
       "        var elem = document.getElementById(\"bar_id_10\")\n",
       "        var part = 74\n",
       "        elem.style.gridColumn = \"1/\" + part\n",
       "        if (part > 1) elem.style.display = \"block\"\n",
       "        \n",
       "\n",
       "        var elem = document.getElementById(\"bar_id_11\")\n",
       "        var part = 72\n",
       "        elem.style.gridColumn = \"1/\" + part\n",
       "        if (part > 1) elem.style.display = \"block\"\n",
       "        \n",
       "\n",
       "        var elem = document.getElementById(\"bar_id_12\")\n",
       "        var part = 81\n",
       "        elem.style.gridColumn = \"1/\" + part\n",
       "        if (part > 1) elem.style.display = \"block\"\n",
       "        \n",
       "\n",
       "        var elem = document.getElementById(\"bar_id_13\")\n",
       "        var part = 74\n",
       "        elem.style.gridColumn = \"1/\" + part\n",
       "        if (part > 1) elem.style.display = \"block\"\n",
       "        \n",
       "\n",
       "        var elem = document.getElementById(\"bar_id_14\")\n",
       "        var part = 79\n",
       "        elem.style.gridColumn = \"1/\" + part\n",
       "        if (part > 1) elem.style.display = \"block\"\n",
       "        \n",
       "\n",
       "        var elem = document.getElementById(\"bar_id_15\")\n",
       "        var part = 75\n",
       "        elem.style.gridColumn = \"1/\" + part\n",
       "        if (part > 1) elem.style.display = \"block\"\n",
       "        \n",
       "\n",
       "        var elem = document.getElementById(\"bar_id_16\")\n",
       "        var part = 79\n",
       "        elem.style.gridColumn = \"1/\" + part\n",
       "        if (part > 1) elem.style.display = \"block\"\n",
       "        \n",
       "\n",
       "        var elem = document.getElementById(\"bar_id_17\")\n",
       "        var part = 72\n",
       "        elem.style.gridColumn = \"1/\" + part\n",
       "        if (part > 1) elem.style.display = \"block\"\n",
       "        \n",
       "\n",
       "        var elem = document.getElementById(\"bar_id_18\")\n",
       "        var part = 78\n",
       "        elem.style.gridColumn = \"1/\" + part\n",
       "        if (part > 1) elem.style.display = \"block\"\n",
       "        \n",
       "\n",
       "        var elem = document.getElementById(\"bar_id_19\")\n",
       "        var part = 76\n",
       "        elem.style.gridColumn = \"1/\" + part\n",
       "        if (part > 1) elem.style.display = \"block\"\n",
       "        \n",
       "\n",
       "        var elem = document.getElementById(\"bar_id_20\")\n",
       "        var part = 81\n",
       "        elem.style.gridColumn = \"1/\" + part\n",
       "        if (part > 1) elem.style.display = \"block\"\n",
       "        \n",
       "\n",
       "        var elem = document.getElementById(\"bar_id_21\")\n",
       "        var part = 79\n",
       "        elem.style.gridColumn = \"1/\" + part\n",
       "        if (part > 1) elem.style.display = \"block\"\n",
       "        \n",
       "\n",
       "        var elem = document.getElementById(\"bar_id_22\")\n",
       "        var part = 76\n",
       "        elem.style.gridColumn = \"1/\" + part\n",
       "        if (part > 1) elem.style.display = \"block\"\n",
       "        \n",
       "\n",
       "        var elem = document.getElementById(\"bar_id_23\")\n",
       "        var part = 76\n",
       "        elem.style.gridColumn = \"1/\" + part\n",
       "        if (part > 1) elem.style.display = \"block\"\n",
       "        \n",
       "\n",
       "        var elem = document.getElementById(\"bar_id_24\")\n",
       "        var part = 71\n",
       "        elem.style.gridColumn = \"1/\" + part\n",
       "        if (part > 1) elem.style.display = \"block\"\n",
       "        \n",
       "\n",
       "        var elem = document.getElementById(\"bar_id_25\")\n",
       "        var part = 74\n",
       "        elem.style.gridColumn = \"1/\" + part\n",
       "        if (part > 1) elem.style.display = \"block\"\n",
       "        \n",
       "\n",
       "        var elem = document.getElementById(\"bar_id_26\")\n",
       "        var part = 75\n",
       "        elem.style.gridColumn = \"1/\" + part\n",
       "        if (part > 1) elem.style.display = \"block\"\n",
       "        \n",
       "\n",
       "        var elem = document.getElementById(\"bar_id_27\")\n",
       "        var part = 77\n",
       "        elem.style.gridColumn = \"1/\" + part\n",
       "        if (part > 1) elem.style.display = \"block\"\n",
       "        \n",
       "\n",
       "        var elem = document.getElementById(\"bar_id_28\")\n",
       "        var part = 75\n",
       "        elem.style.gridColumn = \"1/\" + part\n",
       "        if (part > 1) elem.style.display = \"block\"\n",
       "        \n",
       "\n",
       "        var elem = document.getElementById(\"bar_id_29\")\n",
       "        var part = 76\n",
       "        elem.style.gridColumn = \"1/\" + part\n",
       "        if (part > 1) elem.style.display = \"block\"\n",
       "        \n",
       "\n",
       "        var elem = document.getElementById(\"bar_id_30\")\n",
       "        var part = 82\n",
       "        elem.style.gridColumn = \"1/\" + part\n",
       "        if (part > 1) elem.style.display = \"block\"\n",
       "        \n",
       "\n",
       "        var elem = document.getElementById(\"bar_id_31\")\n",
       "        var part = 77\n",
       "        elem.style.gridColumn = \"1/\" + part\n",
       "        if (part > 1) elem.style.display = \"block\"\n",
       "        \n",
       "\n",
       "        var elem = document.getElementById(\"bar_id_32\")\n",
       "        var part = 79\n",
       "        elem.style.gridColumn = \"1/\" + part\n",
       "        if (part > 1) elem.style.display = \"block\"\n",
       "        \n",
       "\n",
       "        var elem = document.getElementById(\"bar_id_33\")\n",
       "        var part = 74\n",
       "        elem.style.gridColumn = \"1/\" + part\n",
       "        if (part > 1) elem.style.display = \"block\"\n",
       "        \n",
       "\n",
       "        var elem = document.getElementById(\"bar_id_34\")\n",
       "        var part = 79\n",
       "        elem.style.gridColumn = \"1/\" + part\n",
       "        if (part > 1) elem.style.display = \"block\"\n",
       "        \n",
       "\n",
       "        var elem = document.getElementById(\"bar_id_35\")\n",
       "        var part = 77\n",
       "        elem.style.gridColumn = \"1/\" + part\n",
       "        if (part > 1) elem.style.display = \"block\"\n",
       "        \n",
       "\n",
       "        var elem = document.getElementById(\"bar_id_36\")\n",
       "        var part = 73\n",
       "        elem.style.gridColumn = \"1/\" + part\n",
       "        if (part > 1) elem.style.display = \"block\"\n",
       "        \n",
       "\n",
       "        var elem = document.getElementById(\"bar_id_37\")\n",
       "        var part = 70\n",
       "        elem.style.gridColumn = \"1/\" + part\n",
       "        if (part > 1) elem.style.display = \"block\"\n",
       "        \n",
       "\n",
       "        var elem = document.getElementById(\"bar_id_38\")\n",
       "        var part = 73\n",
       "        elem.style.gridColumn = \"1/\" + part\n",
       "        if (part > 1) elem.style.display = \"block\"\n",
       "        \n",
       "\n",
       "        var elem = document.getElementById(\"bar_id_39\")\n",
       "        var part = 72\n",
       "        elem.style.gridColumn = \"1/\" + part\n",
       "        if (part > 1) elem.style.display = \"block\"\n",
       "        \n",
       "\n",
       "        var elem = document.getElementById(\"bar_id_40\")\n",
       "        var part = 79\n",
       "        elem.style.gridColumn = \"1/\" + part\n",
       "        if (part > 1) elem.style.display = \"block\"\n",
       "        \n",
       "\n",
       "        var elem = document.getElementById(\"bar_id_41\")\n",
       "        var part = 82\n",
       "        elem.style.gridColumn = \"1/\" + part\n",
       "        if (part > 1) elem.style.display = \"block\"\n",
       "        \n",
       "\n",
       "        var elem = document.getElementById(\"bar_id_42\")\n",
       "        var part = 77\n",
       "        elem.style.gridColumn = \"1/\" + part\n",
       "        if (part > 1) elem.style.display = \"block\"\n",
       "        \n",
       "\n",
       "        var elem = document.getElementById(\"bar_id_43\")\n",
       "        var part = 76\n",
       "        elem.style.gridColumn = \"1/\" + part\n",
       "        if (part > 1) elem.style.display = \"block\"\n",
       "        \n",
       "\n",
       "        var elem = document.getElementById(\"bar_id_44\")\n",
       "        var part = 74\n",
       "        elem.style.gridColumn = \"1/\" + part\n",
       "        if (part > 1) elem.style.display = \"block\"\n",
       "        \n",
       "\n",
       "        var elem = document.getElementById(\"bar_id_45\")\n",
       "        var part = 74\n",
       "        elem.style.gridColumn = \"1/\" + part\n",
       "        if (part > 1) elem.style.display = \"block\"\n",
       "        \n",
       "\n",
       "        var elem = document.getElementById(\"bar_id_46\")\n",
       "        var part = 70\n",
       "        elem.style.gridColumn = \"1/\" + part\n",
       "        if (part > 1) elem.style.display = \"block\"\n",
       "        \n",
       "\n",
       "        var elem = document.getElementById(\"bar_id_47\")\n",
       "        var part = 72\n",
       "        elem.style.gridColumn = \"1/\" + part\n",
       "        if (part > 1) elem.style.display = \"block\"\n",
       "        \n",
       "\n",
       "        var elem = document.getElementById(\"bar_id_48\")\n",
       "        var part = 75\n",
       "        elem.style.gridColumn = \"1/\" + part\n",
       "        if (part > 1) elem.style.display = \"block\"\n",
       "        \n",
       "\n",
       "        var elem = document.getElementById(\"bar_id_49\")\n",
       "        var part = 81\n",
       "        elem.style.gridColumn = \"1/\" + part\n",
       "        if (part > 1) elem.style.display = \"block\"\n",
       "        \n",
       "\n",
       "        var elem = document.getElementById(\"bar_id_50\")\n",
       "        var part = 78\n",
       "        elem.style.gridColumn = \"1/\" + part\n",
       "        if (part > 1) elem.style.display = \"block\"\n",
       "        \n",
       "\n",
       "        var elem = document.getElementById(\"bar_id_51\")\n",
       "        var part = 78\n",
       "        elem.style.gridColumn = \"1/\" + part\n",
       "        if (part > 1) elem.style.display = \"block\"\n",
       "        \n",
       "\n",
       "        var elem = document.getElementById(\"bar_id_52\")\n",
       "        var part = 76\n",
       "        elem.style.gridColumn = \"1/\" + part\n",
       "        if (part > 1) elem.style.display = \"block\"\n",
       "        \n",
       "\n",
       "        var elem = document.getElementById(\"bar_id_53\")\n",
       "        var part = 78\n",
       "        elem.style.gridColumn = \"1/\" + part\n",
       "        if (part > 1) elem.style.display = \"block\"\n",
       "        \n",
       "\n",
       "        var elem = document.getElementById(\"bar_id_54\")\n",
       "        var part = 78\n",
       "        elem.style.gridColumn = \"1/\" + part\n",
       "        if (part > 1) elem.style.display = \"block\"\n",
       "        \n",
       "\n",
       "        var elem = document.getElementById(\"bar_id_55\")\n",
       "        var part = 76\n",
       "        elem.style.gridColumn = \"1/\" + part\n",
       "        if (part > 1) elem.style.display = \"block\"\n",
       "        \n",
       "\n",
       "        var elem = document.getElementById(\"bar_id_56\")\n",
       "        var part = 75\n",
       "        elem.style.gridColumn = \"1/\" + part\n",
       "        if (part > 1) elem.style.display = \"block\"\n",
       "        \n",
       "\n",
       "        var elem = document.getElementById(\"bar_id_57\")\n",
       "        var part = 76\n",
       "        elem.style.gridColumn = \"1/\" + part\n",
       "        if (part > 1) elem.style.display = \"block\"\n",
       "        \n",
       "\n",
       "        var elem = document.getElementById(\"bar_id_58\")\n",
       "        var part = 76\n",
       "        elem.style.gridColumn = \"1/\" + part\n",
       "        if (part > 1) elem.style.display = \"block\"\n",
       "        \n",
       "\n",
       "        var elem = document.getElementById(\"bar_id_59\")\n",
       "        var part = 70\n",
       "        elem.style.gridColumn = \"1/\" + part\n",
       "        if (part > 1) elem.style.display = \"block\"\n",
       "        \n",
       "\n",
       "        var elem = document.getElementById(\"bar_id_60\")\n",
       "        var part = 74\n",
       "        elem.style.gridColumn = \"1/\" + part\n",
       "        if (part > 1) elem.style.display = \"block\"\n",
       "        \n",
       "\n",
       "        var elem = document.getElementById(\"bar_id_61\")\n",
       "        var part = 75\n",
       "        elem.style.gridColumn = \"1/\" + part\n",
       "        if (part > 1) elem.style.display = \"block\"\n",
       "        \n",
       "\n",
       "        var elem = document.getElementById(\"bar_id_62\")\n",
       "        var part = 81\n",
       "        elem.style.gridColumn = \"1/\" + part\n",
       "        if (part > 1) elem.style.display = \"block\"\n",
       "        \n",
       "\n",
       "        var elem = document.getElementById(\"bar_id_63\")\n",
       "        var part = 76\n",
       "        elem.style.gridColumn = \"1/\" + part\n",
       "        if (part > 1) elem.style.display = \"block\"\n",
       "        \n",
       "\n",
       "        var elem = document.getElementById(\"bar_id_64\")\n",
       "        var part = 78\n",
       "        elem.style.gridColumn = \"1/\" + part\n",
       "        if (part > 1) elem.style.display = \"block\"\n",
       "        \n",
       "\n",
       "        var elem = document.getElementById(\"bar_id_65\")\n",
       "        var part = 82\n",
       "        elem.style.gridColumn = \"1/\" + part\n",
       "        if (part > 1) elem.style.display = \"block\"\n",
       "        \n",
       "\n",
       "        var elem = document.getElementById(\"bar_id_66\")\n",
       "        var part = 79\n",
       "        elem.style.gridColumn = \"1/\" + part\n",
       "        if (part > 1) elem.style.display = \"block\"\n",
       "        \n",
       "\n",
       "        var elem = document.getElementById(\"bar_id_67\")\n",
       "        var part = 76\n",
       "        elem.style.gridColumn = \"1/\" + part\n",
       "        if (part > 1) elem.style.display = \"block\"\n",
       "        \n",
       "\n",
       "        var elem = document.getElementById(\"bar_id_68\")\n",
       "        var part = 75\n",
       "        elem.style.gridColumn = \"1/\" + part\n",
       "        if (part > 1) elem.style.display = \"block\"\n",
       "        \n",
       "\n",
       "        var elem = document.getElementById(\"bar_id_69\")\n",
       "        var part = 78\n",
       "        elem.style.gridColumn = \"1/\" + part\n",
       "        if (part > 1) elem.style.display = \"block\"\n",
       "        \n",
       "\n",
       "        var elem = document.getElementById(\"bar_id_70\")\n",
       "        var part = 78\n",
       "        elem.style.gridColumn = \"1/\" + part\n",
       "        if (part > 1) elem.style.display = \"block\"\n",
       "        \n",
       "\n",
       "        var elem = document.getElementById(\"bar_id_71\")\n",
       "        var part = 72\n",
       "        elem.style.gridColumn = \"1/\" + part\n",
       "        if (part > 1) elem.style.display = \"block\"\n",
       "        \n",
       "\n",
       "        var elem = document.getElementById(\"bar_id_72\")\n",
       "        var part = 74\n",
       "        elem.style.gridColumn = \"1/\" + part\n",
       "        if (part > 1) elem.style.display = \"block\"\n",
       "        \n",
       "\n",
       "        var elem = document.getElementById(\"bar_id_73\")\n",
       "        var part = 78\n",
       "        elem.style.gridColumn = \"1/\" + part\n",
       "        if (part > 1) elem.style.display = \"block\"\n",
       "        \n",
       "\n",
       "        var elem = document.getElementById(\"bar_id_74\")\n",
       "        var part = 77\n",
       "        elem.style.gridColumn = \"1/\" + part\n",
       "        if (part > 1) elem.style.display = \"block\"\n",
       "        \n",
       "\n",
       "        var elem = document.getElementById(\"bar_id_75\")\n",
       "        var part = 76\n",
       "        elem.style.gridColumn = \"1/\" + part\n",
       "        if (part > 1) elem.style.display = \"block\"\n",
       "        \n",
       "\n",
       "        var elem = document.getElementById(\"bar_id_76\")\n",
       "        var part = 76\n",
       "        elem.style.gridColumn = \"1/\" + part\n",
       "        if (part > 1) elem.style.display = \"block\"\n",
       "        \n",
       "\n",
       "        var elem = document.getElementById(\"bar_id_77\")\n",
       "        var part = 74\n",
       "        elem.style.gridColumn = \"1/\" + part\n",
       "        if (part > 1) elem.style.display = \"block\"\n",
       "        \n",
       "\n",
       "        var elem = document.getElementById(\"bar_id_78\")\n",
       "        var part = 81\n",
       "        elem.style.gridColumn = \"1/\" + part\n",
       "        if (part > 1) elem.style.display = \"block\"\n",
       "        \n",
       "\n",
       "        var elem = document.getElementById(\"bar_id_79\")\n",
       "        var part = 79\n",
       "        elem.style.gridColumn = \"1/\" + part\n",
       "        if (part > 1) elem.style.display = \"block\"\n",
       "        \n",
       "\n",
       "        var elem = document.getElementById(\"bar_id_80\")\n",
       "        var part = 78\n",
       "        elem.style.gridColumn = \"1/\" + part\n",
       "        if (part > 1) elem.style.display = \"block\"\n",
       "        \n",
       "\n",
       "        var elem = document.getElementById(\"bar_id_81\")\n",
       "        var part = 77\n",
       "        elem.style.gridColumn = \"1/\" + part\n",
       "        if (part > 1) elem.style.display = \"block\"\n",
       "        \n",
       "\n",
       "        var elem = document.getElementById(\"bar_id_82\")\n",
       "        var part = 82\n",
       "        elem.style.gridColumn = \"1/\" + part\n",
       "        if (part > 1) elem.style.display = \"block\"\n",
       "        \n",
       "\n",
       "        var elem = document.getElementById(\"bar_id_83\")\n",
       "        var part = 77\n",
       "        elem.style.gridColumn = \"1/\" + part\n",
       "        if (part > 1) elem.style.display = \"block\"\n",
       "        \n",
       "\n",
       "        var elem = document.getElementById(\"bar_id_84\")\n",
       "        var part = 72\n",
       "        elem.style.gridColumn = \"1/\" + part\n",
       "        if (part > 1) elem.style.display = \"block\"\n",
       "        \n",
       "\n",
       "        var elem = document.getElementById(\"bar_id_85\")\n",
       "        var part = 78\n",
       "        elem.style.gridColumn = \"1/\" + part\n",
       "        if (part > 1) elem.style.display = \"block\"\n",
       "        \n",
       "\n",
       "        var elem = document.getElementById(\"bar_id_86\")\n",
       "        var part = 79\n",
       "        elem.style.gridColumn = \"1/\" + part\n",
       "        if (part > 1) elem.style.display = \"block\"\n",
       "        \n",
       "\n",
       "        var elem = document.getElementById(\"bar_id_87\")\n",
       "        var part = 77\n",
       "        elem.style.gridColumn = \"1/\" + part\n",
       "        if (part > 1) elem.style.display = \"block\"\n",
       "        \n",
       "\n",
       "        var elem = document.getElementById(\"bar_id_88\")\n",
       "        var part = 81\n",
       "        elem.style.gridColumn = \"1/\" + part\n",
       "        if (part > 1) elem.style.display = \"block\"\n",
       "        \n",
       "\n",
       "        var elem = document.getElementById(\"bar_id_89\")\n",
       "        var part = 76\n",
       "        elem.style.gridColumn = \"1/\" + part\n",
       "        if (part > 1) elem.style.display = \"block\"\n",
       "        \n",
       "\n",
       "        var elem = document.getElementById(\"bar_id_90\")\n",
       "        var part = 74\n",
       "        elem.style.gridColumn = \"1/\" + part\n",
       "        if (part > 1) elem.style.display = \"block\"\n",
       "        \n",
       "\n",
       "        var elem = document.getElementById(\"bar_id_91\")\n",
       "        var part = 75\n",
       "        elem.style.gridColumn = \"1/\" + part\n",
       "        if (part > 1) elem.style.display = \"block\"\n",
       "        \n",
       "\n",
       "        var elem = document.getElementById(\"bar_id_92\")\n",
       "        var part = 74\n",
       "        elem.style.gridColumn = \"1/\" + part\n",
       "        if (part > 1) elem.style.display = \"block\"\n",
       "        \n",
       "\n",
       "        var elem = document.getElementById(\"bar_id_93\")\n",
       "        var part = 73\n",
       "        elem.style.gridColumn = \"1/\" + part\n",
       "        if (part > 1) elem.style.display = \"block\"\n",
       "        \n",
       "\n",
       "        var elem = document.getElementById(\"bar_id_94\")\n",
       "        var part = 76\n",
       "        elem.style.gridColumn = \"1/\" + part\n",
       "        if (part > 1) elem.style.display = \"block\"\n",
       "        \n",
       "\n",
       "        var elem = document.getElementById(\"bar_id_95\")\n",
       "        var part = 76\n",
       "        elem.style.gridColumn = \"1/\" + part\n",
       "        if (part > 1) elem.style.display = \"block\"\n",
       "        \n",
       "\n",
       "        var elem = document.getElementById(\"bar_id_96\")\n",
       "        var part = 78\n",
       "        elem.style.gridColumn = \"1/\" + part\n",
       "        if (part > 1) elem.style.display = \"block\"\n",
       "        \n",
       "\n",
       "        var elem = document.getElementById(\"bar_id_97\")\n",
       "        var part = 71\n",
       "        elem.style.gridColumn = \"1/\" + part\n",
       "        if (part > 1) elem.style.display = \"block\"\n",
       "        \n",
       "\n",
       "        var elem = document.getElementById(\"bar_id_98\")\n",
       "        var part = 75\n",
       "        elem.style.gridColumn = \"1/\" + part\n",
       "        if (part > 1) elem.style.display = \"block\"\n",
       "        \n",
       "\n",
       "        var elem = document.getElementById(\"bar_id_99\")\n",
       "        var part = 80\n",
       "        elem.style.gridColumn = \"1/\" + part\n",
       "        if (part > 1) elem.style.display = \"block\"\n",
       "        "
      ],
      "text/plain": [
       "<IPython.core.display.Javascript object>"
      ]
     },
     "metadata": {},
     "output_type": "display_data"
    },
    {
     "data": {
      "application/javascript": [
       "\n",
       "\n",
       "        var elem = document.getElementById(\"stage2-bar\")\n",
       "        var part = 99\n",
       "        if (part){\n",
       "            elem.style.gridColumn = \"1/\" + (part+1)\n",
       "            elem.style.display = \"block\"\n",
       "        } else\n",
       "            elem.style.display = \"none\"\n",
       "        elem = document.getElementById(\"stage2-text\")\n",
       "        elem.innerHTML = part + \"/100 (\" + (part / 100 * 100).toFixed(2) + \"%)\"\n",
       "        \n",
       "\n",
       "        var elem = document.getElementById(\"stage3-bar\")\n",
       "        var part = 1\n",
       "        if (part){\n",
       "            elem.style.gridColumn = \"1/\" + (part+1)\n",
       "            elem.style.display = \"block\"\n",
       "        } else\n",
       "            elem.style.display = \"none\"\n",
       "        elem = document.getElementById(\"stage3-text\")\n",
       "        elem.innerHTML = part + \"/100 (\" + (part / 100 * 100).toFixed(2) + \"%)\"\n",
       "        "
      ],
      "text/plain": [
       "<IPython.core.display.Javascript object>"
      ]
     },
     "metadata": {},
     "output_type": "display_data"
    },
    {
     "data": {
      "application/javascript": [
       "\n",
       "\n",
       "        var elem = document.getElementById(\"bar_id_0\")\n",
       "        elem.style.backgroundColor = \"#1abc9c\"\n",
       "        "
      ],
      "text/plain": [
       "<IPython.core.display.Javascript object>"
      ]
     },
     "metadata": {},
     "output_type": "display_data"
    },
    {
     "data": {
      "application/javascript": [
       "\n",
       "\n",
       "        var elem = document.getElementById(\"stage2-bar\")\n",
       "        var part = 98\n",
       "        if (part){\n",
       "            elem.style.gridColumn = \"1/\" + (part+1)\n",
       "            elem.style.display = \"block\"\n",
       "        } else\n",
       "            elem.style.display = \"none\"\n",
       "        elem = document.getElementById(\"stage2-text\")\n",
       "        elem.innerHTML = part + \"/100 (\" + (part / 100 * 100).toFixed(2) + \"%)\"\n",
       "        \n",
       "\n",
       "        var elem = document.getElementById(\"stage3-bar\")\n",
       "        var part = 2\n",
       "        if (part){\n",
       "            elem.style.gridColumn = \"1/\" + (part+1)\n",
       "            elem.style.display = \"block\"\n",
       "        } else\n",
       "            elem.style.display = \"none\"\n",
       "        elem = document.getElementById(\"stage3-text\")\n",
       "        elem.innerHTML = part + \"/100 (\" + (part / 100 * 100).toFixed(2) + \"%)\"\n",
       "        "
      ],
      "text/plain": [
       "<IPython.core.display.Javascript object>"
      ]
     },
     "metadata": {},
     "output_type": "display_data"
    },
    {
     "data": {
      "application/javascript": [
       "\n",
       "\n",
       "        var elem = document.getElementById(\"bar_id_1\")\n",
       "        elem.style.backgroundColor = \"#1abc9c\"\n",
       "        "
      ],
      "text/plain": [
       "<IPython.core.display.Javascript object>"
      ]
     },
     "metadata": {},
     "output_type": "display_data"
    },
    {
     "data": {
      "application/javascript": [
       "\n",
       "\n",
       "        var elem = document.getElementById(\"stage2-bar\")\n",
       "        var part = 97\n",
       "        if (part){\n",
       "            elem.style.gridColumn = \"1/\" + (part+1)\n",
       "            elem.style.display = \"block\"\n",
       "        } else\n",
       "            elem.style.display = \"none\"\n",
       "        elem = document.getElementById(\"stage2-text\")\n",
       "        elem.innerHTML = part + \"/100 (\" + (part / 100 * 100).toFixed(2) + \"%)\"\n",
       "        \n",
       "\n",
       "        var elem = document.getElementById(\"stage3-bar\")\n",
       "        var part = 3\n",
       "        if (part){\n",
       "            elem.style.gridColumn = \"1/\" + (part+1)\n",
       "            elem.style.display = \"block\"\n",
       "        } else\n",
       "            elem.style.display = \"none\"\n",
       "        elem = document.getElementById(\"stage3-text\")\n",
       "        elem.innerHTML = part + \"/100 (\" + (part / 100 * 100).toFixed(2) + \"%)\"\n",
       "        "
      ],
      "text/plain": [
       "<IPython.core.display.Javascript object>"
      ]
     },
     "metadata": {},
     "output_type": "display_data"
    },
    {
     "data": {
      "application/javascript": [
       "\n",
       "\n",
       "        var elem = document.getElementById(\"bar_id_2\")\n",
       "        elem.style.backgroundColor = \"#1abc9c\"\n",
       "        "
      ],
      "text/plain": [
       "<IPython.core.display.Javascript object>"
      ]
     },
     "metadata": {},
     "output_type": "display_data"
    },
    {
     "data": {
      "application/javascript": [
       "\n",
       "\n",
       "        var elem = document.getElementById(\"stage2-bar\")\n",
       "        var part = 96\n",
       "        if (part){\n",
       "            elem.style.gridColumn = \"1/\" + (part+1)\n",
       "            elem.style.display = \"block\"\n",
       "        } else\n",
       "            elem.style.display = \"none\"\n",
       "        elem = document.getElementById(\"stage2-text\")\n",
       "        elem.innerHTML = part + \"/100 (\" + (part / 100 * 100).toFixed(2) + \"%)\"\n",
       "        \n",
       "\n",
       "        var elem = document.getElementById(\"stage3-bar\")\n",
       "        var part = 4\n",
       "        if (part){\n",
       "            elem.style.gridColumn = \"1/\" + (part+1)\n",
       "            elem.style.display = \"block\"\n",
       "        } else\n",
       "            elem.style.display = \"none\"\n",
       "        elem = document.getElementById(\"stage3-text\")\n",
       "        elem.innerHTML = part + \"/100 (\" + (part / 100 * 100).toFixed(2) + \"%)\"\n",
       "        "
      ],
      "text/plain": [
       "<IPython.core.display.Javascript object>"
      ]
     },
     "metadata": {},
     "output_type": "display_data"
    },
    {
     "data": {
      "application/javascript": [
       "\n",
       "\n",
       "        var elem = document.getElementById(\"bar_id_3\")\n",
       "        elem.style.backgroundColor = \"#1abc9c\"\n",
       "        "
      ],
      "text/plain": [
       "<IPython.core.display.Javascript object>"
      ]
     },
     "metadata": {},
     "output_type": "display_data"
    },
    {
     "data": {
      "application/javascript": [
       "\n",
       "\n",
       "        var elem = document.getElementById(\"stage2-bar\")\n",
       "        var part = 95\n",
       "        if (part){\n",
       "            elem.style.gridColumn = \"1/\" + (part+1)\n",
       "            elem.style.display = \"block\"\n",
       "        } else\n",
       "            elem.style.display = \"none\"\n",
       "        elem = document.getElementById(\"stage2-text\")\n",
       "        elem.innerHTML = part + \"/100 (\" + (part / 100 * 100).toFixed(2) + \"%)\"\n",
       "        \n",
       "\n",
       "        var elem = document.getElementById(\"stage3-bar\")\n",
       "        var part = 5\n",
       "        if (part){\n",
       "            elem.style.gridColumn = \"1/\" + (part+1)\n",
       "            elem.style.display = \"block\"\n",
       "        } else\n",
       "            elem.style.display = \"none\"\n",
       "        elem = document.getElementById(\"stage3-text\")\n",
       "        elem.innerHTML = part + \"/100 (\" + (part / 100 * 100).toFixed(2) + \"%)\"\n",
       "        "
      ],
      "text/plain": [
       "<IPython.core.display.Javascript object>"
      ]
     },
     "metadata": {},
     "output_type": "display_data"
    },
    {
     "data": {
      "application/javascript": [
       "\n",
       "\n",
       "        var elem = document.getElementById(\"bar_id_4\")\n",
       "        elem.style.backgroundColor = \"#1abc9c\"\n",
       "        "
      ],
      "text/plain": [
       "<IPython.core.display.Javascript object>"
      ]
     },
     "metadata": {},
     "output_type": "display_data"
    },
    {
     "data": {
      "application/javascript": [
       "\n",
       "\n",
       "        var elem = document.getElementById(\"stage2-bar\")\n",
       "        var part = 94\n",
       "        if (part){\n",
       "            elem.style.gridColumn = \"1/\" + (part+1)\n",
       "            elem.style.display = \"block\"\n",
       "        } else\n",
       "            elem.style.display = \"none\"\n",
       "        elem = document.getElementById(\"stage2-text\")\n",
       "        elem.innerHTML = part + \"/100 (\" + (part / 100 * 100).toFixed(2) + \"%)\"\n",
       "        \n",
       "\n",
       "        var elem = document.getElementById(\"stage3-bar\")\n",
       "        var part = 6\n",
       "        if (part){\n",
       "            elem.style.gridColumn = \"1/\" + (part+1)\n",
       "            elem.style.display = \"block\"\n",
       "        } else\n",
       "            elem.style.display = \"none\"\n",
       "        elem = document.getElementById(\"stage3-text\")\n",
       "        elem.innerHTML = part + \"/100 (\" + (part / 100 * 100).toFixed(2) + \"%)\"\n",
       "        "
      ],
      "text/plain": [
       "<IPython.core.display.Javascript object>"
      ]
     },
     "metadata": {},
     "output_type": "display_data"
    },
    {
     "data": {
      "application/javascript": [
       "\n",
       "\n",
       "        var elem = document.getElementById(\"bar_id_5\")\n",
       "        elem.style.backgroundColor = \"#1abc9c\"\n",
       "        "
      ],
      "text/plain": [
       "<IPython.core.display.Javascript object>"
      ]
     },
     "metadata": {},
     "output_type": "display_data"
    },
    {
     "data": {
      "application/javascript": [
       "\n",
       "\n",
       "        var elem = document.getElementById(\"stage2-bar\")\n",
       "        var part = 93\n",
       "        if (part){\n",
       "            elem.style.gridColumn = \"1/\" + (part+1)\n",
       "            elem.style.display = \"block\"\n",
       "        } else\n",
       "            elem.style.display = \"none\"\n",
       "        elem = document.getElementById(\"stage2-text\")\n",
       "        elem.innerHTML = part + \"/100 (\" + (part / 100 * 100).toFixed(2) + \"%)\"\n",
       "        \n",
       "\n",
       "        var elem = document.getElementById(\"stage3-bar\")\n",
       "        var part = 7\n",
       "        if (part){\n",
       "            elem.style.gridColumn = \"1/\" + (part+1)\n",
       "            elem.style.display = \"block\"\n",
       "        } else\n",
       "            elem.style.display = \"none\"\n",
       "        elem = document.getElementById(\"stage3-text\")\n",
       "        elem.innerHTML = part + \"/100 (\" + (part / 100 * 100).toFixed(2) + \"%)\"\n",
       "        "
      ],
      "text/plain": [
       "<IPython.core.display.Javascript object>"
      ]
     },
     "metadata": {},
     "output_type": "display_data"
    },
    {
     "data": {
      "application/javascript": [
       "\n",
       "\n",
       "        var elem = document.getElementById(\"bar_id_6\")\n",
       "        elem.style.backgroundColor = \"#1abc9c\"\n",
       "        "
      ],
      "text/plain": [
       "<IPython.core.display.Javascript object>"
      ]
     },
     "metadata": {},
     "output_type": "display_data"
    },
    {
     "data": {
      "application/javascript": [
       "\n",
       "\n",
       "        var elem = document.getElementById(\"stage2-bar\")\n",
       "        var part = 92\n",
       "        if (part){\n",
       "            elem.style.gridColumn = \"1/\" + (part+1)\n",
       "            elem.style.display = \"block\"\n",
       "        } else\n",
       "            elem.style.display = \"none\"\n",
       "        elem = document.getElementById(\"stage2-text\")\n",
       "        elem.innerHTML = part + \"/100 (\" + (part / 100 * 100).toFixed(2) + \"%)\"\n",
       "        \n",
       "\n",
       "        var elem = document.getElementById(\"stage3-bar\")\n",
       "        var part = 8\n",
       "        if (part){\n",
       "            elem.style.gridColumn = \"1/\" + (part+1)\n",
       "            elem.style.display = \"block\"\n",
       "        } else\n",
       "            elem.style.display = \"none\"\n",
       "        elem = document.getElementById(\"stage3-text\")\n",
       "        elem.innerHTML = part + \"/100 (\" + (part / 100 * 100).toFixed(2) + \"%)\"\n",
       "        "
      ],
      "text/plain": [
       "<IPython.core.display.Javascript object>"
      ]
     },
     "metadata": {},
     "output_type": "display_data"
    },
    {
     "data": {
      "application/javascript": [
       "\n",
       "\n",
       "        var elem = document.getElementById(\"bar_id_7\")\n",
       "        elem.style.backgroundColor = \"#1abc9c\"\n",
       "        "
      ],
      "text/plain": [
       "<IPython.core.display.Javascript object>"
      ]
     },
     "metadata": {},
     "output_type": "display_data"
    },
    {
     "data": {
      "application/javascript": [
       "\n",
       "\n",
       "        var elem = document.getElementById(\"stage2-bar\")\n",
       "        var part = 91\n",
       "        if (part){\n",
       "            elem.style.gridColumn = \"1/\" + (part+1)\n",
       "            elem.style.display = \"block\"\n",
       "        } else\n",
       "            elem.style.display = \"none\"\n",
       "        elem = document.getElementById(\"stage2-text\")\n",
       "        elem.innerHTML = part + \"/100 (\" + (part / 100 * 100).toFixed(2) + \"%)\"\n",
       "        \n",
       "\n",
       "        var elem = document.getElementById(\"stage3-bar\")\n",
       "        var part = 9\n",
       "        if (part){\n",
       "            elem.style.gridColumn = \"1/\" + (part+1)\n",
       "            elem.style.display = \"block\"\n",
       "        } else\n",
       "            elem.style.display = \"none\"\n",
       "        elem = document.getElementById(\"stage3-text\")\n",
       "        elem.innerHTML = part + \"/100 (\" + (part / 100 * 100).toFixed(2) + \"%)\"\n",
       "        "
      ],
      "text/plain": [
       "<IPython.core.display.Javascript object>"
      ]
     },
     "metadata": {},
     "output_type": "display_data"
    },
    {
     "data": {
      "application/javascript": [
       "\n",
       "\n",
       "        var elem = document.getElementById(\"bar_id_8\")\n",
       "        elem.style.backgroundColor = \"#1abc9c\"\n",
       "        "
      ],
      "text/plain": [
       "<IPython.core.display.Javascript object>"
      ]
     },
     "metadata": {},
     "output_type": "display_data"
    },
    {
     "data": {
      "application/javascript": [
       "\n",
       "\n",
       "        var elem = document.getElementById(\"stage2-bar\")\n",
       "        var part = 90\n",
       "        if (part){\n",
       "            elem.style.gridColumn = \"1/\" + (part+1)\n",
       "            elem.style.display = \"block\"\n",
       "        } else\n",
       "            elem.style.display = \"none\"\n",
       "        elem = document.getElementById(\"stage2-text\")\n",
       "        elem.innerHTML = part + \"/100 (\" + (part / 100 * 100).toFixed(2) + \"%)\"\n",
       "        \n",
       "\n",
       "        var elem = document.getElementById(\"stage3-bar\")\n",
       "        var part = 10\n",
       "        if (part){\n",
       "            elem.style.gridColumn = \"1/\" + (part+1)\n",
       "            elem.style.display = \"block\"\n",
       "        } else\n",
       "            elem.style.display = \"none\"\n",
       "        elem = document.getElementById(\"stage3-text\")\n",
       "        elem.innerHTML = part + \"/100 (\" + (part / 100 * 100).toFixed(2) + \"%)\"\n",
       "        "
      ],
      "text/plain": [
       "<IPython.core.display.Javascript object>"
      ]
     },
     "metadata": {},
     "output_type": "display_data"
    },
    {
     "data": {
      "application/javascript": [
       "\n",
       "\n",
       "        var elem = document.getElementById(\"bar_id_9\")\n",
       "        elem.style.backgroundColor = \"#1abc9c\"\n",
       "        "
      ],
      "text/plain": [
       "<IPython.core.display.Javascript object>"
      ]
     },
     "metadata": {},
     "output_type": "display_data"
    },
    {
     "data": {
      "application/javascript": [
       "\n",
       "\n",
       "        var elem = document.getElementById(\"stage2-bar\")\n",
       "        var part = 89\n",
       "        if (part){\n",
       "            elem.style.gridColumn = \"1/\" + (part+1)\n",
       "            elem.style.display = \"block\"\n",
       "        } else\n",
       "            elem.style.display = \"none\"\n",
       "        elem = document.getElementById(\"stage2-text\")\n",
       "        elem.innerHTML = part + \"/100 (\" + (part / 100 * 100).toFixed(2) + \"%)\"\n",
       "        \n",
       "\n",
       "        var elem = document.getElementById(\"stage3-bar\")\n",
       "        var part = 11\n",
       "        if (part){\n",
       "            elem.style.gridColumn = \"1/\" + (part+1)\n",
       "            elem.style.display = \"block\"\n",
       "        } else\n",
       "            elem.style.display = \"none\"\n",
       "        elem = document.getElementById(\"stage3-text\")\n",
       "        elem.innerHTML = part + \"/100 (\" + (part / 100 * 100).toFixed(2) + \"%)\"\n",
       "        "
      ],
      "text/plain": [
       "<IPython.core.display.Javascript object>"
      ]
     },
     "metadata": {},
     "output_type": "display_data"
    },
    {
     "data": {
      "application/javascript": [
       "\n",
       "\n",
       "        var elem = document.getElementById(\"bar_id_10\")\n",
       "        elem.style.backgroundColor = \"#1abc9c\"\n",
       "        "
      ],
      "text/plain": [
       "<IPython.core.display.Javascript object>"
      ]
     },
     "metadata": {},
     "output_type": "display_data"
    },
    {
     "data": {
      "application/javascript": [
       "\n",
       "\n",
       "        var elem = document.getElementById(\"stage2-bar\")\n",
       "        var part = 88\n",
       "        if (part){\n",
       "            elem.style.gridColumn = \"1/\" + (part+1)\n",
       "            elem.style.display = \"block\"\n",
       "        } else\n",
       "            elem.style.display = \"none\"\n",
       "        elem = document.getElementById(\"stage2-text\")\n",
       "        elem.innerHTML = part + \"/100 (\" + (part / 100 * 100).toFixed(2) + \"%)\"\n",
       "        \n",
       "\n",
       "        var elem = document.getElementById(\"stage3-bar\")\n",
       "        var part = 12\n",
       "        if (part){\n",
       "            elem.style.gridColumn = \"1/\" + (part+1)\n",
       "            elem.style.display = \"block\"\n",
       "        } else\n",
       "            elem.style.display = \"none\"\n",
       "        elem = document.getElementById(\"stage3-text\")\n",
       "        elem.innerHTML = part + \"/100 (\" + (part / 100 * 100).toFixed(2) + \"%)\"\n",
       "        "
      ],
      "text/plain": [
       "<IPython.core.display.Javascript object>"
      ]
     },
     "metadata": {},
     "output_type": "display_data"
    },
    {
     "data": {
      "application/javascript": [
       "\n",
       "\n",
       "        var elem = document.getElementById(\"bar_id_11\")\n",
       "        elem.style.backgroundColor = \"#1abc9c\"\n",
       "        "
      ],
      "text/plain": [
       "<IPython.core.display.Javascript object>"
      ]
     },
     "metadata": {},
     "output_type": "display_data"
    },
    {
     "data": {
      "application/javascript": [
       "\n",
       "\n",
       "        var elem = document.getElementById(\"stage2-bar\")\n",
       "        var part = 87\n",
       "        if (part){\n",
       "            elem.style.gridColumn = \"1/\" + (part+1)\n",
       "            elem.style.display = \"block\"\n",
       "        } else\n",
       "            elem.style.display = \"none\"\n",
       "        elem = document.getElementById(\"stage2-text\")\n",
       "        elem.innerHTML = part + \"/100 (\" + (part / 100 * 100).toFixed(2) + \"%)\"\n",
       "        \n",
       "\n",
       "        var elem = document.getElementById(\"stage3-bar\")\n",
       "        var part = 13\n",
       "        if (part){\n",
       "            elem.style.gridColumn = \"1/\" + (part+1)\n",
       "            elem.style.display = \"block\"\n",
       "        } else\n",
       "            elem.style.display = \"none\"\n",
       "        elem = document.getElementById(\"stage3-text\")\n",
       "        elem.innerHTML = part + \"/100 (\" + (part / 100 * 100).toFixed(2) + \"%)\"\n",
       "        "
      ],
      "text/plain": [
       "<IPython.core.display.Javascript object>"
      ]
     },
     "metadata": {},
     "output_type": "display_data"
    },
    {
     "data": {
      "application/javascript": [
       "\n",
       "\n",
       "        var elem = document.getElementById(\"bar_id_12\")\n",
       "        elem.style.backgroundColor = \"#1abc9c\"\n",
       "        "
      ],
      "text/plain": [
       "<IPython.core.display.Javascript object>"
      ]
     },
     "metadata": {},
     "output_type": "display_data"
    },
    {
     "data": {
      "application/javascript": [
       "\n",
       "\n",
       "        var elem = document.getElementById(\"stage2-bar\")\n",
       "        var part = 86\n",
       "        if (part){\n",
       "            elem.style.gridColumn = \"1/\" + (part+1)\n",
       "            elem.style.display = \"block\"\n",
       "        } else\n",
       "            elem.style.display = \"none\"\n",
       "        elem = document.getElementById(\"stage2-text\")\n",
       "        elem.innerHTML = part + \"/100 (\" + (part / 100 * 100).toFixed(2) + \"%)\"\n",
       "        \n",
       "\n",
       "        var elem = document.getElementById(\"stage3-bar\")\n",
       "        var part = 14\n",
       "        if (part){\n",
       "            elem.style.gridColumn = \"1/\" + (part+1)\n",
       "            elem.style.display = \"block\"\n",
       "        } else\n",
       "            elem.style.display = \"none\"\n",
       "        elem = document.getElementById(\"stage3-text\")\n",
       "        elem.innerHTML = part + \"/100 (\" + (part / 100 * 100).toFixed(2) + \"%)\"\n",
       "        "
      ],
      "text/plain": [
       "<IPython.core.display.Javascript object>"
      ]
     },
     "metadata": {},
     "output_type": "display_data"
    },
    {
     "data": {
      "application/javascript": [
       "\n",
       "\n",
       "        var elem = document.getElementById(\"bar_id_13\")\n",
       "        elem.style.backgroundColor = \"#1abc9c\"\n",
       "        "
      ],
      "text/plain": [
       "<IPython.core.display.Javascript object>"
      ]
     },
     "metadata": {},
     "output_type": "display_data"
    },
    {
     "data": {
      "application/javascript": [
       "\n",
       "\n",
       "        var elem = document.getElementById(\"stage2-bar\")\n",
       "        var part = 85\n",
       "        if (part){\n",
       "            elem.style.gridColumn = \"1/\" + (part+1)\n",
       "            elem.style.display = \"block\"\n",
       "        } else\n",
       "            elem.style.display = \"none\"\n",
       "        elem = document.getElementById(\"stage2-text\")\n",
       "        elem.innerHTML = part + \"/100 (\" + (part / 100 * 100).toFixed(2) + \"%)\"\n",
       "        \n",
       "\n",
       "        var elem = document.getElementById(\"stage3-bar\")\n",
       "        var part = 15\n",
       "        if (part){\n",
       "            elem.style.gridColumn = \"1/\" + (part+1)\n",
       "            elem.style.display = \"block\"\n",
       "        } else\n",
       "            elem.style.display = \"none\"\n",
       "        elem = document.getElementById(\"stage3-text\")\n",
       "        elem.innerHTML = part + \"/100 (\" + (part / 100 * 100).toFixed(2) + \"%)\"\n",
       "        "
      ],
      "text/plain": [
       "<IPython.core.display.Javascript object>"
      ]
     },
     "metadata": {},
     "output_type": "display_data"
    },
    {
     "data": {
      "application/javascript": [
       "\n",
       "\n",
       "        var elem = document.getElementById(\"bar_id_14\")\n",
       "        elem.style.backgroundColor = \"#1abc9c\"\n",
       "        "
      ],
      "text/plain": [
       "<IPython.core.display.Javascript object>"
      ]
     },
     "metadata": {},
     "output_type": "display_data"
    },
    {
     "data": {
      "application/javascript": [
       "\n",
       "\n",
       "        var elem = document.getElementById(\"stage2-bar\")\n",
       "        var part = 84\n",
       "        if (part){\n",
       "            elem.style.gridColumn = \"1/\" + (part+1)\n",
       "            elem.style.display = \"block\"\n",
       "        } else\n",
       "            elem.style.display = \"none\"\n",
       "        elem = document.getElementById(\"stage2-text\")\n",
       "        elem.innerHTML = part + \"/100 (\" + (part / 100 * 100).toFixed(2) + \"%)\"\n",
       "        \n",
       "\n",
       "        var elem = document.getElementById(\"stage3-bar\")\n",
       "        var part = 16\n",
       "        if (part){\n",
       "            elem.style.gridColumn = \"1/\" + (part+1)\n",
       "            elem.style.display = \"block\"\n",
       "        } else\n",
       "            elem.style.display = \"none\"\n",
       "        elem = document.getElementById(\"stage3-text\")\n",
       "        elem.innerHTML = part + \"/100 (\" + (part / 100 * 100).toFixed(2) + \"%)\"\n",
       "        "
      ],
      "text/plain": [
       "<IPython.core.display.Javascript object>"
      ]
     },
     "metadata": {},
     "output_type": "display_data"
    },
    {
     "data": {
      "application/javascript": [
       "\n",
       "\n",
       "        var elem = document.getElementById(\"bar_id_15\")\n",
       "        elem.style.backgroundColor = \"#1abc9c\"\n",
       "        "
      ],
      "text/plain": [
       "<IPython.core.display.Javascript object>"
      ]
     },
     "metadata": {},
     "output_type": "display_data"
    },
    {
     "data": {
      "application/javascript": [
       "\n",
       "\n",
       "        var elem = document.getElementById(\"stage2-bar\")\n",
       "        var part = 83\n",
       "        if (part){\n",
       "            elem.style.gridColumn = \"1/\" + (part+1)\n",
       "            elem.style.display = \"block\"\n",
       "        } else\n",
       "            elem.style.display = \"none\"\n",
       "        elem = document.getElementById(\"stage2-text\")\n",
       "        elem.innerHTML = part + \"/100 (\" + (part / 100 * 100).toFixed(2) + \"%)\"\n",
       "        \n",
       "\n",
       "        var elem = document.getElementById(\"stage3-bar\")\n",
       "        var part = 17\n",
       "        if (part){\n",
       "            elem.style.gridColumn = \"1/\" + (part+1)\n",
       "            elem.style.display = \"block\"\n",
       "        } else\n",
       "            elem.style.display = \"none\"\n",
       "        elem = document.getElementById(\"stage3-text\")\n",
       "        elem.innerHTML = part + \"/100 (\" + (part / 100 * 100).toFixed(2) + \"%)\"\n",
       "        "
      ],
      "text/plain": [
       "<IPython.core.display.Javascript object>"
      ]
     },
     "metadata": {},
     "output_type": "display_data"
    },
    {
     "data": {
      "application/javascript": [
       "\n",
       "\n",
       "        var elem = document.getElementById(\"bar_id_16\")\n",
       "        elem.style.backgroundColor = \"#1abc9c\"\n",
       "        "
      ],
      "text/plain": [
       "<IPython.core.display.Javascript object>"
      ]
     },
     "metadata": {},
     "output_type": "display_data"
    },
    {
     "data": {
      "application/javascript": [
       "\n",
       "\n",
       "        var elem = document.getElementById(\"stage2-bar\")\n",
       "        var part = 82\n",
       "        if (part){\n",
       "            elem.style.gridColumn = \"1/\" + (part+1)\n",
       "            elem.style.display = \"block\"\n",
       "        } else\n",
       "            elem.style.display = \"none\"\n",
       "        elem = document.getElementById(\"stage2-text\")\n",
       "        elem.innerHTML = part + \"/100 (\" + (part / 100 * 100).toFixed(2) + \"%)\"\n",
       "        \n",
       "\n",
       "        var elem = document.getElementById(\"stage3-bar\")\n",
       "        var part = 18\n",
       "        if (part){\n",
       "            elem.style.gridColumn = \"1/\" + (part+1)\n",
       "            elem.style.display = \"block\"\n",
       "        } else\n",
       "            elem.style.display = \"none\"\n",
       "        elem = document.getElementById(\"stage3-text\")\n",
       "        elem.innerHTML = part + \"/100 (\" + (part / 100 * 100).toFixed(2) + \"%)\"\n",
       "        "
      ],
      "text/plain": [
       "<IPython.core.display.Javascript object>"
      ]
     },
     "metadata": {},
     "output_type": "display_data"
    },
    {
     "data": {
      "application/javascript": [
       "\n",
       "\n",
       "        var elem = document.getElementById(\"bar_id_17\")\n",
       "        elem.style.backgroundColor = \"#1abc9c\"\n",
       "        "
      ],
      "text/plain": [
       "<IPython.core.display.Javascript object>"
      ]
     },
     "metadata": {},
     "output_type": "display_data"
    },
    {
     "data": {
      "application/javascript": [
       "\n",
       "\n",
       "        var elem = document.getElementById(\"stage2-bar\")\n",
       "        var part = 81\n",
       "        if (part){\n",
       "            elem.style.gridColumn = \"1/\" + (part+1)\n",
       "            elem.style.display = \"block\"\n",
       "        } else\n",
       "            elem.style.display = \"none\"\n",
       "        elem = document.getElementById(\"stage2-text\")\n",
       "        elem.innerHTML = part + \"/100 (\" + (part / 100 * 100).toFixed(2) + \"%)\"\n",
       "        \n",
       "\n",
       "        var elem = document.getElementById(\"stage3-bar\")\n",
       "        var part = 19\n",
       "        if (part){\n",
       "            elem.style.gridColumn = \"1/\" + (part+1)\n",
       "            elem.style.display = \"block\"\n",
       "        } else\n",
       "            elem.style.display = \"none\"\n",
       "        elem = document.getElementById(\"stage3-text\")\n",
       "        elem.innerHTML = part + \"/100 (\" + (part / 100 * 100).toFixed(2) + \"%)\"\n",
       "        "
      ],
      "text/plain": [
       "<IPython.core.display.Javascript object>"
      ]
     },
     "metadata": {},
     "output_type": "display_data"
    },
    {
     "data": {
      "application/javascript": [
       "\n",
       "\n",
       "        var elem = document.getElementById(\"bar_id_18\")\n",
       "        elem.style.backgroundColor = \"#1abc9c\"\n",
       "        "
      ],
      "text/plain": [
       "<IPython.core.display.Javascript object>"
      ]
     },
     "metadata": {},
     "output_type": "display_data"
    },
    {
     "data": {
      "application/javascript": [
       "\n",
       "\n",
       "        var elem = document.getElementById(\"stage2-bar\")\n",
       "        var part = 80\n",
       "        if (part){\n",
       "            elem.style.gridColumn = \"1/\" + (part+1)\n",
       "            elem.style.display = \"block\"\n",
       "        } else\n",
       "            elem.style.display = \"none\"\n",
       "        elem = document.getElementById(\"stage2-text\")\n",
       "        elem.innerHTML = part + \"/100 (\" + (part / 100 * 100).toFixed(2) + \"%)\"\n",
       "        \n",
       "\n",
       "        var elem = document.getElementById(\"stage3-bar\")\n",
       "        var part = 20\n",
       "        if (part){\n",
       "            elem.style.gridColumn = \"1/\" + (part+1)\n",
       "            elem.style.display = \"block\"\n",
       "        } else\n",
       "            elem.style.display = \"none\"\n",
       "        elem = document.getElementById(\"stage3-text\")\n",
       "        elem.innerHTML = part + \"/100 (\" + (part / 100 * 100).toFixed(2) + \"%)\"\n",
       "        "
      ],
      "text/plain": [
       "<IPython.core.display.Javascript object>"
      ]
     },
     "metadata": {},
     "output_type": "display_data"
    },
    {
     "data": {
      "application/javascript": [
       "\n",
       "\n",
       "        var elem = document.getElementById(\"bar_id_19\")\n",
       "        elem.style.backgroundColor = \"#1abc9c\"\n",
       "        "
      ],
      "text/plain": [
       "<IPython.core.display.Javascript object>"
      ]
     },
     "metadata": {},
     "output_type": "display_data"
    },
    {
     "data": {
      "application/javascript": [
       "\n",
       "\n",
       "        var elem = document.getElementById(\"stage2-bar\")\n",
       "        var part = 79\n",
       "        if (part){\n",
       "            elem.style.gridColumn = \"1/\" + (part+1)\n",
       "            elem.style.display = \"block\"\n",
       "        } else\n",
       "            elem.style.display = \"none\"\n",
       "        elem = document.getElementById(\"stage2-text\")\n",
       "        elem.innerHTML = part + \"/100 (\" + (part / 100 * 100).toFixed(2) + \"%)\"\n",
       "        \n",
       "\n",
       "        var elem = document.getElementById(\"stage3-bar\")\n",
       "        var part = 21\n",
       "        if (part){\n",
       "            elem.style.gridColumn = \"1/\" + (part+1)\n",
       "            elem.style.display = \"block\"\n",
       "        } else\n",
       "            elem.style.display = \"none\"\n",
       "        elem = document.getElementById(\"stage3-text\")\n",
       "        elem.innerHTML = part + \"/100 (\" + (part / 100 * 100).toFixed(2) + \"%)\"\n",
       "        "
      ],
      "text/plain": [
       "<IPython.core.display.Javascript object>"
      ]
     },
     "metadata": {},
     "output_type": "display_data"
    },
    {
     "data": {
      "application/javascript": [
       "\n",
       "\n",
       "        var elem = document.getElementById(\"bar_id_20\")\n",
       "        elem.style.backgroundColor = \"#1abc9c\"\n",
       "        "
      ],
      "text/plain": [
       "<IPython.core.display.Javascript object>"
      ]
     },
     "metadata": {},
     "output_type": "display_data"
    },
    {
     "data": {
      "application/javascript": [
       "\n",
       "\n",
       "        var elem = document.getElementById(\"stage2-bar\")\n",
       "        var part = 78\n",
       "        if (part){\n",
       "            elem.style.gridColumn = \"1/\" + (part+1)\n",
       "            elem.style.display = \"block\"\n",
       "        } else\n",
       "            elem.style.display = \"none\"\n",
       "        elem = document.getElementById(\"stage2-text\")\n",
       "        elem.innerHTML = part + \"/100 (\" + (part / 100 * 100).toFixed(2) + \"%)\"\n",
       "        \n",
       "\n",
       "        var elem = document.getElementById(\"stage3-bar\")\n",
       "        var part = 22\n",
       "        if (part){\n",
       "            elem.style.gridColumn = \"1/\" + (part+1)\n",
       "            elem.style.display = \"block\"\n",
       "        } else\n",
       "            elem.style.display = \"none\"\n",
       "        elem = document.getElementById(\"stage3-text\")\n",
       "        elem.innerHTML = part + \"/100 (\" + (part / 100 * 100).toFixed(2) + \"%)\"\n",
       "        "
      ],
      "text/plain": [
       "<IPython.core.display.Javascript object>"
      ]
     },
     "metadata": {},
     "output_type": "display_data"
    },
    {
     "data": {
      "application/javascript": [
       "\n",
       "\n",
       "        var elem = document.getElementById(\"bar_id_21\")\n",
       "        elem.style.backgroundColor = \"#1abc9c\"\n",
       "        "
      ],
      "text/plain": [
       "<IPython.core.display.Javascript object>"
      ]
     },
     "metadata": {},
     "output_type": "display_data"
    },
    {
     "data": {
      "application/javascript": [
       "\n",
       "\n",
       "        var elem = document.getElementById(\"stage2-bar\")\n",
       "        var part = 77\n",
       "        if (part){\n",
       "            elem.style.gridColumn = \"1/\" + (part+1)\n",
       "            elem.style.display = \"block\"\n",
       "        } else\n",
       "            elem.style.display = \"none\"\n",
       "        elem = document.getElementById(\"stage2-text\")\n",
       "        elem.innerHTML = part + \"/100 (\" + (part / 100 * 100).toFixed(2) + \"%)\"\n",
       "        \n",
       "\n",
       "        var elem = document.getElementById(\"stage3-bar\")\n",
       "        var part = 23\n",
       "        if (part){\n",
       "            elem.style.gridColumn = \"1/\" + (part+1)\n",
       "            elem.style.display = \"block\"\n",
       "        } else\n",
       "            elem.style.display = \"none\"\n",
       "        elem = document.getElementById(\"stage3-text\")\n",
       "        elem.innerHTML = part + \"/100 (\" + (part / 100 * 100).toFixed(2) + \"%)\"\n",
       "        "
      ],
      "text/plain": [
       "<IPython.core.display.Javascript object>"
      ]
     },
     "metadata": {},
     "output_type": "display_data"
    },
    {
     "data": {
      "application/javascript": [
       "\n",
       "\n",
       "        var elem = document.getElementById(\"bar_id_22\")\n",
       "        elem.style.backgroundColor = \"#1abc9c\"\n",
       "        "
      ],
      "text/plain": [
       "<IPython.core.display.Javascript object>"
      ]
     },
     "metadata": {},
     "output_type": "display_data"
    },
    {
     "data": {
      "application/javascript": [
       "\n",
       "\n",
       "        var elem = document.getElementById(\"stage2-bar\")\n",
       "        var part = 76\n",
       "        if (part){\n",
       "            elem.style.gridColumn = \"1/\" + (part+1)\n",
       "            elem.style.display = \"block\"\n",
       "        } else\n",
       "            elem.style.display = \"none\"\n",
       "        elem = document.getElementById(\"stage2-text\")\n",
       "        elem.innerHTML = part + \"/100 (\" + (part / 100 * 100).toFixed(2) + \"%)\"\n",
       "        \n",
       "\n",
       "        var elem = document.getElementById(\"stage3-bar\")\n",
       "        var part = 24\n",
       "        if (part){\n",
       "            elem.style.gridColumn = \"1/\" + (part+1)\n",
       "            elem.style.display = \"block\"\n",
       "        } else\n",
       "            elem.style.display = \"none\"\n",
       "        elem = document.getElementById(\"stage3-text\")\n",
       "        elem.innerHTML = part + \"/100 (\" + (part / 100 * 100).toFixed(2) + \"%)\"\n",
       "        "
      ],
      "text/plain": [
       "<IPython.core.display.Javascript object>"
      ]
     },
     "metadata": {},
     "output_type": "display_data"
    },
    {
     "data": {
      "application/javascript": [
       "\n",
       "\n",
       "        var elem = document.getElementById(\"bar_id_23\")\n",
       "        elem.style.backgroundColor = \"#1abc9c\"\n",
       "        "
      ],
      "text/plain": [
       "<IPython.core.display.Javascript object>"
      ]
     },
     "metadata": {},
     "output_type": "display_data"
    },
    {
     "data": {
      "application/javascript": [
       "\n",
       "\n",
       "        var elem = document.getElementById(\"stage2-bar\")\n",
       "        var part = 75\n",
       "        if (part){\n",
       "            elem.style.gridColumn = \"1/\" + (part+1)\n",
       "            elem.style.display = \"block\"\n",
       "        } else\n",
       "            elem.style.display = \"none\"\n",
       "        elem = document.getElementById(\"stage2-text\")\n",
       "        elem.innerHTML = part + \"/100 (\" + (part / 100 * 100).toFixed(2) + \"%)\"\n",
       "        \n",
       "\n",
       "        var elem = document.getElementById(\"stage3-bar\")\n",
       "        var part = 25\n",
       "        if (part){\n",
       "            elem.style.gridColumn = \"1/\" + (part+1)\n",
       "            elem.style.display = \"block\"\n",
       "        } else\n",
       "            elem.style.display = \"none\"\n",
       "        elem = document.getElementById(\"stage3-text\")\n",
       "        elem.innerHTML = part + \"/100 (\" + (part / 100 * 100).toFixed(2) + \"%)\"\n",
       "        "
      ],
      "text/plain": [
       "<IPython.core.display.Javascript object>"
      ]
     },
     "metadata": {},
     "output_type": "display_data"
    },
    {
     "data": {
      "application/javascript": [
       "\n",
       "\n",
       "        var elem = document.getElementById(\"bar_id_24\")\n",
       "        elem.style.backgroundColor = \"#1abc9c\"\n",
       "        "
      ],
      "text/plain": [
       "<IPython.core.display.Javascript object>"
      ]
     },
     "metadata": {},
     "output_type": "display_data"
    },
    {
     "data": {
      "application/javascript": [
       "\n",
       "\n",
       "        var elem = document.getElementById(\"stage2-bar\")\n",
       "        var part = 74\n",
       "        if (part){\n",
       "            elem.style.gridColumn = \"1/\" + (part+1)\n",
       "            elem.style.display = \"block\"\n",
       "        } else\n",
       "            elem.style.display = \"none\"\n",
       "        elem = document.getElementById(\"stage2-text\")\n",
       "        elem.innerHTML = part + \"/100 (\" + (part / 100 * 100).toFixed(2) + \"%)\"\n",
       "        \n",
       "\n",
       "        var elem = document.getElementById(\"stage3-bar\")\n",
       "        var part = 26\n",
       "        if (part){\n",
       "            elem.style.gridColumn = \"1/\" + (part+1)\n",
       "            elem.style.display = \"block\"\n",
       "        } else\n",
       "            elem.style.display = \"none\"\n",
       "        elem = document.getElementById(\"stage3-text\")\n",
       "        elem.innerHTML = part + \"/100 (\" + (part / 100 * 100).toFixed(2) + \"%)\"\n",
       "        "
      ],
      "text/plain": [
       "<IPython.core.display.Javascript object>"
      ]
     },
     "metadata": {},
     "output_type": "display_data"
    },
    {
     "data": {
      "application/javascript": [
       "\n",
       "\n",
       "        var elem = document.getElementById(\"bar_id_25\")\n",
       "        elem.style.backgroundColor = \"#1abc9c\"\n",
       "        "
      ],
      "text/plain": [
       "<IPython.core.display.Javascript object>"
      ]
     },
     "metadata": {},
     "output_type": "display_data"
    },
    {
     "data": {
      "application/javascript": [
       "\n",
       "\n",
       "        var elem = document.getElementById(\"stage2-bar\")\n",
       "        var part = 73\n",
       "        if (part){\n",
       "            elem.style.gridColumn = \"1/\" + (part+1)\n",
       "            elem.style.display = \"block\"\n",
       "        } else\n",
       "            elem.style.display = \"none\"\n",
       "        elem = document.getElementById(\"stage2-text\")\n",
       "        elem.innerHTML = part + \"/100 (\" + (part / 100 * 100).toFixed(2) + \"%)\"\n",
       "        \n",
       "\n",
       "        var elem = document.getElementById(\"stage3-bar\")\n",
       "        var part = 27\n",
       "        if (part){\n",
       "            elem.style.gridColumn = \"1/\" + (part+1)\n",
       "            elem.style.display = \"block\"\n",
       "        } else\n",
       "            elem.style.display = \"none\"\n",
       "        elem = document.getElementById(\"stage3-text\")\n",
       "        elem.innerHTML = part + \"/100 (\" + (part / 100 * 100).toFixed(2) + \"%)\"\n",
       "        "
      ],
      "text/plain": [
       "<IPython.core.display.Javascript object>"
      ]
     },
     "metadata": {},
     "output_type": "display_data"
    },
    {
     "data": {
      "application/javascript": [
       "\n",
       "\n",
       "        var elem = document.getElementById(\"bar_id_26\")\n",
       "        elem.style.backgroundColor = \"#1abc9c\"\n",
       "        "
      ],
      "text/plain": [
       "<IPython.core.display.Javascript object>"
      ]
     },
     "metadata": {},
     "output_type": "display_data"
    },
    {
     "data": {
      "application/javascript": [
       "\n",
       "\n",
       "        var elem = document.getElementById(\"stage2-bar\")\n",
       "        var part = 72\n",
       "        if (part){\n",
       "            elem.style.gridColumn = \"1/\" + (part+1)\n",
       "            elem.style.display = \"block\"\n",
       "        } else\n",
       "            elem.style.display = \"none\"\n",
       "        elem = document.getElementById(\"stage2-text\")\n",
       "        elem.innerHTML = part + \"/100 (\" + (part / 100 * 100).toFixed(2) + \"%)\"\n",
       "        \n",
       "\n",
       "        var elem = document.getElementById(\"stage3-bar\")\n",
       "        var part = 28\n",
       "        if (part){\n",
       "            elem.style.gridColumn = \"1/\" + (part+1)\n",
       "            elem.style.display = \"block\"\n",
       "        } else\n",
       "            elem.style.display = \"none\"\n",
       "        elem = document.getElementById(\"stage3-text\")\n",
       "        elem.innerHTML = part + \"/100 (\" + (part / 100 * 100).toFixed(2) + \"%)\"\n",
       "        "
      ],
      "text/plain": [
       "<IPython.core.display.Javascript object>"
      ]
     },
     "metadata": {},
     "output_type": "display_data"
    },
    {
     "data": {
      "application/javascript": [
       "\n",
       "\n",
       "        var elem = document.getElementById(\"bar_id_27\")\n",
       "        elem.style.backgroundColor = \"#1abc9c\"\n",
       "        "
      ],
      "text/plain": [
       "<IPython.core.display.Javascript object>"
      ]
     },
     "metadata": {},
     "output_type": "display_data"
    },
    {
     "data": {
      "application/javascript": [
       "\n",
       "\n",
       "        var elem = document.getElementById(\"stage2-bar\")\n",
       "        var part = 71\n",
       "        if (part){\n",
       "            elem.style.gridColumn = \"1/\" + (part+1)\n",
       "            elem.style.display = \"block\"\n",
       "        } else\n",
       "            elem.style.display = \"none\"\n",
       "        elem = document.getElementById(\"stage2-text\")\n",
       "        elem.innerHTML = part + \"/100 (\" + (part / 100 * 100).toFixed(2) + \"%)\"\n",
       "        \n",
       "\n",
       "        var elem = document.getElementById(\"stage3-bar\")\n",
       "        var part = 29\n",
       "        if (part){\n",
       "            elem.style.gridColumn = \"1/\" + (part+1)\n",
       "            elem.style.display = \"block\"\n",
       "        } else\n",
       "            elem.style.display = \"none\"\n",
       "        elem = document.getElementById(\"stage3-text\")\n",
       "        elem.innerHTML = part + \"/100 (\" + (part / 100 * 100).toFixed(2) + \"%)\"\n",
       "        "
      ],
      "text/plain": [
       "<IPython.core.display.Javascript object>"
      ]
     },
     "metadata": {},
     "output_type": "display_data"
    },
    {
     "data": {
      "application/javascript": [
       "\n",
       "\n",
       "        var elem = document.getElementById(\"bar_id_28\")\n",
       "        elem.style.backgroundColor = \"#1abc9c\"\n",
       "        "
      ],
      "text/plain": [
       "<IPython.core.display.Javascript object>"
      ]
     },
     "metadata": {},
     "output_type": "display_data"
    },
    {
     "data": {
      "application/javascript": [
       "\n",
       "\n",
       "        var elem = document.getElementById(\"stage2-bar\")\n",
       "        var part = 70\n",
       "        if (part){\n",
       "            elem.style.gridColumn = \"1/\" + (part+1)\n",
       "            elem.style.display = \"block\"\n",
       "        } else\n",
       "            elem.style.display = \"none\"\n",
       "        elem = document.getElementById(\"stage2-text\")\n",
       "        elem.innerHTML = part + \"/100 (\" + (part / 100 * 100).toFixed(2) + \"%)\"\n",
       "        \n",
       "\n",
       "        var elem = document.getElementById(\"stage3-bar\")\n",
       "        var part = 30\n",
       "        if (part){\n",
       "            elem.style.gridColumn = \"1/\" + (part+1)\n",
       "            elem.style.display = \"block\"\n",
       "        } else\n",
       "            elem.style.display = \"none\"\n",
       "        elem = document.getElementById(\"stage3-text\")\n",
       "        elem.innerHTML = part + \"/100 (\" + (part / 100 * 100).toFixed(2) + \"%)\"\n",
       "        "
      ],
      "text/plain": [
       "<IPython.core.display.Javascript object>"
      ]
     },
     "metadata": {},
     "output_type": "display_data"
    },
    {
     "data": {
      "application/javascript": [
       "\n",
       "\n",
       "        var elem = document.getElementById(\"bar_id_29\")\n",
       "        elem.style.backgroundColor = \"#1abc9c\"\n",
       "        "
      ],
      "text/plain": [
       "<IPython.core.display.Javascript object>"
      ]
     },
     "metadata": {},
     "output_type": "display_data"
    },
    {
     "data": {
      "application/javascript": [
       "\n",
       "\n",
       "        var elem = document.getElementById(\"stage2-bar\")\n",
       "        var part = 69\n",
       "        if (part){\n",
       "            elem.style.gridColumn = \"1/\" + (part+1)\n",
       "            elem.style.display = \"block\"\n",
       "        } else\n",
       "            elem.style.display = \"none\"\n",
       "        elem = document.getElementById(\"stage2-text\")\n",
       "        elem.innerHTML = part + \"/100 (\" + (part / 100 * 100).toFixed(2) + \"%)\"\n",
       "        \n",
       "\n",
       "        var elem = document.getElementById(\"stage3-bar\")\n",
       "        var part = 31\n",
       "        if (part){\n",
       "            elem.style.gridColumn = \"1/\" + (part+1)\n",
       "            elem.style.display = \"block\"\n",
       "        } else\n",
       "            elem.style.display = \"none\"\n",
       "        elem = document.getElementById(\"stage3-text\")\n",
       "        elem.innerHTML = part + \"/100 (\" + (part / 100 * 100).toFixed(2) + \"%)\"\n",
       "        "
      ],
      "text/plain": [
       "<IPython.core.display.Javascript object>"
      ]
     },
     "metadata": {},
     "output_type": "display_data"
    },
    {
     "data": {
      "application/javascript": [
       "\n",
       "\n",
       "        var elem = document.getElementById(\"bar_id_30\")\n",
       "        elem.style.backgroundColor = \"#1abc9c\"\n",
       "        "
      ],
      "text/plain": [
       "<IPython.core.display.Javascript object>"
      ]
     },
     "metadata": {},
     "output_type": "display_data"
    },
    {
     "data": {
      "application/javascript": [
       "\n",
       "\n",
       "        var elem = document.getElementById(\"stage2-bar\")\n",
       "        var part = 68\n",
       "        if (part){\n",
       "            elem.style.gridColumn = \"1/\" + (part+1)\n",
       "            elem.style.display = \"block\"\n",
       "        } else\n",
       "            elem.style.display = \"none\"\n",
       "        elem = document.getElementById(\"stage2-text\")\n",
       "        elem.innerHTML = part + \"/100 (\" + (part / 100 * 100).toFixed(2) + \"%)\"\n",
       "        \n",
       "\n",
       "        var elem = document.getElementById(\"stage3-bar\")\n",
       "        var part = 32\n",
       "        if (part){\n",
       "            elem.style.gridColumn = \"1/\" + (part+1)\n",
       "            elem.style.display = \"block\"\n",
       "        } else\n",
       "            elem.style.display = \"none\"\n",
       "        elem = document.getElementById(\"stage3-text\")\n",
       "        elem.innerHTML = part + \"/100 (\" + (part / 100 * 100).toFixed(2) + \"%)\"\n",
       "        "
      ],
      "text/plain": [
       "<IPython.core.display.Javascript object>"
      ]
     },
     "metadata": {},
     "output_type": "display_data"
    },
    {
     "data": {
      "application/javascript": [
       "\n",
       "\n",
       "        var elem = document.getElementById(\"bar_id_31\")\n",
       "        elem.style.backgroundColor = \"#1abc9c\"\n",
       "        "
      ],
      "text/plain": [
       "<IPython.core.display.Javascript object>"
      ]
     },
     "metadata": {},
     "output_type": "display_data"
    },
    {
     "data": {
      "application/javascript": [
       "\n",
       "\n",
       "        var elem = document.getElementById(\"stage2-bar\")\n",
       "        var part = 67\n",
       "        if (part){\n",
       "            elem.style.gridColumn = \"1/\" + (part+1)\n",
       "            elem.style.display = \"block\"\n",
       "        } else\n",
       "            elem.style.display = \"none\"\n",
       "        elem = document.getElementById(\"stage2-text\")\n",
       "        elem.innerHTML = part + \"/100 (\" + (part / 100 * 100).toFixed(2) + \"%)\"\n",
       "        \n",
       "\n",
       "        var elem = document.getElementById(\"stage3-bar\")\n",
       "        var part = 33\n",
       "        if (part){\n",
       "            elem.style.gridColumn = \"1/\" + (part+1)\n",
       "            elem.style.display = \"block\"\n",
       "        } else\n",
       "            elem.style.display = \"none\"\n",
       "        elem = document.getElementById(\"stage3-text\")\n",
       "        elem.innerHTML = part + \"/100 (\" + (part / 100 * 100).toFixed(2) + \"%)\"\n",
       "        "
      ],
      "text/plain": [
       "<IPython.core.display.Javascript object>"
      ]
     },
     "metadata": {},
     "output_type": "display_data"
    },
    {
     "data": {
      "application/javascript": [
       "\n",
       "\n",
       "        var elem = document.getElementById(\"bar_id_32\")\n",
       "        elem.style.backgroundColor = \"#1abc9c\"\n",
       "        "
      ],
      "text/plain": [
       "<IPython.core.display.Javascript object>"
      ]
     },
     "metadata": {},
     "output_type": "display_data"
    },
    {
     "data": {
      "application/javascript": [
       "\n",
       "\n",
       "        var elem = document.getElementById(\"stage2-bar\")\n",
       "        var part = 66\n",
       "        if (part){\n",
       "            elem.style.gridColumn = \"1/\" + (part+1)\n",
       "            elem.style.display = \"block\"\n",
       "        } else\n",
       "            elem.style.display = \"none\"\n",
       "        elem = document.getElementById(\"stage2-text\")\n",
       "        elem.innerHTML = part + \"/100 (\" + (part / 100 * 100).toFixed(2) + \"%)\"\n",
       "        \n",
       "\n",
       "        var elem = document.getElementById(\"stage3-bar\")\n",
       "        var part = 34\n",
       "        if (part){\n",
       "            elem.style.gridColumn = \"1/\" + (part+1)\n",
       "            elem.style.display = \"block\"\n",
       "        } else\n",
       "            elem.style.display = \"none\"\n",
       "        elem = document.getElementById(\"stage3-text\")\n",
       "        elem.innerHTML = part + \"/100 (\" + (part / 100 * 100).toFixed(2) + \"%)\"\n",
       "        "
      ],
      "text/plain": [
       "<IPython.core.display.Javascript object>"
      ]
     },
     "metadata": {},
     "output_type": "display_data"
    },
    {
     "data": {
      "application/javascript": [
       "\n",
       "\n",
       "        var elem = document.getElementById(\"bar_id_33\")\n",
       "        elem.style.backgroundColor = \"#1abc9c\"\n",
       "        "
      ],
      "text/plain": [
       "<IPython.core.display.Javascript object>"
      ]
     },
     "metadata": {},
     "output_type": "display_data"
    },
    {
     "data": {
      "application/javascript": [
       "\n",
       "\n",
       "        var elem = document.getElementById(\"stage2-bar\")\n",
       "        var part = 65\n",
       "        if (part){\n",
       "            elem.style.gridColumn = \"1/\" + (part+1)\n",
       "            elem.style.display = \"block\"\n",
       "        } else\n",
       "            elem.style.display = \"none\"\n",
       "        elem = document.getElementById(\"stage2-text\")\n",
       "        elem.innerHTML = part + \"/100 (\" + (part / 100 * 100).toFixed(2) + \"%)\"\n",
       "        \n",
       "\n",
       "        var elem = document.getElementById(\"stage3-bar\")\n",
       "        var part = 35\n",
       "        if (part){\n",
       "            elem.style.gridColumn = \"1/\" + (part+1)\n",
       "            elem.style.display = \"block\"\n",
       "        } else\n",
       "            elem.style.display = \"none\"\n",
       "        elem = document.getElementById(\"stage3-text\")\n",
       "        elem.innerHTML = part + \"/100 (\" + (part / 100 * 100).toFixed(2) + \"%)\"\n",
       "        "
      ],
      "text/plain": [
       "<IPython.core.display.Javascript object>"
      ]
     },
     "metadata": {},
     "output_type": "display_data"
    },
    {
     "data": {
      "application/javascript": [
       "\n",
       "\n",
       "        var elem = document.getElementById(\"bar_id_34\")\n",
       "        elem.style.backgroundColor = \"#1abc9c\"\n",
       "        "
      ],
      "text/plain": [
       "<IPython.core.display.Javascript object>"
      ]
     },
     "metadata": {},
     "output_type": "display_data"
    },
    {
     "data": {
      "application/javascript": [
       "\n",
       "\n",
       "        var elem = document.getElementById(\"stage2-bar\")\n",
       "        var part = 64\n",
       "        if (part){\n",
       "            elem.style.gridColumn = \"1/\" + (part+1)\n",
       "            elem.style.display = \"block\"\n",
       "        } else\n",
       "            elem.style.display = \"none\"\n",
       "        elem = document.getElementById(\"stage2-text\")\n",
       "        elem.innerHTML = part + \"/100 (\" + (part / 100 * 100).toFixed(2) + \"%)\"\n",
       "        \n",
       "\n",
       "        var elem = document.getElementById(\"stage3-bar\")\n",
       "        var part = 36\n",
       "        if (part){\n",
       "            elem.style.gridColumn = \"1/\" + (part+1)\n",
       "            elem.style.display = \"block\"\n",
       "        } else\n",
       "            elem.style.display = \"none\"\n",
       "        elem = document.getElementById(\"stage3-text\")\n",
       "        elem.innerHTML = part + \"/100 (\" + (part / 100 * 100).toFixed(2) + \"%)\"\n",
       "        "
      ],
      "text/plain": [
       "<IPython.core.display.Javascript object>"
      ]
     },
     "metadata": {},
     "output_type": "display_data"
    },
    {
     "data": {
      "application/javascript": [
       "\n",
       "\n",
       "        var elem = document.getElementById(\"bar_id_35\")\n",
       "        elem.style.backgroundColor = \"#1abc9c\"\n",
       "        "
      ],
      "text/plain": [
       "<IPython.core.display.Javascript object>"
      ]
     },
     "metadata": {},
     "output_type": "display_data"
    },
    {
     "data": {
      "application/javascript": [
       "\n",
       "\n",
       "        var elem = document.getElementById(\"stage2-bar\")\n",
       "        var part = 63\n",
       "        if (part){\n",
       "            elem.style.gridColumn = \"1/\" + (part+1)\n",
       "            elem.style.display = \"block\"\n",
       "        } else\n",
       "            elem.style.display = \"none\"\n",
       "        elem = document.getElementById(\"stage2-text\")\n",
       "        elem.innerHTML = part + \"/100 (\" + (part / 100 * 100).toFixed(2) + \"%)\"\n",
       "        \n",
       "\n",
       "        var elem = document.getElementById(\"stage3-bar\")\n",
       "        var part = 37\n",
       "        if (part){\n",
       "            elem.style.gridColumn = \"1/\" + (part+1)\n",
       "            elem.style.display = \"block\"\n",
       "        } else\n",
       "            elem.style.display = \"none\"\n",
       "        elem = document.getElementById(\"stage3-text\")\n",
       "        elem.innerHTML = part + \"/100 (\" + (part / 100 * 100).toFixed(2) + \"%)\"\n",
       "        "
      ],
      "text/plain": [
       "<IPython.core.display.Javascript object>"
      ]
     },
     "metadata": {},
     "output_type": "display_data"
    },
    {
     "data": {
      "application/javascript": [
       "\n",
       "\n",
       "        var elem = document.getElementById(\"bar_id_36\")\n",
       "        elem.style.backgroundColor = \"#1abc9c\"\n",
       "        "
      ],
      "text/plain": [
       "<IPython.core.display.Javascript object>"
      ]
     },
     "metadata": {},
     "output_type": "display_data"
    },
    {
     "data": {
      "application/javascript": [
       "\n",
       "\n",
       "        var elem = document.getElementById(\"stage2-bar\")\n",
       "        var part = 62\n",
       "        if (part){\n",
       "            elem.style.gridColumn = \"1/\" + (part+1)\n",
       "            elem.style.display = \"block\"\n",
       "        } else\n",
       "            elem.style.display = \"none\"\n",
       "        elem = document.getElementById(\"stage2-text\")\n",
       "        elem.innerHTML = part + \"/100 (\" + (part / 100 * 100).toFixed(2) + \"%)\"\n",
       "        \n",
       "\n",
       "        var elem = document.getElementById(\"stage3-bar\")\n",
       "        var part = 38\n",
       "        if (part){\n",
       "            elem.style.gridColumn = \"1/\" + (part+1)\n",
       "            elem.style.display = \"block\"\n",
       "        } else\n",
       "            elem.style.display = \"none\"\n",
       "        elem = document.getElementById(\"stage3-text\")\n",
       "        elem.innerHTML = part + \"/100 (\" + (part / 100 * 100).toFixed(2) + \"%)\"\n",
       "        "
      ],
      "text/plain": [
       "<IPython.core.display.Javascript object>"
      ]
     },
     "metadata": {},
     "output_type": "display_data"
    },
    {
     "data": {
      "application/javascript": [
       "\n",
       "\n",
       "        var elem = document.getElementById(\"bar_id_37\")\n",
       "        elem.style.backgroundColor = \"#1abc9c\"\n",
       "        "
      ],
      "text/plain": [
       "<IPython.core.display.Javascript object>"
      ]
     },
     "metadata": {},
     "output_type": "display_data"
    },
    {
     "data": {
      "application/javascript": [
       "\n",
       "\n",
       "        var elem = document.getElementById(\"stage2-bar\")\n",
       "        var part = 61\n",
       "        if (part){\n",
       "            elem.style.gridColumn = \"1/\" + (part+1)\n",
       "            elem.style.display = \"block\"\n",
       "        } else\n",
       "            elem.style.display = \"none\"\n",
       "        elem = document.getElementById(\"stage2-text\")\n",
       "        elem.innerHTML = part + \"/100 (\" + (part / 100 * 100).toFixed(2) + \"%)\"\n",
       "        \n",
       "\n",
       "        var elem = document.getElementById(\"stage3-bar\")\n",
       "        var part = 39\n",
       "        if (part){\n",
       "            elem.style.gridColumn = \"1/\" + (part+1)\n",
       "            elem.style.display = \"block\"\n",
       "        } else\n",
       "            elem.style.display = \"none\"\n",
       "        elem = document.getElementById(\"stage3-text\")\n",
       "        elem.innerHTML = part + \"/100 (\" + (part / 100 * 100).toFixed(2) + \"%)\"\n",
       "        "
      ],
      "text/plain": [
       "<IPython.core.display.Javascript object>"
      ]
     },
     "metadata": {},
     "output_type": "display_data"
    },
    {
     "data": {
      "application/javascript": [
       "\n",
       "\n",
       "        var elem = document.getElementById(\"bar_id_38\")\n",
       "        elem.style.backgroundColor = \"#1abc9c\"\n",
       "        "
      ],
      "text/plain": [
       "<IPython.core.display.Javascript object>"
      ]
     },
     "metadata": {},
     "output_type": "display_data"
    },
    {
     "data": {
      "application/javascript": [
       "\n",
       "\n",
       "        var elem = document.getElementById(\"stage2-bar\")\n",
       "        var part = 60\n",
       "        if (part){\n",
       "            elem.style.gridColumn = \"1/\" + (part+1)\n",
       "            elem.style.display = \"block\"\n",
       "        } else\n",
       "            elem.style.display = \"none\"\n",
       "        elem = document.getElementById(\"stage2-text\")\n",
       "        elem.innerHTML = part + \"/100 (\" + (part / 100 * 100).toFixed(2) + \"%)\"\n",
       "        \n",
       "\n",
       "        var elem = document.getElementById(\"stage3-bar\")\n",
       "        var part = 40\n",
       "        if (part){\n",
       "            elem.style.gridColumn = \"1/\" + (part+1)\n",
       "            elem.style.display = \"block\"\n",
       "        } else\n",
       "            elem.style.display = \"none\"\n",
       "        elem = document.getElementById(\"stage3-text\")\n",
       "        elem.innerHTML = part + \"/100 (\" + (part / 100 * 100).toFixed(2) + \"%)\"\n",
       "        "
      ],
      "text/plain": [
       "<IPython.core.display.Javascript object>"
      ]
     },
     "metadata": {},
     "output_type": "display_data"
    },
    {
     "data": {
      "application/javascript": [
       "\n",
       "\n",
       "        var elem = document.getElementById(\"bar_id_39\")\n",
       "        elem.style.backgroundColor = \"#1abc9c\"\n",
       "        "
      ],
      "text/plain": [
       "<IPython.core.display.Javascript object>"
      ]
     },
     "metadata": {},
     "output_type": "display_data"
    },
    {
     "data": {
      "application/javascript": [
       "\n",
       "\n",
       "        var elem = document.getElementById(\"stage2-bar\")\n",
       "        var part = 59\n",
       "        if (part){\n",
       "            elem.style.gridColumn = \"1/\" + (part+1)\n",
       "            elem.style.display = \"block\"\n",
       "        } else\n",
       "            elem.style.display = \"none\"\n",
       "        elem = document.getElementById(\"stage2-text\")\n",
       "        elem.innerHTML = part + \"/100 (\" + (part / 100 * 100).toFixed(2) + \"%)\"\n",
       "        \n",
       "\n",
       "        var elem = document.getElementById(\"stage3-bar\")\n",
       "        var part = 41\n",
       "        if (part){\n",
       "            elem.style.gridColumn = \"1/\" + (part+1)\n",
       "            elem.style.display = \"block\"\n",
       "        } else\n",
       "            elem.style.display = \"none\"\n",
       "        elem = document.getElementById(\"stage3-text\")\n",
       "        elem.innerHTML = part + \"/100 (\" + (part / 100 * 100).toFixed(2) + \"%)\"\n",
       "        "
      ],
      "text/plain": [
       "<IPython.core.display.Javascript object>"
      ]
     },
     "metadata": {},
     "output_type": "display_data"
    },
    {
     "data": {
      "application/javascript": [
       "\n",
       "\n",
       "        var elem = document.getElementById(\"bar_id_40\")\n",
       "        elem.style.backgroundColor = \"#1abc9c\"\n",
       "        "
      ],
      "text/plain": [
       "<IPython.core.display.Javascript object>"
      ]
     },
     "metadata": {},
     "output_type": "display_data"
    },
    {
     "data": {
      "application/javascript": [
       "\n",
       "\n",
       "        var elem = document.getElementById(\"stage2-bar\")\n",
       "        var part = 58\n",
       "        if (part){\n",
       "            elem.style.gridColumn = \"1/\" + (part+1)\n",
       "            elem.style.display = \"block\"\n",
       "        } else\n",
       "            elem.style.display = \"none\"\n",
       "        elem = document.getElementById(\"stage2-text\")\n",
       "        elem.innerHTML = part + \"/100 (\" + (part / 100 * 100).toFixed(2) + \"%)\"\n",
       "        \n",
       "\n",
       "        var elem = document.getElementById(\"stage3-bar\")\n",
       "        var part = 42\n",
       "        if (part){\n",
       "            elem.style.gridColumn = \"1/\" + (part+1)\n",
       "            elem.style.display = \"block\"\n",
       "        } else\n",
       "            elem.style.display = \"none\"\n",
       "        elem = document.getElementById(\"stage3-text\")\n",
       "        elem.innerHTML = part + \"/100 (\" + (part / 100 * 100).toFixed(2) + \"%)\"\n",
       "        "
      ],
      "text/plain": [
       "<IPython.core.display.Javascript object>"
      ]
     },
     "metadata": {},
     "output_type": "display_data"
    },
    {
     "data": {
      "application/javascript": [
       "\n",
       "\n",
       "        var elem = document.getElementById(\"bar_id_41\")\n",
       "        elem.style.backgroundColor = \"#1abc9c\"\n",
       "        "
      ],
      "text/plain": [
       "<IPython.core.display.Javascript object>"
      ]
     },
     "metadata": {},
     "output_type": "display_data"
    },
    {
     "data": {
      "application/javascript": [
       "\n",
       "\n",
       "        var elem = document.getElementById(\"stage2-bar\")\n",
       "        var part = 57\n",
       "        if (part){\n",
       "            elem.style.gridColumn = \"1/\" + (part+1)\n",
       "            elem.style.display = \"block\"\n",
       "        } else\n",
       "            elem.style.display = \"none\"\n",
       "        elem = document.getElementById(\"stage2-text\")\n",
       "        elem.innerHTML = part + \"/100 (\" + (part / 100 * 100).toFixed(2) + \"%)\"\n",
       "        \n",
       "\n",
       "        var elem = document.getElementById(\"stage3-bar\")\n",
       "        var part = 43\n",
       "        if (part){\n",
       "            elem.style.gridColumn = \"1/\" + (part+1)\n",
       "            elem.style.display = \"block\"\n",
       "        } else\n",
       "            elem.style.display = \"none\"\n",
       "        elem = document.getElementById(\"stage3-text\")\n",
       "        elem.innerHTML = part + \"/100 (\" + (part / 100 * 100).toFixed(2) + \"%)\"\n",
       "        "
      ],
      "text/plain": [
       "<IPython.core.display.Javascript object>"
      ]
     },
     "metadata": {},
     "output_type": "display_data"
    },
    {
     "data": {
      "application/javascript": [
       "\n",
       "\n",
       "        var elem = document.getElementById(\"bar_id_42\")\n",
       "        elem.style.backgroundColor = \"#1abc9c\"\n",
       "        "
      ],
      "text/plain": [
       "<IPython.core.display.Javascript object>"
      ]
     },
     "metadata": {},
     "output_type": "display_data"
    },
    {
     "data": {
      "application/javascript": [
       "\n",
       "\n",
       "        var elem = document.getElementById(\"stage2-bar\")\n",
       "        var part = 56\n",
       "        if (part){\n",
       "            elem.style.gridColumn = \"1/\" + (part+1)\n",
       "            elem.style.display = \"block\"\n",
       "        } else\n",
       "            elem.style.display = \"none\"\n",
       "        elem = document.getElementById(\"stage2-text\")\n",
       "        elem.innerHTML = part + \"/100 (\" + (part / 100 * 100).toFixed(2) + \"%)\"\n",
       "        \n",
       "\n",
       "        var elem = document.getElementById(\"stage3-bar\")\n",
       "        var part = 44\n",
       "        if (part){\n",
       "            elem.style.gridColumn = \"1/\" + (part+1)\n",
       "            elem.style.display = \"block\"\n",
       "        } else\n",
       "            elem.style.display = \"none\"\n",
       "        elem = document.getElementById(\"stage3-text\")\n",
       "        elem.innerHTML = part + \"/100 (\" + (part / 100 * 100).toFixed(2) + \"%)\"\n",
       "        "
      ],
      "text/plain": [
       "<IPython.core.display.Javascript object>"
      ]
     },
     "metadata": {},
     "output_type": "display_data"
    },
    {
     "data": {
      "application/javascript": [
       "\n",
       "\n",
       "        var elem = document.getElementById(\"bar_id_43\")\n",
       "        elem.style.backgroundColor = \"#1abc9c\"\n",
       "        "
      ],
      "text/plain": [
       "<IPython.core.display.Javascript object>"
      ]
     },
     "metadata": {},
     "output_type": "display_data"
    },
    {
     "data": {
      "application/javascript": [
       "\n",
       "\n",
       "        var elem = document.getElementById(\"stage2-bar\")\n",
       "        var part = 55\n",
       "        if (part){\n",
       "            elem.style.gridColumn = \"1/\" + (part+1)\n",
       "            elem.style.display = \"block\"\n",
       "        } else\n",
       "            elem.style.display = \"none\"\n",
       "        elem = document.getElementById(\"stage2-text\")\n",
       "        elem.innerHTML = part + \"/100 (\" + (part / 100 * 100).toFixed(2) + \"%)\"\n",
       "        \n",
       "\n",
       "        var elem = document.getElementById(\"stage3-bar\")\n",
       "        var part = 45\n",
       "        if (part){\n",
       "            elem.style.gridColumn = \"1/\" + (part+1)\n",
       "            elem.style.display = \"block\"\n",
       "        } else\n",
       "            elem.style.display = \"none\"\n",
       "        elem = document.getElementById(\"stage3-text\")\n",
       "        elem.innerHTML = part + \"/100 (\" + (part / 100 * 100).toFixed(2) + \"%)\"\n",
       "        "
      ],
      "text/plain": [
       "<IPython.core.display.Javascript object>"
      ]
     },
     "metadata": {},
     "output_type": "display_data"
    },
    {
     "data": {
      "application/javascript": [
       "\n",
       "\n",
       "        var elem = document.getElementById(\"bar_id_44\")\n",
       "        elem.style.backgroundColor = \"#1abc9c\"\n",
       "        "
      ],
      "text/plain": [
       "<IPython.core.display.Javascript object>"
      ]
     },
     "metadata": {},
     "output_type": "display_data"
    },
    {
     "data": {
      "application/javascript": [
       "\n",
       "\n",
       "        var elem = document.getElementById(\"stage2-bar\")\n",
       "        var part = 54\n",
       "        if (part){\n",
       "            elem.style.gridColumn = \"1/\" + (part+1)\n",
       "            elem.style.display = \"block\"\n",
       "        } else\n",
       "            elem.style.display = \"none\"\n",
       "        elem = document.getElementById(\"stage2-text\")\n",
       "        elem.innerHTML = part + \"/100 (\" + (part / 100 * 100).toFixed(2) + \"%)\"\n",
       "        \n",
       "\n",
       "        var elem = document.getElementById(\"stage3-bar\")\n",
       "        var part = 46\n",
       "        if (part){\n",
       "            elem.style.gridColumn = \"1/\" + (part+1)\n",
       "            elem.style.display = \"block\"\n",
       "        } else\n",
       "            elem.style.display = \"none\"\n",
       "        elem = document.getElementById(\"stage3-text\")\n",
       "        elem.innerHTML = part + \"/100 (\" + (part / 100 * 100).toFixed(2) + \"%)\"\n",
       "        "
      ],
      "text/plain": [
       "<IPython.core.display.Javascript object>"
      ]
     },
     "metadata": {},
     "output_type": "display_data"
    },
    {
     "data": {
      "application/javascript": [
       "\n",
       "\n",
       "        var elem = document.getElementById(\"bar_id_45\")\n",
       "        elem.style.backgroundColor = \"#1abc9c\"\n",
       "        "
      ],
      "text/plain": [
       "<IPython.core.display.Javascript object>"
      ]
     },
     "metadata": {},
     "output_type": "display_data"
    },
    {
     "data": {
      "application/javascript": [
       "\n",
       "\n",
       "        var elem = document.getElementById(\"stage2-bar\")\n",
       "        var part = 53\n",
       "        if (part){\n",
       "            elem.style.gridColumn = \"1/\" + (part+1)\n",
       "            elem.style.display = \"block\"\n",
       "        } else\n",
       "            elem.style.display = \"none\"\n",
       "        elem = document.getElementById(\"stage2-text\")\n",
       "        elem.innerHTML = part + \"/100 (\" + (part / 100 * 100).toFixed(2) + \"%)\"\n",
       "        \n",
       "\n",
       "        var elem = document.getElementById(\"stage3-bar\")\n",
       "        var part = 47\n",
       "        if (part){\n",
       "            elem.style.gridColumn = \"1/\" + (part+1)\n",
       "            elem.style.display = \"block\"\n",
       "        } else\n",
       "            elem.style.display = \"none\"\n",
       "        elem = document.getElementById(\"stage3-text\")\n",
       "        elem.innerHTML = part + \"/100 (\" + (part / 100 * 100).toFixed(2) + \"%)\"\n",
       "        "
      ],
      "text/plain": [
       "<IPython.core.display.Javascript object>"
      ]
     },
     "metadata": {},
     "output_type": "display_data"
    },
    {
     "data": {
      "application/javascript": [
       "\n",
       "\n",
       "        var elem = document.getElementById(\"bar_id_46\")\n",
       "        elem.style.backgroundColor = \"#1abc9c\"\n",
       "        "
      ],
      "text/plain": [
       "<IPython.core.display.Javascript object>"
      ]
     },
     "metadata": {},
     "output_type": "display_data"
    },
    {
     "data": {
      "application/javascript": [
       "\n",
       "\n",
       "        var elem = document.getElementById(\"stage2-bar\")\n",
       "        var part = 52\n",
       "        if (part){\n",
       "            elem.style.gridColumn = \"1/\" + (part+1)\n",
       "            elem.style.display = \"block\"\n",
       "        } else\n",
       "            elem.style.display = \"none\"\n",
       "        elem = document.getElementById(\"stage2-text\")\n",
       "        elem.innerHTML = part + \"/100 (\" + (part / 100 * 100).toFixed(2) + \"%)\"\n",
       "        \n",
       "\n",
       "        var elem = document.getElementById(\"stage3-bar\")\n",
       "        var part = 48\n",
       "        if (part){\n",
       "            elem.style.gridColumn = \"1/\" + (part+1)\n",
       "            elem.style.display = \"block\"\n",
       "        } else\n",
       "            elem.style.display = \"none\"\n",
       "        elem = document.getElementById(\"stage3-text\")\n",
       "        elem.innerHTML = part + \"/100 (\" + (part / 100 * 100).toFixed(2) + \"%)\"\n",
       "        "
      ],
      "text/plain": [
       "<IPython.core.display.Javascript object>"
      ]
     },
     "metadata": {},
     "output_type": "display_data"
    },
    {
     "data": {
      "application/javascript": [
       "\n",
       "\n",
       "        var elem = document.getElementById(\"bar_id_47\")\n",
       "        elem.style.backgroundColor = \"#1abc9c\"\n",
       "        "
      ],
      "text/plain": [
       "<IPython.core.display.Javascript object>"
      ]
     },
     "metadata": {},
     "output_type": "display_data"
    },
    {
     "data": {
      "application/javascript": [
       "\n",
       "\n",
       "        var elem = document.getElementById(\"stage2-bar\")\n",
       "        var part = 51\n",
       "        if (part){\n",
       "            elem.style.gridColumn = \"1/\" + (part+1)\n",
       "            elem.style.display = \"block\"\n",
       "        } else\n",
       "            elem.style.display = \"none\"\n",
       "        elem = document.getElementById(\"stage2-text\")\n",
       "        elem.innerHTML = part + \"/100 (\" + (part / 100 * 100).toFixed(2) + \"%)\"\n",
       "        \n",
       "\n",
       "        var elem = document.getElementById(\"stage3-bar\")\n",
       "        var part = 49\n",
       "        if (part){\n",
       "            elem.style.gridColumn = \"1/\" + (part+1)\n",
       "            elem.style.display = \"block\"\n",
       "        } else\n",
       "            elem.style.display = \"none\"\n",
       "        elem = document.getElementById(\"stage3-text\")\n",
       "        elem.innerHTML = part + \"/100 (\" + (part / 100 * 100).toFixed(2) + \"%)\"\n",
       "        "
      ],
      "text/plain": [
       "<IPython.core.display.Javascript object>"
      ]
     },
     "metadata": {},
     "output_type": "display_data"
    },
    {
     "data": {
      "application/javascript": [
       "\n",
       "\n",
       "        var elem = document.getElementById(\"bar_id_48\")\n",
       "        elem.style.backgroundColor = \"#1abc9c\"\n",
       "        "
      ],
      "text/plain": [
       "<IPython.core.display.Javascript object>"
      ]
     },
     "metadata": {},
     "output_type": "display_data"
    },
    {
     "data": {
      "application/javascript": [
       "\n",
       "\n",
       "        var elem = document.getElementById(\"stage2-bar\")\n",
       "        var part = 50\n",
       "        if (part){\n",
       "            elem.style.gridColumn = \"1/\" + (part+1)\n",
       "            elem.style.display = \"block\"\n",
       "        } else\n",
       "            elem.style.display = \"none\"\n",
       "        elem = document.getElementById(\"stage2-text\")\n",
       "        elem.innerHTML = part + \"/100 (\" + (part / 100 * 100).toFixed(2) + \"%)\"\n",
       "        \n",
       "\n",
       "        var elem = document.getElementById(\"stage3-bar\")\n",
       "        var part = 50\n",
       "        if (part){\n",
       "            elem.style.gridColumn = \"1/\" + (part+1)\n",
       "            elem.style.display = \"block\"\n",
       "        } else\n",
       "            elem.style.display = \"none\"\n",
       "        elem = document.getElementById(\"stage3-text\")\n",
       "        elem.innerHTML = part + \"/100 (\" + (part / 100 * 100).toFixed(2) + \"%)\"\n",
       "        "
      ],
      "text/plain": [
       "<IPython.core.display.Javascript object>"
      ]
     },
     "metadata": {},
     "output_type": "display_data"
    },
    {
     "data": {
      "application/javascript": [
       "\n",
       "\n",
       "        var elem = document.getElementById(\"bar_id_49\")\n",
       "        elem.style.backgroundColor = \"#1abc9c\"\n",
       "        "
      ],
      "text/plain": [
       "<IPython.core.display.Javascript object>"
      ]
     },
     "metadata": {},
     "output_type": "display_data"
    },
    {
     "data": {
      "application/javascript": [
       "\n",
       "\n",
       "        var elem = document.getElementById(\"stage2-bar\")\n",
       "        var part = 49\n",
       "        if (part){\n",
       "            elem.style.gridColumn = \"1/\" + (part+1)\n",
       "            elem.style.display = \"block\"\n",
       "        } else\n",
       "            elem.style.display = \"none\"\n",
       "        elem = document.getElementById(\"stage2-text\")\n",
       "        elem.innerHTML = part + \"/100 (\" + (part / 100 * 100).toFixed(2) + \"%)\"\n",
       "        \n",
       "\n",
       "        var elem = document.getElementById(\"stage3-bar\")\n",
       "        var part = 51\n",
       "        if (part){\n",
       "            elem.style.gridColumn = \"1/\" + (part+1)\n",
       "            elem.style.display = \"block\"\n",
       "        } else\n",
       "            elem.style.display = \"none\"\n",
       "        elem = document.getElementById(\"stage3-text\")\n",
       "        elem.innerHTML = part + \"/100 (\" + (part / 100 * 100).toFixed(2) + \"%)\"\n",
       "        "
      ],
      "text/plain": [
       "<IPython.core.display.Javascript object>"
      ]
     },
     "metadata": {},
     "output_type": "display_data"
    },
    {
     "data": {
      "application/javascript": [
       "\n",
       "\n",
       "        var elem = document.getElementById(\"bar_id_50\")\n",
       "        elem.style.backgroundColor = \"#1abc9c\"\n",
       "        "
      ],
      "text/plain": [
       "<IPython.core.display.Javascript object>"
      ]
     },
     "metadata": {},
     "output_type": "display_data"
    },
    {
     "data": {
      "application/javascript": [
       "\n",
       "\n",
       "        var elem = document.getElementById(\"stage2-bar\")\n",
       "        var part = 48\n",
       "        if (part){\n",
       "            elem.style.gridColumn = \"1/\" + (part+1)\n",
       "            elem.style.display = \"block\"\n",
       "        } else\n",
       "            elem.style.display = \"none\"\n",
       "        elem = document.getElementById(\"stage2-text\")\n",
       "        elem.innerHTML = part + \"/100 (\" + (part / 100 * 100).toFixed(2) + \"%)\"\n",
       "        \n",
       "\n",
       "        var elem = document.getElementById(\"stage3-bar\")\n",
       "        var part = 52\n",
       "        if (part){\n",
       "            elem.style.gridColumn = \"1/\" + (part+1)\n",
       "            elem.style.display = \"block\"\n",
       "        } else\n",
       "            elem.style.display = \"none\"\n",
       "        elem = document.getElementById(\"stage3-text\")\n",
       "        elem.innerHTML = part + \"/100 (\" + (part / 100 * 100).toFixed(2) + \"%)\"\n",
       "        "
      ],
      "text/plain": [
       "<IPython.core.display.Javascript object>"
      ]
     },
     "metadata": {},
     "output_type": "display_data"
    },
    {
     "data": {
      "application/javascript": [
       "\n",
       "\n",
       "        var elem = document.getElementById(\"bar_id_51\")\n",
       "        elem.style.backgroundColor = \"#1abc9c\"\n",
       "        "
      ],
      "text/plain": [
       "<IPython.core.display.Javascript object>"
      ]
     },
     "metadata": {},
     "output_type": "display_data"
    },
    {
     "data": {
      "application/javascript": [
       "\n",
       "\n",
       "        var elem = document.getElementById(\"stage2-bar\")\n",
       "        var part = 47\n",
       "        if (part){\n",
       "            elem.style.gridColumn = \"1/\" + (part+1)\n",
       "            elem.style.display = \"block\"\n",
       "        } else\n",
       "            elem.style.display = \"none\"\n",
       "        elem = document.getElementById(\"stage2-text\")\n",
       "        elem.innerHTML = part + \"/100 (\" + (part / 100 * 100).toFixed(2) + \"%)\"\n",
       "        \n",
       "\n",
       "        var elem = document.getElementById(\"stage3-bar\")\n",
       "        var part = 53\n",
       "        if (part){\n",
       "            elem.style.gridColumn = \"1/\" + (part+1)\n",
       "            elem.style.display = \"block\"\n",
       "        } else\n",
       "            elem.style.display = \"none\"\n",
       "        elem = document.getElementById(\"stage3-text\")\n",
       "        elem.innerHTML = part + \"/100 (\" + (part / 100 * 100).toFixed(2) + \"%)\"\n",
       "        "
      ],
      "text/plain": [
       "<IPython.core.display.Javascript object>"
      ]
     },
     "metadata": {},
     "output_type": "display_data"
    },
    {
     "data": {
      "application/javascript": [
       "\n",
       "\n",
       "        var elem = document.getElementById(\"bar_id_52\")\n",
       "        elem.style.backgroundColor = \"#1abc9c\"\n",
       "        "
      ],
      "text/plain": [
       "<IPython.core.display.Javascript object>"
      ]
     },
     "metadata": {},
     "output_type": "display_data"
    },
    {
     "data": {
      "application/javascript": [
       "\n",
       "\n",
       "        var elem = document.getElementById(\"stage2-bar\")\n",
       "        var part = 46\n",
       "        if (part){\n",
       "            elem.style.gridColumn = \"1/\" + (part+1)\n",
       "            elem.style.display = \"block\"\n",
       "        } else\n",
       "            elem.style.display = \"none\"\n",
       "        elem = document.getElementById(\"stage2-text\")\n",
       "        elem.innerHTML = part + \"/100 (\" + (part / 100 * 100).toFixed(2) + \"%)\"\n",
       "        \n",
       "\n",
       "        var elem = document.getElementById(\"stage3-bar\")\n",
       "        var part = 54\n",
       "        if (part){\n",
       "            elem.style.gridColumn = \"1/\" + (part+1)\n",
       "            elem.style.display = \"block\"\n",
       "        } else\n",
       "            elem.style.display = \"none\"\n",
       "        elem = document.getElementById(\"stage3-text\")\n",
       "        elem.innerHTML = part + \"/100 (\" + (part / 100 * 100).toFixed(2) + \"%)\"\n",
       "        "
      ],
      "text/plain": [
       "<IPython.core.display.Javascript object>"
      ]
     },
     "metadata": {},
     "output_type": "display_data"
    },
    {
     "data": {
      "application/javascript": [
       "\n",
       "\n",
       "        var elem = document.getElementById(\"bar_id_53\")\n",
       "        elem.style.backgroundColor = \"#1abc9c\"\n",
       "        "
      ],
      "text/plain": [
       "<IPython.core.display.Javascript object>"
      ]
     },
     "metadata": {},
     "output_type": "display_data"
    },
    {
     "data": {
      "application/javascript": [
       "\n",
       "\n",
       "        var elem = document.getElementById(\"stage2-bar\")\n",
       "        var part = 45\n",
       "        if (part){\n",
       "            elem.style.gridColumn = \"1/\" + (part+1)\n",
       "            elem.style.display = \"block\"\n",
       "        } else\n",
       "            elem.style.display = \"none\"\n",
       "        elem = document.getElementById(\"stage2-text\")\n",
       "        elem.innerHTML = part + \"/100 (\" + (part / 100 * 100).toFixed(2) + \"%)\"\n",
       "        \n",
       "\n",
       "        var elem = document.getElementById(\"stage3-bar\")\n",
       "        var part = 55\n",
       "        if (part){\n",
       "            elem.style.gridColumn = \"1/\" + (part+1)\n",
       "            elem.style.display = \"block\"\n",
       "        } else\n",
       "            elem.style.display = \"none\"\n",
       "        elem = document.getElementById(\"stage3-text\")\n",
       "        elem.innerHTML = part + \"/100 (\" + (part / 100 * 100).toFixed(2) + \"%)\"\n",
       "        "
      ],
      "text/plain": [
       "<IPython.core.display.Javascript object>"
      ]
     },
     "metadata": {},
     "output_type": "display_data"
    },
    {
     "data": {
      "application/javascript": [
       "\n",
       "\n",
       "        var elem = document.getElementById(\"bar_id_54\")\n",
       "        elem.style.backgroundColor = \"#1abc9c\"\n",
       "        "
      ],
      "text/plain": [
       "<IPython.core.display.Javascript object>"
      ]
     },
     "metadata": {},
     "output_type": "display_data"
    },
    {
     "data": {
      "application/javascript": [
       "\n",
       "\n",
       "        var elem = document.getElementById(\"stage2-bar\")\n",
       "        var part = 44\n",
       "        if (part){\n",
       "            elem.style.gridColumn = \"1/\" + (part+1)\n",
       "            elem.style.display = \"block\"\n",
       "        } else\n",
       "            elem.style.display = \"none\"\n",
       "        elem = document.getElementById(\"stage2-text\")\n",
       "        elem.innerHTML = part + \"/100 (\" + (part / 100 * 100).toFixed(2) + \"%)\"\n",
       "        \n",
       "\n",
       "        var elem = document.getElementById(\"stage3-bar\")\n",
       "        var part = 56\n",
       "        if (part){\n",
       "            elem.style.gridColumn = \"1/\" + (part+1)\n",
       "            elem.style.display = \"block\"\n",
       "        } else\n",
       "            elem.style.display = \"none\"\n",
       "        elem = document.getElementById(\"stage3-text\")\n",
       "        elem.innerHTML = part + \"/100 (\" + (part / 100 * 100).toFixed(2) + \"%)\"\n",
       "        "
      ],
      "text/plain": [
       "<IPython.core.display.Javascript object>"
      ]
     },
     "metadata": {},
     "output_type": "display_data"
    },
    {
     "data": {
      "application/javascript": [
       "\n",
       "\n",
       "        var elem = document.getElementById(\"bar_id_55\")\n",
       "        elem.style.backgroundColor = \"#1abc9c\"\n",
       "        "
      ],
      "text/plain": [
       "<IPython.core.display.Javascript object>"
      ]
     },
     "metadata": {},
     "output_type": "display_data"
    },
    {
     "data": {
      "application/javascript": [
       "\n",
       "\n",
       "        var elem = document.getElementById(\"stage2-bar\")\n",
       "        var part = 43\n",
       "        if (part){\n",
       "            elem.style.gridColumn = \"1/\" + (part+1)\n",
       "            elem.style.display = \"block\"\n",
       "        } else\n",
       "            elem.style.display = \"none\"\n",
       "        elem = document.getElementById(\"stage2-text\")\n",
       "        elem.innerHTML = part + \"/100 (\" + (part / 100 * 100).toFixed(2) + \"%)\"\n",
       "        \n",
       "\n",
       "        var elem = document.getElementById(\"stage3-bar\")\n",
       "        var part = 57\n",
       "        if (part){\n",
       "            elem.style.gridColumn = \"1/\" + (part+1)\n",
       "            elem.style.display = \"block\"\n",
       "        } else\n",
       "            elem.style.display = \"none\"\n",
       "        elem = document.getElementById(\"stage3-text\")\n",
       "        elem.innerHTML = part + \"/100 (\" + (part / 100 * 100).toFixed(2) + \"%)\"\n",
       "        "
      ],
      "text/plain": [
       "<IPython.core.display.Javascript object>"
      ]
     },
     "metadata": {},
     "output_type": "display_data"
    },
    {
     "data": {
      "application/javascript": [
       "\n",
       "\n",
       "        var elem = document.getElementById(\"bar_id_56\")\n",
       "        elem.style.backgroundColor = \"#1abc9c\"\n",
       "        "
      ],
      "text/plain": [
       "<IPython.core.display.Javascript object>"
      ]
     },
     "metadata": {},
     "output_type": "display_data"
    },
    {
     "data": {
      "application/javascript": [
       "\n",
       "\n",
       "        var elem = document.getElementById(\"stage2-bar\")\n",
       "        var part = 42\n",
       "        if (part){\n",
       "            elem.style.gridColumn = \"1/\" + (part+1)\n",
       "            elem.style.display = \"block\"\n",
       "        } else\n",
       "            elem.style.display = \"none\"\n",
       "        elem = document.getElementById(\"stage2-text\")\n",
       "        elem.innerHTML = part + \"/100 (\" + (part / 100 * 100).toFixed(2) + \"%)\"\n",
       "        \n",
       "\n",
       "        var elem = document.getElementById(\"stage3-bar\")\n",
       "        var part = 58\n",
       "        if (part){\n",
       "            elem.style.gridColumn = \"1/\" + (part+1)\n",
       "            elem.style.display = \"block\"\n",
       "        } else\n",
       "            elem.style.display = \"none\"\n",
       "        elem = document.getElementById(\"stage3-text\")\n",
       "        elem.innerHTML = part + \"/100 (\" + (part / 100 * 100).toFixed(2) + \"%)\"\n",
       "        "
      ],
      "text/plain": [
       "<IPython.core.display.Javascript object>"
      ]
     },
     "metadata": {},
     "output_type": "display_data"
    },
    {
     "data": {
      "application/javascript": [
       "\n",
       "\n",
       "        var elem = document.getElementById(\"bar_id_57\")\n",
       "        elem.style.backgroundColor = \"#1abc9c\"\n",
       "        "
      ],
      "text/plain": [
       "<IPython.core.display.Javascript object>"
      ]
     },
     "metadata": {},
     "output_type": "display_data"
    },
    {
     "data": {
      "application/javascript": [
       "\n",
       "\n",
       "        var elem = document.getElementById(\"stage2-bar\")\n",
       "        var part = 41\n",
       "        if (part){\n",
       "            elem.style.gridColumn = \"1/\" + (part+1)\n",
       "            elem.style.display = \"block\"\n",
       "        } else\n",
       "            elem.style.display = \"none\"\n",
       "        elem = document.getElementById(\"stage2-text\")\n",
       "        elem.innerHTML = part + \"/100 (\" + (part / 100 * 100).toFixed(2) + \"%)\"\n",
       "        \n",
       "\n",
       "        var elem = document.getElementById(\"stage3-bar\")\n",
       "        var part = 59\n",
       "        if (part){\n",
       "            elem.style.gridColumn = \"1/\" + (part+1)\n",
       "            elem.style.display = \"block\"\n",
       "        } else\n",
       "            elem.style.display = \"none\"\n",
       "        elem = document.getElementById(\"stage3-text\")\n",
       "        elem.innerHTML = part + \"/100 (\" + (part / 100 * 100).toFixed(2) + \"%)\"\n",
       "        "
      ],
      "text/plain": [
       "<IPython.core.display.Javascript object>"
      ]
     },
     "metadata": {},
     "output_type": "display_data"
    },
    {
     "data": {
      "application/javascript": [
       "\n",
       "\n",
       "        var elem = document.getElementById(\"bar_id_58\")\n",
       "        elem.style.backgroundColor = \"#1abc9c\"\n",
       "        "
      ],
      "text/plain": [
       "<IPython.core.display.Javascript object>"
      ]
     },
     "metadata": {},
     "output_type": "display_data"
    },
    {
     "data": {
      "application/javascript": [
       "\n",
       "\n",
       "        var elem = document.getElementById(\"stage2-bar\")\n",
       "        var part = 40\n",
       "        if (part){\n",
       "            elem.style.gridColumn = \"1/\" + (part+1)\n",
       "            elem.style.display = \"block\"\n",
       "        } else\n",
       "            elem.style.display = \"none\"\n",
       "        elem = document.getElementById(\"stage2-text\")\n",
       "        elem.innerHTML = part + \"/100 (\" + (part / 100 * 100).toFixed(2) + \"%)\"\n",
       "        \n",
       "\n",
       "        var elem = document.getElementById(\"stage3-bar\")\n",
       "        var part = 60\n",
       "        if (part){\n",
       "            elem.style.gridColumn = \"1/\" + (part+1)\n",
       "            elem.style.display = \"block\"\n",
       "        } else\n",
       "            elem.style.display = \"none\"\n",
       "        elem = document.getElementById(\"stage3-text\")\n",
       "        elem.innerHTML = part + \"/100 (\" + (part / 100 * 100).toFixed(2) + \"%)\"\n",
       "        "
      ],
      "text/plain": [
       "<IPython.core.display.Javascript object>"
      ]
     },
     "metadata": {},
     "output_type": "display_data"
    },
    {
     "data": {
      "application/javascript": [
       "\n",
       "\n",
       "        var elem = document.getElementById(\"bar_id_59\")\n",
       "        elem.style.backgroundColor = \"#1abc9c\"\n",
       "        "
      ],
      "text/plain": [
       "<IPython.core.display.Javascript object>"
      ]
     },
     "metadata": {},
     "output_type": "display_data"
    },
    {
     "data": {
      "application/javascript": [
       "\n",
       "\n",
       "        var elem = document.getElementById(\"stage2-bar\")\n",
       "        var part = 39\n",
       "        if (part){\n",
       "            elem.style.gridColumn = \"1/\" + (part+1)\n",
       "            elem.style.display = \"block\"\n",
       "        } else\n",
       "            elem.style.display = \"none\"\n",
       "        elem = document.getElementById(\"stage2-text\")\n",
       "        elem.innerHTML = part + \"/100 (\" + (part / 100 * 100).toFixed(2) + \"%)\"\n",
       "        \n",
       "\n",
       "        var elem = document.getElementById(\"stage3-bar\")\n",
       "        var part = 61\n",
       "        if (part){\n",
       "            elem.style.gridColumn = \"1/\" + (part+1)\n",
       "            elem.style.display = \"block\"\n",
       "        } else\n",
       "            elem.style.display = \"none\"\n",
       "        elem = document.getElementById(\"stage3-text\")\n",
       "        elem.innerHTML = part + \"/100 (\" + (part / 100 * 100).toFixed(2) + \"%)\"\n",
       "        "
      ],
      "text/plain": [
       "<IPython.core.display.Javascript object>"
      ]
     },
     "metadata": {},
     "output_type": "display_data"
    },
    {
     "data": {
      "application/javascript": [
       "\n",
       "\n",
       "        var elem = document.getElementById(\"bar_id_60\")\n",
       "        elem.style.backgroundColor = \"#1abc9c\"\n",
       "        "
      ],
      "text/plain": [
       "<IPython.core.display.Javascript object>"
      ]
     },
     "metadata": {},
     "output_type": "display_data"
    },
    {
     "data": {
      "application/javascript": [
       "\n",
       "\n",
       "        var elem = document.getElementById(\"stage2-bar\")\n",
       "        var part = 38\n",
       "        if (part){\n",
       "            elem.style.gridColumn = \"1/\" + (part+1)\n",
       "            elem.style.display = \"block\"\n",
       "        } else\n",
       "            elem.style.display = \"none\"\n",
       "        elem = document.getElementById(\"stage2-text\")\n",
       "        elem.innerHTML = part + \"/100 (\" + (part / 100 * 100).toFixed(2) + \"%)\"\n",
       "        \n",
       "\n",
       "        var elem = document.getElementById(\"stage3-bar\")\n",
       "        var part = 62\n",
       "        if (part){\n",
       "            elem.style.gridColumn = \"1/\" + (part+1)\n",
       "            elem.style.display = \"block\"\n",
       "        } else\n",
       "            elem.style.display = \"none\"\n",
       "        elem = document.getElementById(\"stage3-text\")\n",
       "        elem.innerHTML = part + \"/100 (\" + (part / 100 * 100).toFixed(2) + \"%)\"\n",
       "        "
      ],
      "text/plain": [
       "<IPython.core.display.Javascript object>"
      ]
     },
     "metadata": {},
     "output_type": "display_data"
    },
    {
     "data": {
      "application/javascript": [
       "\n",
       "\n",
       "        var elem = document.getElementById(\"bar_id_61\")\n",
       "        elem.style.backgroundColor = \"#1abc9c\"\n",
       "        "
      ],
      "text/plain": [
       "<IPython.core.display.Javascript object>"
      ]
     },
     "metadata": {},
     "output_type": "display_data"
    },
    {
     "data": {
      "application/javascript": [
       "\n",
       "\n",
       "        var elem = document.getElementById(\"stage2-bar\")\n",
       "        var part = 37\n",
       "        if (part){\n",
       "            elem.style.gridColumn = \"1/\" + (part+1)\n",
       "            elem.style.display = \"block\"\n",
       "        } else\n",
       "            elem.style.display = \"none\"\n",
       "        elem = document.getElementById(\"stage2-text\")\n",
       "        elem.innerHTML = part + \"/100 (\" + (part / 100 * 100).toFixed(2) + \"%)\"\n",
       "        \n",
       "\n",
       "        var elem = document.getElementById(\"stage3-bar\")\n",
       "        var part = 63\n",
       "        if (part){\n",
       "            elem.style.gridColumn = \"1/\" + (part+1)\n",
       "            elem.style.display = \"block\"\n",
       "        } else\n",
       "            elem.style.display = \"none\"\n",
       "        elem = document.getElementById(\"stage3-text\")\n",
       "        elem.innerHTML = part + \"/100 (\" + (part / 100 * 100).toFixed(2) + \"%)\"\n",
       "        "
      ],
      "text/plain": [
       "<IPython.core.display.Javascript object>"
      ]
     },
     "metadata": {},
     "output_type": "display_data"
    },
    {
     "data": {
      "application/javascript": [
       "\n",
       "\n",
       "        var elem = document.getElementById(\"bar_id_62\")\n",
       "        elem.style.backgroundColor = \"#1abc9c\"\n",
       "        "
      ],
      "text/plain": [
       "<IPython.core.display.Javascript object>"
      ]
     },
     "metadata": {},
     "output_type": "display_data"
    },
    {
     "data": {
      "application/javascript": [
       "\n",
       "\n",
       "        var elem = document.getElementById(\"stage2-bar\")\n",
       "        var part = 36\n",
       "        if (part){\n",
       "            elem.style.gridColumn = \"1/\" + (part+1)\n",
       "            elem.style.display = \"block\"\n",
       "        } else\n",
       "            elem.style.display = \"none\"\n",
       "        elem = document.getElementById(\"stage2-text\")\n",
       "        elem.innerHTML = part + \"/100 (\" + (part / 100 * 100).toFixed(2) + \"%)\"\n",
       "        \n",
       "\n",
       "        var elem = document.getElementById(\"stage3-bar\")\n",
       "        var part = 64\n",
       "        if (part){\n",
       "            elem.style.gridColumn = \"1/\" + (part+1)\n",
       "            elem.style.display = \"block\"\n",
       "        } else\n",
       "            elem.style.display = \"none\"\n",
       "        elem = document.getElementById(\"stage3-text\")\n",
       "        elem.innerHTML = part + \"/100 (\" + (part / 100 * 100).toFixed(2) + \"%)\"\n",
       "        "
      ],
      "text/plain": [
       "<IPython.core.display.Javascript object>"
      ]
     },
     "metadata": {},
     "output_type": "display_data"
    },
    {
     "data": {
      "application/javascript": [
       "\n",
       "\n",
       "        var elem = document.getElementById(\"bar_id_63\")\n",
       "        elem.style.backgroundColor = \"#1abc9c\"\n",
       "        "
      ],
      "text/plain": [
       "<IPython.core.display.Javascript object>"
      ]
     },
     "metadata": {},
     "output_type": "display_data"
    },
    {
     "data": {
      "application/javascript": [
       "\n",
       "\n",
       "        var elem = document.getElementById(\"stage2-bar\")\n",
       "        var part = 35\n",
       "        if (part){\n",
       "            elem.style.gridColumn = \"1/\" + (part+1)\n",
       "            elem.style.display = \"block\"\n",
       "        } else\n",
       "            elem.style.display = \"none\"\n",
       "        elem = document.getElementById(\"stage2-text\")\n",
       "        elem.innerHTML = part + \"/100 (\" + (part / 100 * 100).toFixed(2) + \"%)\"\n",
       "        \n",
       "\n",
       "        var elem = document.getElementById(\"stage3-bar\")\n",
       "        var part = 65\n",
       "        if (part){\n",
       "            elem.style.gridColumn = \"1/\" + (part+1)\n",
       "            elem.style.display = \"block\"\n",
       "        } else\n",
       "            elem.style.display = \"none\"\n",
       "        elem = document.getElementById(\"stage3-text\")\n",
       "        elem.innerHTML = part + \"/100 (\" + (part / 100 * 100).toFixed(2) + \"%)\"\n",
       "        "
      ],
      "text/plain": [
       "<IPython.core.display.Javascript object>"
      ]
     },
     "metadata": {},
     "output_type": "display_data"
    },
    {
     "data": {
      "application/javascript": [
       "\n",
       "\n",
       "        var elem = document.getElementById(\"bar_id_64\")\n",
       "        elem.style.backgroundColor = \"#1abc9c\"\n",
       "        "
      ],
      "text/plain": [
       "<IPython.core.display.Javascript object>"
      ]
     },
     "metadata": {},
     "output_type": "display_data"
    },
    {
     "data": {
      "application/javascript": [
       "\n",
       "\n",
       "        var elem = document.getElementById(\"stage2-bar\")\n",
       "        var part = 34\n",
       "        if (part){\n",
       "            elem.style.gridColumn = \"1/\" + (part+1)\n",
       "            elem.style.display = \"block\"\n",
       "        } else\n",
       "            elem.style.display = \"none\"\n",
       "        elem = document.getElementById(\"stage2-text\")\n",
       "        elem.innerHTML = part + \"/100 (\" + (part / 100 * 100).toFixed(2) + \"%)\"\n",
       "        \n",
       "\n",
       "        var elem = document.getElementById(\"stage3-bar\")\n",
       "        var part = 66\n",
       "        if (part){\n",
       "            elem.style.gridColumn = \"1/\" + (part+1)\n",
       "            elem.style.display = \"block\"\n",
       "        } else\n",
       "            elem.style.display = \"none\"\n",
       "        elem = document.getElementById(\"stage3-text\")\n",
       "        elem.innerHTML = part + \"/100 (\" + (part / 100 * 100).toFixed(2) + \"%)\"\n",
       "        "
      ],
      "text/plain": [
       "<IPython.core.display.Javascript object>"
      ]
     },
     "metadata": {},
     "output_type": "display_data"
    },
    {
     "data": {
      "application/javascript": [
       "\n",
       "\n",
       "        var elem = document.getElementById(\"bar_id_65\")\n",
       "        elem.style.backgroundColor = \"#1abc9c\"\n",
       "        "
      ],
      "text/plain": [
       "<IPython.core.display.Javascript object>"
      ]
     },
     "metadata": {},
     "output_type": "display_data"
    },
    {
     "data": {
      "application/javascript": [
       "\n",
       "\n",
       "        var elem = document.getElementById(\"stage2-bar\")\n",
       "        var part = 33\n",
       "        if (part){\n",
       "            elem.style.gridColumn = \"1/\" + (part+1)\n",
       "            elem.style.display = \"block\"\n",
       "        } else\n",
       "            elem.style.display = \"none\"\n",
       "        elem = document.getElementById(\"stage2-text\")\n",
       "        elem.innerHTML = part + \"/100 (\" + (part / 100 * 100).toFixed(2) + \"%)\"\n",
       "        \n",
       "\n",
       "        var elem = document.getElementById(\"stage3-bar\")\n",
       "        var part = 67\n",
       "        if (part){\n",
       "            elem.style.gridColumn = \"1/\" + (part+1)\n",
       "            elem.style.display = \"block\"\n",
       "        } else\n",
       "            elem.style.display = \"none\"\n",
       "        elem = document.getElementById(\"stage3-text\")\n",
       "        elem.innerHTML = part + \"/100 (\" + (part / 100 * 100).toFixed(2) + \"%)\"\n",
       "        "
      ],
      "text/plain": [
       "<IPython.core.display.Javascript object>"
      ]
     },
     "metadata": {},
     "output_type": "display_data"
    },
    {
     "data": {
      "application/javascript": [
       "\n",
       "\n",
       "        var elem = document.getElementById(\"bar_id_66\")\n",
       "        elem.style.backgroundColor = \"#1abc9c\"\n",
       "        "
      ],
      "text/plain": [
       "<IPython.core.display.Javascript object>"
      ]
     },
     "metadata": {},
     "output_type": "display_data"
    },
    {
     "data": {
      "application/javascript": [
       "\n",
       "\n",
       "        var elem = document.getElementById(\"stage2-bar\")\n",
       "        var part = 32\n",
       "        if (part){\n",
       "            elem.style.gridColumn = \"1/\" + (part+1)\n",
       "            elem.style.display = \"block\"\n",
       "        } else\n",
       "            elem.style.display = \"none\"\n",
       "        elem = document.getElementById(\"stage2-text\")\n",
       "        elem.innerHTML = part + \"/100 (\" + (part / 100 * 100).toFixed(2) + \"%)\"\n",
       "        \n",
       "\n",
       "        var elem = document.getElementById(\"stage3-bar\")\n",
       "        var part = 68\n",
       "        if (part){\n",
       "            elem.style.gridColumn = \"1/\" + (part+1)\n",
       "            elem.style.display = \"block\"\n",
       "        } else\n",
       "            elem.style.display = \"none\"\n",
       "        elem = document.getElementById(\"stage3-text\")\n",
       "        elem.innerHTML = part + \"/100 (\" + (part / 100 * 100).toFixed(2) + \"%)\"\n",
       "        "
      ],
      "text/plain": [
       "<IPython.core.display.Javascript object>"
      ]
     },
     "metadata": {},
     "output_type": "display_data"
    },
    {
     "data": {
      "application/javascript": [
       "\n",
       "\n",
       "        var elem = document.getElementById(\"bar_id_67\")\n",
       "        elem.style.backgroundColor = \"#1abc9c\"\n",
       "        "
      ],
      "text/plain": [
       "<IPython.core.display.Javascript object>"
      ]
     },
     "metadata": {},
     "output_type": "display_data"
    },
    {
     "data": {
      "application/javascript": [
       "\n",
       "\n",
       "        var elem = document.getElementById(\"stage2-bar\")\n",
       "        var part = 31\n",
       "        if (part){\n",
       "            elem.style.gridColumn = \"1/\" + (part+1)\n",
       "            elem.style.display = \"block\"\n",
       "        } else\n",
       "            elem.style.display = \"none\"\n",
       "        elem = document.getElementById(\"stage2-text\")\n",
       "        elem.innerHTML = part + \"/100 (\" + (part / 100 * 100).toFixed(2) + \"%)\"\n",
       "        \n",
       "\n",
       "        var elem = document.getElementById(\"stage3-bar\")\n",
       "        var part = 69\n",
       "        if (part){\n",
       "            elem.style.gridColumn = \"1/\" + (part+1)\n",
       "            elem.style.display = \"block\"\n",
       "        } else\n",
       "            elem.style.display = \"none\"\n",
       "        elem = document.getElementById(\"stage3-text\")\n",
       "        elem.innerHTML = part + \"/100 (\" + (part / 100 * 100).toFixed(2) + \"%)\"\n",
       "        "
      ],
      "text/plain": [
       "<IPython.core.display.Javascript object>"
      ]
     },
     "metadata": {},
     "output_type": "display_data"
    },
    {
     "data": {
      "application/javascript": [
       "\n",
       "\n",
       "        var elem = document.getElementById(\"bar_id_68\")\n",
       "        elem.style.backgroundColor = \"#1abc9c\"\n",
       "        "
      ],
      "text/plain": [
       "<IPython.core.display.Javascript object>"
      ]
     },
     "metadata": {},
     "output_type": "display_data"
    },
    {
     "data": {
      "application/javascript": [
       "\n",
       "\n",
       "        var elem = document.getElementById(\"stage2-bar\")\n",
       "        var part = 30\n",
       "        if (part){\n",
       "            elem.style.gridColumn = \"1/\" + (part+1)\n",
       "            elem.style.display = \"block\"\n",
       "        } else\n",
       "            elem.style.display = \"none\"\n",
       "        elem = document.getElementById(\"stage2-text\")\n",
       "        elem.innerHTML = part + \"/100 (\" + (part / 100 * 100).toFixed(2) + \"%)\"\n",
       "        \n",
       "\n",
       "        var elem = document.getElementById(\"stage3-bar\")\n",
       "        var part = 70\n",
       "        if (part){\n",
       "            elem.style.gridColumn = \"1/\" + (part+1)\n",
       "            elem.style.display = \"block\"\n",
       "        } else\n",
       "            elem.style.display = \"none\"\n",
       "        elem = document.getElementById(\"stage3-text\")\n",
       "        elem.innerHTML = part + \"/100 (\" + (part / 100 * 100).toFixed(2) + \"%)\"\n",
       "        "
      ],
      "text/plain": [
       "<IPython.core.display.Javascript object>"
      ]
     },
     "metadata": {},
     "output_type": "display_data"
    },
    {
     "data": {
      "application/javascript": [
       "\n",
       "\n",
       "        var elem = document.getElementById(\"bar_id_69\")\n",
       "        elem.style.backgroundColor = \"#1abc9c\"\n",
       "        "
      ],
      "text/plain": [
       "<IPython.core.display.Javascript object>"
      ]
     },
     "metadata": {},
     "output_type": "display_data"
    },
    {
     "data": {
      "application/javascript": [
       "\n",
       "\n",
       "        var elem = document.getElementById(\"stage2-bar\")\n",
       "        var part = 29\n",
       "        if (part){\n",
       "            elem.style.gridColumn = \"1/\" + (part+1)\n",
       "            elem.style.display = \"block\"\n",
       "        } else\n",
       "            elem.style.display = \"none\"\n",
       "        elem = document.getElementById(\"stage2-text\")\n",
       "        elem.innerHTML = part + \"/100 (\" + (part / 100 * 100).toFixed(2) + \"%)\"\n",
       "        \n",
       "\n",
       "        var elem = document.getElementById(\"stage3-bar\")\n",
       "        var part = 71\n",
       "        if (part){\n",
       "            elem.style.gridColumn = \"1/\" + (part+1)\n",
       "            elem.style.display = \"block\"\n",
       "        } else\n",
       "            elem.style.display = \"none\"\n",
       "        elem = document.getElementById(\"stage3-text\")\n",
       "        elem.innerHTML = part + \"/100 (\" + (part / 100 * 100).toFixed(2) + \"%)\"\n",
       "        "
      ],
      "text/plain": [
       "<IPython.core.display.Javascript object>"
      ]
     },
     "metadata": {},
     "output_type": "display_data"
    },
    {
     "data": {
      "application/javascript": [
       "\n",
       "\n",
       "        var elem = document.getElementById(\"bar_id_70\")\n",
       "        elem.style.backgroundColor = \"#1abc9c\"\n",
       "        "
      ],
      "text/plain": [
       "<IPython.core.display.Javascript object>"
      ]
     },
     "metadata": {},
     "output_type": "display_data"
    },
    {
     "data": {
      "application/javascript": [
       "\n",
       "\n",
       "        var elem = document.getElementById(\"stage2-bar\")\n",
       "        var part = 28\n",
       "        if (part){\n",
       "            elem.style.gridColumn = \"1/\" + (part+1)\n",
       "            elem.style.display = \"block\"\n",
       "        } else\n",
       "            elem.style.display = \"none\"\n",
       "        elem = document.getElementById(\"stage2-text\")\n",
       "        elem.innerHTML = part + \"/100 (\" + (part / 100 * 100).toFixed(2) + \"%)\"\n",
       "        \n",
       "\n",
       "        var elem = document.getElementById(\"stage3-bar\")\n",
       "        var part = 72\n",
       "        if (part){\n",
       "            elem.style.gridColumn = \"1/\" + (part+1)\n",
       "            elem.style.display = \"block\"\n",
       "        } else\n",
       "            elem.style.display = \"none\"\n",
       "        elem = document.getElementById(\"stage3-text\")\n",
       "        elem.innerHTML = part + \"/100 (\" + (part / 100 * 100).toFixed(2) + \"%)\"\n",
       "        "
      ],
      "text/plain": [
       "<IPython.core.display.Javascript object>"
      ]
     },
     "metadata": {},
     "output_type": "display_data"
    },
    {
     "data": {
      "application/javascript": [
       "\n",
       "\n",
       "        var elem = document.getElementById(\"bar_id_71\")\n",
       "        elem.style.backgroundColor = \"#1abc9c\"\n",
       "        "
      ],
      "text/plain": [
       "<IPython.core.display.Javascript object>"
      ]
     },
     "metadata": {},
     "output_type": "display_data"
    },
    {
     "data": {
      "application/javascript": [
       "\n",
       "\n",
       "        var elem = document.getElementById(\"stage2-bar\")\n",
       "        var part = 27\n",
       "        if (part){\n",
       "            elem.style.gridColumn = \"1/\" + (part+1)\n",
       "            elem.style.display = \"block\"\n",
       "        } else\n",
       "            elem.style.display = \"none\"\n",
       "        elem = document.getElementById(\"stage2-text\")\n",
       "        elem.innerHTML = part + \"/100 (\" + (part / 100 * 100).toFixed(2) + \"%)\"\n",
       "        \n",
       "\n",
       "        var elem = document.getElementById(\"stage3-bar\")\n",
       "        var part = 73\n",
       "        if (part){\n",
       "            elem.style.gridColumn = \"1/\" + (part+1)\n",
       "            elem.style.display = \"block\"\n",
       "        } else\n",
       "            elem.style.display = \"none\"\n",
       "        elem = document.getElementById(\"stage3-text\")\n",
       "        elem.innerHTML = part + \"/100 (\" + (part / 100 * 100).toFixed(2) + \"%)\"\n",
       "        "
      ],
      "text/plain": [
       "<IPython.core.display.Javascript object>"
      ]
     },
     "metadata": {},
     "output_type": "display_data"
    },
    {
     "data": {
      "application/javascript": [
       "\n",
       "\n",
       "        var elem = document.getElementById(\"bar_id_72\")\n",
       "        elem.style.backgroundColor = \"#1abc9c\"\n",
       "        "
      ],
      "text/plain": [
       "<IPython.core.display.Javascript object>"
      ]
     },
     "metadata": {},
     "output_type": "display_data"
    },
    {
     "data": {
      "application/javascript": [
       "\n",
       "\n",
       "        var elem = document.getElementById(\"stage2-bar\")\n",
       "        var part = 26\n",
       "        if (part){\n",
       "            elem.style.gridColumn = \"1/\" + (part+1)\n",
       "            elem.style.display = \"block\"\n",
       "        } else\n",
       "            elem.style.display = \"none\"\n",
       "        elem = document.getElementById(\"stage2-text\")\n",
       "        elem.innerHTML = part + \"/100 (\" + (part / 100 * 100).toFixed(2) + \"%)\"\n",
       "        \n",
       "\n",
       "        var elem = document.getElementById(\"stage3-bar\")\n",
       "        var part = 74\n",
       "        if (part){\n",
       "            elem.style.gridColumn = \"1/\" + (part+1)\n",
       "            elem.style.display = \"block\"\n",
       "        } else\n",
       "            elem.style.display = \"none\"\n",
       "        elem = document.getElementById(\"stage3-text\")\n",
       "        elem.innerHTML = part + \"/100 (\" + (part / 100 * 100).toFixed(2) + \"%)\"\n",
       "        "
      ],
      "text/plain": [
       "<IPython.core.display.Javascript object>"
      ]
     },
     "metadata": {},
     "output_type": "display_data"
    },
    {
     "data": {
      "application/javascript": [
       "\n",
       "\n",
       "        var elem = document.getElementById(\"bar_id_73\")\n",
       "        elem.style.backgroundColor = \"#1abc9c\"\n",
       "        "
      ],
      "text/plain": [
       "<IPython.core.display.Javascript object>"
      ]
     },
     "metadata": {},
     "output_type": "display_data"
    },
    {
     "data": {
      "application/javascript": [
       "\n",
       "\n",
       "        var elem = document.getElementById(\"stage2-bar\")\n",
       "        var part = 25\n",
       "        if (part){\n",
       "            elem.style.gridColumn = \"1/\" + (part+1)\n",
       "            elem.style.display = \"block\"\n",
       "        } else\n",
       "            elem.style.display = \"none\"\n",
       "        elem = document.getElementById(\"stage2-text\")\n",
       "        elem.innerHTML = part + \"/100 (\" + (part / 100 * 100).toFixed(2) + \"%)\"\n",
       "        \n",
       "\n",
       "        var elem = document.getElementById(\"stage3-bar\")\n",
       "        var part = 75\n",
       "        if (part){\n",
       "            elem.style.gridColumn = \"1/\" + (part+1)\n",
       "            elem.style.display = \"block\"\n",
       "        } else\n",
       "            elem.style.display = \"none\"\n",
       "        elem = document.getElementById(\"stage3-text\")\n",
       "        elem.innerHTML = part + \"/100 (\" + (part / 100 * 100).toFixed(2) + \"%)\"\n",
       "        "
      ],
      "text/plain": [
       "<IPython.core.display.Javascript object>"
      ]
     },
     "metadata": {},
     "output_type": "display_data"
    },
    {
     "data": {
      "application/javascript": [
       "\n",
       "\n",
       "        var elem = document.getElementById(\"bar_id_74\")\n",
       "        elem.style.backgroundColor = \"#1abc9c\"\n",
       "        "
      ],
      "text/plain": [
       "<IPython.core.display.Javascript object>"
      ]
     },
     "metadata": {},
     "output_type": "display_data"
    },
    {
     "data": {
      "application/javascript": [
       "\n",
       "\n",
       "        var elem = document.getElementById(\"stage2-bar\")\n",
       "        var part = 24\n",
       "        if (part){\n",
       "            elem.style.gridColumn = \"1/\" + (part+1)\n",
       "            elem.style.display = \"block\"\n",
       "        } else\n",
       "            elem.style.display = \"none\"\n",
       "        elem = document.getElementById(\"stage2-text\")\n",
       "        elem.innerHTML = part + \"/100 (\" + (part / 100 * 100).toFixed(2) + \"%)\"\n",
       "        \n",
       "\n",
       "        var elem = document.getElementById(\"stage3-bar\")\n",
       "        var part = 76\n",
       "        if (part){\n",
       "            elem.style.gridColumn = \"1/\" + (part+1)\n",
       "            elem.style.display = \"block\"\n",
       "        } else\n",
       "            elem.style.display = \"none\"\n",
       "        elem = document.getElementById(\"stage3-text\")\n",
       "        elem.innerHTML = part + \"/100 (\" + (part / 100 * 100).toFixed(2) + \"%)\"\n",
       "        "
      ],
      "text/plain": [
       "<IPython.core.display.Javascript object>"
      ]
     },
     "metadata": {},
     "output_type": "display_data"
    },
    {
     "data": {
      "application/javascript": [
       "\n",
       "\n",
       "        var elem = document.getElementById(\"bar_id_75\")\n",
       "        elem.style.backgroundColor = \"#1abc9c\"\n",
       "        "
      ],
      "text/plain": [
       "<IPython.core.display.Javascript object>"
      ]
     },
     "metadata": {},
     "output_type": "display_data"
    },
    {
     "data": {
      "application/javascript": [
       "\n",
       "\n",
       "        var elem = document.getElementById(\"stage2-bar\")\n",
       "        var part = 23\n",
       "        if (part){\n",
       "            elem.style.gridColumn = \"1/\" + (part+1)\n",
       "            elem.style.display = \"block\"\n",
       "        } else\n",
       "            elem.style.display = \"none\"\n",
       "        elem = document.getElementById(\"stage2-text\")\n",
       "        elem.innerHTML = part + \"/100 (\" + (part / 100 * 100).toFixed(2) + \"%)\"\n",
       "        \n",
       "\n",
       "        var elem = document.getElementById(\"stage3-bar\")\n",
       "        var part = 77\n",
       "        if (part){\n",
       "            elem.style.gridColumn = \"1/\" + (part+1)\n",
       "            elem.style.display = \"block\"\n",
       "        } else\n",
       "            elem.style.display = \"none\"\n",
       "        elem = document.getElementById(\"stage3-text\")\n",
       "        elem.innerHTML = part + \"/100 (\" + (part / 100 * 100).toFixed(2) + \"%)\"\n",
       "        "
      ],
      "text/plain": [
       "<IPython.core.display.Javascript object>"
      ]
     },
     "metadata": {},
     "output_type": "display_data"
    },
    {
     "data": {
      "application/javascript": [
       "\n",
       "\n",
       "        var elem = document.getElementById(\"bar_id_76\")\n",
       "        elem.style.backgroundColor = \"#1abc9c\"\n",
       "        "
      ],
      "text/plain": [
       "<IPython.core.display.Javascript object>"
      ]
     },
     "metadata": {},
     "output_type": "display_data"
    },
    {
     "data": {
      "application/javascript": [
       "\n",
       "\n",
       "        var elem = document.getElementById(\"stage2-bar\")\n",
       "        var part = 22\n",
       "        if (part){\n",
       "            elem.style.gridColumn = \"1/\" + (part+1)\n",
       "            elem.style.display = \"block\"\n",
       "        } else\n",
       "            elem.style.display = \"none\"\n",
       "        elem = document.getElementById(\"stage2-text\")\n",
       "        elem.innerHTML = part + \"/100 (\" + (part / 100 * 100).toFixed(2) + \"%)\"\n",
       "        \n",
       "\n",
       "        var elem = document.getElementById(\"stage3-bar\")\n",
       "        var part = 78\n",
       "        if (part){\n",
       "            elem.style.gridColumn = \"1/\" + (part+1)\n",
       "            elem.style.display = \"block\"\n",
       "        } else\n",
       "            elem.style.display = \"none\"\n",
       "        elem = document.getElementById(\"stage3-text\")\n",
       "        elem.innerHTML = part + \"/100 (\" + (part / 100 * 100).toFixed(2) + \"%)\"\n",
       "        "
      ],
      "text/plain": [
       "<IPython.core.display.Javascript object>"
      ]
     },
     "metadata": {},
     "output_type": "display_data"
    },
    {
     "data": {
      "application/javascript": [
       "\n",
       "\n",
       "        var elem = document.getElementById(\"bar_id_77\")\n",
       "        elem.style.backgroundColor = \"#1abc9c\"\n",
       "        "
      ],
      "text/plain": [
       "<IPython.core.display.Javascript object>"
      ]
     },
     "metadata": {},
     "output_type": "display_data"
    },
    {
     "data": {
      "application/javascript": [
       "\n",
       "\n",
       "        var elem = document.getElementById(\"stage2-bar\")\n",
       "        var part = 21\n",
       "        if (part){\n",
       "            elem.style.gridColumn = \"1/\" + (part+1)\n",
       "            elem.style.display = \"block\"\n",
       "        } else\n",
       "            elem.style.display = \"none\"\n",
       "        elem = document.getElementById(\"stage2-text\")\n",
       "        elem.innerHTML = part + \"/100 (\" + (part / 100 * 100).toFixed(2) + \"%)\"\n",
       "        \n",
       "\n",
       "        var elem = document.getElementById(\"stage3-bar\")\n",
       "        var part = 79\n",
       "        if (part){\n",
       "            elem.style.gridColumn = \"1/\" + (part+1)\n",
       "            elem.style.display = \"block\"\n",
       "        } else\n",
       "            elem.style.display = \"none\"\n",
       "        elem = document.getElementById(\"stage3-text\")\n",
       "        elem.innerHTML = part + \"/100 (\" + (part / 100 * 100).toFixed(2) + \"%)\"\n",
       "        "
      ],
      "text/plain": [
       "<IPython.core.display.Javascript object>"
      ]
     },
     "metadata": {},
     "output_type": "display_data"
    },
    {
     "data": {
      "application/javascript": [
       "\n",
       "\n",
       "        var elem = document.getElementById(\"bar_id_78\")\n",
       "        elem.style.backgroundColor = \"#1abc9c\"\n",
       "        "
      ],
      "text/plain": [
       "<IPython.core.display.Javascript object>"
      ]
     },
     "metadata": {},
     "output_type": "display_data"
    },
    {
     "data": {
      "application/javascript": [
       "\n",
       "\n",
       "        var elem = document.getElementById(\"stage2-bar\")\n",
       "        var part = 20\n",
       "        if (part){\n",
       "            elem.style.gridColumn = \"1/\" + (part+1)\n",
       "            elem.style.display = \"block\"\n",
       "        } else\n",
       "            elem.style.display = \"none\"\n",
       "        elem = document.getElementById(\"stage2-text\")\n",
       "        elem.innerHTML = part + \"/100 (\" + (part / 100 * 100).toFixed(2) + \"%)\"\n",
       "        \n",
       "\n",
       "        var elem = document.getElementById(\"stage3-bar\")\n",
       "        var part = 80\n",
       "        if (part){\n",
       "            elem.style.gridColumn = \"1/\" + (part+1)\n",
       "            elem.style.display = \"block\"\n",
       "        } else\n",
       "            elem.style.display = \"none\"\n",
       "        elem = document.getElementById(\"stage3-text\")\n",
       "        elem.innerHTML = part + \"/100 (\" + (part / 100 * 100).toFixed(2) + \"%)\"\n",
       "        "
      ],
      "text/plain": [
       "<IPython.core.display.Javascript object>"
      ]
     },
     "metadata": {},
     "output_type": "display_data"
    },
    {
     "data": {
      "application/javascript": [
       "\n",
       "\n",
       "        var elem = document.getElementById(\"bar_id_79\")\n",
       "        elem.style.backgroundColor = \"#1abc9c\"\n",
       "        "
      ],
      "text/plain": [
       "<IPython.core.display.Javascript object>"
      ]
     },
     "metadata": {},
     "output_type": "display_data"
    },
    {
     "data": {
      "application/javascript": [
       "\n",
       "\n",
       "        var elem = document.getElementById(\"stage2-bar\")\n",
       "        var part = 19\n",
       "        if (part){\n",
       "            elem.style.gridColumn = \"1/\" + (part+1)\n",
       "            elem.style.display = \"block\"\n",
       "        } else\n",
       "            elem.style.display = \"none\"\n",
       "        elem = document.getElementById(\"stage2-text\")\n",
       "        elem.innerHTML = part + \"/100 (\" + (part / 100 * 100).toFixed(2) + \"%)\"\n",
       "        \n",
       "\n",
       "        var elem = document.getElementById(\"stage3-bar\")\n",
       "        var part = 81\n",
       "        if (part){\n",
       "            elem.style.gridColumn = \"1/\" + (part+1)\n",
       "            elem.style.display = \"block\"\n",
       "        } else\n",
       "            elem.style.display = \"none\"\n",
       "        elem = document.getElementById(\"stage3-text\")\n",
       "        elem.innerHTML = part + \"/100 (\" + (part / 100 * 100).toFixed(2) + \"%)\"\n",
       "        "
      ],
      "text/plain": [
       "<IPython.core.display.Javascript object>"
      ]
     },
     "metadata": {},
     "output_type": "display_data"
    },
    {
     "data": {
      "application/javascript": [
       "\n",
       "\n",
       "        var elem = document.getElementById(\"bar_id_80\")\n",
       "        elem.style.backgroundColor = \"#1abc9c\"\n",
       "        "
      ],
      "text/plain": [
       "<IPython.core.display.Javascript object>"
      ]
     },
     "metadata": {},
     "output_type": "display_data"
    },
    {
     "data": {
      "application/javascript": [
       "\n",
       "\n",
       "        var elem = document.getElementById(\"stage2-bar\")\n",
       "        var part = 18\n",
       "        if (part){\n",
       "            elem.style.gridColumn = \"1/\" + (part+1)\n",
       "            elem.style.display = \"block\"\n",
       "        } else\n",
       "            elem.style.display = \"none\"\n",
       "        elem = document.getElementById(\"stage2-text\")\n",
       "        elem.innerHTML = part + \"/100 (\" + (part / 100 * 100).toFixed(2) + \"%)\"\n",
       "        \n",
       "\n",
       "        var elem = document.getElementById(\"stage3-bar\")\n",
       "        var part = 82\n",
       "        if (part){\n",
       "            elem.style.gridColumn = \"1/\" + (part+1)\n",
       "            elem.style.display = \"block\"\n",
       "        } else\n",
       "            elem.style.display = \"none\"\n",
       "        elem = document.getElementById(\"stage3-text\")\n",
       "        elem.innerHTML = part + \"/100 (\" + (part / 100 * 100).toFixed(2) + \"%)\"\n",
       "        "
      ],
      "text/plain": [
       "<IPython.core.display.Javascript object>"
      ]
     },
     "metadata": {},
     "output_type": "display_data"
    },
    {
     "data": {
      "application/javascript": [
       "\n",
       "\n",
       "        var elem = document.getElementById(\"bar_id_81\")\n",
       "        elem.style.backgroundColor = \"#1abc9c\"\n",
       "        "
      ],
      "text/plain": [
       "<IPython.core.display.Javascript object>"
      ]
     },
     "metadata": {},
     "output_type": "display_data"
    },
    {
     "data": {
      "application/javascript": [
       "\n",
       "\n",
       "        var elem = document.getElementById(\"stage2-bar\")\n",
       "        var part = 17\n",
       "        if (part){\n",
       "            elem.style.gridColumn = \"1/\" + (part+1)\n",
       "            elem.style.display = \"block\"\n",
       "        } else\n",
       "            elem.style.display = \"none\"\n",
       "        elem = document.getElementById(\"stage2-text\")\n",
       "        elem.innerHTML = part + \"/100 (\" + (part / 100 * 100).toFixed(2) + \"%)\"\n",
       "        \n",
       "\n",
       "        var elem = document.getElementById(\"stage3-bar\")\n",
       "        var part = 83\n",
       "        if (part){\n",
       "            elem.style.gridColumn = \"1/\" + (part+1)\n",
       "            elem.style.display = \"block\"\n",
       "        } else\n",
       "            elem.style.display = \"none\"\n",
       "        elem = document.getElementById(\"stage3-text\")\n",
       "        elem.innerHTML = part + \"/100 (\" + (part / 100 * 100).toFixed(2) + \"%)\"\n",
       "        "
      ],
      "text/plain": [
       "<IPython.core.display.Javascript object>"
      ]
     },
     "metadata": {},
     "output_type": "display_data"
    },
    {
     "data": {
      "application/javascript": [
       "\n",
       "\n",
       "        var elem = document.getElementById(\"bar_id_82\")\n",
       "        elem.style.backgroundColor = \"#1abc9c\"\n",
       "        "
      ],
      "text/plain": [
       "<IPython.core.display.Javascript object>"
      ]
     },
     "metadata": {},
     "output_type": "display_data"
    },
    {
     "data": {
      "application/javascript": [
       "\n",
       "\n",
       "        var elem = document.getElementById(\"stage2-bar\")\n",
       "        var part = 16\n",
       "        if (part){\n",
       "            elem.style.gridColumn = \"1/\" + (part+1)\n",
       "            elem.style.display = \"block\"\n",
       "        } else\n",
       "            elem.style.display = \"none\"\n",
       "        elem = document.getElementById(\"stage2-text\")\n",
       "        elem.innerHTML = part + \"/100 (\" + (part / 100 * 100).toFixed(2) + \"%)\"\n",
       "        \n",
       "\n",
       "        var elem = document.getElementById(\"stage3-bar\")\n",
       "        var part = 84\n",
       "        if (part){\n",
       "            elem.style.gridColumn = \"1/\" + (part+1)\n",
       "            elem.style.display = \"block\"\n",
       "        } else\n",
       "            elem.style.display = \"none\"\n",
       "        elem = document.getElementById(\"stage3-text\")\n",
       "        elem.innerHTML = part + \"/100 (\" + (part / 100 * 100).toFixed(2) + \"%)\"\n",
       "        "
      ],
      "text/plain": [
       "<IPython.core.display.Javascript object>"
      ]
     },
     "metadata": {},
     "output_type": "display_data"
    },
    {
     "data": {
      "application/javascript": [
       "\n",
       "\n",
       "        var elem = document.getElementById(\"bar_id_83\")\n",
       "        elem.style.backgroundColor = \"#1abc9c\"\n",
       "        "
      ],
      "text/plain": [
       "<IPython.core.display.Javascript object>"
      ]
     },
     "metadata": {},
     "output_type": "display_data"
    },
    {
     "data": {
      "application/javascript": [
       "\n",
       "\n",
       "        var elem = document.getElementById(\"stage2-bar\")\n",
       "        var part = 15\n",
       "        if (part){\n",
       "            elem.style.gridColumn = \"1/\" + (part+1)\n",
       "            elem.style.display = \"block\"\n",
       "        } else\n",
       "            elem.style.display = \"none\"\n",
       "        elem = document.getElementById(\"stage2-text\")\n",
       "        elem.innerHTML = part + \"/100 (\" + (part / 100 * 100).toFixed(2) + \"%)\"\n",
       "        \n",
       "\n",
       "        var elem = document.getElementById(\"stage3-bar\")\n",
       "        var part = 85\n",
       "        if (part){\n",
       "            elem.style.gridColumn = \"1/\" + (part+1)\n",
       "            elem.style.display = \"block\"\n",
       "        } else\n",
       "            elem.style.display = \"none\"\n",
       "        elem = document.getElementById(\"stage3-text\")\n",
       "        elem.innerHTML = part + \"/100 (\" + (part / 100 * 100).toFixed(2) + \"%)\"\n",
       "        "
      ],
      "text/plain": [
       "<IPython.core.display.Javascript object>"
      ]
     },
     "metadata": {},
     "output_type": "display_data"
    },
    {
     "data": {
      "application/javascript": [
       "\n",
       "\n",
       "        var elem = document.getElementById(\"bar_id_84\")\n",
       "        elem.style.backgroundColor = \"#1abc9c\"\n",
       "        "
      ],
      "text/plain": [
       "<IPython.core.display.Javascript object>"
      ]
     },
     "metadata": {},
     "output_type": "display_data"
    },
    {
     "data": {
      "application/javascript": [
       "\n",
       "\n",
       "        var elem = document.getElementById(\"stage2-bar\")\n",
       "        var part = 14\n",
       "        if (part){\n",
       "            elem.style.gridColumn = \"1/\" + (part+1)\n",
       "            elem.style.display = \"block\"\n",
       "        } else\n",
       "            elem.style.display = \"none\"\n",
       "        elem = document.getElementById(\"stage2-text\")\n",
       "        elem.innerHTML = part + \"/100 (\" + (part / 100 * 100).toFixed(2) + \"%)\"\n",
       "        \n",
       "\n",
       "        var elem = document.getElementById(\"stage3-bar\")\n",
       "        var part = 86\n",
       "        if (part){\n",
       "            elem.style.gridColumn = \"1/\" + (part+1)\n",
       "            elem.style.display = \"block\"\n",
       "        } else\n",
       "            elem.style.display = \"none\"\n",
       "        elem = document.getElementById(\"stage3-text\")\n",
       "        elem.innerHTML = part + \"/100 (\" + (part / 100 * 100).toFixed(2) + \"%)\"\n",
       "        "
      ],
      "text/plain": [
       "<IPython.core.display.Javascript object>"
      ]
     },
     "metadata": {},
     "output_type": "display_data"
    },
    {
     "data": {
      "application/javascript": [
       "\n",
       "\n",
       "        var elem = document.getElementById(\"bar_id_85\")\n",
       "        elem.style.backgroundColor = \"#1abc9c\"\n",
       "        "
      ],
      "text/plain": [
       "<IPython.core.display.Javascript object>"
      ]
     },
     "metadata": {},
     "output_type": "display_data"
    },
    {
     "data": {
      "application/javascript": [
       "\n",
       "\n",
       "        var elem = document.getElementById(\"stage2-bar\")\n",
       "        var part = 13\n",
       "        if (part){\n",
       "            elem.style.gridColumn = \"1/\" + (part+1)\n",
       "            elem.style.display = \"block\"\n",
       "        } else\n",
       "            elem.style.display = \"none\"\n",
       "        elem = document.getElementById(\"stage2-text\")\n",
       "        elem.innerHTML = part + \"/100 (\" + (part / 100 * 100).toFixed(2) + \"%)\"\n",
       "        \n",
       "\n",
       "        var elem = document.getElementById(\"stage3-bar\")\n",
       "        var part = 87\n",
       "        if (part){\n",
       "            elem.style.gridColumn = \"1/\" + (part+1)\n",
       "            elem.style.display = \"block\"\n",
       "        } else\n",
       "            elem.style.display = \"none\"\n",
       "        elem = document.getElementById(\"stage3-text\")\n",
       "        elem.innerHTML = part + \"/100 (\" + (part / 100 * 100).toFixed(2) + \"%)\"\n",
       "        "
      ],
      "text/plain": [
       "<IPython.core.display.Javascript object>"
      ]
     },
     "metadata": {},
     "output_type": "display_data"
    },
    {
     "data": {
      "application/javascript": [
       "\n",
       "\n",
       "        var elem = document.getElementById(\"bar_id_86\")\n",
       "        elem.style.backgroundColor = \"#1abc9c\"\n",
       "        "
      ],
      "text/plain": [
       "<IPython.core.display.Javascript object>"
      ]
     },
     "metadata": {},
     "output_type": "display_data"
    },
    {
     "data": {
      "application/javascript": [
       "\n",
       "\n",
       "        var elem = document.getElementById(\"stage2-bar\")\n",
       "        var part = 12\n",
       "        if (part){\n",
       "            elem.style.gridColumn = \"1/\" + (part+1)\n",
       "            elem.style.display = \"block\"\n",
       "        } else\n",
       "            elem.style.display = \"none\"\n",
       "        elem = document.getElementById(\"stage2-text\")\n",
       "        elem.innerHTML = part + \"/100 (\" + (part / 100 * 100).toFixed(2) + \"%)\"\n",
       "        \n",
       "\n",
       "        var elem = document.getElementById(\"stage3-bar\")\n",
       "        var part = 88\n",
       "        if (part){\n",
       "            elem.style.gridColumn = \"1/\" + (part+1)\n",
       "            elem.style.display = \"block\"\n",
       "        } else\n",
       "            elem.style.display = \"none\"\n",
       "        elem = document.getElementById(\"stage3-text\")\n",
       "        elem.innerHTML = part + \"/100 (\" + (part / 100 * 100).toFixed(2) + \"%)\"\n",
       "        "
      ],
      "text/plain": [
       "<IPython.core.display.Javascript object>"
      ]
     },
     "metadata": {},
     "output_type": "display_data"
    },
    {
     "data": {
      "application/javascript": [
       "\n",
       "\n",
       "        var elem = document.getElementById(\"bar_id_87\")\n",
       "        elem.style.backgroundColor = \"#1abc9c\"\n",
       "        "
      ],
      "text/plain": [
       "<IPython.core.display.Javascript object>"
      ]
     },
     "metadata": {},
     "output_type": "display_data"
    },
    {
     "data": {
      "application/javascript": [
       "\n",
       "\n",
       "        var elem = document.getElementById(\"stage2-bar\")\n",
       "        var part = 11\n",
       "        if (part){\n",
       "            elem.style.gridColumn = \"1/\" + (part+1)\n",
       "            elem.style.display = \"block\"\n",
       "        } else\n",
       "            elem.style.display = \"none\"\n",
       "        elem = document.getElementById(\"stage2-text\")\n",
       "        elem.innerHTML = part + \"/100 (\" + (part / 100 * 100).toFixed(2) + \"%)\"\n",
       "        \n",
       "\n",
       "        var elem = document.getElementById(\"stage3-bar\")\n",
       "        var part = 89\n",
       "        if (part){\n",
       "            elem.style.gridColumn = \"1/\" + (part+1)\n",
       "            elem.style.display = \"block\"\n",
       "        } else\n",
       "            elem.style.display = \"none\"\n",
       "        elem = document.getElementById(\"stage3-text\")\n",
       "        elem.innerHTML = part + \"/100 (\" + (part / 100 * 100).toFixed(2) + \"%)\"\n",
       "        "
      ],
      "text/plain": [
       "<IPython.core.display.Javascript object>"
      ]
     },
     "metadata": {},
     "output_type": "display_data"
    },
    {
     "data": {
      "application/javascript": [
       "\n",
       "\n",
       "        var elem = document.getElementById(\"bar_id_88\")\n",
       "        elem.style.backgroundColor = \"#1abc9c\"\n",
       "        "
      ],
      "text/plain": [
       "<IPython.core.display.Javascript object>"
      ]
     },
     "metadata": {},
     "output_type": "display_data"
    },
    {
     "data": {
      "application/javascript": [
       "\n",
       "\n",
       "        var elem = document.getElementById(\"stage2-bar\")\n",
       "        var part = 10\n",
       "        if (part){\n",
       "            elem.style.gridColumn = \"1/\" + (part+1)\n",
       "            elem.style.display = \"block\"\n",
       "        } else\n",
       "            elem.style.display = \"none\"\n",
       "        elem = document.getElementById(\"stage2-text\")\n",
       "        elem.innerHTML = part + \"/100 (\" + (part / 100 * 100).toFixed(2) + \"%)\"\n",
       "        \n",
       "\n",
       "        var elem = document.getElementById(\"stage3-bar\")\n",
       "        var part = 90\n",
       "        if (part){\n",
       "            elem.style.gridColumn = \"1/\" + (part+1)\n",
       "            elem.style.display = \"block\"\n",
       "        } else\n",
       "            elem.style.display = \"none\"\n",
       "        elem = document.getElementById(\"stage3-text\")\n",
       "        elem.innerHTML = part + \"/100 (\" + (part / 100 * 100).toFixed(2) + \"%)\"\n",
       "        "
      ],
      "text/plain": [
       "<IPython.core.display.Javascript object>"
      ]
     },
     "metadata": {},
     "output_type": "display_data"
    },
    {
     "data": {
      "application/javascript": [
       "\n",
       "\n",
       "        var elem = document.getElementById(\"bar_id_89\")\n",
       "        elem.style.backgroundColor = \"#1abc9c\"\n",
       "        "
      ],
      "text/plain": [
       "<IPython.core.display.Javascript object>"
      ]
     },
     "metadata": {},
     "output_type": "display_data"
    },
    {
     "data": {
      "application/javascript": [
       "\n",
       "\n",
       "        var elem = document.getElementById(\"stage2-bar\")\n",
       "        var part = 9\n",
       "        if (part){\n",
       "            elem.style.gridColumn = \"1/\" + (part+1)\n",
       "            elem.style.display = \"block\"\n",
       "        } else\n",
       "            elem.style.display = \"none\"\n",
       "        elem = document.getElementById(\"stage2-text\")\n",
       "        elem.innerHTML = part + \"/100 (\" + (part / 100 * 100).toFixed(2) + \"%)\"\n",
       "        \n",
       "\n",
       "        var elem = document.getElementById(\"stage3-bar\")\n",
       "        var part = 91\n",
       "        if (part){\n",
       "            elem.style.gridColumn = \"1/\" + (part+1)\n",
       "            elem.style.display = \"block\"\n",
       "        } else\n",
       "            elem.style.display = \"none\"\n",
       "        elem = document.getElementById(\"stage3-text\")\n",
       "        elem.innerHTML = part + \"/100 (\" + (part / 100 * 100).toFixed(2) + \"%)\"\n",
       "        "
      ],
      "text/plain": [
       "<IPython.core.display.Javascript object>"
      ]
     },
     "metadata": {},
     "output_type": "display_data"
    },
    {
     "data": {
      "application/javascript": [
       "\n",
       "\n",
       "        var elem = document.getElementById(\"bar_id_90\")\n",
       "        elem.style.backgroundColor = \"#1abc9c\"\n",
       "        "
      ],
      "text/plain": [
       "<IPython.core.display.Javascript object>"
      ]
     },
     "metadata": {},
     "output_type": "display_data"
    },
    {
     "data": {
      "application/javascript": [
       "\n",
       "\n",
       "        var elem = document.getElementById(\"stage2-bar\")\n",
       "        var part = 8\n",
       "        if (part){\n",
       "            elem.style.gridColumn = \"1/\" + (part+1)\n",
       "            elem.style.display = \"block\"\n",
       "        } else\n",
       "            elem.style.display = \"none\"\n",
       "        elem = document.getElementById(\"stage2-text\")\n",
       "        elem.innerHTML = part + \"/100 (\" + (part / 100 * 100).toFixed(2) + \"%)\"\n",
       "        \n",
       "\n",
       "        var elem = document.getElementById(\"stage3-bar\")\n",
       "        var part = 92\n",
       "        if (part){\n",
       "            elem.style.gridColumn = \"1/\" + (part+1)\n",
       "            elem.style.display = \"block\"\n",
       "        } else\n",
       "            elem.style.display = \"none\"\n",
       "        elem = document.getElementById(\"stage3-text\")\n",
       "        elem.innerHTML = part + \"/100 (\" + (part / 100 * 100).toFixed(2) + \"%)\"\n",
       "        "
      ],
      "text/plain": [
       "<IPython.core.display.Javascript object>"
      ]
     },
     "metadata": {},
     "output_type": "display_data"
    },
    {
     "data": {
      "application/javascript": [
       "\n",
       "\n",
       "        var elem = document.getElementById(\"bar_id_91\")\n",
       "        elem.style.backgroundColor = \"#1abc9c\"\n",
       "        "
      ],
      "text/plain": [
       "<IPython.core.display.Javascript object>"
      ]
     },
     "metadata": {},
     "output_type": "display_data"
    },
    {
     "data": {
      "application/javascript": [
       "\n",
       "\n",
       "        var elem = document.getElementById(\"stage2-bar\")\n",
       "        var part = 7\n",
       "        if (part){\n",
       "            elem.style.gridColumn = \"1/\" + (part+1)\n",
       "            elem.style.display = \"block\"\n",
       "        } else\n",
       "            elem.style.display = \"none\"\n",
       "        elem = document.getElementById(\"stage2-text\")\n",
       "        elem.innerHTML = part + \"/100 (\" + (part / 100 * 100).toFixed(2) + \"%)\"\n",
       "        \n",
       "\n",
       "        var elem = document.getElementById(\"stage3-bar\")\n",
       "        var part = 93\n",
       "        if (part){\n",
       "            elem.style.gridColumn = \"1/\" + (part+1)\n",
       "            elem.style.display = \"block\"\n",
       "        } else\n",
       "            elem.style.display = \"none\"\n",
       "        elem = document.getElementById(\"stage3-text\")\n",
       "        elem.innerHTML = part + \"/100 (\" + (part / 100 * 100).toFixed(2) + \"%)\"\n",
       "        "
      ],
      "text/plain": [
       "<IPython.core.display.Javascript object>"
      ]
     },
     "metadata": {},
     "output_type": "display_data"
    },
    {
     "data": {
      "application/javascript": [
       "\n",
       "\n",
       "        var elem = document.getElementById(\"bar_id_92\")\n",
       "        elem.style.backgroundColor = \"#1abc9c\"\n",
       "        "
      ],
      "text/plain": [
       "<IPython.core.display.Javascript object>"
      ]
     },
     "metadata": {},
     "output_type": "display_data"
    },
    {
     "data": {
      "application/javascript": [
       "\n",
       "\n",
       "        var elem = document.getElementById(\"stage2-bar\")\n",
       "        var part = 6\n",
       "        if (part){\n",
       "            elem.style.gridColumn = \"1/\" + (part+1)\n",
       "            elem.style.display = \"block\"\n",
       "        } else\n",
       "            elem.style.display = \"none\"\n",
       "        elem = document.getElementById(\"stage2-text\")\n",
       "        elem.innerHTML = part + \"/100 (\" + (part / 100 * 100).toFixed(2) + \"%)\"\n",
       "        \n",
       "\n",
       "        var elem = document.getElementById(\"stage3-bar\")\n",
       "        var part = 94\n",
       "        if (part){\n",
       "            elem.style.gridColumn = \"1/\" + (part+1)\n",
       "            elem.style.display = \"block\"\n",
       "        } else\n",
       "            elem.style.display = \"none\"\n",
       "        elem = document.getElementById(\"stage3-text\")\n",
       "        elem.innerHTML = part + \"/100 (\" + (part / 100 * 100).toFixed(2) + \"%)\"\n",
       "        "
      ],
      "text/plain": [
       "<IPython.core.display.Javascript object>"
      ]
     },
     "metadata": {},
     "output_type": "display_data"
    },
    {
     "data": {
      "application/javascript": [
       "\n",
       "\n",
       "        var elem = document.getElementById(\"bar_id_93\")\n",
       "        elem.style.backgroundColor = \"#1abc9c\"\n",
       "        "
      ],
      "text/plain": [
       "<IPython.core.display.Javascript object>"
      ]
     },
     "metadata": {},
     "output_type": "display_data"
    },
    {
     "data": {
      "application/javascript": [
       "\n",
       "\n",
       "        var elem = document.getElementById(\"stage2-bar\")\n",
       "        var part = 5\n",
       "        if (part){\n",
       "            elem.style.gridColumn = \"1/\" + (part+1)\n",
       "            elem.style.display = \"block\"\n",
       "        } else\n",
       "            elem.style.display = \"none\"\n",
       "        elem = document.getElementById(\"stage2-text\")\n",
       "        elem.innerHTML = part + \"/100 (\" + (part / 100 * 100).toFixed(2) + \"%)\"\n",
       "        \n",
       "\n",
       "        var elem = document.getElementById(\"stage3-bar\")\n",
       "        var part = 95\n",
       "        if (part){\n",
       "            elem.style.gridColumn = \"1/\" + (part+1)\n",
       "            elem.style.display = \"block\"\n",
       "        } else\n",
       "            elem.style.display = \"none\"\n",
       "        elem = document.getElementById(\"stage3-text\")\n",
       "        elem.innerHTML = part + \"/100 (\" + (part / 100 * 100).toFixed(2) + \"%)\"\n",
       "        "
      ],
      "text/plain": [
       "<IPython.core.display.Javascript object>"
      ]
     },
     "metadata": {},
     "output_type": "display_data"
    },
    {
     "data": {
      "application/javascript": [
       "\n",
       "\n",
       "        var elem = document.getElementById(\"bar_id_94\")\n",
       "        elem.style.backgroundColor = \"#1abc9c\"\n",
       "        "
      ],
      "text/plain": [
       "<IPython.core.display.Javascript object>"
      ]
     },
     "metadata": {},
     "output_type": "display_data"
    },
    {
     "data": {
      "application/javascript": [
       "\n",
       "\n",
       "        var elem = document.getElementById(\"stage2-bar\")\n",
       "        var part = 4\n",
       "        if (part){\n",
       "            elem.style.gridColumn = \"1/\" + (part+1)\n",
       "            elem.style.display = \"block\"\n",
       "        } else\n",
       "            elem.style.display = \"none\"\n",
       "        elem = document.getElementById(\"stage2-text\")\n",
       "        elem.innerHTML = part + \"/100 (\" + (part / 100 * 100).toFixed(2) + \"%)\"\n",
       "        \n",
       "\n",
       "        var elem = document.getElementById(\"stage3-bar\")\n",
       "        var part = 96\n",
       "        if (part){\n",
       "            elem.style.gridColumn = \"1/\" + (part+1)\n",
       "            elem.style.display = \"block\"\n",
       "        } else\n",
       "            elem.style.display = \"none\"\n",
       "        elem = document.getElementById(\"stage3-text\")\n",
       "        elem.innerHTML = part + \"/100 (\" + (part / 100 * 100).toFixed(2) + \"%)\"\n",
       "        "
      ],
      "text/plain": [
       "<IPython.core.display.Javascript object>"
      ]
     },
     "metadata": {},
     "output_type": "display_data"
    },
    {
     "data": {
      "application/javascript": [
       "\n",
       "\n",
       "        var elem = document.getElementById(\"bar_id_95\")\n",
       "        elem.style.backgroundColor = \"#1abc9c\"\n",
       "        "
      ],
      "text/plain": [
       "<IPython.core.display.Javascript object>"
      ]
     },
     "metadata": {},
     "output_type": "display_data"
    },
    {
     "data": {
      "application/javascript": [
       "\n",
       "\n",
       "        var elem = document.getElementById(\"stage2-bar\")\n",
       "        var part = 3\n",
       "        if (part){\n",
       "            elem.style.gridColumn = \"1/\" + (part+1)\n",
       "            elem.style.display = \"block\"\n",
       "        } else\n",
       "            elem.style.display = \"none\"\n",
       "        elem = document.getElementById(\"stage2-text\")\n",
       "        elem.innerHTML = part + \"/100 (\" + (part / 100 * 100).toFixed(2) + \"%)\"\n",
       "        \n",
       "\n",
       "        var elem = document.getElementById(\"stage3-bar\")\n",
       "        var part = 97\n",
       "        if (part){\n",
       "            elem.style.gridColumn = \"1/\" + (part+1)\n",
       "            elem.style.display = \"block\"\n",
       "        } else\n",
       "            elem.style.display = \"none\"\n",
       "        elem = document.getElementById(\"stage3-text\")\n",
       "        elem.innerHTML = part + \"/100 (\" + (part / 100 * 100).toFixed(2) + \"%)\"\n",
       "        "
      ],
      "text/plain": [
       "<IPython.core.display.Javascript object>"
      ]
     },
     "metadata": {},
     "output_type": "display_data"
    },
    {
     "data": {
      "application/javascript": [
       "\n",
       "\n",
       "        var elem = document.getElementById(\"bar_id_96\")\n",
       "        elem.style.backgroundColor = \"#1abc9c\"\n",
       "        "
      ],
      "text/plain": [
       "<IPython.core.display.Javascript object>"
      ]
     },
     "metadata": {},
     "output_type": "display_data"
    },
    {
     "data": {
      "application/javascript": [
       "\n",
       "\n",
       "        var elem = document.getElementById(\"stage2-bar\")\n",
       "        var part = 2\n",
       "        if (part){\n",
       "            elem.style.gridColumn = \"1/\" + (part+1)\n",
       "            elem.style.display = \"block\"\n",
       "        } else\n",
       "            elem.style.display = \"none\"\n",
       "        elem = document.getElementById(\"stage2-text\")\n",
       "        elem.innerHTML = part + \"/100 (\" + (part / 100 * 100).toFixed(2) + \"%)\"\n",
       "        \n",
       "\n",
       "        var elem = document.getElementById(\"stage3-bar\")\n",
       "        var part = 98\n",
       "        if (part){\n",
       "            elem.style.gridColumn = \"1/\" + (part+1)\n",
       "            elem.style.display = \"block\"\n",
       "        } else\n",
       "            elem.style.display = \"none\"\n",
       "        elem = document.getElementById(\"stage3-text\")\n",
       "        elem.innerHTML = part + \"/100 (\" + (part / 100 * 100).toFixed(2) + \"%)\"\n",
       "        "
      ],
      "text/plain": [
       "<IPython.core.display.Javascript object>"
      ]
     },
     "metadata": {},
     "output_type": "display_data"
    },
    {
     "data": {
      "application/javascript": [
       "\n",
       "\n",
       "        var elem = document.getElementById(\"bar_id_97\")\n",
       "        elem.style.backgroundColor = \"#1abc9c\"\n",
       "        "
      ],
      "text/plain": [
       "<IPython.core.display.Javascript object>"
      ]
     },
     "metadata": {},
     "output_type": "display_data"
    },
    {
     "data": {
      "application/javascript": [
       "\n",
       "\n",
       "        var elem = document.getElementById(\"stage2-bar\")\n",
       "        var part = 1\n",
       "        if (part){\n",
       "            elem.style.gridColumn = \"1/\" + (part+1)\n",
       "            elem.style.display = \"block\"\n",
       "        } else\n",
       "            elem.style.display = \"none\"\n",
       "        elem = document.getElementById(\"stage2-text\")\n",
       "        elem.innerHTML = part + \"/100 (\" + (part / 100 * 100).toFixed(2) + \"%)\"\n",
       "        \n",
       "\n",
       "        var elem = document.getElementById(\"stage3-bar\")\n",
       "        var part = 99\n",
       "        if (part){\n",
       "            elem.style.gridColumn = \"1/\" + (part+1)\n",
       "            elem.style.display = \"block\"\n",
       "        } else\n",
       "            elem.style.display = \"none\"\n",
       "        elem = document.getElementById(\"stage3-text\")\n",
       "        elem.innerHTML = part + \"/100 (\" + (part / 100 * 100).toFixed(2) + \"%)\"\n",
       "        "
      ],
      "text/plain": [
       "<IPython.core.display.Javascript object>"
      ]
     },
     "metadata": {},
     "output_type": "display_data"
    },
    {
     "data": {
      "application/javascript": [
       "\n",
       "\n",
       "        var elem = document.getElementById(\"bar_id_98\")\n",
       "        elem.style.backgroundColor = \"#1abc9c\"\n",
       "        "
      ],
      "text/plain": [
       "<IPython.core.display.Javascript object>"
      ]
     },
     "metadata": {},
     "output_type": "display_data"
    },
    {
     "data": {
      "application/javascript": [
       "\n",
       "\n",
       "        var elem = document.getElementById(\"stage2-bar\")\n",
       "        var part = 0\n",
       "        if (part){\n",
       "            elem.style.gridColumn = \"1/\" + (part+1)\n",
       "            elem.style.display = \"block\"\n",
       "        } else\n",
       "            elem.style.display = \"none\"\n",
       "        elem = document.getElementById(\"stage2-text\")\n",
       "        elem.innerHTML = part + \"/100 (\" + (part / 100 * 100).toFixed(2) + \"%)\"\n",
       "        \n",
       "\n",
       "        var elem = document.getElementById(\"stage3-bar\")\n",
       "        var part = 100\n",
       "        if (part){\n",
       "            elem.style.gridColumn = \"1/\" + (part+1)\n",
       "            elem.style.display = \"block\"\n",
       "        } else\n",
       "            elem.style.display = \"none\"\n",
       "        elem = document.getElementById(\"stage3-text\")\n",
       "        elem.innerHTML = part + \"/100 (\" + (part / 100 * 100).toFixed(2) + \"%)\"\n",
       "        "
      ],
      "text/plain": [
       "<IPython.core.display.Javascript object>"
      ]
     },
     "metadata": {},
     "output_type": "display_data"
    },
    {
     "data": {
      "application/javascript": [
       "\n",
       "\n",
       "        var elem = document.getElementById(\"bar_id_99\")\n",
       "        elem.style.backgroundColor = \"#1abc9c\"\n",
       "        "
      ],
      "text/plain": [
       "<IPython.core.display.Javascript object>"
      ]
     },
     "metadata": {},
     "output_type": "display_data"
    },
    {
     "data": {
      "application/javascript": [
       "\n",
       "\n",
       "        var elem = document.getElementById(\"stage2-timestamp\")\n",
       "        elem.innerHTML = \"12.55s\"\n",
       "        "
      ],
      "text/plain": [
       "<IPython.core.display.Javascript object>"
      ]
     },
     "metadata": {},
     "output_type": "display_data"
    },
    {
     "data": {
      "application/javascript": [
       "\n",
       "\n",
       "        var elem = document.getElementById(\"bar_id_83\")\n",
       "        var part = 76\n",
       "        elem.style.gridColumn = \"1/\" + part\n",
       "        if (part > 1) elem.style.display = \"block\"\n",
       "        \n",
       "\n",
       "        var elem = document.getElementById(\"bar_id_84\")\n",
       "        var part = 75\n",
       "        elem.style.gridColumn = \"1/\" + part\n",
       "        if (part > 1) elem.style.display = \"block\"\n",
       "        \n",
       "\n",
       "        var elem = document.getElementById(\"bar_id_85\")\n",
       "        var part = 80\n",
       "        elem.style.gridColumn = \"1/\" + part\n",
       "        if (part > 1) elem.style.display = \"block\"\n",
       "        \n",
       "\n",
       "        var elem = document.getElementById(\"bar_id_86\")\n",
       "        var part = 82\n",
       "        elem.style.gridColumn = \"1/\" + part\n",
       "        if (part > 1) elem.style.display = \"block\"\n",
       "        \n",
       "\n",
       "        var elem = document.getElementById(\"bar_id_87\")\n",
       "        var part = 78\n",
       "        elem.style.gridColumn = \"1/\" + part\n",
       "        if (part > 1) elem.style.display = \"block\"\n",
       "        \n",
       "\n",
       "        var elem = document.getElementById(\"bar_id_88\")\n",
       "        var part = 79\n",
       "        elem.style.gridColumn = \"1/\" + part\n",
       "        if (part > 1) elem.style.display = \"block\"\n",
       "        \n",
       "\n",
       "        var elem = document.getElementById(\"bar_id_89\")\n",
       "        var part = 79\n",
       "        elem.style.gridColumn = \"1/\" + part\n",
       "        if (part > 1) elem.style.display = \"block\"\n",
       "        \n",
       "\n",
       "        var elem = document.getElementById(\"bar_id_90\")\n",
       "        var part = 79\n",
       "        elem.style.gridColumn = \"1/\" + part\n",
       "        if (part > 1) elem.style.display = \"block\"\n",
       "        \n",
       "\n",
       "        var elem = document.getElementById(\"bar_id_91\")\n",
       "        var part = 79\n",
       "        elem.style.gridColumn = \"1/\" + part\n",
       "        if (part > 1) elem.style.display = \"block\"\n",
       "        \n",
       "\n",
       "        var elem = document.getElementById(\"bar_id_92\")\n",
       "        var part = 76\n",
       "        elem.style.gridColumn = \"1/\" + part\n",
       "        if (part > 1) elem.style.display = \"block\"\n",
       "        \n",
       "\n",
       "        var elem = document.getElementById(\"bar_id_93\")\n",
       "        var part = 77\n",
       "        elem.style.gridColumn = \"1/\" + part\n",
       "        if (part > 1) elem.style.display = \"block\"\n",
       "        \n",
       "\n",
       "        var elem = document.getElementById(\"bar_id_94\")\n",
       "        var part = 78\n",
       "        elem.style.gridColumn = \"1/\" + part\n",
       "        if (part > 1) elem.style.display = \"block\"\n",
       "        \n",
       "\n",
       "        var elem = document.getElementById(\"bar_id_95\")\n",
       "        var part = 80\n",
       "        elem.style.gridColumn = \"1/\" + part\n",
       "        if (part > 1) elem.style.display = \"block\"\n",
       "        \n",
       "\n",
       "        var elem = document.getElementById(\"bar_id_96\")\n",
       "        var part = 75\n",
       "        elem.style.gridColumn = \"1/\" + part\n",
       "        if (part > 1) elem.style.display = \"block\"\n",
       "        \n",
       "\n",
       "        var elem = document.getElementById(\"bar_id_97\")\n",
       "        var part = 74\n",
       "        elem.style.gridColumn = \"1/\" + part\n",
       "        if (part > 1) elem.style.display = \"block\"\n",
       "        \n",
       "\n",
       "        var elem = document.getElementById(\"bar_id_98\")\n",
       "        var part = 75\n",
       "        elem.style.gridColumn = \"1/\" + part\n",
       "        if (part > 1) elem.style.display = \"block\"\n",
       "        \n",
       "\n",
       "        var elem = document.getElementById(\"bar_id_99\")\n",
       "        var part = 80\n",
       "        elem.style.gridColumn = \"1/\" + part\n",
       "        if (part > 1) elem.style.display = \"block\"\n",
       "        \n",
       "\n",
       "        var elem = document.getElementById(\"bar_id_0\")\n",
       "        var part = 77\n",
       "        elem.style.gridColumn = \"1/\" + part\n",
       "        if (part > 1) elem.style.display = \"block\"\n",
       "        \n",
       "\n",
       "        var elem = document.getElementById(\"bar_id_1\")\n",
       "        var part = 78\n",
       "        elem.style.gridColumn = \"1/\" + part\n",
       "        if (part > 1) elem.style.display = \"block\"\n",
       "        \n",
       "\n",
       "        var elem = document.getElementById(\"bar_id_2\")\n",
       "        var part = 73\n",
       "        elem.style.gridColumn = \"1/\" + part\n",
       "        if (part > 1) elem.style.display = \"block\"\n",
       "        \n",
       "\n",
       "        var elem = document.getElementById(\"bar_id_3\")\n",
       "        var part = 77\n",
       "        elem.style.gridColumn = \"1/\" + part\n",
       "        if (part > 1) elem.style.display = \"block\"\n",
       "        \n",
       "\n",
       "        var elem = document.getElementById(\"bar_id_4\")\n",
       "        var part = 77\n",
       "        elem.style.gridColumn = \"1/\" + part\n",
       "        if (part > 1) elem.style.display = \"block\"\n",
       "        \n",
       "\n",
       "        var elem = document.getElementById(\"bar_id_5\")\n",
       "        var part = 80\n",
       "        elem.style.gridColumn = \"1/\" + part\n",
       "        if (part > 1) elem.style.display = \"block\"\n",
       "        \n",
       "\n",
       "        var elem = document.getElementById(\"bar_id_6\")\n",
       "        var part = 72\n",
       "        elem.style.gridColumn = \"1/\" + part\n",
       "        if (part > 1) elem.style.display = \"block\"\n",
       "        \n",
       "\n",
       "        var elem = document.getElementById(\"bar_id_7\")\n",
       "        var part = 79\n",
       "        elem.style.gridColumn = \"1/\" + part\n",
       "        if (part > 1) elem.style.display = \"block\"\n",
       "        \n",
       "\n",
       "        var elem = document.getElementById(\"bar_id_8\")\n",
       "        var part = 78\n",
       "        elem.style.gridColumn = \"1/\" + part\n",
       "        if (part > 1) elem.style.display = \"block\"\n",
       "        \n",
       "\n",
       "        var elem = document.getElementById(\"bar_id_9\")\n",
       "        var part = 78\n",
       "        elem.style.gridColumn = \"1/\" + part\n",
       "        if (part > 1) elem.style.display = \"block\"\n",
       "        \n",
       "\n",
       "        var elem = document.getElementById(\"bar_id_10\")\n",
       "        var part = 78\n",
       "        elem.style.gridColumn = \"1/\" + part\n",
       "        if (part > 1) elem.style.display = \"block\"\n",
       "        \n",
       "\n",
       "        var elem = document.getElementById(\"bar_id_11\")\n",
       "        var part = 77\n",
       "        elem.style.gridColumn = \"1/\" + part\n",
       "        if (part > 1) elem.style.display = \"block\"\n",
       "        \n",
       "\n",
       "        var elem = document.getElementById(\"bar_id_12\")\n",
       "        var part = 79\n",
       "        elem.style.gridColumn = \"1/\" + part\n",
       "        if (part > 1) elem.style.display = \"block\"\n",
       "        \n",
       "\n",
       "        var elem = document.getElementById(\"bar_id_13\")\n",
       "        var part = 79\n",
       "        elem.style.gridColumn = \"1/\" + part\n",
       "        if (part > 1) elem.style.display = \"block\"\n",
       "        \n",
       "\n",
       "        var elem = document.getElementById(\"bar_id_14\")\n",
       "        var part = 79\n",
       "        elem.style.gridColumn = \"1/\" + part\n",
       "        if (part > 1) elem.style.display = \"block\"\n",
       "        \n",
       "\n",
       "        var elem = document.getElementById(\"bar_id_15\")\n",
       "        var part = 76\n",
       "        elem.style.gridColumn = \"1/\" + part\n",
       "        if (part > 1) elem.style.display = \"block\"\n",
       "        \n",
       "\n",
       "        var elem = document.getElementById(\"bar_id_16\")\n",
       "        var part = 78\n",
       "        elem.style.gridColumn = \"1/\" + part\n",
       "        if (part > 1) elem.style.display = \"block\"\n",
       "        \n",
       "\n",
       "        var elem = document.getElementById(\"bar_id_17\")\n",
       "        var part = 77\n",
       "        elem.style.gridColumn = \"1/\" + part\n",
       "        if (part > 1) elem.style.display = \"block\"\n",
       "        \n",
       "\n",
       "        var elem = document.getElementById(\"bar_id_18\")\n",
       "        var part = 76\n",
       "        elem.style.gridColumn = \"1/\" + part\n",
       "        if (part > 1) elem.style.display = \"block\"\n",
       "        \n",
       "\n",
       "        var elem = document.getElementById(\"bar_id_19\")\n",
       "        var part = 76\n",
       "        elem.style.gridColumn = \"1/\" + part\n",
       "        if (part > 1) elem.style.display = \"block\"\n",
       "        \n",
       "\n",
       "        var elem = document.getElementById(\"bar_id_20\")\n",
       "        var part = 84\n",
       "        elem.style.gridColumn = \"1/\" + part\n",
       "        if (part > 1) elem.style.display = \"block\"\n",
       "        \n",
       "\n",
       "        var elem = document.getElementById(\"bar_id_21\")\n",
       "        var part = 82\n",
       "        elem.style.gridColumn = \"1/\" + part\n",
       "        if (part > 1) elem.style.display = \"block\"\n",
       "        \n",
       "\n",
       "        var elem = document.getElementById(\"bar_id_22\")\n",
       "        var part = 77\n",
       "        elem.style.gridColumn = \"1/\" + part\n",
       "        if (part > 1) elem.style.display = \"block\"\n",
       "        \n",
       "\n",
       "        var elem = document.getElementById(\"bar_id_23\")\n",
       "        var part = 77\n",
       "        elem.style.gridColumn = \"1/\" + part\n",
       "        if (part > 1) elem.style.display = \"block\"\n",
       "        \n",
       "\n",
       "        var elem = document.getElementById(\"bar_id_24\")\n",
       "        var part = 73\n",
       "        elem.style.gridColumn = \"1/\" + part\n",
       "        if (part > 1) elem.style.display = \"block\"\n",
       "        \n",
       "\n",
       "        var elem = document.getElementById(\"bar_id_25\")\n",
       "        var part = 73\n",
       "        elem.style.gridColumn = \"1/\" + part\n",
       "        if (part > 1) elem.style.display = \"block\"\n",
       "        \n",
       "\n",
       "        var elem = document.getElementById(\"bar_id_26\")\n",
       "        var part = 80\n",
       "        elem.style.gridColumn = \"1/\" + part\n",
       "        if (part > 1) elem.style.display = \"block\"\n",
       "        \n",
       "\n",
       "        var elem = document.getElementById(\"bar_id_27\")\n",
       "        var part = 79\n",
       "        elem.style.gridColumn = \"1/\" + part\n",
       "        if (part > 1) elem.style.display = \"block\"\n",
       "        \n",
       "\n",
       "        var elem = document.getElementById(\"bar_id_28\")\n",
       "        var part = 75\n",
       "        elem.style.gridColumn = \"1/\" + part\n",
       "        if (part > 1) elem.style.display = \"block\"\n",
       "        \n",
       "\n",
       "        var elem = document.getElementById(\"bar_id_29\")\n",
       "        var part = 78\n",
       "        elem.style.gridColumn = \"1/\" + part\n",
       "        if (part > 1) elem.style.display = \"block\"\n",
       "        \n",
       "\n",
       "        var elem = document.getElementById(\"bar_id_30\")\n",
       "        var part = 82\n",
       "        elem.style.gridColumn = \"1/\" + part\n",
       "        if (part > 1) elem.style.display = \"block\"\n",
       "        \n",
       "\n",
       "        var elem = document.getElementById(\"bar_id_31\")\n",
       "        var part = 77\n",
       "        elem.style.gridColumn = \"1/\" + part\n",
       "        if (part > 1) elem.style.display = \"block\"\n",
       "        \n",
       "\n",
       "        var elem = document.getElementById(\"bar_id_32\")\n",
       "        var part = 76\n",
       "        elem.style.gridColumn = \"1/\" + part\n",
       "        if (part > 1) elem.style.display = \"block\"\n",
       "        \n",
       "\n",
       "        var elem = document.getElementById(\"bar_id_33\")\n",
       "        var part = 75\n",
       "        elem.style.gridColumn = \"1/\" + part\n",
       "        if (part > 1) elem.style.display = \"block\"\n",
       "        \n",
       "\n",
       "        var elem = document.getElementById(\"bar_id_34\")\n",
       "        var part = 82\n",
       "        elem.style.gridColumn = \"1/\" + part\n",
       "        if (part > 1) elem.style.display = \"block\"\n",
       "        \n",
       "\n",
       "        var elem = document.getElementById(\"bar_id_35\")\n",
       "        var part = 76\n",
       "        elem.style.gridColumn = \"1/\" + part\n",
       "        if (part > 1) elem.style.display = \"block\"\n",
       "        \n",
       "\n",
       "        var elem = document.getElementById(\"bar_id_36\")\n",
       "        var part = 72\n",
       "        elem.style.gridColumn = \"1/\" + part\n",
       "        if (part > 1) elem.style.display = \"block\"\n",
       "        \n",
       "\n",
       "        var elem = document.getElementById(\"bar_id_37\")\n",
       "        var part = 71\n",
       "        elem.style.gridColumn = \"1/\" + part\n",
       "        if (part > 1) elem.style.display = \"block\"\n",
       "        \n",
       "\n",
       "        var elem = document.getElementById(\"bar_id_38\")\n",
       "        var part = 76\n",
       "        elem.style.gridColumn = \"1/\" + part\n",
       "        if (part > 1) elem.style.display = \"block\"\n",
       "        \n",
       "\n",
       "        var elem = document.getElementById(\"bar_id_39\")\n",
       "        var part = 70\n",
       "        elem.style.gridColumn = \"1/\" + part\n",
       "        if (part > 1) elem.style.display = \"block\"\n",
       "        \n",
       "\n",
       "        var elem = document.getElementById(\"bar_id_40\")\n",
       "        var part = 81\n",
       "        elem.style.gridColumn = \"1/\" + part\n",
       "        if (part > 1) elem.style.display = \"block\"\n",
       "        \n",
       "\n",
       "        var elem = document.getElementById(\"bar_id_41\")\n",
       "        var part = 81\n",
       "        elem.style.gridColumn = \"1/\" + part\n",
       "        if (part > 1) elem.style.display = \"block\"\n",
       "        \n",
       "\n",
       "        var elem = document.getElementById(\"bar_id_42\")\n",
       "        var part = 80\n",
       "        elem.style.gridColumn = \"1/\" + part\n",
       "        if (part > 1) elem.style.display = \"block\"\n",
       "        \n",
       "\n",
       "        var elem = document.getElementById(\"bar_id_43\")\n",
       "        var part = 74\n",
       "        elem.style.gridColumn = \"1/\" + part\n",
       "        if (part > 1) elem.style.display = \"block\"\n",
       "        \n",
       "\n",
       "        var elem = document.getElementById(\"bar_id_44\")\n",
       "        var part = 74\n",
       "        elem.style.gridColumn = \"1/\" + part\n",
       "        if (part > 1) elem.style.display = \"block\"\n",
       "        \n",
       "\n",
       "        var elem = document.getElementById(\"bar_id_45\")\n",
       "        var part = 76\n",
       "        elem.style.gridColumn = \"1/\" + part\n",
       "        if (part > 1) elem.style.display = \"block\"\n",
       "        \n",
       "\n",
       "        var elem = document.getElementById(\"bar_id_46\")\n",
       "        var part = 74\n",
       "        elem.style.gridColumn = \"1/\" + part\n",
       "        if (part > 1) elem.style.display = \"block\"\n",
       "        \n",
       "\n",
       "        var elem = document.getElementById(\"bar_id_47\")\n",
       "        var part = 70\n",
       "        elem.style.gridColumn = \"1/\" + part\n",
       "        if (part > 1) elem.style.display = \"block\"\n",
       "        \n",
       "\n",
       "        var elem = document.getElementById(\"bar_id_48\")\n",
       "        var part = 76\n",
       "        elem.style.gridColumn = \"1/\" + part\n",
       "        if (part > 1) elem.style.display = \"block\"\n",
       "        \n",
       "\n",
       "        var elem = document.getElementById(\"bar_id_49\")\n",
       "        var part = 78\n",
       "        elem.style.gridColumn = \"1/\" + part\n",
       "        if (part > 1) elem.style.display = \"block\"\n",
       "        \n",
       "\n",
       "        var elem = document.getElementById(\"bar_id_50\")\n",
       "        var part = 79\n",
       "        elem.style.gridColumn = \"1/\" + part\n",
       "        if (part > 1) elem.style.display = \"block\"\n",
       "        \n",
       "\n",
       "        var elem = document.getElementById(\"bar_id_51\")\n",
       "        var part = 82\n",
       "        elem.style.gridColumn = \"1/\" + part\n",
       "        if (part > 1) elem.style.display = \"block\"\n",
       "        \n",
       "\n",
       "        var elem = document.getElementById(\"bar_id_52\")\n",
       "        var part = 76\n",
       "        elem.style.gridColumn = \"1/\" + part\n",
       "        if (part > 1) elem.style.display = \"block\"\n",
       "        \n",
       "\n",
       "        var elem = document.getElementById(\"bar_id_53\")\n",
       "        var part = 81\n",
       "        elem.style.gridColumn = \"1/\" + part\n",
       "        if (part > 1) elem.style.display = \"block\"\n",
       "        \n",
       "\n",
       "        var elem = document.getElementById(\"bar_id_54\")\n",
       "        var part = 78\n",
       "        elem.style.gridColumn = \"1/\" + part\n",
       "        if (part > 1) elem.style.display = \"block\"\n",
       "        \n",
       "\n",
       "        var elem = document.getElementById(\"bar_id_55\")\n",
       "        var part = 78\n",
       "        elem.style.gridColumn = \"1/\" + part\n",
       "        if (part > 1) elem.style.display = \"block\"\n",
       "        \n",
       "\n",
       "        var elem = document.getElementById(\"bar_id_56\")\n",
       "        var part = 74\n",
       "        elem.style.gridColumn = \"1/\" + part\n",
       "        if (part > 1) elem.style.display = \"block\"\n",
       "        \n",
       "\n",
       "        var elem = document.getElementById(\"bar_id_57\")\n",
       "        var part = 79\n",
       "        elem.style.gridColumn = \"1/\" + part\n",
       "        if (part > 1) elem.style.display = \"block\"\n",
       "        \n",
       "\n",
       "        var elem = document.getElementById(\"bar_id_58\")\n",
       "        var part = 79\n",
       "        elem.style.gridColumn = \"1/\" + part\n",
       "        if (part > 1) elem.style.display = \"block\"\n",
       "        \n",
       "\n",
       "        var elem = document.getElementById(\"bar_id_59\")\n",
       "        var part = 71\n",
       "        elem.style.gridColumn = \"1/\" + part\n",
       "        if (part > 1) elem.style.display = \"block\"\n",
       "        \n",
       "\n",
       "        var elem = document.getElementById(\"bar_id_60\")\n",
       "        var part = 78\n",
       "        elem.style.gridColumn = \"1/\" + part\n",
       "        if (part > 1) elem.style.display = \"block\"\n",
       "        \n",
       "\n",
       "        var elem = document.getElementById(\"bar_id_61\")\n",
       "        var part = 73\n",
       "        elem.style.gridColumn = \"1/\" + part\n",
       "        if (part > 1) elem.style.display = \"block\"\n",
       "        \n",
       "\n",
       "        var elem = document.getElementById(\"bar_id_62\")\n",
       "        var part = 80\n",
       "        elem.style.gridColumn = \"1/\" + part\n",
       "        if (part > 1) elem.style.display = \"block\"\n",
       "        \n",
       "\n",
       "        var elem = document.getElementById(\"bar_id_63\")\n",
       "        var part = 80\n",
       "        elem.style.gridColumn = \"1/\" + part\n",
       "        if (part > 1) elem.style.display = \"block\"\n",
       "        \n",
       "\n",
       "        var elem = document.getElementById(\"bar_id_64\")\n",
       "        var part = 80\n",
       "        elem.style.gridColumn = \"1/\" + part\n",
       "        if (part > 1) elem.style.display = \"block\"\n",
       "        \n",
       "\n",
       "        var elem = document.getElementById(\"bar_id_65\")\n",
       "        var part = 79\n",
       "        elem.style.gridColumn = \"1/\" + part\n",
       "        if (part > 1) elem.style.display = \"block\"\n",
       "        \n",
       "\n",
       "        var elem = document.getElementById(\"bar_id_66\")\n",
       "        var part = 83\n",
       "        elem.style.gridColumn = \"1/\" + part\n",
       "        if (part > 1) elem.style.display = \"block\"\n",
       "        \n",
       "\n",
       "        var elem = document.getElementById(\"bar_id_67\")\n",
       "        var part = 80\n",
       "        elem.style.gridColumn = \"1/\" + part\n",
       "        if (part > 1) elem.style.display = \"block\"\n",
       "        \n",
       "\n",
       "        var elem = document.getElementById(\"bar_id_68\")\n",
       "        var part = 78\n",
       "        elem.style.gridColumn = \"1/\" + part\n",
       "        if (part > 1) elem.style.display = \"block\"\n",
       "        \n",
       "\n",
       "        var elem = document.getElementById(\"bar_id_69\")\n",
       "        var part = 80\n",
       "        elem.style.gridColumn = \"1/\" + part\n",
       "        if (part > 1) elem.style.display = \"block\"\n",
       "        \n",
       "\n",
       "        var elem = document.getElementById(\"bar_id_70\")\n",
       "        var part = 78\n",
       "        elem.style.gridColumn = \"1/\" + part\n",
       "        if (part > 1) elem.style.display = \"block\"\n",
       "        \n",
       "\n",
       "        var elem = document.getElementById(\"bar_id_71\")\n",
       "        var part = 75\n",
       "        elem.style.gridColumn = \"1/\" + part\n",
       "        if (part > 1) elem.style.display = \"block\"\n",
       "        \n",
       "\n",
       "        var elem = document.getElementById(\"bar_id_72\")\n",
       "        var part = 76\n",
       "        elem.style.gridColumn = \"1/\" + part\n",
       "        if (part > 1) elem.style.display = \"block\"\n",
       "        \n",
       "\n",
       "        var elem = document.getElementById(\"bar_id_73\")\n",
       "        var part = 76\n",
       "        elem.style.gridColumn = \"1/\" + part\n",
       "        if (part > 1) elem.style.display = \"block\"\n",
       "        \n",
       "\n",
       "        var elem = document.getElementById(\"bar_id_74\")\n",
       "        var part = 75\n",
       "        elem.style.gridColumn = \"1/\" + part\n",
       "        if (part > 1) elem.style.display = \"block\"\n",
       "        \n",
       "\n",
       "        var elem = document.getElementById(\"bar_id_75\")\n",
       "        var part = 77\n",
       "        elem.style.gridColumn = \"1/\" + part\n",
       "        if (part > 1) elem.style.display = \"block\"\n",
       "        \n",
       "\n",
       "        var elem = document.getElementById(\"bar_id_76\")\n",
       "        var part = 74\n",
       "        elem.style.gridColumn = \"1/\" + part\n",
       "        if (part > 1) elem.style.display = \"block\"\n",
       "        \n",
       "\n",
       "        var elem = document.getElementById(\"bar_id_77\")\n",
       "        var part = 73\n",
       "        elem.style.gridColumn = \"1/\" + part\n",
       "        if (part > 1) elem.style.display = \"block\"\n",
       "        \n",
       "\n",
       "        var elem = document.getElementById(\"bar_id_78\")\n",
       "        var part = 81\n",
       "        elem.style.gridColumn = \"1/\" + part\n",
       "        if (part > 1) elem.style.display = \"block\"\n",
       "        \n",
       "\n",
       "        var elem = document.getElementById(\"bar_id_79\")\n",
       "        var part = 83\n",
       "        elem.style.gridColumn = \"1/\" + part\n",
       "        if (part > 1) elem.style.display = \"block\"\n",
       "        \n",
       "\n",
       "        var elem = document.getElementById(\"bar_id_80\")\n",
       "        var part = 77\n",
       "        elem.style.gridColumn = \"1/\" + part\n",
       "        if (part > 1) elem.style.display = \"block\"\n",
       "        \n",
       "\n",
       "        var elem = document.getElementById(\"bar_id_81\")\n",
       "        var part = 81\n",
       "        elem.style.gridColumn = \"1/\" + part\n",
       "        if (part > 1) elem.style.display = \"block\"\n",
       "        \n",
       "\n",
       "        var elem = document.getElementById(\"bar_id_82\")\n",
       "        var part = 85\n",
       "        elem.style.gridColumn = \"1/\" + part\n",
       "        if (part > 1) elem.style.display = \"block\"\n",
       "        \n",
       "\n",
       "        var elem = document.getElementById(\"bar_id_83\")\n",
       "        var part = 76\n",
       "        elem.style.gridColumn = \"1/\" + part\n",
       "        if (part > 1) elem.style.display = \"block\"\n",
       "        \n",
       "\n",
       "        var elem = document.getElementById(\"bar_id_84\")\n",
       "        var part = 75\n",
       "        elem.style.gridColumn = \"1/\" + part\n",
       "        if (part > 1) elem.style.display = \"block\"\n",
       "        \n",
       "\n",
       "        var elem = document.getElementById(\"bar_id_85\")\n",
       "        var part = 80\n",
       "        elem.style.gridColumn = \"1/\" + part\n",
       "        if (part > 1) elem.style.display = \"block\"\n",
       "        \n",
       "\n",
       "        var elem = document.getElementById(\"bar_id_86\")\n",
       "        var part = 82\n",
       "        elem.style.gridColumn = \"1/\" + part\n",
       "        if (part > 1) elem.style.display = \"block\"\n",
       "        \n",
       "\n",
       "        var elem = document.getElementById(\"bar_id_87\")\n",
       "        var part = 78\n",
       "        elem.style.gridColumn = \"1/\" + part\n",
       "        if (part > 1) elem.style.display = \"block\"\n",
       "        \n",
       "\n",
       "        var elem = document.getElementById(\"bar_id_88\")\n",
       "        var part = 79\n",
       "        elem.style.gridColumn = \"1/\" + part\n",
       "        if (part > 1) elem.style.display = \"block\"\n",
       "        \n",
       "\n",
       "        var elem = document.getElementById(\"bar_id_89\")\n",
       "        var part = 79\n",
       "        elem.style.gridColumn = \"1/\" + part\n",
       "        if (part > 1) elem.style.display = \"block\"\n",
       "        \n",
       "\n",
       "        var elem = document.getElementById(\"bar_id_90\")\n",
       "        var part = 79\n",
       "        elem.style.gridColumn = \"1/\" + part\n",
       "        if (part > 1) elem.style.display = \"block\"\n",
       "        \n",
       "\n",
       "        var elem = document.getElementById(\"bar_id_91\")\n",
       "        var part = 79\n",
       "        elem.style.gridColumn = \"1/\" + part\n",
       "        if (part > 1) elem.style.display = \"block\"\n",
       "        \n",
       "\n",
       "        var elem = document.getElementById(\"bar_id_92\")\n",
       "        var part = 76\n",
       "        elem.style.gridColumn = \"1/\" + part\n",
       "        if (part > 1) elem.style.display = \"block\"\n",
       "        \n",
       "\n",
       "        var elem = document.getElementById(\"bar_id_93\")\n",
       "        var part = 77\n",
       "        elem.style.gridColumn = \"1/\" + part\n",
       "        if (part > 1) elem.style.display = \"block\"\n",
       "        \n",
       "\n",
       "        var elem = document.getElementById(\"bar_id_94\")\n",
       "        var part = 78\n",
       "        elem.style.gridColumn = \"1/\" + part\n",
       "        if (part > 1) elem.style.display = \"block\"\n",
       "        \n",
       "\n",
       "        var elem = document.getElementById(\"bar_id_95\")\n",
       "        var part = 80\n",
       "        elem.style.gridColumn = \"1/\" + part\n",
       "        if (part > 1) elem.style.display = \"block\"\n",
       "        \n",
       "\n",
       "        var elem = document.getElementById(\"bar_id_96\")\n",
       "        var part = 75\n",
       "        elem.style.gridColumn = \"1/\" + part\n",
       "        if (part > 1) elem.style.display = \"block\"\n",
       "        \n",
       "\n",
       "        var elem = document.getElementById(\"bar_id_97\")\n",
       "        var part = 74\n",
       "        elem.style.gridColumn = \"1/\" + part\n",
       "        if (part > 1) elem.style.display = \"block\"\n",
       "        \n",
       "\n",
       "        var elem = document.getElementById(\"bar_id_98\")\n",
       "        var part = 75\n",
       "        elem.style.gridColumn = \"1/\" + part\n",
       "        if (part > 1) elem.style.display = \"block\"\n",
       "        \n",
       "\n",
       "        var elem = document.getElementById(\"bar_id_99\")\n",
       "        var part = 80\n",
       "        elem.style.gridColumn = \"1/\" + part\n",
       "        if (part > 1) elem.style.display = \"block\"\n",
       "        "
      ],
      "text/plain": [
       "<IPython.core.display.Javascript object>"
      ]
     },
     "metadata": {},
     "output_type": "display_data"
    }
   ],
   "source": [
    "monitor(100)"
   ]
  },
  {
   "cell_type": "code",
   "execution_count": null,
   "metadata": {},
   "outputs": [],
   "source": []
  }
 ],
 "metadata": {
  "kernelspec": {
   "display_name": "Python 3",
   "language": "python",
   "name": "python3"
  },
  "language_info": {
   "codemirror_mode": {
    "name": "ipython",
    "version": 3
   },
   "file_extension": ".py",
   "mimetype": "text/x-python",
   "name": "python",
   "nbconvert_exporter": "python",
   "pygments_lexer": "ipython3",
   "version": "3.6.8"
  }
 },
 "nbformat": 4,
 "nbformat_minor": 2
}
