{
 "cells": [
  {
   "cell_type": "code",
   "execution_count": null,
   "metadata": {
    "scrolled": true
   },
   "outputs": [],
   "source": [
    "import pika, random, time, os, json, yaml, math\n",
    "import pywren_ibm_cloud as pywren\n",
    "from GanttDisplay import GanttDisplay\n",
    "from MassiveDisplay import MassiveDisplay\n",
    "from IPython.display import Image\n",
    "\n",
    "def worker(args):\n",
    "    pw_config = json.loads(os.environ.get('PYWREN_CONFIG', ''))\n",
    "    pika_params = pika.URLParameters(pw_config['rabbitmq']['amqp_url'])\n",
    "    connection = pika.BlockingConnection(pika_params)\n",
    "    channel = connection.channel()\n",
    "\n",
    "    initialTime = 1000 + random.randint(0, 500)\n",
    "    time_to_work = initialTime\n",
    "    stage = 0\n",
    "    stage_complete = False\n",
    "\n",
    "    while time_to_work > 0:\n",
    "        worksession = random.randint(0, math.floor(time_to_work/5)) if time_to_work >= 5 else time_to_work\n",
    "        time_to_work = time_to_work - worksession\n",
    "        time.sleep(worksession/110)\n",
    "        stage_complete = False\n",
    "        if time_to_work < (initialTime * 0.125):\n",
    "            stage_complete = stage < 2\n",
    "            stage = 2\n",
    "        elif time_to_work < (initialTime * 0.9):\n",
    "            stage_complete = stage < 1\n",
    "            stage = 1\n",
    "        channel.publish(exchange='',\n",
    "                        routing_key=args['qid'], \n",
    "                        body='{:02}:{}:{}:{}'.format(\n",
    "                            args['worker_id'],\n",
    "                            stage if not stage_complete else stage-1,\n",
    "                            int(stage_complete),\n",
    "                            worksession/100\n",
    "                            )\n",
    "                        )\n",
    "    channel.publish(exchange='', routing_key=args['qid'], body='{:02}:{}:{}:{}'.format(args['worker_id'], stage, '1', 0))\n",
    "    return initialTime/100\n",
    "    \n",
    "class MonitorCallback():\n",
    "    def __init__ (self, progbars):\n",
    "        self.progbars = progbars\n",
    "        self.progbars.show()\n",
    "\n",
    "    def __call__(self, ch, method, properties, body):\n",
    "        msg = body.decode('utf-8')\n",
    "\n",
    "        workerid = int(msg[:2])\n",
    "        stage = int(msg[3:4])\n",
    "        stage_complete = int(msg[5:6])\n",
    "        jobdone = float(msg[7:])\n",
    "\n",
    "        #print('id:',workerid, '  stage:', stage, '  job:',jobdone)\n",
    "        self.progbars.update(workerid, stage, jobdone, stage_complete)\n",
    "        \n",
    "        if self.progbars.isDone():\n",
    "            ch.stop_consuming()"
   ]
  },
  {
   "cell_type": "code",
   "execution_count": null,
   "metadata": {},
   "outputs": [],
   "source": [
    "def monitor(n):\n",
    "    with open(os.path.expanduser('~/.pywren_config'), 'r') as f:\n",
    "        secret = yaml.safe_load(f)\n",
    "    pika_params = pika.URLParameters(secret['rabbitmq']['amqp_url'])\n",
    "    connection = pika.BlockingConnection(pika_params)\n",
    "    channel = connection.channel()\n",
    "\n",
    "    iterdata = [[{'worker_id':i, 'qid':'master-queue'}] for i in range(0, n)]\n",
    "    progbars = GanttDisplay([i[0]['worker_id'] for i in iterdata])\n",
    "    channel.queue_declare(queue='master-queue')\n",
    "\n",
    "    try:\n",
    "        pw = pywren.ibm_cf_executor(rabbitmq_monitor=True)\n",
    "        futures = pw.map(worker, iterdata)\n",
    "        channel.basic_consume(consumer_callback=MonitorCallback(progbars), queue='master-queue')\n",
    "        channel.start_consuming()\n",
    "        #results = pw.get_result()\n",
    "        pw.create_timeline_plots(futures=futures, dst_dir='/home/lab144/Desktop', dst_file_name='plot1')\n",
    "    finally:\n",
    "        channel.queue_delete(queue='master-queue')\n",
    "        channel.close()\n",
    "        print('Deleted the queue.')"
   ]
  },
  {
   "cell_type": "code",
   "execution_count": null,
   "metadata": {
    "scrolled": false
   },
   "outputs": [],
   "source": [
    "monitor(15)"
   ]
  },
  {
   "cell_type": "code",
   "execution_count": null,
   "metadata": {},
   "outputs": [],
   "source": []
  }
 ],
 "metadata": {
  "kernelspec": {
   "display_name": "Python 3",
   "language": "python",
   "name": "python3"
  },
  "language_info": {
   "codemirror_mode": {
    "name": "ipython",
    "version": 3
   },
   "file_extension": ".py",
   "mimetype": "text/x-python",
   "name": "python",
   "nbconvert_exporter": "python",
   "pygments_lexer": "ipython3",
   "version": "3.6.8"
  }
 },
 "nbformat": 4,
 "nbformat_minor": 2
}
